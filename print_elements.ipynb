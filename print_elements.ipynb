{
 "cells": [
  {
   "cell_type": "code",
   "execution_count": 1,
   "metadata": {},
   "outputs": [],
   "source": [
    "import numpy as np\n",
    "from uncertainties import ufloat, unumpy\n",
    "from uncertainties.umath import *\n",
    "import os"
   ]
  },
  {
   "cell_type": "code",
   "execution_count": 22,
   "metadata": {},
   "outputs": [],
   "source": [
    "## Specify file\n",
    "file = open('/Users/tgardner/ARMADA_orbits/HD60107_chi2err/60107__orbit_mcmc.txt')"
   ]
  },
  {
   "cell_type": "code",
   "execution_count": 23,
   "metadata": {},
   "outputs": [],
   "source": [
    "lines = file.readlines()\n",
    "\n",
    "P = ufloat(float(lines[2].split()[0]),float(lines[3].split()[0]))/365.25\n",
    "a = ufloat(float(lines[2].split()[1]),float(lines[3].split()[1]))\n",
    "e = ufloat(float(lines[2].split()[2]),float(lines[3].split()[2]))\n",
    "inc = ufloat(float(lines[2].split()[3]),float(lines[3].split()[3]))\n",
    "w = ufloat(float(lines[2].split()[4]),float(lines[3].split()[4]))\n",
    "bigw = ufloat(float(lines[2].split()[5]),float(lines[3].split()[5]))\n",
    "T = ufloat(float(lines[2].split()[6]),float(lines[3].split()[6]))\n",
    "median_resid = float(lines[2].split()[7])\n",
    "\n",
    "file.close()"
   ]
  },
  {
   "cell_type": "code",
   "execution_count": 24,
   "metadata": {},
   "outputs": [
    {
     "name": "stdout",
     "output_type": "stream",
     "text": [
      "117.47009919494246 2.3614006499696187 376.23451996801134 20.299906173267928 0.8541765982832163 0.019105222408870203 84.70340938218142 0.27385741661704927 267.1929719835413 0.4464287543560747 96.80715948066458 0.39989803665773593 51207.79715669713 127.87664620881841 185.21\n"
     ]
    }
   ],
   "source": [
    "print(P.nominal_value,P.std_dev,a.nominal_value,a.std_dev,e.nominal_value,e.std_dev,inc.nominal_value,\n",
    "      inc.std_dev,w.nominal_value,w.std_dev,bigw.nominal_value,bigw.std_dev,T.nominal_value,T.std_dev,\n",
    "      median_resid)"
   ]
  },
  {
   "cell_type": "code",
   "execution_count": null,
   "metadata": {},
   "outputs": [],
   "source": []
  },
  {
   "cell_type": "code",
   "execution_count": 74,
   "metadata": {},
   "outputs": [
    {
     "data": {
      "text/plain": [
       "(6400, 7)"
      ]
     },
     "execution_count": 74,
     "metadata": {},
     "output_type": "execute_result"
    }
   ],
   "source": [
    "chains = np.load('/Users/tgardner/ARMADA_orbits/HD137909_chi2err/HD137909__chains.npy')\n",
    "chains.shape"
   ]
  },
  {
   "cell_type": "code",
   "execution_count": 75,
   "metadata": {},
   "outputs": [
    {
     "data": {
      "text/plain": [
       "205.23258843885714"
      ]
     },
     "execution_count": 75,
     "metadata": {},
     "output_type": "execute_result"
    }
   ],
   "source": [
    "np.mean(chains[:,4])"
   ]
  },
  {
   "cell_type": "code",
   "execution_count": 76,
   "metadata": {},
   "outputs": [
    {
     "name": "stdout",
     "output_type": "stream",
     "text": [
      "7.801874242814657e-05 4.969167594654042e-08\n"
     ]
    }
   ],
   "source": [
    "period = chains[:,5]\n",
    "semi = chains[:,4]\n",
    "\n",
    "mdyn_d3 = (semi/1000)**3 / (period/365.25)**2\n",
    "print(np.mean(mdyn_d3),np.std(mdyn_d3))"
   ]
  },
  {
   "cell_type": "code",
   "execution_count": null,
   "metadata": {},
   "outputs": [],
   "source": []
  }
 ],
 "metadata": {
  "kernelspec": {
   "display_name": "Python 3 (ipykernel)",
   "language": "python",
   "name": "python3"
  },
  "language_info": {
   "codemirror_mode": {
    "name": "ipython",
    "version": 3
   },
   "file_extension": ".py",
   "mimetype": "text/x-python",
   "name": "python",
   "nbconvert_exporter": "python",
   "pygments_lexer": "ipython3",
   "version": "3.9.12"
  }
 },
 "nbformat": 4,
 "nbformat_minor": 4
}
