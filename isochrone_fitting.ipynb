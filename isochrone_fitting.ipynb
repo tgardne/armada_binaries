{
 "cells": [
  {
   "cell_type": "markdown",
   "metadata": {},
   "source": [
    "## Script to fit isochrones for ARMADA binaries\n",
    "\n",
    "#### - We know delta mag in a few bands from speckle or WDS. We know delta mag in H/K bands from interferometry. We know total magnitudes in many bands from literature.\n",
    "#### - In theory, we know distance from Hipparcos or Gaia (this is weakest point, as they are unresolved binaries!)\n",
    "\n",
    "#### - Compare photometry to models using isochrones package"
   ]
  },
  {
   "cell_type": "markdown",
   "metadata": {},
   "source": [
    "###### The python isochrones package is needed to run this notebook: https://isochrones.readthedocs.io/en/latest/\n",
    "###### As suggested in the user guide, I prefer installing isochrones in a separate conda environment. Hence, this environment needs to be activated before running jupyter lab"
   ]
  },
  {
   "cell_type": "code",
   "execution_count": 1,
   "metadata": {},
   "outputs": [
    {
     "name": "stderr",
     "output_type": "stream",
     "text": [
      "PyMultiNest not imported.  MultiNest fits will not work.\n"
     ]
    }
   ],
   "source": [
    "import numpy as np\n",
    "import matplotlib\n",
    "from matplotlib import pyplot as plt\n",
    "import os\n",
    "import random\n",
    "from astroquery.simbad import Simbad\n",
    "from uncertainties import ufloat,unumpy\n",
    "from uncertainties.umath import *\n",
    "import pandas as pd\n",
    "from tqdm import tqdm\n",
    "\n",
    "from isochrones.mist import MIST_EvolutionTrack, MIST_Isochrone\n",
    "Mist_iso = MIST_Isochrone()\n",
    "Mist_evoTrack = MIST_EvolutionTrack()\n",
    "\n",
    "%matplotlib inline"
   ]
  },
  {
   "cell_type": "code",
   "execution_count": 2,
   "metadata": {},
   "outputs": [],
   "source": [
    "matplotlib.rcParams['figure.figsize'] = (8, 5)"
   ]
  },
  {
   "cell_type": "code",
   "execution_count": 3,
   "metadata": {},
   "outputs": [],
   "source": [
    "## Setup paths\n",
    "save_directory = '/Users/tgardner/ARMADA_isochrones/' ## path for saved files\n",
    "armada_file = '/Users/tgardner/ARMADA_final/full_target_list.csv' ## path to csv target file\n",
    "photometry_file = '/Users/tgardner/ARMADA_final/Photometry.csv'"
   ]
  },
  {
   "cell_type": "markdown",
   "metadata": {},
   "source": [
    "## First select a binary target and get info from csv file"
   ]
  },
  {
   "cell_type": "markdown",
   "metadata": {},
   "source": [
    "In this part, user can specify a target and query from simbad to obtain its total apparent magnitude. With the measured flux ratio, user can split the total observed magnitude in a system to separate magnitudes of individual stars. The formula is given below.\n",
    "$$\\Delta M = -2.5\\log_{10}(f_1/f_2)~~~\\Rightarrow~~~f_1 = 10^{-0.4\\Delta M}f_2$$\n",
    "Let $m$ be the total apparent magnitude queried from simbad, we can calculate apparent magnitude $m_1$, $m_2$ for individual targets.\n",
    "$$m_1 = m-2.5\\log_{10}\\frac{f_1+f_2}{f_1}$$\n",
    "$$m_2 = m-2.5\\log_{10}\\frac{f_1+f_2}{f_2}$$\n",
    "To convert everything to absolute magnitude, we subtract distance modulus from the results:\n",
    "$$M_i = m_i - 5\\log_{10}(d/10pc)$$\n",
    "We assume no extinction, and the two stars are of equal distance to us.\n",
    "\n",
    "Note that we will likely fit to observables (i.e. total magnitude and flux ratios)"
   ]
  },
  {
   "cell_type": "code",
   "execution_count": 4,
   "metadata": {},
   "outputs": [],
   "source": [
    "target_hd = '6456'\n",
    "df = pd.read_csv(armada_file,dtype=object)\n",
    "\n",
    "## Create directory for saved files, if it doesn't already exist\n",
    "directory = \"%s/HD_%s/\"%(save_directory,target_hd)\n",
    "if not os.path.exists(directory):\n",
    "    print(\"Creating directory\")\n",
    "    os.makedirs(directory)"
   ]
  },
  {
   "cell_type": "code",
   "execution_count": 5,
   "metadata": {},
   "outputs": [
    {
     "name": "stdout",
     "output_type": "stream",
     "text": [
      "fratio: b_mag, wds, i_mag, h_mag, k_mag = \n",
      "2.11+/-0.29 , 2.2+/-0.5 , 1.91+/-0.26 , 2.1+/-0.4 , nan+/-nan\n"
     ]
    }
   ],
   "source": [
    "idx = np.where(df['HD']==target_hd)[0][0]\n",
    "\n",
    "cdiff_h = ufloat(float(df['dmag_h'][idx]),float(df['dmag_h_err'][idx]))\n",
    "cdiff_k = ufloat(float(df['dmag_k'][idx]),float(df['dmag_k_err'][idx]))\n",
    "cdiff_i = ufloat(float(df['dmag_speckle_i'][idx]),float(df['dmag_speckle_i_err'][idx]))\n",
    "cdiff_b = ufloat(float(df['dmag_speckle_b'][idx]),float(df['dmag_speckle_b_err'][idx]))\n",
    "cdiff_wds = ufloat(float(df['dmag_wds_v'][idx]),float(df['dmag_wds_v_err'][idx]))\n",
    "\n",
    "fratio_h = 10**(cdiff_h/2.5)\n",
    "fratio_k = 10**(cdiff_k/2.5)\n",
    "fratio_i = 10**(cdiff_i/2.5)\n",
    "fratio_b = 10**(cdiff_b/2.5)\n",
    "fratio_wds = 10**(cdiff_wds/2.5)\n",
    "\n",
    "print(\"fratio: b_mag, wds, i_mag, h_mag, k_mag = \")\n",
    "print(fratio_b,',',fratio_wds,',',fratio_i,',',fratio_h,',',fratio_k)"
   ]
  },
  {
   "cell_type": "markdown",
   "metadata": {},
   "source": [
    "### Important!!! Choose your distance here. Make a note for saved files. \n",
    "#### For our purposes, we will likely want to do a run at distance - 1sigma error, distance, distance + 1sigma error"
   ]
  },
  {
   "cell_type": "code",
   "execution_count": 6,
   "metadata": {},
   "outputs": [
    {
     "name": "stdout",
     "output_type": "stream",
     "text": [
      "distance gaia =  nan+/-nan\n",
      "distance hip =  84+/-5\n",
      "--------------------\n",
      "Using distance = 87.6+/-0.8\n",
      "--------------------\n"
     ]
    }
   ],
   "source": [
    "note = 'gaia_best' ## for saved file\n",
    "\n",
    "## choose which distance to use\n",
    "distance_gaia = ufloat(float(df['Gaia_distance (pc)'][idx]),float(df['Gaia_distance_err (pc)'][idx]))\n",
    "distance_hip = ufloat(float(df['HIP_distance (pc)'][idx]),float(df['HIP_distance_err (pc)'][idx]))\n",
    "print(\"distance gaia = \",distance_gaia)\n",
    "print(\"distance hip = \",distance_hip)\n",
    "\n",
    "#distance = distance_hip\n",
    "\n",
    "## here I am inputting my own instead:\n",
    "plx = ufloat(11.42,0.1)\n",
    "distance = 1 / (plx/1000)\n",
    "\n",
    "print('--'*10)\n",
    "print(\"Using distance = %s\"%distance)\n",
    "print('--'*10)"
   ]
  },
  {
   "cell_type": "code",
   "execution_count": 7,
   "metadata": {},
   "outputs": [
    {
     "name": "stdout",
     "output_type": "stream",
     "text": [
      "U,B,V,G,R,I,J,H,K = \n",
      "nan+/-nan , 5.266+/-0.014 , 5.271+/-0.009 , nan+/-nan , 5.284+/-0.006 , nan+/-nan , 5.24+/-0.05 , 5.301+/-0.021 , 5.265+/-0.027\n"
     ]
    }
   ],
   "source": [
    "## get total magnitudes and errors from photometry file\n",
    "df = pd.read_csv(photometry_file,dtype=object)\n",
    "\n",
    "idx = np.where(df['HD']==target_hd)[0][0]\n",
    "utot = ufloat(np.nan,np.nan)\n",
    "btot = ufloat(float(df['B_ I/259/tyc2'][idx]),float(df['B_error_I/259/tyc2'][idx]))\n",
    "vtot = ufloat(float(df['V_ I/259/tyc2'][idx]),float(df['V_error_I/259/tyc2'][idx]))\n",
    "rtot = ufloat(np.nan,np.nan)\n",
    "gtot = ufloat(float(df['G _I/350/gaiaedr3'][idx]),float(df['G_err'][idx]))\n",
    "itot = ufloat(np.nan,np.nan)\n",
    "jtot = ufloat(float(df['J_ II/246/out'][idx]),float(df['J_err'][idx]))\n",
    "htot = ufloat(float(df['H_ II/246/out'][idx]),float(df['H_err'][idx]))\n",
    "ktot = ufloat(float(df['K_ II/246/out'][idx]),float(df['K_err'][idx]))\n",
    "\n",
    "print(\"U,B,V,G,R,I,J,H,K = \")\n",
    "print(utot,',',btot,',',vtot,',',rtot,',',gtot,',',itot,',',jtot,',',htot,',',ktot)"
   ]
  },
  {
   "cell_type": "code",
   "execution_count": 8,
   "metadata": {},
   "outputs": [
    {
     "data": {
      "image/png": "[encoded data removed]",
      "text/plain": [
       "<Figure size 800x500 with 1 Axes>"
      ]
     },
     "metadata": {},
     "output_type": "display_data"
    }
   ],
   "source": [
    "## central wavelengths of magnitudes chosen above\n",
    "## smallest to largest - ubvrgjhk\n",
    "\n",
    "## Bessel_U, Bessel_B, Bessel_V, Bessel_R, Gaia_G, Bessel_I, SDSS_z, 2MASS_J, 2MASS_H, 2MASS_K\n",
    "x = np.array([365, 445, 551, 658, 673, 806, 1250, 1650, 2150])\n",
    "y = np.array([utot.nominal_value,btot.nominal_value,vtot.nominal_value,\n",
    "              rtot.nominal_value,gtot.nominal_value,itot.nominal_value,jtot.nominal_value,\n",
    "              htot.nominal_value,ktot.nominal_value])\n",
    "\n",
    "yerr = np.array([utot.std_dev,btot.std_dev,vtot.std_dev,\n",
    "              rtot.std_dev,gtot.std_dev,itot.std_dev,jtot.std_dev,\n",
    "              htot.std_dev,ktot.std_dev])\n",
    "\n",
    "plt.title(\"Total Apparent Magnitudes, HD %s\"%target_hd)\n",
    "plt.xlabel(\"Wavelength (nm)\")\n",
    "plt.ylabel(\"Apparent Mag\")\n",
    "plt.errorbar(x,y,yerr,fmt='o--')\n",
    "plt.savefig(\"%s/HD_%s_%s_total_mags.pdf\"%(directory,target_hd,note))\n",
    "plt.show()"
   ]
  },
  {
   "cell_type": "code",
   "execution_count": 9,
   "metadata": {},
   "outputs": [],
   "source": [
    "## Compute individual magnitudes from flux ratios and total magnitudes\n",
    "## Mostly for plotting. We probably won't fit to these in the end. \n",
    "data_wave = np.array([551,562,832,1630,2190]) ## wavelengths of our speckle + interferometry data, CHECK THESE\n",
    "\n",
    "k1 = -2.5*log10(10**(-ktot/2.5)/(1+10**(-cdiff_k/2.5)))\n",
    "k2 = cdiff_k + k1\n",
    "\n",
    "h1 = -2.5*log10(10**(-htot/2.5)/(1+10**(-cdiff_h/2.5)))\n",
    "h2 = cdiff_h + h1\n",
    "\n",
    "i1 = -2.5*log10(10**(-gtot/2.5)/(1+10**(-cdiff_i/2.5))) ## NOTE: G is not the here probably\n",
    "i2 = cdiff_i + i1\n",
    "\n",
    "v1 = -2.5*log10(10**(-vtot/2.5)/(1+10**(-cdiff_wds/2.5)))\n",
    "v2 = cdiff_wds + v1\n",
    "\n",
    "b1 = -2.5*log10(10**(-vtot/2.5)/(1+10**(-cdiff_b/2.5)))\n",
    "b2 = cdiff_b + b1"
   ]
  },
  {
   "cell_type": "code",
   "execution_count": 10,
   "metadata": {},
   "outputs": [
    {
     "data": {
      "image/png": "[encoded data removed]",
      "text/plain": [
       "<Figure size 800x500 with 1 Axes>"
      ]
     },
     "metadata": {},
     "output_type": "display_data"
    }
   ],
   "source": [
    "p1 = np.array([b1.nominal_value,v1.nominal_value,i1.nominal_value,h1.nominal_value,k1.nominal_value])\n",
    "p1err = np.array([b1.std_dev,v1.std_dev,i1.std_dev,h1.std_dev,k1.std_dev])\n",
    "p2 = np.array([b2.nominal_value,v2.nominal_value,i2.nominal_value,h2.nominal_value,k2.nominal_value])\n",
    "p2err = np.array([b2.std_dev,v2.std_dev,i2.std_dev,h2.std_dev,k2.std_dev])\n",
    "\n",
    "plt.title(\"SED from Speckle and Interferometry, HD %s\"%target_hd)\n",
    "plt.errorbar(data_wave,p1,p1err,fmt='o--')\n",
    "plt.errorbar(data_wave,p2,p2err,fmt='o--')\n",
    "plt.xlabel('Wavelength (nm)')\n",
    "plt.ylabel('Apparent Mag')\n",
    "plt.gca().invert_yaxis()\n",
    "plt.savefig(\"%s/HD_%s_%s_split_mags.pdf\"%(directory,target_hd,note))\n",
    "plt.show()"
   ]
  },
  {
   "cell_type": "markdown",
   "metadata": {},
   "source": [
    "## Now we want to use this information to fit isochrones"
   ]
  },
  {
   "cell_type": "markdown",
   "metadata": {},
   "source": [
    "#### Generate tracks of multiple ages at chosen metallicity"
   ]
  },
  {
   "cell_type": "code",
   "execution_count": 11,
   "metadata": {},
   "outputs": [
    {
     "data": {
      "text/html": [
       "<div>\n",
       "<style scoped>\n",
       "    .dataframe tbody tr th:only-of-type {\n",
       "        vertical-align: middle;\n",
       "    }\n",
       "\n",
       "    .dataframe tbody tr th {\n",
       "        vertical-align: top;\n",
       "    }\n",
       "\n",
       "    .dataframe thead th {\n",
       "        text-align: right;\n",
       "    }\n",
       "</style>\n",
       "<table border=\"1\" class=\"dataframe\">\n",
       "  <thead>\n",
       "    <tr style=\"text-align: right;\">\n",
       "      <th></th>\n",
       "      <th>eep</th>\n",
       "      <th>age</th>\n",
       "      <th>feh</th>\n",
       "      <th>mass</th>\n",
       "      <th>initial_mass</th>\n",
       "      <th>radius</th>\n",
       "      <th>density</th>\n",
       "      <th>logTeff</th>\n",
       "      <th>Teff</th>\n",
       "      <th>logg</th>\n",
       "      <th>...</th>\n",
       "      <th>H_mag</th>\n",
       "      <th>K_mag</th>\n",
       "      <th>G_mag</th>\n",
       "      <th>BP_mag</th>\n",
       "      <th>RP_mag</th>\n",
       "      <th>W1_mag</th>\n",
       "      <th>W2_mag</th>\n",
       "      <th>W3_mag</th>\n",
       "      <th>TESS_mag</th>\n",
       "      <th>Kepler_mag</th>\n",
       "    </tr>\n",
       "  </thead>\n",
       "  <tbody>\n",
       "    <tr>\n",
       "      <th>62</th>\n",
       "      <td>62.0</td>\n",
       "      <td>6.0</td>\n",
       "      <td>-0.431021</td>\n",
       "      <td>0.109384</td>\n",
       "      <td>0.109384</td>\n",
       "      <td>0.980144</td>\n",
       "      <td>0.164272</td>\n",
       "      <td>3.508683</td>\n",
       "      <td>3226.279459</td>\n",
       "      <td>3.489182</td>\n",
       "      <td>...</td>\n",
       "      <td>4.770745</td>\n",
       "      <td>4.559092</td>\n",
       "      <td>8.312007</td>\n",
       "      <td>9.724663</td>\n",
       "      <td>7.195070</td>\n",
       "      <td>4.449165</td>\n",
       "      <td>4.253865</td>\n",
       "      <td>4.122261</td>\n",
       "      <td>7.105392</td>\n",
       "      <td>8.328646</td>\n",
       "    </tr>\n",
       "    <tr>\n",
       "      <th>63</th>\n",
       "      <td>63.0</td>\n",
       "      <td>6.0</td>\n",
       "      <td>-0.431021</td>\n",
       "      <td>0.113531</td>\n",
       "      <td>0.113531</td>\n",
       "      <td>1.001057</td>\n",
       "      <td>0.160068</td>\n",
       "      <td>3.509973</td>\n",
       "      <td>3235.881606</td>\n",
       "      <td>3.485456</td>\n",
       "      <td>...</td>\n",
       "      <td>4.712154</td>\n",
       "      <td>4.501667</td>\n",
       "      <td>8.246036</td>\n",
       "      <td>9.648542</td>\n",
       "      <td>7.132610</td>\n",
       "      <td>4.394253</td>\n",
       "      <td>4.201994</td>\n",
       "      <td>4.071170</td>\n",
       "      <td>7.043954</td>\n",
       "      <td>8.261039</td>\n",
       "    </tr>\n",
       "    <tr>\n",
       "      <th>64</th>\n",
       "      <td>64.0</td>\n",
       "      <td>6.0</td>\n",
       "      <td>-0.431021</td>\n",
       "      <td>0.117668</td>\n",
       "      <td>0.117668</td>\n",
       "      <td>1.021871</td>\n",
       "      <td>0.156003</td>\n",
       "      <td>3.511253</td>\n",
       "      <td>3245.424865</td>\n",
       "      <td>3.482159</td>\n",
       "      <td>...</td>\n",
       "      <td>4.654903</td>\n",
       "      <td>4.445554</td>\n",
       "      <td>8.181301</td>\n",
       "      <td>9.573611</td>\n",
       "      <td>7.071390</td>\n",
       "      <td>4.340591</td>\n",
       "      <td>4.151356</td>\n",
       "      <td>4.021303</td>\n",
       "      <td>6.983763</td>\n",
       "      <td>8.194659</td>\n",
       "    </tr>\n",
       "    <tr>\n",
       "      <th>65</th>\n",
       "      <td>65.0</td>\n",
       "      <td>6.0</td>\n",
       "      <td>-0.431021</td>\n",
       "      <td>0.121788</td>\n",
       "      <td>0.121788</td>\n",
       "      <td>1.042598</td>\n",
       "      <td>0.152066</td>\n",
       "      <td>3.512516</td>\n",
       "      <td>3254.879038</td>\n",
       "      <td>3.479242</td>\n",
       "      <td>...</td>\n",
       "      <td>4.598952</td>\n",
       "      <td>4.390714</td>\n",
       "      <td>8.117808</td>\n",
       "      <td>9.499925</td>\n",
       "      <td>7.011402</td>\n",
       "      <td>4.288140</td>\n",
       "      <td>4.101901</td>\n",
       "      <td>3.972607</td>\n",
       "      <td>6.924805</td>\n",
       "      <td>8.129521</td>\n",
       "    </tr>\n",
       "    <tr>\n",
       "      <th>66</th>\n",
       "      <td>66.0</td>\n",
       "      <td>6.0</td>\n",
       "      <td>-0.431020</td>\n",
       "      <td>0.125898</td>\n",
       "      <td>0.125898</td>\n",
       "      <td>1.063377</td>\n",
       "      <td>0.148207</td>\n",
       "      <td>3.513761</td>\n",
       "      <td>3264.222940</td>\n",
       "      <td>3.476595</td>\n",
       "      <td>...</td>\n",
       "      <td>4.543982</td>\n",
       "      <td>4.336830</td>\n",
       "      <td>8.055299</td>\n",
       "      <td>9.427275</td>\n",
       "      <td>6.952374</td>\n",
       "      <td>4.236589</td>\n",
       "      <td>4.053315</td>\n",
       "      <td>3.924767</td>\n",
       "      <td>6.866801</td>\n",
       "      <td>8.065373</td>\n",
       "    </tr>\n",
       "  </tbody>\n",
       "</table>\n",
       "<p>5 rows × 27 columns</p>\n",
       "</div>"
      ],
      "text/plain": [
       "     eep  age       feh      mass  initial_mass    radius   density   logTeff  \\\n",
       "62  62.0  6.0 -0.431021  0.109384      0.109384  0.980144  0.164272  3.508683   \n",
       "63  63.0  6.0 -0.431021  0.113531      0.113531  1.001057  0.160068  3.509973   \n",
       "64  64.0  6.0 -0.431021  0.117668      0.117668  1.021871  0.156003  3.511253   \n",
       "65  65.0  6.0 -0.431021  0.121788      0.121788  1.042598  0.152066  3.512516   \n",
       "66  66.0  6.0 -0.431020  0.125898      0.125898  1.063377  0.148207  3.513761   \n",
       "\n",
       "           Teff      logg  ...     H_mag     K_mag     G_mag    BP_mag  \\\n",
       "62  3226.279459  3.489182  ...  4.770745  4.559092  8.312007  9.724663   \n",
       "63  3235.881606  3.485456  ...  4.712154  4.501667  8.246036  9.648542   \n",
       "64  3245.424865  3.482159  ...  4.654903  4.445554  8.181301  9.573611   \n",
       "65  3254.879038  3.479242  ...  4.598952  4.390714  8.117808  9.499925   \n",
       "66  3264.222940  3.476595  ...  4.543982  4.336830  8.055299  9.427275   \n",
       "\n",
       "      RP_mag    W1_mag    W2_mag    W3_mag  TESS_mag  Kepler_mag  \n",
       "62  7.195070  4.449165  4.253865  4.122261  7.105392    8.328646  \n",
       "63  7.132610  4.394253  4.201994  4.071170  7.043954    8.261039  \n",
       "64  7.071390  4.340591  4.151356  4.021303  6.983763    8.194659  \n",
       "65  7.011402  4.288140  4.101901  3.972607  6.924805    8.129521  \n",
       "66  6.952374  4.236589  4.053315  3.924767  6.866801    8.065373  \n",
       "\n",
       "[5 rows x 27 columns]"
      ]
     },
     "execution_count": 11,
     "metadata": {},
     "output_type": "execute_result"
    }
   ],
   "source": [
    "feh = -0.46 ## we will want to look up this value for each target\n",
    "Av = 0.0 ## targets are nearby, so extinction should be negligible\n",
    "\n",
    "log_age_start = 6 ## starting age\n",
    "log_age_size = 0.5 ## step size\n",
    "log_age_steps = 7 ## number of steps\n",
    "\n",
    "paramList  = [np.array([log_age_start,feh])+np.array([log_age_size,0])*i for i in range(0,log_age_steps)]\n",
    "\n",
    "isoList = [Mist_iso.isochrone(param[0],param[1]) for param in paramList] \n",
    "isoList[0].head()"
   ]
  },
  {
   "cell_type": "markdown",
   "metadata": {},
   "source": [
    "#### We need to add B, V, and I mag to the output of isochrones (H and K included by default)\n",
    "#### Using bolometric correction grid to compute these model magnitudes"
   ]
  },
  {
   "cell_type": "code",
   "execution_count": 12,
   "metadata": {},
   "outputs": [],
   "source": [
    "from isochrones.mist.bc import MISTBolometricCorrectionGrid\n",
    "bc_grid_B = MISTBolometricCorrectionGrid(['B'])\n",
    "bc_grid_V = MISTBolometricCorrectionGrid(['V'])\n",
    "bc_grid_I = MISTBolometricCorrectionGrid(['I'])"
   ]
  },
  {
   "cell_type": "code",
   "execution_count": 13,
   "metadata": {},
   "outputs": [
    {
     "data": {
      "text/html": [
       "<div>\n",
       "<style scoped>\n",
       "    .dataframe tbody tr th:only-of-type {\n",
       "        vertical-align: middle;\n",
       "    }\n",
       "\n",
       "    .dataframe tbody tr th {\n",
       "        vertical-align: top;\n",
       "    }\n",
       "\n",
       "    .dataframe thead th {\n",
       "        text-align: right;\n",
       "    }\n",
       "</style>\n",
       "<table border=\"1\" class=\"dataframe\">\n",
       "  <thead>\n",
       "    <tr style=\"text-align: right;\">\n",
       "      <th></th>\n",
       "      <th></th>\n",
       "      <th></th>\n",
       "      <th></th>\n",
       "      <th>B</th>\n",
       "    </tr>\n",
       "    <tr>\n",
       "      <th>Teff</th>\n",
       "      <th>logg</th>\n",
       "      <th>[Fe/H]</th>\n",
       "      <th>Av</th>\n",
       "      <th></th>\n",
       "    </tr>\n",
       "  </thead>\n",
       "  <tbody>\n",
       "    <tr>\n",
       "      <th rowspan=\"5\" valign=\"top\">2500.0</th>\n",
       "      <th rowspan=\"5\" valign=\"top\">-4.0</th>\n",
       "      <th rowspan=\"5\" valign=\"top\">-4.0</th>\n",
       "      <th>0.00</th>\n",
       "      <td>-7.714880</td>\n",
       "    </tr>\n",
       "    <tr>\n",
       "      <th>0.05</th>\n",
       "      <td>-7.773749</td>\n",
       "    </tr>\n",
       "    <tr>\n",
       "      <th>0.10</th>\n",
       "      <td>-7.832595</td>\n",
       "    </tr>\n",
       "    <tr>\n",
       "      <th>0.15</th>\n",
       "      <td>-7.891418</td>\n",
       "    </tr>\n",
       "    <tr>\n",
       "      <th>0.20</th>\n",
       "      <td>-7.950218</td>\n",
       "    </tr>\n",
       "  </tbody>\n",
       "</table>\n",
       "</div>"
      ],
      "text/plain": [
       "                                B\n",
       "Teff   logg [Fe/H] Av            \n",
       "2500.0 -4.0 -4.0   0.00 -7.714880\n",
       "                   0.05 -7.773749\n",
       "                   0.10 -7.832595\n",
       "                   0.15 -7.891418\n",
       "                   0.20 -7.950218"
      ]
     },
     "execution_count": 13,
     "metadata": {},
     "output_type": "execute_result"
    }
   ],
   "source": [
    "# Check first few rows of bolometric correction grid\n",
    "bc_grid_B.df.head()\n",
    "#bc_grid_V.df.head()\n",
    "#bc_grid_I.df.head()"
   ]
  },
  {
   "cell_type": "code",
   "execution_count": 14,
   "metadata": {},
   "outputs": [],
   "source": [
    "# Calculating the bolometric correction in B band\n",
    "Mbol_B = []\n",
    "for i,iso in enumerate(isoList):\n",
    "    Mbol_B.append(bc_grid_B.interp([iso['Teff'], iso['logg'], feh, Av]).ravel())   \n",
    "B = []\n",
    "for i,iso in enumerate(isoList):\n",
    "    B.append(iso['Mbol'] - Mbol_B[i])\n",
    "    \n",
    "# Calculating the bolometric correction in V band\n",
    "Mbol_V = []\n",
    "for i,iso in enumerate(isoList):\n",
    "    Mbol_V.append(bc_grid_V.interp([iso['Teff'], iso['logg'], feh, Av]).ravel())  \n",
    "V = []\n",
    "for i,iso in enumerate(isoList):\n",
    "    V.append(iso['Mbol'] - Mbol_V[i])\n",
    "\n",
    "# Calculating the bolometric correction in I band\n",
    "Mbol_I = []\n",
    "for i,iso in enumerate(isoList):\n",
    "    Mbol_I.append(bc_grid_I.interp([iso['Teff'], iso['logg'], feh, Av]).ravel())  \n",
    "I = []\n",
    "for i,iso in enumerate(isoList):\n",
    "    I.append(iso['Mbol'] - Mbol_I[i])\n",
    "    \n",
    "H = []\n",
    "for iso in isoList:\n",
    "    H.append(iso['H_mag'])\n",
    "\n",
    "K = []\n",
    "for iso in isoList:\n",
    "    K.append(iso['K_mag'])"
   ]
  },
  {
   "cell_type": "markdown",
   "metadata": {},
   "source": [
    "## Let's take a look at the HR diagram\n",
    "#### No fitting at this point, but good to estimate starting value for age"
   ]
  },
  {
   "cell_type": "code",
   "execution_count": 15,
   "metadata": {},
   "outputs": [
    {
     "name": "stdout",
     "output_type": "stream",
     "text": [
      "Distance =  87.6+/-0.8 pc\n",
      "Distance Modulus =  4.712+/-0.019\n"
     ]
    }
   ],
   "source": [
    "print(\"Distance = \", distance, 'pc')\n",
    "d_modulus = 5*log10(distance)-5\n",
    "print(\"Distance Modulus = \", d_modulus)"
   ]
  },
  {
   "cell_type": "code",
   "execution_count": 16,
   "metadata": {},
   "outputs": [
    {
     "data": {
      "image/png": "[encoded data removed]",
      "text/plain": [
       "<Figure size 800x500 with 1 Axes>"
      ]
     },
     "metadata": {},
     "output_type": "display_data"
    }
   ],
   "source": [
    "## change the range of plotted values in isochrones \"by eye\"\n",
    "iso_start = 100\n",
    "iso_end = 500\n",
    "\n",
    "## Choose x/y axis. For example, V-H vs V\n",
    "xval1 = v1-h1 ## component 1\n",
    "yval1 = v1 - d_modulus\n",
    "xval2 = v2-h2 ## component 2\n",
    "yval2 = v2 - d_modulus\n",
    "\n",
    "xlabel = \"V - H\"\n",
    "ylabel = \"V\"\n",
    "\n",
    "for i,iso in enumerate(isoList):\n",
    "    \n",
    "    ## make sure model matches data magnitudes\n",
    "    modelx = V[i][iso_start:iso_end] - H[i][iso_start:iso_end]\n",
    "    modely = V[i][iso_start:iso_end]\n",
    "    \n",
    "    plt.plot(modelx,modely,label = f\"log10(age/yrs) = {6.45+0.6*i} \")\n",
    "\n",
    "## make plot\n",
    "plt.errorbar(xval1.nominal_value,yval1.nominal_value,\n",
    "             xerr = xval1.std_dev, yerr = yval1.std_dev,\n",
    "             color=\"black\")\n",
    "plt.errorbar(xval2.nominal_value,yval2.nominal_value,\n",
    "             xerr = xval2.std_dev, yerr = yval2.std_dev,\n",
    "             color=\"red\")\n",
    "        \n",
    "plt.xlabel(xlabel,fontsize=15)\n",
    "plt.ylabel(ylabel, fontsize=15)\n",
    "plt.gca().invert_yaxis()\n",
    "plt.title(\"HD %s\"%target_hd, fontsize = 15)\n",
    "plt.legend()\n",
    "plt.savefig(\"%s/HD_%s_%s_hr_diagram.pdf\"%(directory,target_hd,note))\n",
    "plt.show()"
   ]
  },
  {
   "cell_type": "markdown",
   "metadata": {},
   "source": [
    "## Now let's fit for mass and ages\n",
    "#### We will start with a least squares minimization to get best params estimate\n",
    "#### We will then do a full MCMC parameter exploration"
   ]
  },
  {
   "cell_type": "markdown",
   "metadata": {},
   "source": [
    "In the fitting, the likelihood function is given by:\n",
    "$$\\mathcal{L} = \\exp\\left(-\\sum_i \\left(\\frac{\\Delta M_{i,\\text{tot}}}{\\sigma_{\\Delta_{M_{i,\\text{tot}}}}}\\right)^2 + \\left(\\frac{\\Delta (M_{i,1}-M_{i,2})}{\\sigma_{\\Delta (M_{i,1}-M_{i,2})}}\\right)^2\\right)$$\n",
    "\n",
    "Hence, we are fitting to the total magnitudes and color differences. The model functions below returns an $\\chi$-array. "
   ]
  },
  {
   "cell_type": "code",
   "execution_count": 17,
   "metadata": {},
   "outputs": [],
   "source": [
    "from isochrones import get_ichrone\n",
    "from lmfit import minimize, Minimizer, Parameters, Parameter, report_fit\n",
    "import corner\n",
    "tracks = get_ichrone('mist', tracks=True, accurate=True)"
   ]
  },
  {
   "cell_type": "code",
   "execution_count": 18,
   "metadata": {},
   "outputs": [],
   "source": [
    "## Objective function to be minimized for lmfit\n",
    "def isochrone_model(params, TOT_mag_star, D_mag_star, d_mod, Av):\n",
    "    \n",
    "    TOT_mag_absolute = TOT_mag_star - d_mod\n",
    "    TOT_mag_val = unumpy.nominal_values(TOT_mag_absolute)\n",
    "    TOT_mag_err = unumpy.std_devs(TOT_mag_absolute)\n",
    "    \n",
    "    D_mag_val = unumpy.nominal_values(D_mag_star)\n",
    "    D_mag_err = unumpy.std_devs(D_mag_star)\n",
    "    \n",
    "    age = params['age']\n",
    "    m1 = params['mass1']\n",
    "    m2 = params['mass2']\n",
    "    feh = params['feh']\n",
    "    \n",
    "    a1 = tracks.generate(m1, age, feh, return_dict=True)\n",
    "    a2 = tracks.generate(m2, age, feh, return_dict=True)\n",
    "    \n",
    "    mag1_model = np.array([(a1['Mbol'] - bc_grid_B.interp([a1['Teff'], a1['logg'], feh, Av ]))[0][0],\n",
    "                      (a1['Mbol'] - bc_grid_V.interp([a1['Teff'], a1['logg'], feh, Av ]))[0][0],\n",
    "                      (a1['Mbol'] - bc_grid_I.interp([a1['Teff'], a1['logg'], feh, Av ]))[0][0],\n",
    "                           a1[\"J_mag\"],\n",
    "                           a1[\"H_mag\"],\n",
    "                           a1[\"K_mag\"]])\n",
    "\n",
    "    mag2_model = np.array([(a2['Mbol'] - bc_grid_B.interp([a2['Teff'], a2['logg'], feh, Av ]))[0][0],\n",
    "                      (a2['Mbol'] - bc_grid_V.interp([a2['Teff'], a2['logg'], feh, Av ]))[0][0],\n",
    "                      (a2['Mbol'] - bc_grid_I.interp([a2['Teff'], a2['logg'], feh, Av ]))[0][0],\n",
    "                           a1[\"J_mag\"],\n",
    "                           a2[\"H_mag\"],\n",
    "                           a2[\"K_mag\"]])\n",
    "\n",
    "    D_mag_model = mag2_model - mag1_model\n",
    "    TOT_mag_model = -2.5*np.log10(10**(-0.4*mag1_model)+10**(-0.4*mag2_model))\n",
    "  \n",
    "    diff1 = (D_mag_val - D_mag_model) / D_mag_err\n",
    "    diff2 = (TOT_mag_val - TOT_mag_model) / TOT_mag_err\n",
    "    \n",
    "    #print(age.value, m1.value, m2.value,diff1,diff2)\n",
    "    if np.isnan(a1['Mbol']) or np.isnan(a2['Mbol']):\n",
    "        diff1[:] = np.inf\n",
    "        diff2[:] = np.inf\n",
    "    \n",
    "    return np.concatenate([diff1,diff2])"
   ]
  },
  {
   "cell_type": "code",
   "execution_count": 19,
   "metadata": {},
   "outputs": [],
   "source": [
    "## A new isochrone model that interpolate the model photometry to add more constraint\n",
    "bc_grid_U = MISTBolometricCorrectionGrid(['U'])\n",
    "bc_grid_B = MISTBolometricCorrectionGrid(['B'])\n",
    "bc_grid_V = MISTBolometricCorrectionGrid(['V'])\n",
    "bc_grid_R = MISTBolometricCorrectionGrid(['R'])\n",
    "bc_grid_I = MISTBolometricCorrectionGrid(['I'])\n",
    "bc_grid_Z = MISTBolometricCorrectionGrid(['z'])\n",
    "bc_grid_J = MISTBolometricCorrectionGrid(['J'])"
   ]
  },
  {
   "cell_type": "code",
   "execution_count": 20,
   "metadata": {},
   "outputs": [],
   "source": [
    "## Objective function to be minimized for lmfit\n",
    "def isochrone_model_v2(params, TOT_mag_star, D_mag_star, d_mod, Av):\n",
    "    \n",
    "    TOT_mag_absolute = TOT_mag_star - d_mod\n",
    "    TOT_mag_val = unumpy.nominal_values(TOT_mag_absolute)\n",
    "    TOT_mag_err = unumpy.std_devs(TOT_mag_absolute)\n",
    "    \n",
    "    D_mag_val = unumpy.nominal_values(D_mag_star)\n",
    "    D_mag_err = unumpy.std_devs(D_mag_star)\n",
    "    \n",
    "    age = params['age']\n",
    "    m1 = params['mass1']\n",
    "    m2 = params['mass2']\n",
    "    feh = params['feh']\n",
    "\n",
    "    \n",
    "    a1 = tracks.generate(m1, age, feh, return_dict=True)\n",
    "    a2 = tracks.generate(m2, age, feh, return_dict=True)\n",
    "    \n",
    "    #if np.isnan(a1['Mbol']) or np.isnan(a2['Mbol']):\n",
    "    #    return np.inf\n",
    "    \n",
    "    mag1_model = np.array([(a1['Mbol'] - bc_grid_V.interp([a1['Teff'], a1['logg'], feh, Av ]))[0][0],\n",
    "                      (a1['Mbol'] - bc_grid_V.interp([a1['Teff'], a1['logg'], feh, Av ]))[0][0],\n",
    "                      (a1['Mbol'] - bc_grid_I.interp([a1['Teff'], a1['logg'], feh, Av ]))[0][0],\n",
    "                      a1[\"H_mag\"],\n",
    "                      a1[\"K_mag\"]])\n",
    "\n",
    "    mag2_model = np.array([(a2['Mbol'] - bc_grid_V.interp([a2['Teff'], a2['logg'], feh, Av ]))[0][0],\n",
    "                      (a2['Mbol'] - bc_grid_V.interp([a2['Teff'], a2['logg'], feh, Av ]))[0][0],\n",
    "                      (a2['Mbol'] - bc_grid_I.interp([a2['Teff'], a2['logg'], feh, Av ]))[0][0],\n",
    "                      a2[\"H_mag\"],\n",
    "                      a2[\"K_mag\"]])\n",
    "\n",
    "    D_mag_model = mag2_model - mag1_model\n",
    "    \n",
    "  \n",
    "    diff1 = (D_mag_val - D_mag_model) / D_mag_err\n",
    "    \n",
    "    ## Bessel_U, Bessel_B, Bessel_V, Bessel_R, Gaia_G, Bessel_I, SDSS_z, 2MASS_J, 2MASS_H, 2MASS_K\n",
    "    #Wavelengths = np.array([365, 445, 551, 658, 673, 806, 905, 1250, 1650, 2150])\n",
    "\n",
    "    mag1_model = np.array([(a1['Mbol'] - bc_grid_U.interp([a1['Teff'], a1['logg'], feh, Av ]))[0][0],\n",
    "                           (a1['Mbol'] - bc_grid_B.interp([a1['Teff'], a1['logg'], feh, Av ]))[0][0],\n",
    "                      (a1['Mbol'] - bc_grid_V.interp([a1['Teff'], a1['logg'], feh, Av ]))[0][0],\n",
    "                      (a1['Mbol'] - bc_grid_R.interp([a1['Teff'], a1['logg'], feh, Av ]))[0][0],\n",
    "                      (a1['Mbol'] - bc_grid_I.interp([a1['Teff'], a1['logg'], feh, Av ]))[0][0],\n",
    "                      (a1['Mbol'] - bc_grid_J.interp([a1['Teff'], a1['logg'], feh, Av ]))[0][0],\n",
    "                      a1[\"H_mag\"],\n",
    "                      a1[\"K_mag\"]])\n",
    "\n",
    "    mag2_model = np.array([(a2['Mbol'] - bc_grid_U.interp([a2['Teff'], a2['logg'], feh, Av ]))[0][0],\n",
    "                           (a2['Mbol'] - bc_grid_B.interp([a2['Teff'], a2['logg'], feh, Av ]))[0][0],\n",
    "                      (a2['Mbol'] - bc_grid_V.interp([a2['Teff'], a2['logg'], feh, Av ]))[0][0],\n",
    "                      (a2['Mbol'] - bc_grid_R.interp([a2['Teff'], a2['logg'], feh, Av ]))[0][0],\n",
    "                      (a2['Mbol'] - bc_grid_I.interp([a2['Teff'], a2['logg'], feh, Av ]))[0][0],\n",
    "                      (a2['Mbol'] - bc_grid_J.interp([a2['Teff'], a2['logg'], feh, Av ]))[0][0],\n",
    "                      a2[\"H_mag\"],\n",
    "                      a2[\"K_mag\"]])\n",
    "\n",
    "    TOT_mag_model = -2.5*np.log10(10**(-0.4*mag1_model)+10**(-0.4*mag2_model))\n",
    "\n",
    "    diff2 = (TOT_mag_val - TOT_mag_model) / TOT_mag_err\n",
    "    # print(np.concatenate([diff1,diff2]).size)\n",
    "\n",
    "    return np.concatenate([diff1,diff2])"
   ]
  },
  {
   "cell_type": "markdown",
   "metadata": {},
   "source": [
    "#### First explore a grid over period to see global minimum solution"
   ]
  },
  {
   "cell_type": "code",
   "execution_count": 21,
   "metadata": {},
   "outputs": [],
   "source": [
    "## Choose observables for fitting\n",
    "#TOT_Mag = np.array([btot, vtot, rtot, jtot, htot, ktot])\n",
    "#DiffM = np.array([np.nan, cdiff_b, cdiff_i, np.nan, cdiff_h, cdiff_k])\n",
    "\n",
    "TOT_Mag = np.array([utot, btot, vtot, rtot, itot, jtot, htot, ktot])\n",
    "DiffM = np.array([cdiff_wds, cdiff_b, cdiff_i, cdiff_h, cdiff_k])"
   ]
  },
  {
   "cell_type": "code",
   "execution_count": 22,
   "metadata": {},
   "outputs": [
    {
     "name": "stderr",
     "output_type": "stream",
     "text": [
      "100%|████████████████████████████████████████████████████████████| 1000/1000 [00:40<00:00, 24.44it/s]\n"
     ]
    }
   ],
   "source": [
    "## Explore a grid of chi2 over age -- this paramter does not fit properly in least squares\n",
    "chi2_grid = []\n",
    "ages = []\n",
    "age_grid = np.linspace(6,10,1000) ## do fewer steps to go faster\n",
    "for aa in tqdm(age_grid):\n",
    "    try:\n",
    "        params = Parameters()\n",
    "        params.add('age',   value= aa, vary=False)\n",
    "        params.add('mass1', value= 2, min=0)#, max=max_mass)\n",
    "        params.add('mass2', value= 1, min=0)\n",
    "    \n",
    "        params.add('feh', value = feh, vary=False)#min=-0.5, max=0.5)\n",
    "\n",
    "        minner = Minimizer(isochrone_model_v2, params, fcn_args=(TOT_Mag, DiffM, d_modulus.nominal_value, Av),\n",
    "                           nan_policy='omit')\n",
    "        result = minner.minimize()\n",
    "        chi2_grid.append(result.redchi)\n",
    "        ages.append(aa)\n",
    "    except:\n",
    "        #print(\"Fails at log age = %s\"%aa)\n",
    "        pass"
   ]
  },
  {
   "cell_type": "code",
   "execution_count": 23,
   "metadata": {},
   "outputs": [
    {
     "name": "stdout",
     "output_type": "stream",
     "text": [
      "--------------------\n",
      "Best log Age = 8.77077077077077\n",
      "Set this value to age parameter in next cell!\n",
      "--------------------\n",
      "Fit fails at log Age = 9.035035035035035\n",
      "Might want to set MAX of age parameter to this value in the next cell!\n",
      "--------------------\n"
     ]
    },
    {
     "data": {
      "image/png": "[encoded data removed]",
      "text/plain": [
       "<Figure size 600x400 with 1 Axes>"
      ]
     },
     "metadata": {},
     "output_type": "display_data"
    }
   ],
   "source": [
    "plt.figure(figsize=(6,4))\n",
    "plt.scatter(ages,chi2_grid,alpha=0.6,marker=\"+\",color=\"blue\")\n",
    "plt.plot(ages,chi2_grid,alpha=0.6,ls=\"--\",color=\"black\")\n",
    "plt.axhline(y=1,color=\"red\",alpha=0.6, label=r\"$\\chi^2=1$\")\n",
    "plt.legend()\n",
    "plt.yscale(\"log\")\n",
    "plt.xlabel('Age',fontsize=15)\n",
    "plt.ylabel(r'$\\chi^2$',fontsize=15)\n",
    "plt.savefig(\"%s/HD_%s_%s_chi2_age.pdf\"%(directory,target_hd,note))\n",
    "\n",
    "idx = np.argmin(chi2_grid)\n",
    "age_best = ages[idx]\n",
    "age_max = ages[-1]\n",
    "\n",
    "print('--'*10)\n",
    "print(\"Best log Age = %s\"%age_best)\n",
    "print(\"Set this value to age parameter in next cell!\")\n",
    "print('--'*10)\n",
    "\n",
    "print('Fit fails at log Age = %s'%age_max)\n",
    "print('Might want to set MAX of age parameter to this value in the next cell!')\n",
    "print('--'*10)"
   ]
  },
  {
   "cell_type": "markdown",
   "metadata": {},
   "source": [
    "#### Least squares fit at best age"
   ]
  },
  {
   "cell_type": "code",
   "execution_count": 24,
   "metadata": {},
   "outputs": [
    {
     "name": "stdout",
     "output_type": "stream",
     "text": [
      "[[Fit Statistics]]\n",
      "    # fitting method   = leastsq\n",
      "    # function evals   = 25\n",
      "    # data points      = 9\n",
      "    # variables        = 3\n",
      "    chi-square         = 2.86704767\n",
      "    reduced chi-square = 0.47784128\n",
      "    Akaike info crit   = -4.29547587\n",
      "    Bayesian info crit = -3.70380214\n",
      "##  Warning: uncertainties could not be estimated:\n",
      "    age:    at initial value\n",
      "[[Variables]]\n",
      "    age:    8.77077077 (init = 8.770771)\n",
      "    mass1:  2.06147677 (init = 2)\n",
      "    mass2:  1.74549959 (init = 1)\n",
      "    feh:   -0.46 (fixed)\n"
     ]
    }
   ],
   "source": [
    "## start with a chi2 fit (this does not always work)\n",
    "\n",
    "## NOTE --> Since isochrones has a fixed age grid, the fitting currently fails to optimize this parameter\n",
    "## We can search age on a grid, or change the default step size for the parameter\n",
    "\n",
    "params = Parameters()\n",
    "params.add('age',   value= age_best, min=6, max=age_max)\n",
    "params.add('mass1', value= 2, min=0)#, max=max_mass)\n",
    "params.add('mass2', value= 1, min=0)#, max=max_mass)\n",
    "params.add('feh', value = feh, vary=False)#min=-0.5, max=0.5)\n",
    "\n",
    "minner = Minimizer(isochrone_model_v2, params, fcn_args=(TOT_Mag,DiffM,d_modulus.nominal_value,Av),\n",
    "                   nan_policy='omit')\n",
    "result = minner.minimize()\n",
    "report_fit(result)"
   ]
  },
  {
   "cell_type": "code",
   "execution_count": 25,
   "metadata": {},
   "outputs": [],
   "source": [
    "## We probably want least squares result as \"best\" parameters. TBD\n",
    "age_best = result.params['age'].value\n",
    "mass1_best = result.params['mass1'].value\n",
    "mass2_best = result.params['mass2'].value\n",
    "feh_best = result.params['feh'].value"
   ]
  },
  {
   "cell_type": "markdown",
   "metadata": {},
   "source": [
    "#### Now we will do a full MCMC exploration"
   ]
  },
  {
   "cell_type": "code",
   "execution_count": 26,
   "metadata": {},
   "outputs": [],
   "source": [
    "## Setup MCMC fit\n",
    "emcee_params = result.params.copy()\n",
    "nwalkers = 2*len(emcee_params)\n",
    "steps = 50000\n",
    "burn = 5000\n",
    "thin = 100"
   ]
  },
  {
   "cell_type": "code",
   "execution_count": 27,
   "metadata": {},
   "outputs": [
    {
     "data": {
      "text/html": [
       "<table><tr><th> name </th><th> value </th><th> initial value </th><th> min </th><th> max </th><th> vary </th></tr><tr><td> age </td><td>  8.77077077 </td><td> 8.77077077077077 </td><td>  6.00000000 </td><td>  9.03503504 </td><td> True </td></tr><tr><td> mass1 </td><td>  2.06147677 </td><td> 2 </td><td>  0.00000000 </td><td>         inf </td><td> True </td></tr><tr><td> mass2 </td><td>  1.74549959 </td><td> 1 </td><td>  0.00000000 </td><td>         inf </td><td> True </td></tr><tr><td> feh </td><td> -0.46000000 </td><td> -0.46 </td><td>        -inf </td><td>         inf </td><td> False </td></tr></table>"
      ],
      "text/plain": [
       "Parameters([('age', <Parameter 'age', value=8.77077077077077, bounds=[6:9.035035035035035]>), ('mass1', <Parameter 'mass1', value=2.061476770331153, bounds=[0:inf]>), ('mass2', <Parameter 'mass2', value=1.7454995875694772, bounds=[0:inf]>), ('feh', <Parameter 'feh', value=-0.46 (fixed), bounds=[-inf:inf]>)])"
      ]
     },
     "execution_count": 27,
     "metadata": {},
     "output_type": "execute_result"
    }
   ],
   "source": [
    "emcee_params"
   ]
  },
  {
   "cell_type": "code",
   "execution_count": 28,
   "metadata": {},
   "outputs": [
    {
     "name": "stderr",
     "output_type": "stream",
     "text": [
      "100%|█████████████████████████████████████████████████████████| 50000/50000 [06:30<00:00, 128.08it/s]\n"
     ]
    },
    {
     "name": "stdout",
     "output_type": "stream",
     "text": [
      "[[Fit Statistics]]\n",
      "    # fitting method   = emcee\n",
      "    # function evals   = 400000\n",
      "    # data points      = 9\n",
      "    # variables        = 3\n",
      "    chi-square         = 2.91731123\n",
      "    reduced chi-square = 0.48621854\n",
      "    Akaike info crit   = -4.13905977\n",
      "    Bayesian info crit = -3.54738604\n",
      "[[Variables]]\n",
      "    age:    8.76831822 +/- 0.02192912 (0.25%) (init = 8.770771)\n",
      "    mass1:  2.06325515 +/- 0.02362601 (1.15%) (init = 2.061477)\n",
      "    mass2:  1.74839161 +/- 0.02428048 (1.39%) (init = 1.7455)\n",
      "    feh:   -0.46 (fixed)\n",
      "[[Correlations]] (unreported correlations are < 0.100)\n",
      "    C(age, mass1)   = -0.898\n",
      "    C(mass1, mass2) = -0.234\n",
      "    C(age, mass2)   = -0.187\n",
      "None\n"
     ]
    }
   ],
   "source": [
    "## Do MCMC fit (this cell could take some time, depending on steps)\n",
    "minner = Minimizer(isochrone_model_v2, emcee_params, fcn_args=(TOT_Mag,DiffM,d_modulus.nominal_value,Av),\n",
    "                   nan_policy='omit')\n",
    "result = minner.minimize(method='emcee',steps=steps,burn=burn,thin=thin,nwalkers=nwalkers)\n",
    "print(report_fit(result))"
   ]
  },
  {
   "cell_type": "markdown",
   "metadata": {},
   "source": [
    "#### Now let's plot some MCMC outputs\n",
    "##### Need to make more plots to check convergence, etc"
   ]
  },
  {
   "cell_type": "code",
   "execution_count": null,
   "metadata": {},
   "outputs": [],
   "source": [
    "chains = result.flatchain\n",
    "\n",
    "## save chains (so we don't need to run large ones again)\n",
    "print(chains.shape)\n",
    "np.save(\"%s/HD_%s_%s_chains.npy\"%(directory,target_hd,note),chains)"
   ]
  },
  {
   "cell_type": "code",
   "execution_count": null,
   "metadata": {},
   "outputs": [],
   "source": [
    "## load chains -- NOTE: Could start from here if a run has already been completed\n",
    "chains = np.load(\"%s/HD_%s_%s_chains.npy\"%(directory,target_hd,note))"
   ]
  },
  {
   "cell_type": "code",
   "execution_count": null,
   "metadata": {},
   "outputs": [],
   "source": [
    "try:\n",
    "    emcee_plot = corner.corner(chains,labels=result.var_names)\n",
    "    plt.savefig('%s/HD_%s_%s_corner.pdf'%(directory,target_hd,note))\n",
    "except:\n",
    "    print(result.var_names)\n",
    "    emcee_plot = corner.corner(chains)\n",
    "    plt.savefig('%s/HD_%s_%s_corner.pdf'%(directory,target_hd,note))"
   ]
  },
  {
   "cell_type": "markdown",
   "metadata": {},
   "source": [
    "#### Compute best model to make plots"
   ]
  },
  {
   "cell_type": "code",
   "execution_count": null,
   "metadata": {},
   "outputs": [],
   "source": [
    "age_chain = chains[:,0]\n",
    "mass1_chain = chains[:,1]\n",
    "mass2_chain = chains[:,2]\n",
    "\n",
    "#age_best = np.median(age_chain)\n",
    "#mass1_best = np.median(mass1_chain)\n",
    "#mass2_best = np.median(mass2_chain)\n",
    "\n",
    "age_err = np.std(age_chain)\n",
    "mass1_err = np.std(mass1_chain)\n",
    "mass2_err = np.std(mass2_chain)"
   ]
  },
  {
   "cell_type": "code",
   "execution_count": null,
   "metadata": {},
   "outputs": [],
   "source": [
    "age = ufloat(age_best,age_err)\n",
    "mass1 = ufloat(mass1_best,mass1_err)\n",
    "mass2 = ufloat(mass2_best,mass2_err)"
   ]
  },
  {
   "cell_type": "code",
   "execution_count": null,
   "metadata": {},
   "outputs": [],
   "source": [
    "print('Log Age = ', age)\n",
    "print('M1 (solar) = ', mass1)\n",
    "print('M2 (solar) = ', mass2)\n",
    "print('Msum (solar) = ', mass1+mass2)"
   ]
  },
  {
   "cell_type": "code",
   "execution_count": null,
   "metadata": {},
   "outputs": [],
   "source": [
    "a1_best = tracks.generate(mass1_best, age_best, feh, return_dict=True)\n",
    "a2_best = tracks.generate(mass2_best, age_best, feh, return_dict=True)\n",
    "\n",
    "#if np.isnan(a1['Mbol']) or np.isnan(a2['Mbol']):\n",
    "#    return np.inf\n",
    "    \n",
    "model1 = np.array([(a1_best['Mbol'] - bc_grid_U.interp([a1_best['Teff'], a1_best['logg'], feh, Av ])+d_modulus.nominal_value)[0],\n",
    "                           (a1_best['Mbol'] - bc_grid_B.interp([a1_best['Teff'], a1_best['logg'], feh, Av ])+d_modulus.nominal_value)[0],\n",
    "                      (a1_best['Mbol'] - bc_grid_V.interp([a1_best['Teff'], a1_best['logg'], feh, Av ])+d_modulus.nominal_value)[0],\n",
    "                      (a1_best['Mbol'] - bc_grid_R.interp([a1_best['Teff'], a1_best['logg'], feh, Av ])+d_modulus.nominal_value)[0], \n",
    "                      (a1_best['Mbol'] - bc_grid_I.interp([a1_best['Teff'], a1_best['logg'], feh, Av ])+d_modulus.nominal_value)[0],\n",
    "                      (a1_best['Mbol'] - bc_grid_J.interp([a1_best['Teff'], a1_best['logg'], feh, Av ])+d_modulus.nominal_value)[0],\n",
    "                      a1_best[\"H_mag\"]+d_modulus.nominal_value,\n",
    "                      a1_best[\"K_mag\"]+d_modulus.nominal_value])\n",
    "\n",
    "model2 = np.array([(a2_best['Mbol'] - bc_grid_U.interp([a2_best['Teff'], a2_best['logg'], feh, Av ])+d_modulus.nominal_value)[0],\n",
    "                        (a2_best['Mbol'] - bc_grid_B.interp([a2_best['Teff'], a2_best['logg'], feh, Av ])+d_modulus.nominal_value)[0],\n",
    "                      (a2_best['Mbol'] - bc_grid_V.interp([a2_best['Teff'], a2_best['logg'], feh, Av ])+d_modulus.nominal_value)[0],\n",
    "                      (a2_best['Mbol'] - bc_grid_R.interp([a2_best['Teff'], a2_best['logg'], feh, Av ])+d_modulus.nominal_value)[0],\n",
    "                      (a2_best['Mbol'] - bc_grid_I.interp([a2_best['Teff'], a2_best['logg'], feh, Av ])+d_modulus.nominal_value)[0],\n",
    "                      (a2_best['Mbol'] - bc_grid_J.interp([a2_best['Teff'], a2_best['logg'], feh, Av ])+d_modulus.nominal_value)[0],\n",
    "                      a2_best[\"H_mag\"]+d_modulus.nominal_value,\n",
    "                      a2_best[\"K_mag\"]+d_modulus.nominal_value])\n",
    "\n",
    "Dmag_model = model2 - model1\n",
    "TOTmag_model = -2.5*np.log10(10**(-0.4*model1)+10**(-0.4*model2))"
   ]
  },
  {
   "cell_type": "code",
   "execution_count": null,
   "metadata": {},
   "outputs": [],
   "source": [
    "## central wavelengths of Simbad magnitudes chosen above (UBVRIJHK)\n",
    "x_wave = np.array([365.6,435.3,547.7,658,832,1220,1630,2190])"
   ]
  },
  {
   "cell_type": "code",
   "execution_count": null,
   "metadata": {},
   "outputs": [],
   "source": [
    "## Total Mag SED plot with best fit\n",
    "yplot = TOT_Mag\n",
    "plt.title(\"Total Mag Model Fit, HD %s\"%target_hd)\n",
    "plt.errorbar(x_wave,unumpy.nominal_values(yplot),unumpy.std_devs(yplot),fmt='o--',color='black')\n",
    "plt.plot(x_wave,TOTmag_model,'--',color='red')\n",
    "plt.xlabel('Wavelength (nm)')\n",
    "plt.ylabel('Total Mag')\n",
    "plt.gca().invert_yaxis()\n",
    "plt.savefig(\"%s/HD_%s_%s_TOTmag_fit.pdf\"%(directory,target_hd,note))\n",
    "plt.show()\n",
    "\n",
    "## Diff Mag SED plot with best fit\n",
    "yplot = DiffM\n",
    "plt.title(\"Diff Mag Model Fit, HD %s\"%target_hd)\n",
    "plt.errorbar(data_wave,unumpy.nominal_values(yplot),unumpy.std_devs(yplot),fmt='o--',color='black')\n",
    "plt.plot(x_wave,Dmag_model,'--',color='red')\n",
    "plt.xlabel('Wavelength (nm)')\n",
    "plt.ylabel('Diff Mag')\n",
    "plt.gca().invert_yaxis()\n",
    "plt.savefig(\"%s/HD_%s_%s_Dmag_fit.pdf\"%(directory,target_hd,note))\n",
    "plt.show()\n",
    "\n",
    "## Individual SEDs\n",
    "plt.title(\"Split SED Model Fit, HD %s\"%target_hd)\n",
    "plt.errorbar(data_wave,p1,p1err,fmt='o--',color='black')\n",
    "plt.errorbar(data_wave,p2,p2err,fmt='o--',color='black')\n",
    "plt.plot(x_wave,model1,'--',color='red')\n",
    "plt.plot(x_wave,model2,'--',color='red')\n",
    "plt.xlabel('Wavelength (nm)')\n",
    "plt.ylabel('Apparent Mag')\n",
    "plt.gca().invert_yaxis()\n",
    "plt.savefig(\"%s/HD_%s_%s_split_fit.pdf\"%(directory,target_hd,note))\n",
    "plt.show()"
   ]
  },
  {
   "cell_type": "code",
   "execution_count": null,
   "metadata": {},
   "outputs": [],
   "source": []
  },
  {
   "cell_type": "code",
   "execution_count": null,
   "metadata": {},
   "outputs": [],
   "source": []
  }
 ],
 "metadata": {
  "kernelspec": {
   "display_name": "Python 3 (ipykernel)",
   "language": "python",
   "name": "python3"
  },
  "language_info": {
   "codemirror_mode": {
    "name": "ipython",
    "version": 3
   },
   "file_extension": ".py",
   "mimetype": "text/x-python",
   "name": "python",
   "nbconvert_exporter": "python",
   "pygments_lexer": "ipython3",
   "version": "3.10.6"
  }
 },
 "nbformat": 4,
 "nbformat_minor": 4
}
