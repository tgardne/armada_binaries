{
 "cells": [
  {
   "cell_type": "markdown",
   "metadata": {},
   "source": [
    "## A notebook for fitting to ARMADA binary orbits"
   ]
  },
  {
   "cell_type": "code",
   "execution_count": 3,
   "metadata": {},
   "outputs": [],
   "source": [
    "from lmfit import minimize, Minimizer, Parameters, Parameter, report_fit\n",
    "import numpy as np\n",
    "import os\n",
    "import matplotlib.pyplot as plt\n",
    "from matplotlib.patches import Ellipse\n",
    "from mpl_toolkits.axes_grid1.inset_locator import zoomed_inset_axes\n",
    "from mpl_toolkits.axes_grid1.inset_locator import mark_inset\n",
    "import random\n",
    "from tqdm import tqdm\n",
    "import matplotlib.cm as cm\n",
    "from matplotlib.backends.backend_pdf import PdfPages\n",
    "import emcee\n",
    "import corner\n",
    "from read_data import read_data,read_wds,read_orb6\n",
    "from astrometry_model import astrometry_model,triple_model,lnlike,lnprior,lnpost,create_init\n",
    "from orbit_plotting import orbit_model,triple_orbit_model\n",
    "%matplotlib inline"
   ]
  },
  {
   "cell_type": "code",
   "execution_count": 4,
   "metadata": {},
   "outputs": [],
   "source": [
    "if os.getcwd()[7:14] == 'tgardne':\n",
    "    ## setup paths for user\n",
    "    path = '/Users/tgardne/ARMADA_orbits'\n",
    "    path_etalon = '/Users/tgardne/etalon_epochs/etalon_fits/etalon_factors_fit_SKY.txt'\n",
    "    path_wds = '/Users/tgardne/wds_targets'\n",
    "    path_orb6 = '/Users/tgardne/catalogs/orb6orbits.sql.txt'\n",
    "    \n",
    "elif os.getcwd()[7:19] == 'adam.scovera':\n",
    "    ## Adam's path\n",
    "    path = '/Users/adam.scovera/Documents/UofM/BEPResearch_Data/ARMADA_orbits'\n",
    "    path_etalon = '/Users/adam.scovera/Documents/UofM/BEPResearch_Data/etalon_factors_fit.txt'\n",
    "    path_wds = '/Users/adam.scovera/Documents/UofM/BEPResearch_Data/wds_targets'\n",
    "    path_orb6 = '/Users/adam.scovera/Documents/UofM/BEPResearch_Data/orb6orbits.sql.txt'"
   ]
  },
  {
   "cell_type": "markdown",
   "metadata": {},
   "source": [
    "## Specify a target HD number and WDS number"
   ]
  },
  {
   "cell_type": "code",
   "execution_count": 5,
   "metadata": {},
   "outputs": [],
   "source": [
    "### give target information\n",
    "# target is hip number\n",
    "# target_hd is hd number\n",
    "# target_wds is wds number\n",
    "\n",
    "target = []\n",
    "target_hd = []\n",
    "target_wds = []\n",
    "\n",
    "# Target 0 really nice\n",
    "target.append('26536')\n",
    "target_hd.append ('37269')\n",
    "target_wds.append('05386+3030')\n",
    "\n",
    "# Target 1 pretty nice\n",
    "target.append('21644')\n",
    "target_hd.append ('29573')\n",
    "target_wds.append('04389-1207')\n",
    "\n",
    "# Target 2 Has some problems: Obvious outliers\n",
    "target.append('12828')\n",
    "target_hd.append ('17094')\n",
    "target_wds.append('02449+1007')\n",
    "\n",
    "# Target 3 really nice\n",
    "target.append('101398')\n",
    "target_hd.append ('196089')\n",
    "target_wds.append('20330+4950')\n",
    "\n",
    "# Target 4 pretty nice\n",
    "target.append('98055')\n",
    "target_hd.append ('189037')\n",
    "target_wds.append('19556+5226')\n",
    "\n",
    "# Target 5 Obvious outliers\n",
    "target.append('21730')\n",
    "target_hd.append ('29316')\n",
    "target_wds.append('04400+5328')\n",
    "\n",
    "# Target 6 Really nice, possible outliers\n",
    "target.append('26777')\n",
    "target_hd.append ('37711')\n",
    "target_wds.append('05413+1632')\n",
    "\n",
    "# Target 7 Something is wrong, does not seem right\n",
    "target.append('113788')\n",
    "target_hd.append ('217782')\n",
    "target_wds.append('23026+4245')\n",
    "\n",
    "# Target 8 Overall good, some strange data points\n",
    "target.append('5131')\n",
    "target_hd.append ('6456')\n",
    "target_wds.append('01057+2128')\n",
    "\n",
    "# Target 9 Really Nice\n",
    "target.append('12466')\n",
    "target_hd.append('16753')\n",
    "target_wds.append('02405-2408')\n",
    "\n",
    "# Target 10 Not bad, hige residuals\n",
    "target.append('4176')\n",
    "target_hd.append('5143')\n",
    "target_wds.append('00533+0405')\n",
    "\n",
    "# Target 11 Really Nice\n",
    "target.append('22573')\n",
    "target_hd.append('31093')\n",
    "target_wds.append('04515-3454')\n",
    "\n",
    "# Target 12 Looks strange Maybe the dates are off in WDS?\n",
    "target.append('30883') \n",
    "target_hd.append('45542')\n",
    "target_wds.append('06290+2013')\n",
    "\n",
    "# Target 13 Looks weird. Maybe the dates are off?\n",
    "target.append('76852')\n",
    "target_hd.append('140159')\n",
    "target_wds.append('15416+1940')\n",
    "\n",
    "# Target 14 WDS data not working\n",
    "target.append('87761')\n",
    "target_hd.append('163346')\n",
    "target_wds.append('17556+0204')\n",
    "\n",
    "# Target 15 Strange Results. Try Flipping\n",
    "target.append('96729')\n",
    "target_hd.append('185404')\n",
    "target_wds.append('19398-2326')\n",
    "\n",
    "# Target 16 Again, weird. Dates?\n",
    "target.append('96807')\n",
    "target_hd.append('185762')\n",
    "target_wds.append('19407-0037')\n",
    "\n",
    "# Target 17 Try Flipping\n",
    "target.append('118205')\n",
    "target_hd.append('224512')\n",
    "target_wds.append('23586-1408')\n",
    "\n",
    "# Target 18 WDS not working\n",
    "target.append('101211')\n",
    "target_hd.append('195206')\n",
    "target_wds.append('20310-2907')\n",
    "\n",
    "# Target 19 WDS not working\n",
    "target.append('102589')\n",
    "target_hd.append('198183')\n",
    "target_wds.append('20474+3629')\n",
    "\n",
    "# Target 20 Really nice. Possible outliers\n",
    "target.append('104272')\n",
    "target_hd.append('201038')\n",
    "target_wds.append('21074-0814')\n",
    "\n",
    "# Target 21 Nice, possible outliers\n",
    "target.append('103569')\n",
    "target_hd.append('199766')\n",
    "target_wds.append('20591+0418')\n",
    "\n",
    "# Iota Peg\n",
    "target.append('109176')\n",
    "target_hd.append('210027')\n",
    "target_wds.append('22070+2521')\n",
    "\n",
    "# Choose which index to focus on\n",
    "focus = 0"
   ]
  },
  {
   "cell_type": "markdown",
   "metadata": {},
   "source": [
    "## Read in ARMADA data"
   ]
  },
  {
   "cell_type": "code",
   "execution_count": 6,
   "metadata": {},
   "outputs": [],
   "source": [
    "#Get data from txt file:\n",
    "file=open('%s/HD_%s.txt'%(path,target_hd[focus]))\n",
    "weight=1\n",
    "\n",
    "t,p,theta,error_maj,error_min,error_pa,error_deg = read_data(file,weight)\n",
    "file.close()\n",
    "\n",
    "#idx = np.where(t>58362)\n",
    "idx = np.where(t>0)\n",
    "t = t[idx]\n",
    "p = p[idx]\n",
    "theta = theta[idx]\n",
    "error_maj = error_maj[idx]\n",
    "error_min = error_min[idx]\n",
    "error_pa = error_pa[idx]\n",
    "error_deg = error_deg[idx]"
   ]
  },
  {
   "cell_type": "markdown",
   "metadata": {},
   "source": [
    "## Apply Etalon Correction"
   ]
  },
  {
   "cell_type": "code",
   "execution_count": 7,
   "metadata": {},
   "outputs": [
    {
     "name": "stdout",
     "output_type": "stream",
     "text": [
      "   date      etalon factor\n",
      "58798.3984 1.0002313419776407\n",
      "58769.4589 1.0002313419776407\n",
      "58835.3424 1.0002313419776407\n",
      "58702.5166 1.000149285239106\n",
      "58381.4865 0.9998983798855247\n",
      "58024.4319 1.0011991154356612\n",
      "58351.5011 1.0033596827318068\n",
      "58413.4478 0.9989236109868392\n",
      "58456.3202 0.9984441376073557\n",
      "58443.3875 0.9989582282340542\n"
     ]
    }
   ],
   "source": [
    "## get etalon factors from txt file fit\n",
    "file=open(path_etalon)\n",
    "mjd_etalon=[]\n",
    "f_etalon=[]\n",
    "for line in file.readlines():\n",
    "    if line.startswith('#'):\n",
    "        continue\n",
    "    mjd_etalon.append(float(line.split()[0]))\n",
    "    f_etalon.append(float(line.split()[1]))\n",
    "file.close()\n",
    "mjd_etalon=np.array(mjd_etalon)\n",
    "f_etalon=np.array(f_etalon)\n",
    "\n",
    "etalon_factor=[]\n",
    "for i in t:\n",
    "    idx = np.where(abs(i-mjd_etalon)==min(abs(i-mjd_etalon)))\n",
    "    f = f_etalon[idx][0]\n",
    "    etalon_factor.append(f)\n",
    "etalon_factor=np.array(etalon_factor)\n",
    "\n",
    "print('   date      etalon factor')\n",
    "for i,j in zip(t,etalon_factor):\n",
    "    print(i,j)"
   ]
  },
  {
   "cell_type": "code",
   "execution_count": 8,
   "metadata": {},
   "outputs": [
    {
     "data": {
      "image/png": "[encoded data removed]",
      "text/plain": [
       "<Figure size 432x288 with 1 Axes>"
      ]
     },
     "metadata": {
      "needs_background": "light"
     },
     "output_type": "display_data"
    }
   ],
   "source": [
    "## apply etalon correction\n",
    "#etalon_factor=1\n",
    "\n",
    "p = p/etalon_factor\n",
    "\n",
    "xpos=p*np.sin(theta)\n",
    "ypos=p*np.cos(theta)\n",
    "\n",
    "plt.plot(xpos,ypos,'+')\n",
    "#plt.plot(0,0,'*')\n",
    "plt.title('ARMADA Data')\n",
    "plt.xlabel('dra (mas)')\n",
    "plt.ylabel('ddec (mas)')\n",
    "plt.show()"
   ]
  },
  {
   "cell_type": "markdown",
   "metadata": {},
   "source": [
    "## Read in WDS data"
   ]
  },
  {
   "cell_type": "code",
   "execution_count": 9,
   "metadata": {},
   "outputs": [],
   "source": [
    "## get wds data\n",
    "#Get data from txt file:\n",
    "file=open(os.path.expanduser(\"%s/wds%s.txt\"%(path_wds,target_wds[focus])))\n",
    "weight = 10\n",
    "dtype = 'S'\n",
    "\n",
    "t_wds,p_wds,theta_wds,error_maj_wds,error_min_wds,error_pa_wds,error_deg_wds = read_wds(file,weight,dtype)"
   ]
  },
  {
   "cell_type": "code",
   "execution_count": 10,
   "metadata": {},
   "outputs": [
    {
     "name": "stdout",
     "output_type": "stream",
     "text": [
      "31\n"
     ]
    }
   ],
   "source": [
    "print(len(p_wds))"
   ]
  },
  {
   "cell_type": "code",
   "execution_count": 11,
   "metadata": {},
   "outputs": [
    {
     "data": {
      "image/png": "[encoded data removed]",
      "text/plain": [
       "<Figure size 432x288 with 1 Axes>"
      ]
     },
     "metadata": {
      "needs_background": "light"
     },
     "output_type": "display_data"
    },
    {
     "data": {
      "image/png": "[encoded data removed]",
      "text/plain": [
       "<Figure size 432x288 with 1 Axes>"
      ]
     },
     "metadata": {
      "needs_background": "light"
     },
     "output_type": "display_data"
    }
   ],
   "source": [
    "## plot all data\n",
    "    \n",
    "if target_hd[focus] == '17094':\n",
    "    idx = np.where(theta_wds*180/np.pi>180)\n",
    "    theta_wds[idx]-=np.pi\n",
    "    plt.plot(t_wds,theta_wds*180/np.pi)\n",
    "    plt.show()\n",
    "    \n",
    "else:\n",
    "    plt.plot(t_wds,theta_wds*180/np.pi)\n",
    "    plt.xlabel('PA (deg)')\n",
    "    plt.ylabel('date (mjd)')\n",
    "    plt.show()\n",
    "\n",
    "xpos_wds=p_wds*np.sin(theta_wds)\n",
    "ypos_wds=p_wds*np.cos(theta_wds)\n",
    "\n",
    "#idx = np.where(xpos_wds>-100)\n",
    "#xpos_wds = xpos_wds[idx]\n",
    "#ypos_wds = ypos_wds[idx]\n",
    "#t_wds = t_wds[idx]\n",
    "#error_maj_wds=error_maj_wds[idx]\n",
    "#error_min_wds=error_min_wds[idx]\n",
    "#error_pa_wds=error_pa_wds[idx]\n",
    "#error_deg_wds=error_deg_wds[idx]\n",
    "\n",
    "idx = np.argmin(t)\n",
    "\n",
    "plt.plot(xpos_wds,ypos_wds,'o',label='WDS')\n",
    "plt.plot(xpos_wds[0],ypos_wds[0],'*')\n",
    "plt.plot(xpos[idx],ypos[idx],'*')\n",
    "plt.plot(xpos,ypos,'+',label='ARMADA')\n",
    "plt.plot(0,0,'*')\n",
    "plt.gca().invert_xaxis()\n",
    "plt.title('All Data')\n",
    "plt.xlabel('dra (mas)')\n",
    "plt.ylabel('ddec (mas)')\n",
    "plt.legend()\n",
    "plt.show()"
   ]
  },
  {
   "cell_type": "code",
   "execution_count": 12,
   "metadata": {},
   "outputs": [],
   "source": [
    "## flip WDS by 180???\n",
    "if target_hd[focus] == '17094' or target_hd[focus] == '185762':\n",
    "    xpos_wds=-p_wds*np.sin(theta_wds)\n",
    "    ypos_wds=-p_wds*np.cos(theta_wds)\n",
    "\n",
    "    plt.plot(xpos_wds,ypos_wds,'o')\n",
    "    plt.plot(xpos_wds[0],ypos_wds[0],'*')\n",
    "    plt.plot(xpos[idx],ypos[idx],'*')\n",
    "    plt.plot(xpos,ypos,'+')\n",
    "    plt.plot(0,0,'*')\n",
    "    plt.gca().invert_xaxis()\n",
    "    plt.title('All Data')\n",
    "    plt.xlabel('dra (mas)')\n",
    "    plt.ylabel('ddec (mas)')\n",
    "    plt.show()"
   ]
  },
  {
   "cell_type": "markdown",
   "metadata": {},
   "source": [
    "## Get an estimate of the orbital parameters"
   ]
  },
  {
   "cell_type": "code",
   "execution_count": 13,
   "metadata": {},
   "outputs": [
    {
     "name": "stdout",
     "output_type": "stream",
     "text": [
      "found target!\n",
      "--------------------------\n",
      "a(mas),P(yr),e,i(deg),omega(deg),bigomega(deg),T(mjd)\n",
      "154.0 52.73500000000001 0.653 124.22000000000001 309.07000000000005 127.07999999999998 42386.31231940002\n",
      "--------------------------\n"
     ]
    }
   ],
   "source": [
    "if target_hd[focus] == '17094':\n",
    "    # Guess for hd17094\n",
    "    P = 12356\n",
    "    e = 0.9\n",
    "    inc = 264*np.pi/180\n",
    "    omega = 260*np.pi/180\n",
    "    bigomega = 240*np.pi/180\n",
    "    a = 543\n",
    "    T = 21541\n",
    "    \n",
    "else:\n",
    "    a,P,e,inc,omega,bigomega,T = read_orb6(target[focus],path_orb6)"
   ]
  },
  {
   "cell_type": "markdown",
   "metadata": {},
   "source": [
    "## Combine the ARMADA and WDS data for fitting"
   ]
  },
  {
   "cell_type": "code",
   "execution_count": 14,
   "metadata": {},
   "outputs": [],
   "source": [
    "## add all data together\n",
    "xpos_all = np.concatenate([xpos,xpos_wds])\n",
    "ypos_all = np.concatenate([ypos,ypos_wds])\n",
    "t_all = np.concatenate([t,t_wds])\n",
    "\n",
    "error_maj_all = np.concatenate([error_maj,error_maj_wds])\n",
    "error_min_all = np.concatenate([error_min,error_min_wds])\n",
    "error_pa_all = np.concatenate([error_pa,error_pa_wds])\n",
    "error_deg_all = np.concatenate([error_deg,error_deg_wds])"
   ]
  },
  {
   "cell_type": "markdown",
   "metadata": {},
   "source": [
    "## First, do a least-squares fit"
   ]
  },
  {
   "cell_type": "code",
   "execution_count": 15,
   "metadata": {},
   "outputs": [
    {
     "name": "stdout",
     "output_type": "stream",
     "text": [
      "[[Fit Statistics]]\n",
      "    # fitting method   = leastsq\n",
      "    # function evals   = 33\n",
      "    # data points      = 82\n",
      "    # variables        = 7\n",
      "    chi-square         = 23.4716826\n",
      "    reduced chi-square = 0.31295577\n",
      "    Akaike info crit   = -88.5758129\n",
      "    Bayesian info crit = -71.7287782\n",
      "[[Variables]]\n",
      "    w:     5.45662510 +/- 0.03082074 (0.56%) (init = 5.394289)\n",
      "    bigw:  2.26761233 +/- 0.02354388 (1.04%) (init = 2.217964)\n",
      "    inc:   2.19362825 +/- 0.00563972 (0.26%) (init = 2.168048)\n",
      "    e:     0.62595624 +/- 0.01281995 (2.05%) (init = 0.653)\n",
      "    a:     148.348576 +/- 0.64211558 (0.43%) (init = 154)\n",
      "    P:     19425.5553 +/- 141.461791 (0.73%) (init = 19248.28)\n",
      "    T:     42285.6645 +/- 73.6583520 (0.17%) (init = 42386.31)\n",
      "[[Correlations]] (unreported correlations are < 0.100)\n",
      "    C(bigw, e) = -0.973\n",
      "    C(w, bigw) =  0.972\n",
      "    C(e, P)    = -0.959\n",
      "    C(bigw, P) =  0.919\n",
      "    C(P, T)    = -0.907\n",
      "    C(w, e)    = -0.893\n",
      "    C(w, P)    =  0.819\n",
      "    C(w, a)    = -0.789\n",
      "    C(e, T)    =  0.776\n",
      "    C(bigw, T) = -0.671\n",
      "    C(inc, a)  = -0.653\n",
      "    C(bigw, a) = -0.627\n",
      "    C(inc, T)  =  0.542\n",
      "    C(w, T)    = -0.509\n",
      "    C(e, a)    =  0.451\n",
      "    C(a, P)    = -0.329\n",
      "    C(inc, P)  = -0.311\n",
      "    C(inc, e)  =  0.273\n",
      "    C(w, inc)  =  0.149\n",
      "None\n"
     ]
    }
   ],
   "source": [
    "#create a set of Parameters, choose starting value and range for search\n",
    "params = Parameters()\n",
    "params.add('w',   value= omega, min=0, max=2*np.pi)\n",
    "params.add('bigw', value= bigomega, min=0, max=2*np.pi)\n",
    "params.add('inc', value= inc, min=0, max=2*np.pi)\n",
    "params.add('e', value= e, min=0, max=0.99)\n",
    "params.add('a', value= a, min=0)\n",
    "params.add('P', value= P, min=0)\n",
    "params.add('T', value= T, min=0)\n",
    "\n",
    "#params.add('pscale', value=1)\n",
    "\n",
    "#do fit, minimizer uses LM for least square fitting of model to data\n",
    "minner = Minimizer(astrometry_model, params, fcn_args=(xpos_all,ypos_all,t_all,\n",
    "                                                       error_maj_all,error_min_all,\n",
    "                                                       error_pa_all))\n",
    "kws  = {'options': {'maxiter':10}}\n",
    "result = minner.minimize()\n",
    "\n",
    "# write error report\n",
    "print(report_fit(result))"
   ]
  },
  {
   "cell_type": "code",
   "execution_count": 16,
   "metadata": {},
   "outputs": [
    {
     "name": "stdout",
     "output_type": "stream",
     "text": [
      "----------\n",
      "chi2 armada = 1.2795659059422624\n",
      "----------\n",
      "chi2 wds = 0.12431501510868088\n",
      "----------\n"
     ]
    }
   ],
   "source": [
    "resids_armada = astrometry_model(result.params,xpos,ypos,t,error_maj,\n",
    "                                 error_min,error_pa)\n",
    "resids_wds = astrometry_model(result.params,xpos_wds,ypos_wds,t_wds,\n",
    "                              error_maj_wds,error_min_wds,error_pa_wds)\n",
    "\n",
    "ndata_armada = 2*sum(~np.isnan(xpos))\n",
    "ndata_wds = 2*sum(~np.isnan(xpos_wds))\n",
    "\n",
    "chi2_armada = np.nansum(resids_armada**2)/(ndata_armada-len(result.params))\n",
    "chi2_wds = np.nansum(resids_wds**2)/(ndata_wds-len(result.params))\n",
    "\n",
    "print('-'*10)\n",
    "print('chi2 armada = %s'%chi2_armada)\n",
    "print('-'*10)\n",
    "print('chi2 wds = %s'%chi2_wds)\n",
    "print('-'*10)"
   ]
  },
  {
   "cell_type": "markdown",
   "metadata": {},
   "source": [
    "## Take a look at the least squares fit"
   ]
  },
  {
   "cell_type": "code",
   "execution_count": 17,
   "metadata": {},
   "outputs": [
    {
     "data": {
      "image/png": "[encoded data removed]",
      "text/plain": [
       "<Figure size 432x288 with 1 Axes>"
      ]
     },
     "metadata": {
      "needs_background": "light"
     },
     "output_type": "display_data"
    },
    {
     "data": {
      "image/png": "[encoded data removed]",
      "text/plain": [
       "<Figure size 432x288 with 1 Axes>"
      ]
     },
     "metadata": {
      "needs_background": "light"
     },
     "output_type": "display_data"
    },
    {
     "name": "stdout",
     "output_type": "stream",
     "text": [
      "----------\n",
      "Mean residual = 66.81 micro-as\n",
      "----------\n"
     ]
    }
   ],
   "source": [
    "scale=1\n",
    "if chi2_armada<1.0:\n",
    "    scale=1/np.sqrt(chi2_armada)\n",
    "\n",
    "a_start = result.params['a']\n",
    "P_start = result.params['P']\n",
    "e_start = result.params['e']\n",
    "inc_start = result.params['inc']\n",
    "w_start = result.params['w']\n",
    "bigw_start = result.params['bigw']\n",
    "T_start = result.params['T']\n",
    "#pscale_start = result.params['pscale']\n",
    "\n",
    "ra,dec,rapoints,decpoints = orbit_model(a_start,e_start,inc_start,\n",
    "                                        w_start,bigw_start,P_start,\n",
    "                                        T_start,t_all)\n",
    "\n",
    "fig,ax=plt.subplots()\n",
    "\n",
    "ax.plot(xpos_wds, ypos_wds, 'o', label='WDS')\n",
    "ax.plot(xpos,ypos,'o', label='ARMADA')\n",
    "ax.plot(0,0,'*')\n",
    "ax.plot(ra, dec, '--',color='g')\n",
    "\n",
    "#plot lines from data to best fit orbit\n",
    "i=0\n",
    "while i<len(decpoints):\n",
    "    x=[xpos_all[i],rapoints[i]]\n",
    "    y=[ypos_all[i],decpoints[i]]\n",
    "    ax.plot(x,y,color=\"black\")\n",
    "    i+=1\n",
    "\n",
    "directory='%s/HD%s/'%(path,target_hd[focus])\n",
    "if not os.path.exists(directory):\n",
    "    os.makedirs(directory)\n",
    "ax.set_xlabel('milli-arcsec')\n",
    "ax.set_ylabel('milli-arcsec')\n",
    "ax.invert_xaxis()\n",
    "ax.axis('equal')\n",
    "ax.set_title('HD%s Outer Orbit'%target_hd[focus])\n",
    "plt.legend()\n",
    "plt.savefig('%s/HD%s/HD%s_outer_leastsquares.pdf'%(path,target_hd[focus],target_hd[focus]))\n",
    "plt.show()\n",
    "\n",
    "## plot resids for ARMADA\n",
    "fig,ax=plt.subplots()\n",
    "xresid = xpos - rapoints[:len(xpos)]\n",
    "yresid = ypos - decpoints[:len(ypos)]\n",
    "\n",
    "#need to measure error ellipse angle east of north\n",
    "for ras, decs, w, h, angle in zip(xresid,yresid,error_maj/scale,error_min/scale,error_deg):\n",
    "    ellipse = Ellipse(xy=(ras, decs), width=2*w, height=2*h, \n",
    "                      angle=90-angle, facecolor='none', edgecolor='black')\n",
    "    ax.add_patch(ellipse)\n",
    "\n",
    "ax.plot(xresid, yresid, 'o')\n",
    "ax.plot(0,0,'*')\n",
    "ax.set_xlabel('milli-arcsec')\n",
    "ax.set_ylabel('milli-arcsec')\n",
    "ax.invert_xaxis()\n",
    "ax.axis('equal')\n",
    "ax.set_title('HD%s Resids'%target_hd[focus])\n",
    "plt.savefig('%s/HD%s/HD%s_resid_leastsquares.pdf'%(path,target_hd[focus],target_hd[focus]))\n",
    "plt.show()\n",
    "\n",
    "## residuals\n",
    "resids = np.sqrt(xresid**2 + yresid**2)\n",
    "resids_median = np.around(np.median(resids)*1000,2)\n",
    "print('-'*10)\n",
    "print('Mean residual = %s micro-as'%resids_median)\n",
    "print('-'*10)"
   ]
  },
  {
   "cell_type": "code",
   "execution_count": 18,
   "metadata": {},
   "outputs": [],
   "source": [
    "## write a txt file output with best orbit\n",
    "f = open(\"%s/HD%s/%s_orbit_ls.txt\"%(path,target_hd[focus],target_hd[focus]),\"w+\")\n",
    "f.write(\"# P(d) a(mas) e i(deg) w(deg) W(deg) T(mjd) mean_resid(mu-as)\\r\\n\")\n",
    "f.write(\"%s %s %s %s %s %s %s %s\"%(P_start.value,a_start.value,e_start.value,\n",
    "                                   inc_start.value*180/np.pi,w_start.value*180/np.pi,\n",
    "                                   bigw_start.value*180/np.pi,T_start.value,\n",
    "                                  resids_median))\n",
    "f.close()"
   ]
  },
  {
   "cell_type": "markdown",
   "metadata": {},
   "source": []
  },
  {
   "cell_type": "markdown",
   "metadata": {},
   "source": [
    "## Search for Third companion"
   ]
  },
  {
   "cell_type": "code",
   "execution_count": 19,
   "metadata": {},
   "outputs": [],
   "source": [
    "P2 = np.linspace(1,500,1000)\n",
    "\n",
    "w2 = w_start\n",
    "bigw2 = bigw_start\n",
    "inc2 = inc_start\n",
    "e2 = 0.01\n",
    "a2 = resids_median/1000\n",
    "T2 = t[-1]"
   ]
  },
  {
   "cell_type": "code",
   "execution_count": 20,
   "metadata": {},
   "outputs": [
    {
     "name": "stderr",
     "output_type": "stream",
     "text": [
      "100%|██████████| 1000/1000 [08:30<00:00,  1.39it/s]\n"
     ]
    }
   ],
   "source": [
    "params_inner=[]\n",
    "params_outer=[]\n",
    "chi2 = []\n",
    "\n",
    "for period in tqdm(P2):\n",
    "    params = Parameters()\n",
    "    params.add('w',   value= w_start, min=0, max=2*np.pi)\n",
    "    params.add('bigw', value= bigw_start, min=0, max=2*np.pi)\n",
    "    params.add('inc', value= inc_start, min=0, max=2*np.pi)\n",
    "    params.add('e', value= e_start, min=0, max=0.99)\n",
    "    params.add('a', value= a_start, min=0)\n",
    "    params.add('P', value= P_start, min=0)\n",
    "    params.add('T', value= T_start, min=0)\n",
    "    params.add('w2',   value= 0, vary=False)\n",
    "    params.add('bigw2', value= bigw2, min=0, max=2*np.pi)\n",
    "    params.add('inc2', value= inc2, min=0, max=2*np.pi)\n",
    "    params.add('e2', value= 0, vary=False)\n",
    "    params.add('a2', value= a2, min=0)\n",
    "    params.add('P2', value= period, vary=False)\n",
    "    params.add('T2', value= T2, min=0)\n",
    "\n",
    "    #params.add('pscale', value=1)\n",
    "\n",
    "    #do fit, minimizer uses LM for least square fitting of model to data\n",
    "    minner = Minimizer(triple_model, params, fcn_args=(xpos_all,ypos_all,t_all,\n",
    "                                                       error_maj_all,error_min_all,\n",
    "                                                       error_pa_all),\n",
    "                      nan_policy='omit')\n",
    "    kws  = {'options': {'maxiter':10}}\n",
    "    result = minner.leastsq(xtol=1e-5,ftol=1e-5)\n",
    "\n",
    "    params_inner.append([period,result.params['a2'],result.params['e2'],result.params['w2']\n",
    "                        ,result.params['bigw2'],result.params['inc2'],result.params['T2']])\n",
    "    params_outer.append([result.params['P'],result.params['a'],result.params['e'],result.params['w']\n",
    "                        ,result.params['bigw'],result.params['inc'],result.params['T']])\n",
    "    chi2.append(result.redchi)"
   ]
  },
  {
   "cell_type": "code",
   "execution_count": 21,
   "metadata": {},
   "outputs": [],
   "source": [
    "## plot results\n",
    "params_inner=np.array(params_inner)\n",
    "params_outer=np.array(params_outer)\n",
    "chi2 = np.array(chi2)"
   ]
  },
  {
   "cell_type": "code",
   "execution_count": 22,
   "metadata": {},
   "outputs": [
    {
     "data": {
      "image/png": "[encoded data removed]",
      "text/plain": [
       "<Figure size 432x288 with 1 Axes>"
      ]
     },
     "metadata": {
      "needs_background": "light"
     },
     "output_type": "display_data"
    }
   ],
   "source": [
    "plt.plot(params_inner[:,0],1/chi2,'o')\n",
    "plt.xlabel('Period (d)')\n",
    "plt.ylabel('1/chi2')\n",
    "plt.savefig('%s/HD%s/HD%s_chi2_period.pdf'%(path,target_hd[focus],target_hd[focus]))\n",
    "#plt.ylim(0,5)\n",
    "plt.show()"
   ]
  },
  {
   "cell_type": "code",
   "execution_count": 23,
   "metadata": {},
   "outputs": [
    {
     "name": "stdout",
     "output_type": "stream",
     "text": [
      "[123.87687688]\n"
     ]
    }
   ],
   "source": [
    "## best period\n",
    "idx = np.where(chi2==min(chi2))\n",
    "period_best = params_inner[:,0][idx]\n",
    "print(period_best)"
   ]
  },
  {
   "cell_type": "code",
   "execution_count": 24,
   "metadata": {},
   "outputs": [
    {
     "name": "stdout",
     "output_type": "stream",
     "text": [
      "[[Fit Statistics]]\n",
      "    # fitting method   = leastsq\n",
      "    # function evals   = 166\n",
      "    # data points      = 82\n",
      "    # variables        = 12\n",
      "    chi-square         = 10.9511925\n",
      "    reduced chi-square = 0.15644561\n",
      "    Akaike info crit   = -141.088213\n",
      "    Bayesian info crit = -112.207582\n",
      "[[Variables]]\n",
      "    w:      5.46240053 +/- 0.02208834 (0.40%) (init = 5.456625)\n",
      "    bigw:   2.27150048 +/- 0.01687616 (0.74%) (init = 2.267612)\n",
      "    inc:    2.19546328 +/- 0.00404507 (0.18%) (init = 2.193628)\n",
      "    e:      0.62390097 +/- 0.00917061 (1.47%) (init = 0.6259562)\n",
      "    a:      148.228141 +/- 0.44407201 (0.30%) (init = 148.3486)\n",
      "    P:      19450.7626 +/- 101.808415 (0.52%) (init = 19425.56)\n",
      "    T:      42277.1640 +/- 52.8674364 (0.13%) (init = 42285.66)\n",
      "    w2:     0 (fixed)\n",
      "    bigw2:  1.52766265 +/- 0.17255229 (11.30%) (init = 2.267612)\n",
      "    inc2:   1.71884441 +/- 0.14782989 (8.60%) (init = 2.193628)\n",
      "    e2:     0 (fixed)\n",
      "    a2:     0.11599620 +/- 0.01622787 (13.99%) (init = 0.06681)\n",
      "    P2:     124.728663 +/- 1.24847119 (1.00%) (init = 123.8769)\n",
      "    T2:     58418.2528 +/- 3.16796932 (0.01%) (init = 58443.39)\n",
      "[[Correlations]] (unreported correlations are < 0.100)\n",
      "    C(bigw, e)     = -0.972\n",
      "    C(w, bigw)     =  0.972\n",
      "    C(e, P)        = -0.960\n",
      "    C(bigw, P)     =  0.919\n",
      "    C(P, T)        = -0.908\n",
      "    C(w, e)        = -0.893\n",
      "    C(w, P)        =  0.821\n",
      "    C(e, T)        =  0.781\n",
      "    C(w, a)        = -0.767\n",
      "    C(P2, T2)      = -0.681\n",
      "    C(bigw, T)     = -0.675\n",
      "    C(inc, a)      = -0.649\n",
      "    C(bigw, a)     = -0.601\n",
      "    C(inc, T)      =  0.561\n",
      "    C(bigw2, inc2) = -0.553\n",
      "    C(w, T)        = -0.515\n",
      "    C(bigw2, a2)   =  0.452\n",
      "    C(e, a)        =  0.420\n",
      "    C(inc, P)      = -0.340\n",
      "    C(inc, e)      =  0.303\n",
      "    C(a, P)        = -0.300\n",
      "    C(inc2, a2)    = -0.297\n",
      "    C(bigw2, T2)   = -0.247\n",
      "    C(a2, T2)      =  0.236\n",
      "    C(bigw2, P2)   =  0.157\n",
      "    C(w, inc)      =  0.114\n",
      "    C(w, T2)       = -0.104\n",
      "    C(bigw, T2)    = -0.103\n",
      "    C(bigw, inc)   = -0.100\n"
     ]
    }
   ],
   "source": [
    "## Do a fit at best period\n",
    "params = Parameters()\n",
    "params.add('w',   value= w_start, min=0, max=2*np.pi)\n",
    "params.add('bigw', value= bigw_start, min=0, max=2*np.pi)\n",
    "params.add('inc', value= inc_start, min=0, max=2*np.pi)\n",
    "params.add('e', value= e_start, min=0, max=0.99)\n",
    "params.add('a', value= a_start, min=0)\n",
    "params.add('P', value= P_start, min=0)\n",
    "params.add('T', value= T_start, min=0)\n",
    "params.add('w2',   value= 0, vary=False)#w2, min=0, max=2*np.pi)\n",
    "params.add('bigw2', value= bigw2, min=0, max=2*np.pi)\n",
    "params.add('inc2', value= inc2, min=0, max=2*np.pi)\n",
    "params.add('e2', value= 0, vary=False)#0.1, min=0,max=0.99)\n",
    "params.add('a2', value= a2, min=0)\n",
    "params.add('P2', value= period_best, min=0)\n",
    "params.add('T2', value= T2, min=0)\n",
    "\n",
    "#params.add('pscale', value=1)\n",
    "\n",
    "#do fit, minimizer uses LM for least square fitting of model to data\n",
    "minner = Minimizer(triple_model, params, fcn_args=(xpos_all,ypos_all,t_all,\n",
    "                                                   error_maj_all,error_min_all,\n",
    "                                                   error_pa_all),\n",
    "                  nan_policy='omit')\n",
    "kws  = {'options': {'maxiter':10}}\n",
    "result = minner.minimize()\n",
    "\n",
    "best_inner = [result.params['P2'],result.params['a2'],result.params['e2'],result.params['w2']\n",
    "                    ,result.params['bigw2'],result.params['inc2'],result.params['T2']]\n",
    "best_outer = [result.params['P'],result.params['a'],result.params['e'],result.params['w']\n",
    "                    ,result.params['bigw'],result.params['inc'],result.params['T']]\n",
    "report_fit(result)"
   ]
  },
  {
   "cell_type": "markdown",
   "metadata": {},
   "source": [
    "## Take a look at best fit"
   ]
  },
  {
   "cell_type": "code",
   "execution_count": 25,
   "metadata": {},
   "outputs": [
    {
     "data": {
      "image/png": "[encoded data removed]",
      "text/plain": [
       "<Figure size 432x288 with 1 Axes>"
      ]
     },
     "metadata": {
      "needs_background": "light"
     },
     "output_type": "display_data"
    },
    {
     "name": "stdout",
     "output_type": "stream",
     "text": [
      "(1000,)\n",
      "(1000,)\n"
     ]
    },
    {
     "data": {
      "image/png": "[encoded data removed]",
      "text/plain": [
       "<Figure size 432x288 with 1 Axes>"
      ]
     },
     "metadata": {
      "needs_background": "light"
     },
     "output_type": "display_data"
    },
    {
     "data": {
      "image/png": "[encoded data removed]",
      "text/plain": [
       "<Figure size 432x288 with 1 Axes>"
      ]
     },
     "metadata": {
      "needs_background": "light"
     },
     "output_type": "display_data"
    },
    {
     "name": "stdout",
     "output_type": "stream",
     "text": [
      "----------\n",
      "Mean residual = 53.11 micro-as\n",
      "----------\n"
     ]
    }
   ],
   "source": [
    "scale=1\n",
    "if chi2_armada<1.0:\n",
    "    scale=1/np.sqrt(chi2_armada)\n",
    "\n",
    "a_start = result.params['a']\n",
    "P_start = result.params['P']\n",
    "e_start = result.params['e']\n",
    "inc_start = result.params['inc']\n",
    "w_start = result.params['w']\n",
    "bigw_start = result.params['bigw']\n",
    "T_start = result.params['T']\n",
    "a2_start = result.params['a2']\n",
    "P2_start = result.params['P2']\n",
    "e2_start = result.params['e2']\n",
    "inc2_start = result.params['inc2']\n",
    "w2_start = result.params['w2']\n",
    "bigw2_start = result.params['bigw2']\n",
    "T2_start = result.params['T2']\n",
    "#pscale_start = result.params['pscale']\n",
    "\n",
    "ra,dec,rapoints,decpoints = triple_orbit_model(a_start,e_start,inc_start,\n",
    "                                        w_start,bigw_start,P_start,\n",
    "                                        T_start,a2_start,e2_start,inc2_start,\n",
    "                                        w2_start,bigw2_start,P2_start,\n",
    "                                        T2_start,t_all)\n",
    "ra_armada,dec_armada,rapoints_armada,decpoints_armada = triple_orbit_model(a_start,e_start,\n",
    "                                                                           inc_start,w_start,\n",
    "                                                                           bigw_start,P_start,\n",
    "                                                                           T_start,a2_start,\n",
    "                                                                           e2_start,inc2_start,\n",
    "                                                                           w2_start,bigw2_start,\n",
    "                                                                           P2_start,T2_start,t)\n",
    "\n",
    "fig,ax=plt.subplots()\n",
    "\n",
    "ax.plot(xpos_wds, ypos_wds, 'o', label='WDS')\n",
    "ax.plot(xpos,ypos,'o', label='ARMADA')\n",
    "ax.plot(0,0,'*')\n",
    "ax.plot(ra, dec, '--',color='g')\n",
    "\n",
    "#plot lines from data to best fit orbit\n",
    "i=0\n",
    "while i<len(decpoints):\n",
    "    x=[xpos_all[i],rapoints[i]]\n",
    "    y=[ypos_all[i],decpoints[i]]\n",
    "    ax.plot(x,y,color=\"black\")\n",
    "    i+=1\n",
    "\n",
    "ax.set_xlabel('milli-arcsec')\n",
    "ax.set_ylabel('milli-arcsec')\n",
    "ax.invert_xaxis()\n",
    "ax.axis('equal')\n",
    "ax.set_title('HD%s Outer Orbit'%target_hd[focus])\n",
    "plt.legend()\n",
    "plt.savefig('%s/HD%s/HD%s_outer_leastsquares_triple.pdf'%(path,target_hd[focus],target_hd[focus]))\n",
    "plt.show()\n",
    "\n",
    "####################################\n",
    "fig,ax=plt.subplots()\n",
    "\n",
    "print(ra_armada.shape)\n",
    "print(ra.shape)\n",
    "\n",
    "ax.plot(xpos,ypos,'o')\n",
    "ax.plot(ra_armada, dec_armada, '--',color='g')\n",
    "\n",
    "#plot lines from data to best fit orbit\n",
    "i=0\n",
    "while i<len(decpoints_armada):\n",
    "    x=[xpos[i],rapoints_armada[i]]\n",
    "    y=[ypos[i],decpoints_armada[i]]\n",
    "    ax.plot(x,y,color=\"black\")\n",
    "    i+=1\n",
    "\n",
    "ax.set_xlabel('milli-arcsec')\n",
    "ax.set_ylabel('milli-arcsec')\n",
    "ax.invert_xaxis()\n",
    "ax.axis('equal')\n",
    "ax.set_title('HD%s ARMADA Orbit'%target_hd[focus])\n",
    "plt.savefig('%s/HD%s/HD%s_armada_leastsquares_triple.pdf'%(path,target_hd[focus],target_hd[focus]))\n",
    "plt.show()\n",
    "\n",
    "## plot resids for ARMADA\n",
    "fig,ax=plt.subplots()\n",
    "xresid = xpos - rapoints_armada\n",
    "yresid = ypos - decpoints_armada\n",
    "\n",
    "#need to measure error ellipse angle east of north\n",
    "for ras, decs, w, h, angle in zip(xresid,yresid,error_maj/scale,error_min/scale,error_deg):\n",
    "    ellipse = Ellipse(xy=(ras, decs), width=2*w, height=2*h, \n",
    "                      angle=90-angle, facecolor='none', edgecolor='black')\n",
    "    ax.add_patch(ellipse)\n",
    "\n",
    "ax.plot(xresid, yresid, 'o')\n",
    "ax.plot(0,0,'*')\n",
    "ax.set_xlabel('milli-arcsec')\n",
    "ax.set_ylabel('milli-arcsec')\n",
    "ax.invert_xaxis()\n",
    "ax.axis('equal')\n",
    "ax.set_title('HD%s Resids'%target_hd[focus])\n",
    "plt.savefig('%s/HD%s/HD%s_resid_leastsquares_triple.pdf'%(path,target_hd[focus],target_hd[focus]))\n",
    "plt.show()\n",
    "\n",
    "## residuals\n",
    "resids = np.sqrt(xresid**2 + yresid**2)\n",
    "resids_median = np.around(np.median(resids)*1000,2)\n",
    "print('-'*10)\n",
    "print('Mean residual = %s micro-as'%resids_median)\n",
    "print('-'*10)"
   ]
  },
  {
   "cell_type": "code",
   "execution_count": null,
   "metadata": {},
   "outputs": [],
   "source": []
  },
  {
   "cell_type": "markdown",
   "metadata": {},
   "source": [
    "## Grid Search on a and i"
   ]
  },
  {
   "cell_type": "code",
   "execution_count": 26,
   "metadata": {},
   "outputs": [
    {
     "name": "stderr",
     "output_type": "stream",
     "text": [
      "  4%|▍         | 2/50 [00:30<11:28, 14.34s/it]"
     ]
    },
    {
     "ename": "KeyboardInterrupt",
     "evalue": "",
     "output_type": "error",
     "traceback": [
      "\u001b[0;31m---------------------------------------------------------------------------\u001b[0m",
      "\u001b[0;31mKeyboardInterrupt\u001b[0m                         Traceback (most recent call last)",
      "\u001b[0;32m<ipython-input-26-439f0bf92d18>\u001b[0m in \u001b[0;36m<module>\u001b[0;34m()\u001b[0m\n\u001b[1;32m     33\u001b[0m                           nan_policy='omit')\n\u001b[1;32m     34\u001b[0m         \u001b[0mkws\u001b[0m  \u001b[0;34m=\u001b[0m \u001b[0;34m{\u001b[0m\u001b[0;34m'options'\u001b[0m\u001b[0;34m:\u001b[0m \u001b[0;34m{\u001b[0m\u001b[0;34m'maxiter'\u001b[0m\u001b[0;34m:\u001b[0m\u001b[0;36m10\u001b[0m\u001b[0;34m}\u001b[0m\u001b[0;34m}\u001b[0m\u001b[0;34m\u001b[0m\u001b[0m\n\u001b[0;32m---> 35\u001b[0;31m         \u001b[0mresult\u001b[0m \u001b[0;34m=\u001b[0m \u001b[0mminner\u001b[0m\u001b[0;34m.\u001b[0m\u001b[0mleastsq\u001b[0m\u001b[0;34m(\u001b[0m\u001b[0mxtol\u001b[0m\u001b[0;34m=\u001b[0m\u001b[0;36m1e-5\u001b[0m\u001b[0;34m,\u001b[0m\u001b[0mftol\u001b[0m\u001b[0;34m=\u001b[0m\u001b[0;36m1e-5\u001b[0m\u001b[0;34m)\u001b[0m\u001b[0;34m\u001b[0m\u001b[0m\n\u001b[0m\u001b[1;32m     36\u001b[0m \u001b[0;34m\u001b[0m\u001b[0m\n\u001b[1;32m     37\u001b[0m         params_inner.append([result.params['P2'],semi,result.params['e2'],result.params['w2']\n",
      "\u001b[0;32m/usr/local/anaconda/envs/python3/lib/python3.6/site-packages/lmfit/minimizer.py\u001b[0m in \u001b[0;36mleastsq\u001b[0;34m(self, params, **kws)\u001b[0m\n\u001b[1;32m   1462\u001b[0m \u001b[0;34m\u001b[0m\u001b[0m\n\u001b[1;32m   1463\u001b[0m         \u001b[0;32mtry\u001b[0m\u001b[0;34m:\u001b[0m\u001b[0;34m\u001b[0m\u001b[0m\n\u001b[0;32m-> 1464\u001b[0;31m             \u001b[0mlsout\u001b[0m \u001b[0;34m=\u001b[0m \u001b[0mscipy_leastsq\u001b[0m\u001b[0;34m(\u001b[0m\u001b[0mself\u001b[0m\u001b[0;34m.\u001b[0m\u001b[0m__residual\u001b[0m\u001b[0;34m,\u001b[0m \u001b[0mvariables\u001b[0m\u001b[0;34m,\u001b[0m \u001b[0;34m**\u001b[0m\u001b[0mlskws\u001b[0m\u001b[0;34m)\u001b[0m\u001b[0;34m\u001b[0m\u001b[0m\n\u001b[0m\u001b[1;32m   1465\u001b[0m             \u001b[0m_best\u001b[0m\u001b[0;34m,\u001b[0m \u001b[0m_cov\u001b[0m\u001b[0;34m,\u001b[0m \u001b[0minfodict\u001b[0m\u001b[0;34m,\u001b[0m \u001b[0merrmsg\u001b[0m\u001b[0;34m,\u001b[0m \u001b[0mier\u001b[0m \u001b[0;34m=\u001b[0m \u001b[0mlsout\u001b[0m\u001b[0;34m\u001b[0m\u001b[0m\n\u001b[1;32m   1466\u001b[0m             \u001b[0mresult\u001b[0m\u001b[0;34m.\u001b[0m\u001b[0mresidual\u001b[0m \u001b[0;34m=\u001b[0m \u001b[0minfodict\u001b[0m\u001b[0;34m[\u001b[0m\u001b[0;34m'fvec'\u001b[0m\u001b[0;34m]\u001b[0m\u001b[0;34m\u001b[0m\u001b[0m\n",
      "\u001b[0;32m/usr/local/anaconda/envs/python3/lib/python3.6/site-packages/scipy/optimize/minpack.py\u001b[0m in \u001b[0;36mleastsq\u001b[0;34m(func, x0, args, Dfun, full_output, col_deriv, ftol, xtol, gtol, maxfev, epsfcn, factor, diag)\u001b[0m\n\u001b[1;32m    392\u001b[0m         \u001b[0;32mwith\u001b[0m \u001b[0m_MINPACK_LOCK\u001b[0m\u001b[0;34m:\u001b[0m\u001b[0;34m\u001b[0m\u001b[0m\n\u001b[1;32m    393\u001b[0m             retval = _minpack._lmdif(func, x0, args, full_output, ftol, xtol,\n\u001b[0;32m--> 394\u001b[0;31m                                      gtol, maxfev, epsfcn, factor, diag)\n\u001b[0m\u001b[1;32m    395\u001b[0m     \u001b[0;32melse\u001b[0m\u001b[0;34m:\u001b[0m\u001b[0;34m\u001b[0m\u001b[0m\n\u001b[1;32m    396\u001b[0m         \u001b[0;32mif\u001b[0m \u001b[0mcol_deriv\u001b[0m\u001b[0;34m:\u001b[0m\u001b[0;34m\u001b[0m\u001b[0m\n",
      "\u001b[0;32m/usr/local/anaconda/envs/python3/lib/python3.6/site-packages/lmfit/minimizer.py\u001b[0m in \u001b[0;36m__residual\u001b[0;34m(self, fvars, apply_bounds_transformation)\u001b[0m\n\u001b[1;32m    516\u001b[0m         \u001b[0mself\u001b[0m\u001b[0;34m.\u001b[0m\u001b[0mresult\u001b[0m\u001b[0;34m.\u001b[0m\u001b[0mnfev\u001b[0m \u001b[0;34m+=\u001b[0m \u001b[0;36m1\u001b[0m\u001b[0;34m\u001b[0m\u001b[0m\n\u001b[1;32m    517\u001b[0m \u001b[0;34m\u001b[0m\u001b[0m\n\u001b[0;32m--> 518\u001b[0;31m         \u001b[0mout\u001b[0m \u001b[0;34m=\u001b[0m \u001b[0mself\u001b[0m\u001b[0;34m.\u001b[0m\u001b[0muserfcn\u001b[0m\u001b[0;34m(\u001b[0m\u001b[0mparams\u001b[0m\u001b[0;34m,\u001b[0m \u001b[0;34m*\u001b[0m\u001b[0mself\u001b[0m\u001b[0;34m.\u001b[0m\u001b[0muserargs\u001b[0m\u001b[0;34m,\u001b[0m \u001b[0;34m**\u001b[0m\u001b[0mself\u001b[0m\u001b[0;34m.\u001b[0m\u001b[0muserkws\u001b[0m\u001b[0;34m)\u001b[0m\u001b[0;34m\u001b[0m\u001b[0m\n\u001b[0m\u001b[1;32m    519\u001b[0m \u001b[0;34m\u001b[0m\u001b[0m\n\u001b[1;32m    520\u001b[0m         \u001b[0;32mif\u001b[0m \u001b[0mcallable\u001b[0m\u001b[0;34m(\u001b[0m\u001b[0mself\u001b[0m\u001b[0;34m.\u001b[0m\u001b[0miter_cb\u001b[0m\u001b[0;34m)\u001b[0m\u001b[0;34m:\u001b[0m\u001b[0;34m\u001b[0m\u001b[0m\n",
      "\u001b[0;32m~/armada_binaries/astrometry_model.py\u001b[0m in \u001b[0;36mtriple_model\u001b[0;34m(params, data_x, data_y, t, error_maj, error_min, error_pa)\u001b[0m\n\u001b[1;32m    150\u001b[0m     \u001b[0mE\u001b[0m\u001b[0;34m=\u001b[0m\u001b[0;34m[\u001b[0m\u001b[0;34m]\u001b[0m\u001b[0;34m\u001b[0m\u001b[0m\n\u001b[1;32m    151\u001b[0m     \u001b[0;32mfor\u001b[0m \u001b[0mj\u001b[0m \u001b[0;32min\u001b[0m \u001b[0mM\u001b[0m\u001b[0;34m:\u001b[0m\u001b[0;34m\u001b[0m\u001b[0m\n\u001b[0;32m--> 152\u001b[0;31m         \u001b[0me_anom\u001b[0m\u001b[0;34m=\u001b[0m\u001b[0mks\u001b[0m\u001b[0;34m.\u001b[0m\u001b[0mgetE\u001b[0m\u001b[0;34m(\u001b[0m\u001b[0mj\u001b[0m\u001b[0;34m,\u001b[0m\u001b[0me2\u001b[0m\u001b[0;34m)\u001b[0m\u001b[0;34m\u001b[0m\u001b[0m\n\u001b[0m\u001b[1;32m    153\u001b[0m         \u001b[0mE\u001b[0m\u001b[0;34m.\u001b[0m\u001b[0mappend\u001b[0m\u001b[0;34m(\u001b[0m\u001b[0me_anom\u001b[0m\u001b[0;34m)\u001b[0m\u001b[0;34m\u001b[0m\u001b[0m\n\u001b[1;32m    154\u001b[0m     \u001b[0mE\u001b[0m\u001b[0;34m=\u001b[0m\u001b[0mnp\u001b[0m\u001b[0;34m.\u001b[0m\u001b[0masarray\u001b[0m\u001b[0;34m(\u001b[0m\u001b[0mE\u001b[0m\u001b[0;34m)\u001b[0m\u001b[0;34m\u001b[0m\u001b[0m\n",
      "\u001b[0;32m/usr/local/anaconda/envs/python3/lib/python3.6/site-packages/PyAstronomy/pyasl/asl/keplerOrbit.py\u001b[0m in \u001b[0;36mgetE\u001b[0;34m(self, M, e)\u001b[0m\n\u001b[1;32m    145\u001b[0m         \u001b[0mself\u001b[0m\u001b[0;34m.\u001b[0m\u001b[0malpha\u001b[0m \u001b[0;34m=\u001b[0m \u001b[0mself\u001b[0m\u001b[0;34m.\u001b[0m\u001b[0m_alpha\u001b[0m\u001b[0;34m(\u001b[0m\u001b[0me\u001b[0m\u001b[0;34m,\u001b[0m \u001b[0mself\u001b[0m\u001b[0;34m.\u001b[0m\u001b[0mM\u001b[0m\u001b[0;34m)\u001b[0m\u001b[0;34m\u001b[0m\u001b[0m\n\u001b[1;32m    146\u001b[0m         \u001b[0mself\u001b[0m\u001b[0;34m.\u001b[0m\u001b[0md\u001b[0m \u001b[0;34m=\u001b[0m \u001b[0mself\u001b[0m\u001b[0;34m.\u001b[0m\u001b[0m_d\u001b[0m\u001b[0;34m(\u001b[0m\u001b[0mself\u001b[0m\u001b[0;34m.\u001b[0m\u001b[0malpha\u001b[0m\u001b[0;34m,\u001b[0m \u001b[0me\u001b[0m\u001b[0;34m)\u001b[0m\u001b[0;34m\u001b[0m\u001b[0m\n\u001b[0;32m--> 147\u001b[0;31m         \u001b[0mself\u001b[0m\u001b[0;34m.\u001b[0m\u001b[0mr\u001b[0m \u001b[0;34m=\u001b[0m \u001b[0mself\u001b[0m\u001b[0;34m.\u001b[0m\u001b[0m_r\u001b[0m\u001b[0;34m(\u001b[0m\u001b[0mself\u001b[0m\u001b[0;34m.\u001b[0m\u001b[0malpha\u001b[0m\u001b[0;34m,\u001b[0m \u001b[0mself\u001b[0m\u001b[0;34m.\u001b[0m\u001b[0md\u001b[0m\u001b[0;34m,\u001b[0m \u001b[0mself\u001b[0m\u001b[0;34m.\u001b[0m\u001b[0mM\u001b[0m\u001b[0;34m,\u001b[0m \u001b[0me\u001b[0m\u001b[0;34m)\u001b[0m\u001b[0;34m\u001b[0m\u001b[0m\n\u001b[0m\u001b[1;32m    148\u001b[0m         \u001b[0mself\u001b[0m\u001b[0;34m.\u001b[0m\u001b[0mq\u001b[0m \u001b[0;34m=\u001b[0m \u001b[0mself\u001b[0m\u001b[0;34m.\u001b[0m\u001b[0m_q\u001b[0m\u001b[0;34m(\u001b[0m\u001b[0mself\u001b[0m\u001b[0;34m.\u001b[0m\u001b[0malpha\u001b[0m\u001b[0;34m,\u001b[0m \u001b[0mself\u001b[0m\u001b[0;34m.\u001b[0m\u001b[0md\u001b[0m\u001b[0;34m,\u001b[0m \u001b[0me\u001b[0m\u001b[0;34m,\u001b[0m \u001b[0mself\u001b[0m\u001b[0;34m.\u001b[0m\u001b[0mM\u001b[0m\u001b[0;34m)\u001b[0m\u001b[0;34m\u001b[0m\u001b[0m\n\u001b[1;32m    149\u001b[0m         \u001b[0mself\u001b[0m\u001b[0;34m.\u001b[0m\u001b[0mw\u001b[0m \u001b[0;34m=\u001b[0m \u001b[0mself\u001b[0m\u001b[0;34m.\u001b[0m\u001b[0m_w\u001b[0m\u001b[0;34m(\u001b[0m\u001b[0mself\u001b[0m\u001b[0;34m.\u001b[0m\u001b[0mr\u001b[0m\u001b[0;34m,\u001b[0m \u001b[0mself\u001b[0m\u001b[0;34m.\u001b[0m\u001b[0mq\u001b[0m\u001b[0;34m)\u001b[0m\u001b[0;34m\u001b[0m\u001b[0m\n",
      "\u001b[0;32m/usr/local/anaconda/envs/python3/lib/python3.6/site-packages/PyAstronomy/pyasl/asl/keplerOrbit.py\u001b[0m in \u001b[0;36m_r\u001b[0;34m(self, alpha, d, M, e)\u001b[0m\n\u001b[1;32m     36\u001b[0m         \u001b[0mSolve\u001b[0m \u001b[0mEq\u001b[0m\u001b[0;34m.\u001b[0m \u001b[0;36m10\u001b[0m\u001b[0;34m\u001b[0m\u001b[0m\n\u001b[1;32m     37\u001b[0m         \"\"\"\n\u001b[0;32m---> 38\u001b[0;31m         \u001b[0;32mreturn\u001b[0m \u001b[0;36m3.\u001b[0m \u001b[0;34m*\u001b[0m \u001b[0malpha\u001b[0m \u001b[0;34m*\u001b[0m \u001b[0md\u001b[0m \u001b[0;34m*\u001b[0m \u001b[0;34m(\u001b[0m\u001b[0md\u001b[0m \u001b[0;34m-\u001b[0m \u001b[0;36m1.\u001b[0m \u001b[0;34m+\u001b[0m \u001b[0me\u001b[0m\u001b[0;34m)\u001b[0m \u001b[0;34m*\u001b[0m \u001b[0mM\u001b[0m \u001b[0;34m+\u001b[0m \u001b[0mM\u001b[0m\u001b[0;34m**\u001b[0m\u001b[0;36m3\u001b[0m\u001b[0;34m\u001b[0m\u001b[0m\n\u001b[0m\u001b[1;32m     39\u001b[0m \u001b[0;34m\u001b[0m\u001b[0m\n\u001b[1;32m     40\u001b[0m     \u001b[0;32mdef\u001b[0m \u001b[0m_q\u001b[0m\u001b[0;34m(\u001b[0m\u001b[0mself\u001b[0m\u001b[0;34m,\u001b[0m \u001b[0malpha\u001b[0m\u001b[0;34m,\u001b[0m \u001b[0md\u001b[0m\u001b[0;34m,\u001b[0m \u001b[0me\u001b[0m\u001b[0;34m,\u001b[0m \u001b[0mM\u001b[0m\u001b[0;34m)\u001b[0m\u001b[0;34m:\u001b[0m\u001b[0;34m\u001b[0m\u001b[0m\n",
      "\u001b[0;32m/usr/local/anaconda/envs/python3/lib/python3.6/site-packages/lmfit/parameter.py\u001b[0m in \u001b[0;36m__array__\u001b[0;34m(self)\u001b[0m\n\u001b[1;32m    825\u001b[0m             \u001b[0mself\u001b[0m\u001b[0;34m.\u001b[0m\u001b[0m_expr_deps\u001b[0m \u001b[0;34m=\u001b[0m \u001b[0mget_ast_names\u001b[0m\u001b[0;34m(\u001b[0m\u001b[0mself\u001b[0m\u001b[0;34m.\u001b[0m\u001b[0m_expr_ast\u001b[0m\u001b[0;34m)\u001b[0m\u001b[0;34m\u001b[0m\u001b[0m\n\u001b[1;32m    826\u001b[0m \u001b[0;34m\u001b[0m\u001b[0m\n\u001b[0;32m--> 827\u001b[0;31m     \u001b[0;32mdef\u001b[0m \u001b[0m__array__\u001b[0m\u001b[0;34m(\u001b[0m\u001b[0mself\u001b[0m\u001b[0;34m)\u001b[0m\u001b[0;34m:\u001b[0m\u001b[0;34m\u001b[0m\u001b[0m\n\u001b[0m\u001b[1;32m    828\u001b[0m         \u001b[0;34m\"\"\"array\"\"\"\u001b[0m\u001b[0;34m\u001b[0m\u001b[0m\n\u001b[1;32m    829\u001b[0m         \u001b[0;32mreturn\u001b[0m \u001b[0marray\u001b[0m\u001b[0;34m(\u001b[0m\u001b[0mfloat\u001b[0m\u001b[0;34m(\u001b[0m\u001b[0mself\u001b[0m\u001b[0;34m.\u001b[0m\u001b[0m_getval\u001b[0m\u001b[0;34m(\u001b[0m\u001b[0;34m)\u001b[0m\u001b[0;34m)\u001b[0m\u001b[0;34m)\u001b[0m\u001b[0;34m\u001b[0m\u001b[0m\n",
      "\u001b[0;31mKeyboardInterrupt\u001b[0m: "
     ]
    }
   ],
   "source": [
    "## grid of a and inc\n",
    "a_grid = np.linspace(0.1,3,50)\n",
    "i_grid = np.linspace(0,180,50)\n",
    "\n",
    "params_inner=[]\n",
    "params_outer=[]\n",
    "chi2 = []\n",
    "\n",
    "for semi in tqdm(a_grid):\n",
    "    for angle in i_grid:\n",
    "        params = Parameters()\n",
    "        params.add('w',   value= best_outer[3], vary=False)#min=0, max=2*np.pi)\n",
    "        params.add('bigw', value= best_outer[4], vary=False)#min=0, max=2*np.pi)\n",
    "        params.add('inc', value= best_outer[5], vary=False)#min=0, max=2*np.pi)\n",
    "        params.add('e', value= best_outer[2], vary=False)#min=0, max=0.99)\n",
    "        params.add('a', value= best_outer[1], vary=False)#min=0)\n",
    "        params.add('P', value= best_outer[0], vary=False)#min=0)\n",
    "        params.add('T', value= best_outer[6], vary=False)#min=0)\n",
    "        params.add('w2',   value= best_inner[3], vary=False)\n",
    "        params.add('bigw2', value= best_inner[4], min=0, max=2*np.pi)\n",
    "        params.add('inc2', value= angle*np.pi/180, vary=False)#min=0, max=2*np.pi)\n",
    "        params.add('e2', value= 0, vary=False)\n",
    "        params.add('a2', value= semi, vary=False)#a2, min=0)\n",
    "        params.add('P2', value= best_inner[0], min=0)\n",
    "        params.add('T2', value= best_inner[3], min=0)\n",
    "\n",
    "        #params.add('pscale', value=1)\n",
    "\n",
    "        #do fit, minimizer uses LM for least square fitting of model to data\n",
    "        minner = Minimizer(triple_model, params, fcn_args=(xpos_all,ypos_all,t_all,\n",
    "                                                           error_maj_all,error_min_all,\n",
    "                                                           error_pa_all),\n",
    "                          nan_policy='omit')\n",
    "        kws  = {'options': {'maxiter':10}}\n",
    "        result = minner.leastsq(xtol=1e-5,ftol=1e-5)\n",
    "\n",
    "        params_inner.append([result.params['P2'],semi,result.params['e2'],result.params['w2']\n",
    "                            ,result.params['bigw2'],angle,result.params['T2']])\n",
    "        params_outer.append([result.params['P'],result.params['a'],result.params['e'],result.params['w']\n",
    "                            ,result.params['bigw'],result.params['inc'],result.params['T']])\n",
    "        chi2.append(result.redchi)"
   ]
  },
  {
   "cell_type": "code",
   "execution_count": 27,
   "metadata": {},
   "outputs": [
    {
     "name": "stdout",
     "output_type": "stream",
     "text": [
      "(114, 7)\n",
      "(114,)\n"
     ]
    }
   ],
   "source": [
    "params_inner = np.array(params_inner)\n",
    "params_outer = np.array(params_outer)\n",
    "chi2 = np.array(chi2)\n",
    "\n",
    "print(params_inner.shape)\n",
    "print(chi2.shape)"
   ]
  },
  {
   "cell_type": "code",
   "execution_count": 28,
   "metadata": {},
   "outputs": [
    {
     "data": {
      "image/png": "[encoded data removed]",
      "text/plain": [
       "<Figure size 432x288 with 2 Axes>"
      ]
     },
     "metadata": {
      "needs_background": "light"
     },
     "output_type": "display_data"
    }
   ],
   "source": [
    "a_inner = params_inner[:,1]\n",
    "i_inner = params_inner[:,5]\n",
    "\n",
    "plt.scatter(a_inner,i_inner,c=chi2,cmap=cm.inferno_r,vmax=min(chi2)*10)\n",
    "plt.colorbar(label='reduced $\\chi^2$')\n",
    "plt.xlabel('semi-major (mas)')\n",
    "plt.ylabel('inclination (deg)')\n",
    "plt.savefig('%s/HD%s/HD%s_semi_inc_grid.pdf'%(path,target_hd[focus],target_hd[focus]))\n",
    "plt.show()"
   ]
  },
  {
   "cell_type": "code",
   "execution_count": null,
   "metadata": {},
   "outputs": [],
   "source": []
  }
 ],
 "metadata": {
  "kernelspec": {
   "display_name": "Python 3",
   "language": "python",
   "name": "python3"
  },
  "language_info": {
   "codemirror_mode": {
    "name": "ipython",
    "version": 3
   },
   "file_extension": ".py",
   "mimetype": "text/x-python",
   "name": "python",
   "nbconvert_exporter": "python",
   "pygments_lexer": "ipython3",
   "version": "3.6.6"
  }
 },
 "nbformat": 4,
 "nbformat_minor": 2
}
