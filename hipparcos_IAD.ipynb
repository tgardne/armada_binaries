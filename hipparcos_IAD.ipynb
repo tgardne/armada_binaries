{
 "cells": [
  {
   "cell_type": "code",
   "execution_count": 1,
   "id": "34adb462-310b-44bb-921b-0189934fc86d",
   "metadata": {},
   "outputs": [],
   "source": [
    "import numpy as np\n",
    "from lmfit import minimize, Minimizer, Parameters, Parameter, report_fit\n",
    "import matplotlib.pyplot as plt\n",
    "import pandas as pd\n",
    "from astropy.io import ascii\n",
    "import emcee\n",
    "from scipy.stats import norm\n",
    "import h5py\n",
    "from astropy.time import Time\n",
    "from astropy.coordinates import get_body_barycentric_posvel\n",
    "from astroquery.vizier import Vizier\n",
    "from PyAstronomy import pyasl\n",
    "ks=pyasl.MarkleyKESolver()\n",
    "\n",
    "%matplotlib inline"
   ]
  },
  {
   "cell_type": "code",
   "execution_count": 2,
   "id": "4e8f08eb-b83a-4fad-8075-733b85a64fc2",
   "metadata": {},
   "outputs": [],
   "source": [
    "alphadec0_epoch=1991.25\n",
    "path_to_iad_file = '/Users/tgardner/hip_correction/new_reduction/ResRec_JavaTool_2014/H005/H005131.d'"
   ]
  },
  {
   "cell_type": "code",
   "execution_count": 3,
   "id": "e2071853-7ef4-4d69-9faf-819aa9c41c78",
   "metadata": {},
   "outputs": [],
   "source": [
    "# read the Hipparcos best-fit solution from the IAD file\n",
    "astrometric_solution = pd.read_csv(path_to_iad_file, skiprows=9, sep='\\s+', nrows=1)\n",
    "\n",
    "plx0 = astrometric_solution['Plx'].values[0] # [mas]\n",
    "pm_ra0 = astrometric_solution['pm_RA'].values[0] # [mas/yr]\n",
    "pm_dec0 = astrometric_solution['pm_DE'].values[0] # [mas/yr]\n",
    "alpha0 = astrometric_solution['RAdeg'].values[0] # [deg]\n",
    "delta0 = astrometric_solution['DEdeg'].values[0] # [deg]\n",
    "plx0_err =  astrometric_solution['e_Plx'].values[0] # [mas]\n",
    "pm_ra0_err = astrometric_solution['e_pmRA'].values[0] # [mas/yr]\n",
    "pm_dec0_err = astrometric_solution['e_pmDE'].values[0] # [mas/yr]\n",
    "alpha0_err = astrometric_solution['e_RA'].values[0] # [mas]\n",
    "delta0_err = astrometric_solution['e_DE'].values[0] # [mas]\n",
    "\n",
    "solution_details = pd.read_csv(path_to_iad_file, skiprows=5, sep='\\s+', nrows=1)\n",
    "\n",
    "solution_type = solution_details['isol_n'].values[0]\n",
    "f2 = solution_details['F2'].values[0]"
   ]
  },
  {
   "cell_type": "code",
   "execution_count": 4,
   "id": "5649f54b-f839-4d13-a6ec-7e94bcd3e796",
   "metadata": {},
   "outputs": [],
   "source": [
    "iad = np.transpose(np.loadtxt(path_to_iad_file))"
   ]
  },
  {
   "cell_type": "code",
   "execution_count": 5,
   "id": "e7245ffe-6283-4b8a-8eb1-f760ccd6ff22",
   "metadata": {},
   "outputs": [],
   "source": [
    "n_lines = len(iad)\n",
    "\n",
    "times = iad[1] + 1991.25\n",
    "cos_phi = iad[3] # scan direction\n",
    "sin_phi = iad[4]\n",
    "R = iad[5] # abscissa residual [mas]\n",
    "eps = iad[6] # error on abscissa residual [mas]\n",
    "\n",
    "# reject negative errors (scans that were rejected by Hipparcos team)\n",
    "good_scans = np.where(eps > 0)[0]\n",
    "\n",
    "if n_lines - len(good_scans) > 0:\n",
    "    print('{} Hipparcos scans rejected.'.format(n_lines - len(good_scans)))\n",
    "times = times[good_scans]\n",
    "cos_phi = cos_phi[good_scans]\n",
    "sin_phi = sin_phi[good_scans]\n",
    "R = R[good_scans]\n",
    "eps = eps[good_scans]\n",
    "\n",
    "epochs_og = Time(times, format='decimalyear')\n",
    "epochs = epochs_og.decimalyear\n",
    "epochs_mjd = epochs_og.mjd"
   ]
  },
  {
   "cell_type": "code",
   "execution_count": 6,
   "id": "125d194b-38a7-4762-911c-8305492cbccb",
   "metadata": {},
   "outputs": [],
   "source": [
    "# compute Earth XYZ position in barycentric coordinates\n",
    "bary_pos, _ = get_body_barycentric_posvel('earth', epochs_og)\n",
    "X = bary_pos.x.value # [au]\n",
    "Y = bary_pos.y.value # [au]\n",
    "Z = bary_pos.z.value # [au]\n",
    "\n",
    "# reconstruct ephemeris of star given van Leeuwen best-fit (Nielsen+ 2020 Eqs 1-2) [mas]\n",
    "changein_alpha_st = (\n",
    "    plx0 * (\n",
    "        X * np.sin(np.radians(alpha0)) - \n",
    "        Y * np.cos(np.radians(alpha0))\n",
    "    ) + (epochs - 1991.25) * pm_ra0\n",
    ")\n",
    "\n",
    "changein_delta = (\n",
    "    plx0 * (\n",
    "        X * np.cos(np.radians(alpha0)) * np.sin(np.radians(delta0)) + \n",
    "        Y * np.sin(np.radians(alpha0)) * np.sin(np.radians(delta0)) - \n",
    "        Z * np.cos(np.radians(delta0))\n",
    "    ) + (epochs - 1991.25) * pm_dec0\n",
    ")\n",
    "\n",
    "# compute abcissa point (Nielsen+ Eq 3)\n",
    "alpha_abs_st = R * cos_phi + changein_alpha_st\n",
    "delta_abs = R * sin_phi + changein_delta"
   ]
  },
  {
   "cell_type": "code",
   "execution_count": 7,
   "id": "782cd233-c760-47b5-8c6d-64faac3991ed",
   "metadata": {},
   "outputs": [
    {
     "name": "stdout",
     "output_type": "stream",
     "text": [
      "(99,) (99,) (99,)\n"
     ]
    },
    {
     "data": {
      "image/png": "[encoded data removed]",
      "text/plain": [
       "<Figure size 432x288 with 1 Axes>"
      ]
     },
     "metadata": {
      "needs_background": "light"
     },
     "output_type": "display_data"
    }
   ],
   "source": [
    "print(epochs_mjd.shape, alpha_abs_st.shape, delta_abs.shape)\n",
    "\n",
    "plt.errorbar(alpha_abs_st,delta_abs,xerr=eps,yerr=eps,fmt='.')\n",
    "plt.xlabel('RA (mas)')\n",
    "plt.ylabel('DEC (mas)')\n",
    "plt.show()"
   ]
  },
  {
   "cell_type": "code",
   "execution_count": 8,
   "id": "fbd0b533-511d-4876-acb8-424f992d1fde",
   "metadata": {},
   "outputs": [],
   "source": [
    "def hip_model(params,alpha_abs_st,delta_abs,epochs,epochs_mjd,eps,X,Y,Z,alpha0,delta0,alphadec0_epoch,cos_phi,sin_phi):\n",
    "\n",
    "    # variables for each of the astrometric fitting parameters\n",
    "    plx = params['plx']\n",
    "    pm_ra = params['pm_ra']\n",
    "    pm_dec = params['pm_dec']\n",
    "    alpha_H0 = params['alphaH0']\n",
    "    delta_H0 = params['deltaH0']\n",
    "    \n",
    "    #########################################\n",
    "    ## Compute raoff_model, deoff_model\n",
    "    a_photo = params['a_photo']\n",
    "    w = params['w']\n",
    "    bigw = params['bigw']\n",
    "    inc = params['inc']\n",
    "    e = params['e']\n",
    "    P = params['P']\n",
    "    T = params['T']\n",
    "    \n",
    "    ke = pyasl.KeplerEllipse(a_photo,P,e=e,Omega=bigw-180,i=inc,w=w,tau=T)\n",
    "    pos = ke.xyzPos(epochs_mjd)\n",
    "    raoff_model = pos[::,1]\n",
    "    deoff_model = pos[::,0]\n",
    "    \n",
    "    #########################################\n",
    "\n",
    "    n_epochs = len(epochs)\n",
    "    dist = np.empty(n_epochs)\n",
    "\n",
    "    # add parallactic ellipse & proper motion to position (Nielsen+ 2020 Eq 8)\n",
    "    for i in np.arange(n_epochs):\n",
    "\n",
    "        # this is the expected offset from the photocenter in alphadec0_epoch (typically 1991.25 for Hipparcos)\n",
    "        alpha_C_st = alpha_H0 + plx * (\n",
    "            X[i] * np.sin(np.radians(alpha0)) - \n",
    "            Y[i] * np.cos(np.radians(alpha0))\n",
    "        ) + (epochs[i] - alphadec0_epoch) * pm_ra\n",
    "        delta_C = delta_H0 + plx * (\n",
    "            X[i] * np.cos(np.radians(alpha0)) * np.sin(np.radians(delta0)) + \n",
    "            Y[i] * np.sin(np.radians(alpha0)) * np.sin(np.radians(delta0)) -\n",
    "            Z[i] * np.cos(np.radians(delta0))\n",
    "        ) + (epochs[i] - alphadec0_epoch) * pm_dec\n",
    "\n",
    "        # add in pre-computed secondary perturbations\n",
    "        alpha_C_st += raoff_model[i]\n",
    "        delta_C += deoff_model[i]\n",
    "\n",
    "        # calculate distance between line and expected measurement (Nielsen+ 2020 Eq 6) [mas]\n",
    "        dist[i] = np.abs(\n",
    "            (alpha_abs_st[i] - alpha_C_st) * cos_phi[i] + \n",
    "            (delta_abs[i] - delta_C) * sin_phi[i]\n",
    "        )\n",
    "\n",
    "    return dist / eps"
   ]
  },
  {
   "cell_type": "code",
   "execution_count": 9,
   "id": "5b7a38b2-c6a4-4e10-ad55-7770129eff5a",
   "metadata": {},
   "outputs": [],
   "source": [
    "def hip_model_plot(params,epochs,epochs_mjd,eps,X,Y,Z,alpha0,delta0,alphadec0_epoch,cos_phi,sin_phi):\n",
    "\n",
    "    # variables for each of the astrometric fitting parameters\n",
    "    plx = params['plx']\n",
    "    pm_ra = params['pm_ra']\n",
    "    pm_dec = params['pm_dec']\n",
    "    alpha_H0 = params['alphaH0']\n",
    "    delta_H0 = params['deltaH0']\n",
    "    \n",
    "    #########################################\n",
    "    ## Compute raoff_model, deoff_model\n",
    "    a_photo = params['a_photo']\n",
    "    w = params['w']\n",
    "    bigw = params['bigw']\n",
    "    inc = params['inc']\n",
    "    e = params['e']\n",
    "    P = params['P']\n",
    "    T = params['T']\n",
    "    \n",
    "    ke = pyasl.KeplerEllipse(a_photo,P,e=e,Omega=bigw-180,i=inc,w=w,tau=T)\n",
    "    pos = ke.xyzPos(epochs_mjd)\n",
    "    raoff_model = pos[::,1]\n",
    "    deoff_model = pos[::,0]\n",
    "    \n",
    "    #########################################\n",
    "\n",
    "    n_epochs = len(epochs)\n",
    "    modelx = np.empty(n_epochs)\n",
    "    modely = np.empty(n_epochs)\n",
    "\n",
    "    # add parallactic ellipse & proper motion to position (Nielsen+ 2020 Eq 8)\n",
    "    for i in np.arange(n_epochs):\n",
    "\n",
    "        # this is the expected offset from the photocenter in alphadec0_epoch (typically 1991.25 for Hipparcos)\n",
    "        alpha_C_st = alpha_H0 + plx * (\n",
    "            X[i] * np.sin(np.radians(alpha0)) - \n",
    "            Y[i] * np.cos(np.radians(alpha0))\n",
    "        ) + (epochs[i] - alphadec0_epoch) * pm_ra\n",
    "        delta_C = delta_H0 + plx * (\n",
    "            X[i] * np.cos(np.radians(alpha0)) * np.sin(np.radians(delta0)) + \n",
    "            Y[i] * np.sin(np.radians(alpha0)) * np.sin(np.radians(delta0)) -\n",
    "            Z[i] * np.cos(np.radians(delta0))\n",
    "        ) + (epochs[i] - alphadec0_epoch) * pm_dec\n",
    "\n",
    "        # add in pre-computed secondary perturbations\n",
    "        alpha_C_st += raoff_model[i]\n",
    "        delta_C += deoff_model[i]\n",
    "        \n",
    "        modelx[i] = alpha_C_st\n",
    "        modely[i] = delta_C\n",
    "        \n",
    "    return(modelx,modely)"
   ]
  },
  {
   "cell_type": "code",
   "execution_count": 10,
   "id": "632754d3-f1f8-4bb8-8912-423fb638aefc",
   "metadata": {},
   "outputs": [],
   "source": [
    "def photocenter_model_plot(params,epochs_mjd):\n",
    "    \n",
    "    #########################################\n",
    "    ## Compute raoff_model, deoff_model\n",
    "    a_photo = params['a_photo']\n",
    "    w = params['w']\n",
    "    bigw = params['bigw']\n",
    "    inc = params['inc']\n",
    "    e = params['e']\n",
    "    P = params['P']\n",
    "    T = params['T']\n",
    "    \n",
    "    ke = pyasl.KeplerEllipse(a_photo,P,e=e,Omega=bigw-180,i=inc,w=w,tau=T)\n",
    "    pos = ke.xyzPos(epochs_mjd)\n",
    "    raoff_model = pos[::,1]\n",
    "    deoff_model = pos[::,0]\n",
    "    \n",
    "    return(raoff_model,deoff_model)"
   ]
  },
  {
   "cell_type": "code",
   "execution_count": 35,
   "id": "dfeb074a-5724-481f-a1cd-2838f0073970",
   "metadata": {},
   "outputs": [],
   "source": [
    "def photocenter_data_plot(params,alpha_abs_st,delta_abs,epochs,epochs_mjd,eps,X,Y,Z,alpha0,delta0,alphadec0_epoch,cos_phi,sin_phi):\n",
    "\n",
    "    # variables for each of the astrometric fitting parameters\n",
    "    plx = params['plx']\n",
    "    pm_ra = params['pm_ra']\n",
    "    pm_dec = params['pm_dec']\n",
    "    alpha_H0 = params['alphaH0']\n",
    "    delta_H0 = params['deltaH0']\n",
    "\n",
    "    n_epochs = len(epochs)\n",
    "    dist_x = np.empty(n_epochs)\n",
    "    dist_y = np.empty(n_epochs)\n",
    "\n",
    "    # add parallactic ellipse & proper motion to position (Nielsen+ 2020 Eq 8)\n",
    "    for i in np.arange(n_epochs):\n",
    "\n",
    "        # this is the expected offset from the photocenter in alphadec0_epoch (typically 1991.25 for Hipparcos)\n",
    "        alpha_C_st = alpha_H0 + plx * (\n",
    "            X[i] * np.sin(np.radians(alpha0)) - \n",
    "            Y[i] * np.cos(np.radians(alpha0))\n",
    "        ) + (epochs[i] - alphadec0_epoch) * pm_ra\n",
    "        delta_C = delta_H0 + plx * (\n",
    "            X[i] * np.cos(np.radians(alpha0)) * np.sin(np.radians(delta0)) + \n",
    "            Y[i] * np.sin(np.radians(alpha0)) * np.sin(np.radians(delta0)) -\n",
    "            Z[i] * np.cos(np.radians(delta0))\n",
    "        ) + (epochs[i] - alphadec0_epoch) * pm_dec\n",
    "\n",
    "\n",
    "        # calculate distance between line and expected measurement (Nielsen+ 2020 Eq 6) [mas]\n",
    "        dist_x[i] = (alpha_abs_st[i] - alpha_C_st) \n",
    "        dist_y[i] = (delta_abs[i] - delta_C)\n",
    "\n",
    "    return dist_x,dist_y"
   ]
  },
  {
   "cell_type": "code",
   "execution_count": 21,
   "id": "f3000a81-c2f0-4fcc-a42d-22594b479ff5",
   "metadata": {},
   "outputs": [],
   "source": [
    "params = Parameters()\n",
    "\n",
    "## binary parameters\n",
    "params.add('w',   value= 305.0307734, vary=False)\n",
    "params.add('bigw', value= 135.0579546, vary=False)\n",
    "params.add('inc', value= 77.60023562, vary=False)\n",
    "params.add('e', value= 0.519665094, vary=False)\n",
    "params.add('a_photo', value= 10, min=0)\n",
    "params.add('P', value= 14.53941024*365.25, vary=False)\n",
    "params.add('T', value= 54287.99346, vary=False)\n",
    "\n",
    "## hipparcos parameters\n",
    "params.add('plx', value = plx0, min=0)\n",
    "params.add('pm_ra', value = pm_ra0)\n",
    "params.add('pm_dec', value = pm_dec0)\n",
    "params.add('alphaH0', value = 0)\n",
    "params.add('deltaH0', value = 0)"
   ]
  },
  {
   "cell_type": "code",
   "execution_count": 22,
   "id": "419b5ea6-1e1f-407b-a7d5-52f80e2631b9",
   "metadata": {},
   "outputs": [
    {
     "name": "stdout",
     "output_type": "stream",
     "text": [
      "[[Fit Statistics]]\n",
      "    # fitting method   = leastsq\n",
      "    # function evals   = 15\n",
      "    # data points      = 99\n",
      "    # variables        = 6\n",
      "    chi-square         = 552.038888\n",
      "    reduced chi-square = 5.93590202\n",
      "    Akaike info crit   = 182.131366\n",
      "    Bayesian info crit = 197.702085\n",
      "[[Variables]]\n",
      "    w:        305.0308 (fixed)\n",
      "    bigw:     135.058 (fixed)\n",
      "    inc:      77.60024 (fixed)\n",
      "    e:        0.5196651 (fixed)\n",
      "    a_photo:  11.0347579 +/- 5.07324135 (45.98%) (init = 10)\n",
      "    P:        5310.52 (fixed)\n",
      "    T:        54287.99 (fixed)\n",
      "    plx:      12.1255023 +/- 0.67766452 (5.59%) (init = 11.86)\n",
      "    pm_ra:    47.5847583 +/- 1.58926835 (3.34%) (init = 44.49)\n",
      "    pm_dec:  -17.8379113 +/- 1.44700305 (8.11%) (init = -14.82)\n",
      "    alphaH0: -5.08304534 +/- 2.41416338 (47.49%) (init = 0)\n",
      "    deltaH0:  5.40028959 +/- 2.51779538 (46.62%) (init = 0)\n",
      "[[Correlations]] (unreported correlations are < 0.100)\n",
      "    C(a_photo, deltaH0) = 0.986\n",
      "    C(a_photo, alphaH0) = -0.969\n",
      "    C(a_photo, pm_dec)  = -0.959\n",
      "    C(pm_dec, deltaH0)  = -0.940\n",
      "    C(alphaH0, deltaH0) = -0.937\n",
      "    C(pm_dec, alphaH0)  = 0.926\n",
      "    C(a_photo, pm_ra)   = 0.896\n",
      "    C(pm_ra, deltaH0)   = 0.875\n",
      "    C(pm_ra, alphaH0)   = -0.858\n",
      "    C(pm_ra, pm_dec)    = -0.808\n",
      "    C(plx, deltaH0)     = 0.214\n",
      "    C(a_photo, plx)     = 0.181\n",
      "    C(plx, pm_dec)      = -0.179\n",
      "    C(plx, pm_ra)       = 0.133\n",
      "    C(plx, alphaH0)     = -0.115\n"
     ]
    }
   ],
   "source": [
    "minner = Minimizer(hip_model, params, fcn_args=(alpha_abs_st,delta_abs,epochs,epochs_mjd,eps,X,Y,Z,alpha0,delta0,alphadec0_epoch,cos_phi,sin_phi))\n",
    "result = minner.minimize()\n",
    "\n",
    "report_fit(result)"
   ]
  },
  {
   "cell_type": "code",
   "execution_count": null,
   "id": "5a1b5e3d-48d6-41ad-a077-101ac18959ac",
   "metadata": {},
   "outputs": [],
   "source": []
  },
  {
   "cell_type": "code",
   "execution_count": 23,
   "id": "fa97f70c-7a00-461f-b6af-4bd14b9a3a2c",
   "metadata": {},
   "outputs": [],
   "source": [
    "## make some plots\n",
    "best_params = result.params\n",
    "\n",
    "epochs_model = np.linspace(min(epochs),max(epochs),1000)\n",
    "#epoch_og_model = Time(epochs_model, format='decimalyear', scale='utc')\n",
    "epochs_mjd_model = np.linspace(min(epochs_mjd),max(epochs_mjd),1000)\n",
    "\n",
    "# compute Earth XYZ position in barycentric coordinates for model\n",
    "bary_pos_model, _ = get_body_barycentric_posvel('earth', Time(epochs_model, format='decimalyear', scale='utc'))\n",
    "X_model = bary_pos_model.x.value # [au]\n",
    "Y_model = bary_pos_model.y.value # [au]\n",
    "Z_model = bary_pos_model.z.value # [au]\n",
    "\n",
    "modelx,modely = hip_model_plot(best_params,epochs_model,epochs_mjd_model,eps,X_model,Y_model,Z_model,alpha0,delta0,alphadec0_epoch,cos_phi,sin_phi)\n",
    "datax,datay,errx,erry = alpha_abs_st,delta_abs,eps,eps"
   ]
  },
  {
   "cell_type": "code",
   "execution_count": 24,
   "id": "539cdfa8-7df3-4bf6-b7aa-bc326c79c75a",
   "metadata": {},
   "outputs": [
    {
     "data": {
      "image/png": "[encoded data removed]",
      "text/plain": [
       "<Figure size 432x288 with 1 Axes>"
      ]
     },
     "metadata": {
      "needs_background": "light"
     },
     "output_type": "display_data"
    }
   ],
   "source": [
    "plt.errorbar(datax,datay,yerr=erry,xerr=errx,fmt='.')\n",
    "plt.plot(modelx,modely,'--')\n",
    "\n",
    "plt.xlabel('RA (mas)')\n",
    "plt.ylabel('Dec (mas)')\n",
    "plt.show()"
   ]
  },
  {
   "cell_type": "code",
   "execution_count": 39,
   "id": "869d353d-4029-4ca8-86db-4a2029c0652b",
   "metadata": {},
   "outputs": [],
   "source": [
    "#########################################\n",
    "## subtract out Hipparcos motion parameters to see photocenter\n",
    "#########################################\n",
    "\n",
    "epochs_mjd_photo_model = np.linspace(min(epochs_mjd),min(epochs_mjd)+best_params['P'].value,1000)\n",
    "\n",
    "resid_x,resid_y = photocenter_data_plot(best_params,alpha_abs_st,delta_abs,epochs,epochs_mjd,eps,X,Y,Z,alpha0,delta0,alphadec0_epoch,cos_phi,sin_phi)\n",
    "model_photo_x,model_photo_y = photocenter_model_plot(best_params,epochs_mjd_photo_model)"
   ]
  },
  {
   "cell_type": "code",
   "execution_count": 42,
   "id": "c8befec8-f3e0-4033-b74e-96eb045b2de3",
   "metadata": {},
   "outputs": [
    {
     "data": {
      "text/plain": [
       "[<matplotlib.lines.Line2D at 0x7fc0a86bd490>]"
      ]
     },
     "execution_count": 42,
     "metadata": {},
     "output_type": "execute_result"
    },
    {
     "data": {
      "image/png": "[encoded data removed]",
      "text/plain": [
       "<Figure size 432x288 with 1 Axes>"
      ]
     },
     "metadata": {
      "needs_background": "light"
     },
     "output_type": "display_data"
    }
   ],
   "source": [
    "plt.errorbar(resid_x,resid_y,xerr=eps,yerr=eps,fmt='.')\n",
    "plt.plot(model_photo_x,model_photo_y,'--')\n",
    "plt.xlabel('RA (mas)')\n",
    "plt.ylabel('Dec (mas)')\n",
    "plt.plot(0,0,'*')"
   ]
  },
  {
   "cell_type": "code",
   "execution_count": null,
   "id": "57a0f577-0012-48bf-9a84-99ac183c2168",
   "metadata": {},
   "outputs": [],
   "source": [
    "print(max(epochs_photo_model) - min(epochs_photo_model))"
   ]
  },
  {
   "cell_type": "code",
   "execution_count": null,
   "id": "6dc7ef59-bf05-4748-8990-11117e0b2a99",
   "metadata": {},
   "outputs": [],
   "source": []
  }
 ],
 "metadata": {
  "kernelspec": {
   "display_name": "Python 3 (ipykernel)",
   "language": "python",
   "name": "python3"
  },
  "language_info": {
   "codemirror_mode": {
    "name": "ipython",
    "version": 3
   },
   "file_extension": ".py",
   "mimetype": "text/x-python",
   "name": "python",
   "nbconvert_exporter": "python",
   "pygments_lexer": "ipython3",
   "version": "3.9.12"
  }
 },
 "nbformat": 4,
 "nbformat_minor": 5
}
