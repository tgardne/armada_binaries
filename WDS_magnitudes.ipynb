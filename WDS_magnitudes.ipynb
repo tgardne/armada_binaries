{
 "cells": [
  {
   "cell_type": "code",
   "execution_count": 1,
   "id": "4b0bf768-bb74-4a0b-b5c0-fe64dd103e65",
   "metadata": {},
   "outputs": [],
   "source": [
    "import numpy as np\n",
    "import os\n",
    "from astroquery.simbad import Simbad"
   ]
  },
  {
   "cell_type": "code",
   "execution_count": 2,
   "id": "2713f3da-0f54-41d9-ab2e-9490a95cd15d",
   "metadata": {},
   "outputs": [],
   "source": [
    "path = '/Users/tgardner/ARMADA_orbits/'\n",
    "path_wds = '/Users/tgardner/wds_targets'"
   ]
  },
  {
   "cell_type": "code",
   "execution_count": 3,
   "id": "bcf303ea-fdb5-485d-b7eb-1a57372758de",
   "metadata": {},
   "outputs": [],
   "source": [
    "def read_wds(file,dtype):\n",
    "    mag_difference = []\n",
    "    for line in file.readlines():\n",
    "        if line.startswith('#'):\n",
    "            continue\n",
    "        #if float(line.split()[0])<1985:\n",
    "        #    continue\n",
    "        #if line.split()[4]=='.':\n",
    "        #    continue\n",
    "    \n",
    "        #print(line.split('\\s+')[0][111:113])\n",
    "        if dtype=='':\n",
    "            if line.split()[7] == '.' or line.split()[7] == ':':\n",
    "                continue\n",
    "            try:\n",
    "                m1 = float(line.split()[5])\n",
    "                m2 = float(line.split()[7])\n",
    "                mdiff = m2-m1\n",
    "                mag_difference.append(mdiff)\n",
    "            except:\n",
    "                try:\n",
    "                    mag_difference.append(float(line.split()[7]))\n",
    "                except:\n",
    "                    continue\n",
    "\n",
    "        else:\n",
    "            if line.split('\\s+')[0][111]==dtype:\n",
    "                if line.split()[7] == '.' or line.split()[7] == ':':\n",
    "                    continue\n",
    "                try:\n",
    "                    m1 = float(line.split()[5])\n",
    "                    m2 = float(line.split()[7])\n",
    "                    mdiff = m2-m1\n",
    "                    mag_difference.append(mdiff)\n",
    "                except:\n",
    "                    try:\n",
    "                        mag_difference.append(float(line.split()[7]))\n",
    "                    except:\n",
    "                        continue\n",
    "    file.close()\n",
    "\n",
    "    mag_difference = np.array(mag_difference)\n",
    "    \n",
    "    return(mag_difference)"
   ]
  },
  {
   "cell_type": "code",
   "execution_count": 85,
   "id": "ca281a3c-b9d1-4420-b7d7-8530ceedd7c5",
   "metadata": {},
   "outputs": [
    {
     "name": "stdin",
     "output_type": "stream",
     "text": [
      "Target HD #:  87822\n"
     ]
    },
    {
     "name": "stdout",
     "output_type": "stream",
     "text": [
      "WDS 10083+3136\n",
      "10083+3136\n"
     ]
    }
   ],
   "source": [
    "###########################################\n",
    "## Specify Target\n",
    "###########################################\n",
    "target_hd = input('Target HD #: ')\n",
    "query = Simbad.query_objectids('HD %s'%target_hd)\n",
    "for item in query:\n",
    "    if 'WDS' in item[0]:\n",
    "        target_wds = item[0][5:15]\n",
    "        print('WDS %s'%target_wds)\n",
    "\n",
    "#target_wds = '09320-0111'\n",
    "try:\n",
    "    print(target_wds)\n",
    "except:\n",
    "    print('No WDS number queried')\n",
    "    target_wds = input('Enter WDS: ')"
   ]
  },
  {
   "cell_type": "code",
   "execution_count": 83,
   "id": "13e10683-c12c-4dcf-92bb-2e1d81e105d3",
   "metadata": {},
   "outputs": [],
   "source": [
    "file=open(os.path.expanduser(\"%s/wds%s.txt\"%(path_wds,target_wds)))\n",
    "dtype = '' ## take only speckle for magnitude difference\n",
    "\n",
    "dmags = read_wds(file,dtype)"
   ]
  },
  {
   "cell_type": "code",
   "execution_count": 84,
   "id": "51845c70-93b8-41c7-9be0-363a5f3e4083",
   "metadata": {},
   "outputs": [
    {
     "data": {
      "text/plain": [
       "array([], dtype=float64)"
      ]
     },
     "execution_count": 84,
     "metadata": {},
     "output_type": "execute_result"
    }
   ],
   "source": [
    "dmags"
   ]
  },
  {
   "cell_type": "code",
   "execution_count": 76,
   "id": "1b95ed3f-c7c2-4603-b18e-6a017d271a1f",
   "metadata": {},
   "outputs": [
    {
     "name": "stdout",
     "output_type": "stream",
     "text": [
      "WDS Mag = 0.39166666666666666 +/- 0.3277660073216189\n"
     ]
    }
   ],
   "source": [
    "mean_magnitude = np.mean(np.absolute(dmags))\n",
    "err_magnitude = np.std(np.absolute(dmags))\n",
    "\n",
    "print('WDS Mag = %s +/- %s'%(mean_magnitude,err_magnitude))"
   ]
  },
  {
   "cell_type": "code",
   "execution_count": null,
   "id": "86cff5bd-b746-4b97-812a-32b966c5f0a3",
   "metadata": {},
   "outputs": [],
   "source": []
  }
 ],
 "metadata": {
  "kernelspec": {
   "display_name": "Python 3 (ipykernel)",
   "language": "python",
   "name": "python3"
  },
  "language_info": {
   "codemirror_mode": {
    "name": "ipython",
    "version": 3
   },
   "file_extension": ".py",
   "mimetype": "text/x-python",
   "name": "python",
   "nbconvert_exporter": "python",
   "pygments_lexer": "ipython3",
   "version": "3.10.6"
  }
 },
 "nbformat": 4,
 "nbformat_minor": 5
}
