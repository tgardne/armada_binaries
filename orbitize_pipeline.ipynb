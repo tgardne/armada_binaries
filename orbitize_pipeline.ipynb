{
 "cells": [
  {
   "cell_type": "markdown",
   "metadata": {},
   "source": [
    "## ARMADA pipeline using orbitize"
   ]
  },
  {
   "cell_type": "code",
   "execution_count": 1,
   "metadata": {},
   "outputs": [
    {
     "ename": "ModuleNotFoundError",
     "evalue": "No module named 'ptemcee'",
     "output_type": "error",
     "traceback": [
      "\u001b[0;31m---------------------------------------------------------------------------\u001b[0m",
      "\u001b[0;31mModuleNotFoundError\u001b[0m                       Traceback (most recent call last)",
      "\u001b[0;32m<ipython-input-1-2b2d2a6dbd32>\u001b[0m in \u001b[0;36m<module>\u001b[0;34m\u001b[0m\n\u001b[1;32m      1\u001b[0m \u001b[0;32mimport\u001b[0m \u001b[0mnumpy\u001b[0m \u001b[0;32mas\u001b[0m \u001b[0mnp\u001b[0m\u001b[0;34m\u001b[0m\u001b[0;34m\u001b[0m\u001b[0m\n\u001b[1;32m      2\u001b[0m \u001b[0;32mimport\u001b[0m \u001b[0morbitize\u001b[0m\u001b[0;34m\u001b[0m\u001b[0;34m\u001b[0m\u001b[0m\n\u001b[0;32m----> 3\u001b[0;31m \u001b[0;32mfrom\u001b[0m \u001b[0morbitize\u001b[0m \u001b[0;32mimport\u001b[0m \u001b[0mdriver\u001b[0m\u001b[0;34m,\u001b[0m\u001b[0msystem\u001b[0m\u001b[0;34m,\u001b[0m\u001b[0mpriors\u001b[0m\u001b[0;34m,\u001b[0m\u001b[0msampler\u001b[0m\u001b[0;34m\u001b[0m\u001b[0;34m\u001b[0m\u001b[0m\n\u001b[0m\u001b[1;32m      4\u001b[0m \u001b[0;32mfrom\u001b[0m \u001b[0morbitize\u001b[0m \u001b[0;32mimport\u001b[0m \u001b[0mread_input\u001b[0m\u001b[0;34m\u001b[0m\u001b[0;34m\u001b[0m\u001b[0m\n\u001b[1;32m      5\u001b[0m \u001b[0;32mimport\u001b[0m \u001b[0mmultiprocessing\u001b[0m \u001b[0;32mas\u001b[0m \u001b[0mmp\u001b[0m\u001b[0;34m\u001b[0m\u001b[0;34m\u001b[0m\u001b[0m\n",
      "\u001b[0;32m~/.local/lib/python3.7/site-packages/orbitize/driver.py\u001b[0m in \u001b[0;36m<module>\u001b[0;34m\u001b[0m\n\u001b[1;32m      1\u001b[0m \u001b[0;32mimport\u001b[0m \u001b[0morbitize\u001b[0m\u001b[0;34m.\u001b[0m\u001b[0mread_input\u001b[0m\u001b[0;34m\u001b[0m\u001b[0;34m\u001b[0m\u001b[0m\n\u001b[1;32m      2\u001b[0m \u001b[0;32mimport\u001b[0m \u001b[0morbitize\u001b[0m\u001b[0;34m.\u001b[0m\u001b[0msystem\u001b[0m\u001b[0;34m\u001b[0m\u001b[0;34m\u001b[0m\u001b[0m\n\u001b[0;32m----> 3\u001b[0;31m \u001b[0;32mimport\u001b[0m \u001b[0morbitize\u001b[0m\u001b[0;34m.\u001b[0m\u001b[0msampler\u001b[0m\u001b[0;34m\u001b[0m\u001b[0;34m\u001b[0m\u001b[0m\n\u001b[0m\u001b[1;32m      4\u001b[0m \u001b[0;34m\u001b[0m\u001b[0m\n\u001b[1;32m      5\u001b[0m \"\"\"\n",
      "\u001b[0;32m~/.local/lib/python3.7/site-packages/orbitize/sampler.py\u001b[0m in \u001b[0;36m<module>\u001b[0;34m\u001b[0m\n\u001b[1;32m      8\u001b[0m \u001b[0;34m\u001b[0m\u001b[0m\n\u001b[1;32m      9\u001b[0m \u001b[0;32mimport\u001b[0m \u001b[0memcee\u001b[0m\u001b[0;34m\u001b[0m\u001b[0;34m\u001b[0m\u001b[0m\n\u001b[0;32m---> 10\u001b[0;31m \u001b[0;32mimport\u001b[0m \u001b[0mptemcee\u001b[0m\u001b[0;34m\u001b[0m\u001b[0;34m\u001b[0m\u001b[0m\n\u001b[0m\u001b[1;32m     11\u001b[0m \u001b[0;32mimport\u001b[0m \u001b[0mmultiprocessing\u001b[0m \u001b[0;32mas\u001b[0m \u001b[0mmp\u001b[0m\u001b[0;34m\u001b[0m\u001b[0;34m\u001b[0m\u001b[0m\n\u001b[1;32m     12\u001b[0m \u001b[0;34m\u001b[0m\u001b[0m\n",
      "\u001b[0;31mModuleNotFoundError\u001b[0m: No module named 'ptemcee'"
     ]
    }
   ],
   "source": [
    "import numpy as np\n",
    "import orbitize\n",
    "from orbitize import driver,system,priors,sampler\n",
    "from orbitize import read_input\n",
    "import multiprocessing as mp\n",
    "import os\n",
    "from astropy.time import Time\n",
    "from read_data import read_data,read_wds,read_orb6\n",
    "from astropy.coordinates import SkyCoord\n",
    "import matplotlib.pyplot as plt\n",
    "import string\n",
    "\n",
    "%matplotlib inline"
   ]
  },
  {
   "cell_type": "markdown",
   "metadata": {},
   "source": [
    "### First grab our ARMADA/WDS data to format it for orbitize"
   ]
  },
  {
   "cell_type": "code",
   "execution_count": null,
   "metadata": {},
   "outputs": [],
   "source": [
    "## select target, data\n",
    "target = 'HD_196867'\n",
    "data_armada = '/Users/tgardne/ARMADA_orbits/HD_45542_paper.txt'\n",
    "data_wds = '/Users/tgardne/ARMADA_orbits/HD45542_chi2err/HD_45542_wds.txt'\n",
    "\n",
    "#data_rv = '/Users/tgardne/ARMADA_orbits/HD45542_rv_paper.dat'"
   ]
  },
  {
   "cell_type": "code",
   "execution_count": null,
   "metadata": {},
   "outputs": [],
   "source": [
    "## read in armada data\n",
    "file=open(data_armada)\n",
    "weight=10\n",
    "t,p,theta,error_maj,error_min,error_pa,error_deg = read_data(file,weight)\n",
    "file.close()\n",
    "\n",
    "## read in wds data\n",
    "file=open(data_wds)\n",
    "weight=0.1\n",
    "t_wds,p_wds,theta_wds,error_maj_wds,error_min_wds,error_pa_wds,error_deg_wds = read_data(file,weight)\n",
    "file.close()"
   ]
  },
  {
   "cell_type": "code",
   "execution_count": null,
   "metadata": {},
   "outputs": [],
   "source": [
    "## read in rv\n",
    "#file=open(data_rv)\n",
    "#t_rv = []\n",
    "#v = []\n",
    "#verr = []\n",
    "#for line in file.readlines():\n",
    "#    if line.startswith('#'):\n",
    "#        continue \n",
    "#    t_rv.append(float(line.split()[0])-2400000.5)\n",
    "#    if line.split()[7]=='-':\n",
    "#        v.append(np.nan)\n",
    "#    else:\n",
    "#        v.append(float(line.split()[7]))   \n",
    "#    if line.split()[9]=='O':\n",
    "#        verr.append(11)\n",
    "#    else:\n",
    "#        verr.append(3)\n",
    "#file.close()\n",
    "\n",
    "#weight=2\n",
    "\n",
    "#v=np.asarray(v)\n",
    "#verr=np.asarray(verr)*weight\n",
    "#t_rv=np.asarray(t_rv)\n",
    "#print(t_rv)\n",
    "\n",
    "#plt.errorbar(t_rv,v,yerr=verr,fmt='o')\n",
    "#plt.show()"
   ]
  },
  {
   "cell_type": "code",
   "execution_count": null,
   "metadata": {},
   "outputs": [],
   "source": [
    "## apply ETALON correction to armada data\n",
    "path_etalon = '/Users/tgardne/etalon_epochs/etalon_fits/etalon_factors_fit.txt'\n",
    "file=open(path_etalon)\n",
    "mjd_etalon=[]\n",
    "f_etalon=[]\n",
    "for line in file.readlines():\n",
    "    if line.startswith('#'):\n",
    "        continue\n",
    "    mjd_etalon.append(float(line.split()[0]))\n",
    "    f_etalon.append(float(line.split()[1]))\n",
    "file.close()\n",
    "mjd_etalon=np.array(mjd_etalon)\n",
    "f_etalon=np.array(f_etalon)\n",
    "\n",
    "etalon_factor=[]\n",
    "for i in t:\n",
    "    idx = np.where(abs(i-mjd_etalon)==min(abs(i-mjd_etalon)))\n",
    "    if min(abs(i-mjd_etalon))>0.5:\n",
    "        print('Closest factor for %s is %s days away'%(i,min(abs(i-mjd_etalon))))\n",
    "    f = f_etalon[idx][0]\n",
    "    etalon_factor.append(f)\n",
    "etalon_factor=np.array(etalon_factor)\n",
    "\n",
    "print('   date      etalon factor')\n",
    "for i,j in zip(t,etalon_factor):\n",
    "    print(i,j)\n",
    "\n",
    "## apply etalon correction\n",
    "etalon_factor = 1  ##### COMMENT OUT TO APPLY CORRECTION!!!!!! #######\n",
    "p = p/etalon_factor\n",
    "\n",
    "xpos=p*np.sin(theta)\n",
    "ypos=p*np.cos(theta)\n",
    "\n",
    "xpos_wds=p_wds*np.sin(theta_wds)\n",
    "ypos_wds=p_wds*np.cos(theta_wds)"
   ]
  },
  {
   "cell_type": "code",
   "execution_count": null,
   "metadata": {},
   "outputs": [],
   "source": []
  },
  {
   "cell_type": "code",
   "execution_count": null,
   "metadata": {},
   "outputs": [],
   "source": [
    "idx = np.argmin(t)\n",
    "plt.plot(xpos_wds,ypos_wds,'o',label='WDS')\n",
    "plt.plot(xpos_wds[0],ypos_wds[0],'*')\n",
    "plt.plot(xpos[idx],ypos[idx],'*')\n",
    "plt.plot(xpos,ypos,'+',label='ARMADA')\n",
    "plt.plot(0,0,'*')\n",
    "plt.gca().invert_xaxis()\n",
    "plt.title('All Data')\n",
    "plt.xlabel('dra (mas)')\n",
    "plt.ylabel('ddec (mas)')\n",
    "plt.legend()\n",
    "plt.show()"
   ]
  },
  {
   "cell_type": "code",
   "execution_count": null,
   "metadata": {},
   "outputs": [],
   "source": [
    "## convert errors for orbitize\n",
    "xerr = []\n",
    "yerr = []\n",
    "for i,j,k in zip(error_maj,error_min,error_deg):\n",
    "    xerr1 = abs(i*np.sin(k*np.pi/180))\n",
    "    xerr2 = abs(j*np.cos(k*np.pi/180))\n",
    "    yerr1 = abs(i*np.cos(k*np.pi/180))\n",
    "    yerr2 = abs(j*np.sin(k*np.pi/180))\n",
    "    xerr.append(max(xerr1,xerr2))\n",
    "    yerr.append(max(yerr1,yerr2))\n",
    "xerr = np.array(xerr)\n",
    "yerr = np.array(yerr)\n",
    "\n",
    "xerr_wds = []\n",
    "yerr_wds = []\n",
    "for i,j,k in zip(error_maj_wds,error_min_wds,error_deg_wds):\n",
    "    xerr1 = abs(i*np.sin(k*np.pi/180))\n",
    "    xerr2 = abs(j*np.cos(k*np.pi/180))\n",
    "    yerr1 = abs(i*np.cos(k*np.pi/180))\n",
    "    yerr2 = abs(j*np.sin(k*np.pi/180))\n",
    "    xerr_wds.append(max(xerr1,xerr2))\n",
    "    yerr_wds.append(max(yerr1,yerr2))\n",
    "xerr_wds = np.array(xerr_wds)\n",
    "yerr_wds = np.array(yerr_wds)\n",
    "\n",
    "print(xerr,yerr)\n",
    "print(xerr_wds,yerr_wds)"
   ]
  },
  {
   "cell_type": "code",
   "execution_count": null,
   "metadata": {},
   "outputs": [],
   "source": [
    "## need to write to csv file for orbitize\n",
    "f = open(\"/Users/tgardne/ARMADA_orbits/%s.csv\"%target,\"w+\")\n",
    "f.write(\"epoch object raoff raoff_err decoff decoff_err\\r\\n\")\n",
    "\n",
    "for i,j,k,l,m in zip(t_wds,xpos_wds,xerr_wds,ypos_wds,yerr_wds):\n",
    "    f.write(\"%s 1 %s %s %s %s\\r\\n\"%(i,j,k,l,m))\n",
    "    \n",
    "for i,j,k,l,m in zip(t,xpos,xerr,ypos,yerr):\n",
    "    f.write(\"%s 1 %s %s %s %s\\r\\n\"%(i,j,k,l,m))\n",
    "    \n",
    "#for i,j,k in zip(t_rv,v,verr):\n",
    "#    f.write(\"%s 0 %s %s %s %s %s %s\\r\\n\"%(i,np.nan,np.nan,np.nan,np.nan,j,k))\n",
    "\n",
    "f.close()"
   ]
  },
  {
   "cell_type": "code",
   "execution_count": null,
   "metadata": {},
   "outputs": [],
   "source": []
  },
  {
   "cell_type": "markdown",
   "metadata": {},
   "source": [
    "### Now initiate an orbitize run"
   ]
  },
  {
   "cell_type": "code",
   "execution_count": null,
   "metadata": {},
   "outputs": [],
   "source": [
    "## set up data file\n",
    "filename = \"/Users/tgardne/ARMADA_orbits/%s.csv\"%target.format(orbitize.DATADIR)\n",
    "data_table = read_input.read_file(filename)\n",
    "data_table.pprint_all()"
   ]
  },
  {
   "cell_type": "code",
   "execution_count": null,
   "metadata": {},
   "outputs": [],
   "source": [
    "## select system parameters\n",
    "num_secondary_bodies = 1\n",
    "system_mass = 6 # [Msol]\n",
    "plx = 5.99 # [mas]\n",
    "mass_err = 1 # [Msol]\n",
    "plx_err = 0 # [mas]\n",
    "\n",
    "# MCMC parameters\n",
    "num_temps = 20\n",
    "num_walkers = 1000\n",
    "num_threads = mp.cpu_count() # or a different number if you prefer"
   ]
  },
  {
   "cell_type": "code",
   "execution_count": null,
   "metadata": {},
   "outputs": [],
   "source": [
    "## modify parameters\n",
    "sys = system.System(\n",
    "    num_secondary_bodies, data_table, system_mass,\n",
    "    plx, mass_err=mass_err, plx_err=plx_err,\n",
    "    tau_ref_epoch=0)\n",
    "\n",
    "print(sys.labels)\n",
    "print(sys.sys_priors)\n",
    "print(sys.param_idx)\n",
    "\n",
    "# alias for convenience\n",
    "lab = sys.param_idx"
   ]
  },
  {
   "cell_type": "code",
   "execution_count": null,
   "metadata": {},
   "outputs": [],
   "source": [
    "## change mtot to uniform\n",
    "sys.sys_priors[lab['mtot']] = priors.UniformPrior(2,15)\n",
    "#sys.sys_priors[lab['m0']] = 4.5\n",
    "\n",
    "## limit Omega to <180deg (IF NO RV)\n",
    "sys.sys_priors[lab['pan1']] = priors.UniformPrior(0,np.pi)\n",
    "\n",
    "## I find uniform prior better for semi-major\n",
    "sys.sys_priors[lab['sma1']] = priors.UniformPrior(1,50)\n",
    "#sys.sys_priors[lab['gamma']] = priors.UniformPrior(-50,50)\n",
    "#sys.sys_priors[lab['sigma']] = priors.UniformPrior(-50,50)\n",
    "\n",
    "print(sys.labels)\n",
    "print(sys.sys_priors)\n",
    "print(sys.param_idx)"
   ]
  },
  {
   "cell_type": "markdown",
   "metadata": {},
   "source": [
    "### Now Run the MCMC"
   ]
  },
  {
   "cell_type": "code",
   "execution_count": null,
   "metadata": {},
   "outputs": [],
   "source": [
    "## setup a run\n",
    "my_driver = driver.Driver(\n",
    "    filename, 'MCMC', num_secondary_bodies, system_mass, plx, mass_err=mass_err, plx_err=plx_err,\n",
    "    mcmc_kwargs={'num_temps': num_temps, 'num_walkers': num_walkers, 'num_threads': num_threads})"
   ]
  },
  {
   "cell_type": "code",
   "execution_count": null,
   "metadata": {},
   "outputs": [],
   "source": [
    "## run the chains\n",
    "total_orbits = 100000 # number of steps x number of walkers (at lowest temperature)\n",
    "burn_steps = 50 # steps to burn in per walker\n",
    "thin = 2 # only save every 2nd step\n",
    "\n",
    "#my_driver.sampler.run_sampler(total_orbits, burn_steps=burn_steps, thin=thin)\n",
    "\n",
    "mcmc_sampler = sampler.MCMC(sys, num_temps, num_walkers, num_threads)\n",
    "mcmc_sampler.run_sampler(total_orbits, burn_steps=burn_steps, thin=thin)"
   ]
  },
  {
   "cell_type": "code",
   "execution_count": null,
   "metadata": {},
   "outputs": [],
   "source": [
    "## example for how to look at chains:\n",
    "#ecc_chains = my_driver.sampler.examine_chains(n_walkers=10)#(param_list=['ecc1'])\n",
    "ecc_chains = mcmc_sampler.examine_chains(n_walkers=10)#(param_list=['ecc1'])"
   ]
  },
  {
   "cell_type": "code",
   "execution_count": null,
   "metadata": {},
   "outputs": [],
   "source": [
    "#corner_plot_fig = my_driver.sampler.results.plot_corner(param_list=['sma1', 'ecc1', 'inc1', 'aop1', 'pan1','tau1', 'mtot']) # Creates a corner plot and returns Figure object\n",
    "median_values = np.median(mcmc_sampler.results.post,axis=0) # Compute median of each parameter\n",
    "#range_values = np.ones_like(median_values)*0.95 # Plot only 95% range for each parameter\n",
    "\n",
    "median_values = np.delete(median_values,6)\n",
    "#range_values = np.delete(range_values,6)\n",
    "\n",
    "print(median_values)\n",
    "\n",
    "corner_plot_fig = mcmc_sampler.results.plot_corner(param_list=['sma1', 'ecc1', 'inc1', 'aop1', 'pan1','tau1', 'mtot'],\n",
    "                                                  truths=median_values)#,range=range_values)\n",
    "corner_plot_fig.savefig('/Users/tgardne/ARMADA_orbits/%s_corner.png'%target) # This is matplotlib.figure.Figure.savefig()"
   ]
  },
  {
   "cell_type": "code",
   "execution_count": null,
   "metadata": {},
   "outputs": [],
   "source": [
    "# plot orbits\n",
    "#orb_fig = my_driver.sampler.results.plot_orbits(start_mjd=t_wds[0], num_orbits_to_plot=100)\n",
    "orb_fig = mcmc_sampler.results.plot_orbits(start_mjd=t_wds[0], num_orbits_to_plot=10)\n",
    "\n",
    "\n",
    "ax_orb, ax_cbar, ax_sep, ax_pa  = orb_fig.axes\n",
    "\n",
    "data_tab = my_driver.system.data_table\n",
    "\n",
    "epochs_yr = Time(data_tab['epoch'], format='mjd').decimalyear\n",
    "epochs_armada = Time(t, format='mjd').decimalyear\n",
    "epochs_wds = Time(t_wds, format='mjd').decimalyear\n",
    "\n",
    "xdata = data_tab['quant1']; xdata_err = data_tab['quant1_err']\n",
    "ydata = data_tab['quant2']; ydata_err = data_tab['quant2_err']\n",
    "\n",
    "#### ARMADA #######\n",
    "## add data to sep panel\n",
    "ax_sep.plot(\n",
    "    epochs_armada, p, '+',\n",
    "    color='purple', zorder=4)\n",
    "## add data to PA panel\n",
    "ax_pa.plot(\n",
    "    epochs_armada, theta*180/np.pi, '+',\n",
    "    color='purple', zorder=4)\n",
    "## add data to orbit panel\n",
    "ax_orb.errorbar(\n",
    "    xpos, ypos, xerr=xerr, yerr=yerr,\n",
    "    color='purple', linestyle='', fmt='o', zorder=4)\n",
    "\n",
    "##### WDS #######\n",
    "## add data to sep panel\n",
    "ax_sep.plot(\n",
    "    epochs_wds, p_wds, '+',\n",
    "    color='grey', zorder=3)\n",
    "## add data to PA panel\n",
    "ax_pa.plot(\n",
    "    epochs_wds, theta_wds*180/np.pi, '+',\n",
    "    color='grey', zorder=3)\n",
    "## add data to orbit panel\n",
    "ax_orb.errorbar(\n",
    "    xpos_wds, ypos_wds, xerr=xerr_wds, yerr=yerr_wds,\n",
    "    color='grey', linestyle='', fmt='o', zorder=3)\n",
    "\n",
    "orb_fig.show()"
   ]
  },
  {
   "cell_type": "code",
   "execution_count": null,
   "metadata": {},
   "outputs": [],
   "source": [
    "median_values = np.median(mcmc_sampler.results.post,axis=0) # Compute median of each parameter\n",
    "print(median_values)\n",
    "\n",
    "period = np.sqrt(median_values[0]**3 / median_values[-1])\n",
    "semi = median_values[0] * median_values[6]\n",
    "\n",
    "print(\"Period = \", period, period*365.25)\n",
    "print(\"a = \", semi)"
   ]
  },
  {
   "cell_type": "markdown",
   "metadata": {},
   "source": [
    "## Include a second component!"
   ]
  },
  {
   "cell_type": "code",
   "execution_count": null,
   "metadata": {},
   "outputs": [],
   "source": [
    "## select system parameters\n",
    "num_secondary_bodies = 2\n",
    "m0 = 3.7 # [Msol]\n",
    "plx = 12.85 # [mas]\n",
    "mass_err = 0 # [Msol]\n",
    "plx_err = 0 # [mas]\n",
    "\n",
    "# MCMC parameters\n",
    "num_temps = 20\n",
    "num_walkers = 1000\n",
    "num_threads = mp.cpu_count() # or a different number if you prefer"
   ]
  },
  {
   "cell_type": "code",
   "execution_count": null,
   "metadata": {},
   "outputs": [],
   "source": [
    "## modify parameters\n",
    "sys = system.System(\n",
    "    num_secondary_bodies, data_table, system_mass,\n",
    "    plx, mass_err=mass_err, plx_err=plx_err, fit_secondary_mass=True)\n",
    "\n",
    "print(sys.labels)\n",
    "print(sys.sys_priors)\n",
    "print(sys.param_idx)\n",
    "\n",
    "# alias for convenience\n",
    "lab = sys.param_idx"
   ]
  },
  {
   "cell_type": "code",
   "execution_count": null,
   "metadata": {},
   "outputs": [],
   "source": [
    "## change mtot to uniform\n",
    "#sys.sys_priors[lab['m0']] = priors.UniformPrior(0,10)\n",
    "sys.sys_priors[lab['m1']] = priors.UniformPrior(0,10)\n",
    "sys.sys_priors[lab['m2']] = priors.UniformPrior(0,10)\n",
    "\n",
    "## limit Omega to <180deg (IF NO RV)\n",
    "sys.sys_priors[lab['pan1']] = priors.UniformPrior(0,np.pi)\n",
    "sys.sys_priors[lab['pan2']] = priors.UniformPrior(0,np.pi)\n",
    "\n",
    "## I find uniform prior better for semi-major\n",
    "sys.sys_priors[lab['sma1']] = priors.UniformPrior(0,50)\n",
    "sys.sys_priors[lab['sma2']] = priors.UniformPrior(0,50)\n",
    "\n",
    "print(sys.labels)\n",
    "print(sys.sys_priors)\n",
    "print(sys.param_idx)"
   ]
  },
  {
   "cell_type": "code",
   "execution_count": null,
   "metadata": {},
   "outputs": [],
   "source": [
    "## setup a run\n",
    "my_driver = driver.Driver(\n",
    "    filename, 'MCMC', num_secondary_bodies, system_mass, plx, mass_err=mass_err, plx_err=plx_err,\n",
    "    mcmc_kwargs={'num_temps': num_temps, 'num_walkers': num_walkers, 'num_threads': num_threads})"
   ]
  },
  {
   "cell_type": "code",
   "execution_count": null,
   "metadata": {},
   "outputs": [],
   "source": [
    "## run the chains\n",
    "total_orbits = 100000 # number of steps x number of walkers (at lowest temperature)\n",
    "burn_steps = 50 # steps to burn in per walker\n",
    "thin = 2 # only save every 2nd step\n",
    "\n",
    "#my_driver.sampler.run_sampler(total_orbits, burn_steps=burn_steps, thin=thin)\n",
    "\n",
    "mcmc_sampler = sampler.MCMC(sys, num_temps, num_walkers, num_threads)\n",
    "mcmc_sampler.run_sampler(total_orbits, burn_steps=burn_steps, thin=thin)"
   ]
  },
  {
   "cell_type": "code",
   "execution_count": null,
   "metadata": {},
   "outputs": [],
   "source": [
    "corner_plot_fig = mcmc_sampler.results.plot_corner(param_list=['sma1', 'ecc1', 'inc1', 'aop1', 'pan1','tau1', 'm1', 'm2'])\n",
    "corner_plot_fig.savefig('/Users/tgardne/ARMADA_orbits/%s_corner_triple_star.png'%target) # This is matplotlib.figure.Figure.savefig()"
   ]
  },
  {
   "cell_type": "code",
   "execution_count": null,
   "metadata": {},
   "outputs": [],
   "source": [
    "corner_plot_fig = mcmc_sampler.results.plot_corner(param_list=['sma2', 'ecc2', 'inc2', 'aop2', 'pan2','tau2', 'm1', 'm2']) # Creates a corner plot and returns Figure object\n",
    "corner_plot_fig.savefig('/Users/tgardne/ARMADA_orbits/%s_corner_triple_planet.png'%target) # This is matplotlib.figure.Figure.savefig()"
   ]
  },
  {
   "cell_type": "code",
   "execution_count": null,
   "metadata": {},
   "outputs": [],
   "source": [
    "# plot orbits\n",
    "orb_fig = mcmc_sampler.results.plot_orbits(start_mjd=t_wds[0], num_orbits_to_plot=100, object_to_plot=1)\n",
    "ax_orb, ax_cbar, ax_sep, ax_pa  = orb_fig.axes\n",
    "\n",
    "data_tab = my_driver.system.data_table\n",
    "\n",
    "epochs_yr = Time(data_tab['epoch'], format='mjd').decimalyear\n",
    "epochs_armada = Time(t, format='mjd').decimalyear\n",
    "epochs_wds = Time(t_wds, format='mjd').decimalyear\n",
    "\n",
    "xdata = data_tab['quant1']; xdata_err = data_tab['quant1_err']\n",
    "ydata = data_tab['quant2']; ydata_err = data_tab['quant2_err']\n",
    "\n",
    "#### ARMADA #######\n",
    "## add data to sep panel\n",
    "ax_sep.plot(\n",
    "    epochs_armada, p, '+',\n",
    "    color='purple', zorder=4)\n",
    "## add data to PA panel\n",
    "ax_pa.plot(\n",
    "    epochs_armada, theta*180/np.pi, '+',\n",
    "    color='purple', zorder=4)\n",
    "## add data to orbit panel\n",
    "ax_orb.errorbar(\n",
    "    xpos, ypos, xerr=xerr, yerr=yerr,\n",
    "    color='purple', linestyle='', fmt='o', zorder=4)\n",
    "\n",
    "##### WDS #######\n",
    "## add data to sep panel\n",
    "ax_sep.plot(\n",
    "    epochs_wds, p_wds, '+',\n",
    "    color='grey', zorder=3)\n",
    "## add data to PA panel\n",
    "ax_pa.plot(\n",
    "    epochs_wds, theta_wds*180/np.pi, '+',\n",
    "    color='grey', zorder=3)\n",
    "## add data to orbit panel\n",
    "ax_orb.errorbar(\n",
    "    xpos_wds, ypos_wds, xerr=xerr_wds, yerr=yerr_wds,\n",
    "    color='grey', linestyle='', fmt='o', zorder=3)\n",
    "\n",
    "orb_fig.show()"
   ]
  },
  {
   "cell_type": "code",
   "execution_count": null,
   "metadata": {},
   "outputs": [],
   "source": []
  }
 ],
 "metadata": {
  "kernelspec": {
   "display_name": "Python 3",
   "language": "python",
   "name": "python3"
  },
  "language_info": {
   "codemirror_mode": {
    "name": "ipython",
    "version": 3
   },
   "file_extension": ".py",
   "mimetype": "text/x-python",
   "name": "python",
   "nbconvert_exporter": "python",
   "pygments_lexer": "ipython3",
   "version": "3.7.6"
  }
 },
 "nbformat": 4,
 "nbformat_minor": 4
}
