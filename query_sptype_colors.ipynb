{
 "cells": [
  {
   "cell_type": "markdown",
   "metadata": {},
   "source": [
    "## Script to Fit Mass1 and Mass2 for binaries\n",
    "\n",
    "#### -- We know dmag in v and i bands from speckle. We know dmag in h/k bands from interferometry. We know total magnitudes in these bands.\n",
    "#### -- In theory, we know distance from Hipparcos or Gaia (this is weakest point, as they are unresolved binaries!)\n",
    "\n",
    "#### -- Compare 3 bands to model SEDs to fit for mass\n",
    "#### -- I am using models compiled by Eric Mamjek: http://www.pas.rochester.edu/~emamajek/EEM_dwarf_UBVIJHK_colors_Teff.txt\n",
    "#### -- From Table 5 of Pecaut & Mamajek (2013); and Table 3 of Pecaut, Mamajek, & Bubar (2012) for A/F/G stars"
   ]
  },
  {
   "cell_type": "code",
   "execution_count": 1,
   "metadata": {},
   "outputs": [],
   "source": [
    "import numpy as np\n",
    "from matplotlib import pyplot as plt\n",
    "import os\n",
    "import random\n",
    "from astroquery.simbad import Simbad\n",
    "from uncertainties import ufloat\n",
    "from uncertainties.umath import *\n",
    "import pandas as pd\n",
    "%matplotlib inline"
   ]
  },
  {
   "cell_type": "code",
   "execution_count": 2,
   "metadata": {},
   "outputs": [],
   "source": [
    "## Read in values from file of model SEDs for different stellar masses\n",
    "## Making arrays for fitting later\n",
    "model_file = open(os.path.expanduser(\"sptype_colors.txt\"))\n",
    "sptype=[]\n",
    "mass=[]\n",
    "mv_model=[]\n",
    "b_v=[]\n",
    "g_v=[]\n",
    "g_rp=[]\n",
    "u_b=[]\n",
    "v_r=[]\n",
    "v_k=[]\n",
    "h_k=[]\n",
    "j_h=[]\n",
    "v_i=[]\n",
    "\n",
    "for line in model_file.readlines():\n",
    "    if line.startswith('#'):\n",
    "        continue\n",
    "    sptype.append(line.split()[0])\n",
    " \n",
    "    try:\n",
    "        mass.append(float(line.split()[30]))\n",
    "    except:\n",
    "        mass.append(np.nan)\n",
    "        \n",
    "    try:\n",
    "        mv_model.append(float(line.split()[7]))\n",
    "    except:\n",
    "        mv_model.append(np.nan)\n",
    "        \n",
    "    try:\n",
    "        b_v.append(float(line.split()[8]))\n",
    "    except:\n",
    "        b_v.append(np.nan)\n",
    "        \n",
    "    try:\n",
    "        g_v.append(float(line.split()[10]))\n",
    "    except:\n",
    "        g_v.append(np.nan)\n",
    "        \n",
    "    try:\n",
    "        g_rp.append(float(line.split()[12]))\n",
    "    except:\n",
    "        g_rp.append(np.nan)\n",
    "    \n",
    "    try:\n",
    "        u_b.append(float(line.split()[15]))\n",
    "    except:\n",
    "        u_b.append(np.nan)\n",
    "        \n",
    "    try:\n",
    "        v_r.append(float(line.split()[16]))\n",
    "    except:\n",
    "        v_r.append(np.nan)\n",
    "        \n",
    "    try:\n",
    "        v_i.append(float(line.split()[17]))\n",
    "    except:\n",
    "        v_i.append(np.nan)\n",
    "        \n",
    "    try:\n",
    "        v_k.append(float(line.split()[18]))\n",
    "    except:\n",
    "        v_k.append(np.nan)\n",
    "        \n",
    "    try:\n",
    "        h_k.append(float(line.split()[20]))\n",
    "    except:\n",
    "        h_k.append(np.nan)\n",
    "        \n",
    "    try:\n",
    "        j_h.append(float(line.split()[19]))\n",
    "    except:\n",
    "        j_h.append(np.nan)\n",
    "        \n",
    "sptype=np.array(sptype)\n",
    "mass=np.array(mass)\n",
    "mv_model=np.array(mv_model)\n",
    "b_v=np.array(b_v)\n",
    "v_i=np.array(v_i)\n",
    "g_v=np.array(g_v)\n",
    "g_rp=np.array(g_rp)\n",
    "u_b=np.array(u_b)\n",
    "v_r=np.array(v_r)\n",
    "v_k=np.array(v_k)\n",
    "h_k=np.array(h_k)\n",
    "j_h=np.array(j_h)\n",
    "\n",
    "## Get mags in each band:\n",
    "b_model = b_v+mv_model\n",
    "u_model = u_b+b_model\n",
    "i_model = mv_model-v_i\n",
    "g_model = g_v+mv_model\n",
    "rp_model = g_model-g_rp\n",
    "r_model = mv_model-v_r\n",
    "k_model = mv_model-v_k\n",
    "h_model = h_k+k_model\n",
    "j_model = j_h+h_model"
   ]
  },
  {
   "cell_type": "code",
   "execution_count": null,
   "metadata": {},
   "outputs": [],
   "source": []
  },
  {
   "cell_type": "markdown",
   "metadata": {},
   "source": [
    "## Now select a binary target to query"
   ]
  },
  {
   "cell_type": "code",
   "execution_count": 3,
   "metadata": {},
   "outputs": [],
   "source": [
    "target_hd = '6456'\n",
    "df = pd.read_csv(\"full_target_list.csv\",dtype=object)\n",
    "\n",
    "## Create directory for saved files, if it doesn't already exist\n",
    "directory = \"binary_orbits/HD_%s/\"%target_hd\n",
    "if not os.path.exists(directory):\n",
    "    print(\"Creating directory\")\n",
    "    os.makedirs(directory)"
   ]
  },
  {
   "cell_type": "code",
   "execution_count": 4,
   "metadata": {},
   "outputs": [
    {
     "name": "stdout",
     "output_type": "stream",
     "text": [
      "distance gaia =  93.38\n",
      "distance hip =  84.32\n",
      "fratio: k_mag, h_mag, i_mag, v_mag =  nan 1.7060823890031234 1.905460717963247 2.1086281499332893\n"
     ]
    }
   ],
   "source": [
    "idx = np.where(df['HD']==target_hd)[0][0]\n",
    "\n",
    "distance_gaia = float(df['Gaia_distance (pc)'][idx])\n",
    "distance_hip = float(df['HIP_distance (pc)'][idx])\n",
    "print(\"distance gaia = \",distance_gaia)\n",
    "print(\"distance hip = \",distance_hip)\n",
    "\n",
    "\n",
    "cdiff_h = float(df['dmag_h'][idx])\n",
    "cdiff_k = float(df['dmag_k'][idx])\n",
    "cdiff_i = float(df['dmag_speckle_i'][idx])\n",
    "cdiff_v = float(df['dmag_speckle_v'][idx])\n",
    "\n",
    "fratio_h = 10**(cdiff_h/2.5)\n",
    "fratio_k = 10**(cdiff_k/2.5)\n",
    "fratio_i = 10**(cdiff_i/2.5)\n",
    "fratio_v = 10**(cdiff_v/2.5)\n",
    "\n",
    "print(\"fratio: k_mag, h_mag, i_mag, v_mag = \", fratio_k,fratio_h,fratio_i,fratio_v)"
   ]
  },
  {
   "cell_type": "code",
   "execution_count": 5,
   "metadata": {},
   "outputs": [],
   "source": [
    "## choose which distance to use -- not necessarily obvious! We may want to compare both\n",
    "distance = distance_hip"
   ]
  },
  {
   "cell_type": "code",
   "execution_count": 6,
   "metadata": {},
   "outputs": [],
   "source": [
    "## This cell only needs to be run once. For adding quantities of interest for Simbad query\n",
    "Simbad.add_votable_fields('flux(U)')\n",
    "Simbad.add_votable_fields('flux(B)')\n",
    "Simbad.add_votable_fields('flux(V)')\n",
    "Simbad.add_votable_fields('flux(G)')\n",
    "Simbad.add_votable_fields('flux(R)')\n",
    "Simbad.add_votable_fields('flux(J)')\n",
    "Simbad.add_votable_fields('flux(H)')\n",
    "Simbad.add_votable_fields('flux(K)')\n",
    "Simbad.add_votable_fields('flux_error(U)')\n",
    "Simbad.add_votable_fields('flux_error(B)')\n",
    "Simbad.add_votable_fields('flux_error(V)')\n",
    "Simbad.add_votable_fields('flux_error(G)')\n",
    "Simbad.add_votable_fields('flux_error(R)')\n",
    "Simbad.add_votable_fields('flux_error(J)')\n",
    "Simbad.add_votable_fields('flux_error(H)')\n",
    "Simbad.add_votable_fields('flux_error(K)')"
   ]
  },
  {
   "cell_type": "code",
   "execution_count": 7,
   "metadata": {},
   "outputs": [
    {
     "name": "stdout",
     "output_type": "stream",
     "text": [
      "K,H,J,R,G,V,B,U =  5.265+/-0.027 5.301+/-0.021 5.24+/-0.05 nan+/-nan 5.268+/-0.006 5.273+/-0.009 5.263+/-0.014 5.260000228881836+/-nan\n"
     ]
    },
    {
     "name": "stderr",
     "output_type": "stream",
     "text": [
      "/Users/tgardner/opt/anaconda3/lib/python3.9/site-packages/uncertainties/core.py:2801: UserWarning: Warning: converting a masked element to nan.\n",
      "  self._std_dev = CallableStdDev(std_dev)\n",
      "/Users/tgardner/opt/anaconda3/lib/python3.9/site-packages/uncertainties/core.py:2766: UserWarning: Warning: converting a masked element to nan.\n",
      "  value = float(value)\n"
     ]
    }
   ],
   "source": [
    "## query total magnitudes and errors from Simbad\n",
    "query = Simbad.query_object('HD %s'%target_hd)\n",
    "\n",
    "ktot = query['FLUX_K'][0]\n",
    "utot = query['FLUX_U'][0]\n",
    "btot = query['FLUX_B'][0]\n",
    "rtot = query['FLUX_R'][0]\n",
    "htot = query['FLUX_H'][0]\n",
    "jtot = query['FLUX_J'][0]\n",
    "vtot = query['FLUX_V'][0]\n",
    "gtot = query['FLUX_G'][0]\n",
    "\n",
    "kerr = query['FLUX_ERROR_K'][0]\n",
    "uerr = query['FLUX_ERROR_U'][0]\n",
    "berr = query['FLUX_ERROR_B'][0]\n",
    "rerr = query['FLUX_ERROR_R'][0]\n",
    "herr = query['FLUX_ERROR_H'][0]\n",
    "jerr = query['FLUX_ERROR_J'][0]\n",
    "verr = query['FLUX_ERROR_V'][0]\n",
    "gerr = query['FLUX_ERROR_G'][0]\n",
    "\n",
    "ktot = ufloat(ktot,kerr)\n",
    "utot = ufloat(utot,uerr)\n",
    "btot = ufloat(btot,berr)\n",
    "rtot = ufloat(rtot,rerr)\n",
    "htot = ufloat(htot,herr)\n",
    "jtot = ufloat(jtot,jerr)\n",
    "vtot = ufloat(vtot,verr)\n",
    "gtot = ufloat(gtot,gerr)\n",
    "\n",
    "print(\"K,H,J,R,G,V,B,U = \", ktot,htot,jtot,rtot,gtot,vtot,btot,utot)"
   ]
  },
  {
   "cell_type": "code",
   "execution_count": 8,
   "metadata": {},
   "outputs": [
    {
     "data": {
      "image/png": "[encoded data removed]",
      "text/plain": [
       "<Figure size 432x288 with 1 Axes>"
      ]
     },
     "metadata": {
      "needs_background": "light"
     },
     "output_type": "display_data"
    }
   ],
   "source": [
    "x = np.array([2190,1630,1220,634.9,600,547.7,435.3,365.6]) ## central wavelengths of Simbad magnitudes chosen above\n",
    "y = np.array([ktot.nominal_value,htot.nominal_value,jtot.nominal_value,\n",
    "              rtot.nominal_value,gtot.nominal_value,vtot.nominal_value,\n",
    "              btot.nominal_value,utot.nominal_value])\n",
    "yerr = np.array([ktot.std_dev,htot.std_dev,jtot.std_dev,rtot.std_dev,\n",
    "                 gtot.std_dev,vtot.std_dev,btot.std_dev,utot.std_dev])\n",
    "\n",
    "plt.title(\"Total Apparent Magnitudes, HD %s\"%target_hd)\n",
    "plt.xlabel(\"Wavelength (nm)\")\n",
    "plt.ylabel(\"Apparent Mag\")\n",
    "plt.errorbar(x,y,yerr,fmt='o--')\n",
    "plt.savefig(\"%s/HD_%s_total_mags.pdf\"%(directory,target_hd))\n",
    "plt.show()"
   ]
  },
  {
   "cell_type": "code",
   "execution_count": 9,
   "metadata": {},
   "outputs": [],
   "source": [
    "data_wave = np.array([547.7,879.9,1630,2190]) ## wavelengths of our speckle + interferometry data\n",
    "\n",
    "k1 = -2.5*log10(10**(-ktot/2.5)/(1+10**(-cdiff_k/2.5)))\n",
    "k2 = cdiff_k + k1\n",
    "\n",
    "h1 = -2.5*log10(10**(-htot/2.5)/(1+10**(-cdiff_h/2.5)))\n",
    "h2 = cdiff_h + h1\n",
    "\n",
    "i1 = -2.5*log10(10**(-gtot/2.5)/(1+10**(-cdiff_i/2.5)))\n",
    "i2 = cdiff_i + i1\n",
    "\n",
    "v1 = -2.5*log10(10**(-vtot/2.5)/(1+10**(-cdiff_v/2.5)))\n",
    "v2 = cdiff_v + v1"
   ]
  },
  {
   "cell_type": "code",
   "execution_count": 10,
   "metadata": {},
   "outputs": [
    {
     "data": {
      "image/png": "[encoded data removed]",
      "text/plain": [
       "<Figure size 432x288 with 1 Axes>"
      ]
     },
     "metadata": {
      "needs_background": "light"
     },
     "output_type": "display_data"
    }
   ],
   "source": [
    "p1 = np.array([v1.nominal_value,i1.nominal_value,h1.nominal_value,k1.nominal_value])\n",
    "p1err = np.array([v1.std_dev,i1.std_dev,h1.std_dev,k1.std_dev])\n",
    "p2 = np.array([v2.nominal_value,i2.nominal_value,h2.nominal_value,k2.nominal_value])\n",
    "p2err = np.array([v2.std_dev,i2.std_dev,h2.std_dev,k2.std_dev])\n",
    "\n",
    "plt.title(\"SED from Speckle and Interferometry, HD %s\"%target_hd)\n",
    "plt.errorbar(data_wave,p1,p1err,fmt='o--')\n",
    "plt.errorbar(data_wave,p2,p2err,fmt='o--')\n",
    "plt.xlabel('Wavelength (nm)')\n",
    "plt.ylabel('Apparent Mag')\n",
    "plt.gca().invert_yaxis()\n",
    "plt.savefig(\"%s/HD_%s_split_mags.pdf\"%(directory,target_hd))\n",
    "plt.show()"
   ]
  },
  {
   "cell_type": "markdown",
   "metadata": {},
   "source": [
    "## Now we will perform a fit to measure individual masses"
   ]
  },
  {
   "cell_type": "code",
   "execution_count": 16,
   "metadata": {},
   "outputs": [
    {
     "name": "stdout",
     "output_type": "stream",
     "text": [
      "2.05\n",
      "1.88\n"
     ]
    },
    {
     "data": {
      "image/png": "[encoded data removed]",
      "text/plain": [
       "<Figure size 432x288 with 1 Axes>"
      ]
     },
     "metadata": {
      "needs_background": "light"
     },
     "output_type": "display_data"
    }
   ],
   "source": [
    "## NOTE: This cell needs to be adapted to a fitting routine\n",
    "\n",
    "## Choose masses to plot:\n",
    "m1 = 2.1\n",
    "m2 = 1.9\n",
    "\n",
    "## Absolute magnitudes depend on the distance chosen:\n",
    "abs_v1 = v1 - 2.5*log10((distance/10)**2)\n",
    "abs_i1 = i1 - 2.5*log10((distance/10)**2)\n",
    "abs_h1 = h1 - 2.5*log10((distance/10)**2)\n",
    "abs_k1 = k1 - 2.5*log10((distance/10)**2)\n",
    "abs_v2 = v2 - 2.5*log10((distance/10)**2)\n",
    "abs_i2 = i2 - 2.5*log10((distance/10)**2)\n",
    "abs_h2 = h2 - 2.5*log10((distance/10)**2)\n",
    "abs_k2 = k2 - 2.5*log10((distance/10)**2)\n",
    "\n",
    "## Data magnitudes:\n",
    "p1 = np.array([abs_v1.nominal_value,abs_i1.nominal_value,abs_h1.nominal_value,abs_k1.nominal_value])\n",
    "p1err = np.array([abs_v1.std_dev,abs_i1.std_dev,abs_h1.std_dev,abs_k1.std_dev])\n",
    "p2 = np.array([abs_v2.nominal_value,abs_i2.nominal_value,abs_h2.nominal_value,abs_k2.nominal_value])\n",
    "p2err = np.array([abs_v2.std_dev,abs_i2.std_dev,abs_h2.std_dev,abs_k2.std_dev])\n",
    "\n",
    "## Choose the closest mass in the model to the ones specified above:\n",
    "idx1 = np.nanargmin(abs(mass-m1))\n",
    "print(mass[idx1])\n",
    "idx2 = np.nanargmin(abs(mass-m2))\n",
    "print(mass[idx2])\n",
    "\n",
    "## Model magnitudes:\n",
    "y1 = np.array([u_model[idx1],b_model[idx1],mv_model[idx1],r_model[idx1],i_model[idx1],j_model[idx1],h_model[idx1],k_model[idx1]])\n",
    "y2 = np.array([u_model[idx2],b_model[idx2],mv_model[idx2],r_model[idx2],i_model[idx2],j_model[idx2],h_model[idx2],k_model[idx2]])\n",
    "x = [365.6,435.3,547.7,634.9,879.7,1220,1630,2190]\n",
    "\n",
    "plt.plot(x,y1,linestyle='dashdot',label='M$_1$=%s M$_{\\odot}$'%mass[idx1])\n",
    "plt.plot(x,y2,linestyle='dotted',label='M$_2$=%s M$_{\\odot}$'%mass[idx2])\n",
    "plt.errorbar(data_wave,p1,p1err,fmt='.')\n",
    "plt.errorbar(data_wave,p2,p2err,fmt='.')\n",
    "plt.title('Spectral SED - HD %s'%target_hd)\n",
    "plt.xlabel('Wavelength (nm)')\n",
    "plt.ylabel('Magnitude')\n",
    "plt.xscale('log')\n",
    "plt.gca().invert_yaxis()\n",
    "plt.legend()\n",
    "plt.savefig(\"%s/HD_%s_mass_spectral_fit.pdf\"%(directory,target_hd))\n",
    "plt.show()"
   ]
  },
  {
   "cell_type": "code",
   "execution_count": null,
   "metadata": {},
   "outputs": [],
   "source": []
  },
  {
   "cell_type": "code",
   "execution_count": null,
   "metadata": {},
   "outputs": [],
   "source": []
  },
  {
   "cell_type": "code",
   "execution_count": null,
   "metadata": {},
   "outputs": [],
   "source": []
  }
 ],
 "metadata": {
  "kernelspec": {
   "display_name": "Python 3 (ipykernel)",
   "language": "python",
   "name": "python3"
  },
  "language_info": {
   "codemirror_mode": {
    "name": "ipython",
    "version": 3
   },
   "file_extension": ".py",
   "mimetype": "text/x-python",
   "name": "python",
   "nbconvert_exporter": "python",
   "pygments_lexer": "ipython3",
   "version": "3.10.6"
  }
 },
 "nbformat": 4,
 "nbformat_minor": 4
}
