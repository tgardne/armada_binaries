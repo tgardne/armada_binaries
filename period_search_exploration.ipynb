{
 "cells": [
  {
   "cell_type": "code",
   "execution_count": 1,
   "metadata": {},
   "outputs": [],
   "source": [
    "from lmfit import minimize, Minimizer, Parameters, Parameter, report_fit\n",
    "import numpy as np\n",
    "import os\n",
    "import matplotlib.pyplot as plt\n",
    "from matplotlib.patches import Ellipse\n",
    "from tqdm import tqdm\n",
    "import matplotlib.cm as cm\n",
    "from read_data import read_data,read_wds,read_orb6\n",
    "from astrometry_model import astrometry_model,triple_model,quad_model,triple_model_circular,quad_model_circular,lnlike,lnprior,lnpost,create_init\n",
    "from orbit_plotting import orbit_model,triple_orbit_model\n",
    "from astroquery.simbad import Simbad\n",
    "from astropy.coordinates import SkyCoord\n",
    "import random\n",
    "from PyAstronomy import pyasl\n",
    "%matplotlib inline"
   ]
  },
  {
   "cell_type": "code",
   "execution_count": 2,
   "metadata": {},
   "outputs": [],
   "source": [
    "def cart2pol(x,y):\n",
    "    x=-x\n",
    "    r = np.sqrt(x**2 + y**2)\n",
    "    theta = np.arctan2(y,x) * 180 / np.pi\n",
    "    if theta>0 and theta<90:\n",
    "        theta_new = theta+270\n",
    "    if theta>90 and theta<360:\n",
    "        theta_new = theta-90\n",
    "    if theta<0:\n",
    "        theta_new = 270+theta\n",
    "    if np.isnan(theta):\n",
    "        theta_new=theta\n",
    "    return(r,theta_new)"
   ]
  },
  {
   "cell_type": "code",
   "execution_count": 3,
   "metadata": {},
   "outputs": [],
   "source": [
    "def add_planet(period,wobble,bigomega,inc,t0,epochs):\n",
    "    omega = 0\n",
    "    ecc = 0\n",
    "    bigomega = bigomega\n",
    "    inc = inc\n",
    "\n",
    "    ## other method:\n",
    "    ke = pyasl.KeplerEllipse(wobble,period,e=ecc,Omega=bigomega,i=inc,w=omega,tau=t0)\n",
    "    pos = ke.xyzPos(epochs)\n",
    "    xx = pos[::,1]\n",
    "    yy = pos[::,0]\n",
    "    return(xx,yy)"
   ]
  },
  {
   "cell_type": "code",
   "execution_count": null,
   "metadata": {},
   "outputs": [],
   "source": []
  },
  {
   "cell_type": "code",
   "execution_count": 4,
   "metadata": {},
   "outputs": [],
   "source": [
    "## setup paths for user\n",
    "path = '/Users/tgardne/ARMADA_orbits'\n",
    "path_etalon = '/Users/tgardne/etalon_epochs/etalon_fits/etalon_factors_fit.txt'\n",
    "path_wds = '/Users/tgardne/wds_targets'\n",
    "path_orb6 = '/Users/tgardne/catalogs/orb6orbits.sql.txt'"
   ]
  },
  {
   "cell_type": "code",
   "execution_count": 5,
   "metadata": {},
   "outputs": [
    {
     "name": "stdout",
     "output_type": "stream",
     "text": [
      "HIP 76852\n",
      "WDS 15416+1940\n",
      "15416+1940\n"
     ]
    }
   ],
   "source": [
    "###########################################\n",
    "## Specify Target\n",
    "###########################################\n",
    "target_hd = '140159'\n",
    "\n",
    "emethod = 'n'\n",
    "mirc_scale = 'n'\n",
    "\n",
    "query = Simbad.query_objectids('HD %s'%target_hd)\n",
    "for item in query:\n",
    "    if 'HIP' in item[0]:\n",
    "        target = item[0].split()[1]\n",
    "        print('HIP %s'%target)\n",
    "    if 'WDS' in item[0]:\n",
    "        target_wds = item[0][5:15]\n",
    "        print('WDS %s'%target_wds)\n",
    "\n",
    "try:\n",
    "    print(target_wds)\n",
    "except:\n",
    "    print('No WDS number queried')\n",
    "    target_wds = input('Enter WDS: ')"
   ]
  },
  {
   "cell_type": "code",
   "execution_count": 6,
   "metadata": {},
   "outputs": [
    {
     "name": "stdout",
     "output_type": "stream",
     "text": [
      "reading chi2 errors\n"
     ]
    }
   ],
   "source": [
    "###########################################\n",
    "## Read in ARMADA data\n",
    "###########################################\n",
    "if emethod == 'y':\n",
    "    print('reading bootstrap errors')\n",
    "    file=open('%s/HD_%s_bootstrap.txt'%(path,target_hd))\n",
    "else:\n",
    "    print('reading chi2 errors')\n",
    "    file=open('%s/HD_%s_chi2err.txt'%(path,target_hd))\n",
    "weight=1\n",
    "\n",
    "t,p,theta,error_maj,error_min,error_pa,error_deg = read_data(file,weight)\n",
    "file.close()"
   ]
  },
  {
   "cell_type": "code",
   "execution_count": 7,
   "metadata": {},
   "outputs": [],
   "source": [
    "### correct PAs based on precession\n",
    "coord = SkyCoord.from_name(\"HD %s\"%target_hd,parse=True)\n",
    "ra = coord.ra.value*np.pi/180\n",
    "dec = coord.dec.value*np.pi/180\n",
    "#theta -= (0.00557*np.sin(ra)/np.cos(dec)*((t-51544.5)/365.25))/180*np.pi"
   ]
  },
  {
   "cell_type": "code",
   "execution_count": 8,
   "metadata": {},
   "outputs": [
    {
     "name": "stdout",
     "output_type": "stream",
     "text": [
      "Closest factor for 58222.3507 is 0.8345060481951805 days away\n",
      "   date      etalon factor\n",
      "58223.4082 1.0025109719562986\n",
      "58158.571 1.0026292119995914\n",
      "59042.1973 0.9994391329775113\n",
      "58636.3086 0.9992840806836619\n",
      "58635.2767 0.9992805209312889\n",
      "59044.2481 0.9994792330971126\n",
      "59004.2807 0.9995092694376418\n",
      "58703.1746 0.99933618747475\n",
      "58222.3507 1.0025109719562986\n",
      "59196.598 0.9995521629823048\n",
      "58693.1558 0.9993432836567131\n",
      "59304.4024 0.9994506844380842\n",
      "Applying etalon correction\n"
     ]
    }
   ],
   "source": [
    "###########################################\n",
    "## Apply etalon correction\n",
    "###########################################\n",
    "file=open(path_etalon)\n",
    "mjd_etalon=[]\n",
    "f_etalon=[]\n",
    "for line in file.readlines():\n",
    "    if line.startswith('#'):\n",
    "        continue\n",
    "    mjd_etalon.append(float(line.split()[0]))\n",
    "    f_etalon.append(float(line.split()[1]))\n",
    "file.close()\n",
    "mjd_etalon=np.array(mjd_etalon)\n",
    "f_etalon=np.array(f_etalon)\n",
    "\n",
    "etalon_factor=[]\n",
    "for i in t:\n",
    "    idx = np.where(abs(i-mjd_etalon)==min(abs(i-mjd_etalon)))\n",
    "    if min(abs(i-mjd_etalon))>0.5:\n",
    "        print('Closest factor for %s is %s days away'%(i,min(abs(i-mjd_etalon))))\n",
    "    f = f_etalon[idx][0]\n",
    "    etalon_factor.append(f)\n",
    "etalon_factor=np.array(etalon_factor)\n",
    "\n",
    "print('   date      etalon factor')\n",
    "for i,j in zip(t,etalon_factor):\n",
    "    print(i,j)\n",
    "\n",
    "## apply etalon correction\n",
    "etalon = 'y'\n",
    "\n",
    "vlti = 'n'\n",
    "if vlti=='y':\n",
    "    vlti_idx = input('enter indices (e.g. 1 2 3): ').split(' ')\n",
    "    vlti_idx = np.array([int(i) for i in vlti_idx])\n",
    "else:\n",
    "    vlti_idx = np.array([])\n",
    "\n",
    "if etalon=='y':\n",
    "    print('Applying etalon correction')\n",
    "    if len(vlti_idx)>0:\n",
    "        etalon_factor[vlti_idx] = 1.0\n",
    "    p = p/etalon_factor\n",
    "else:\n",
    "    print('No etalon correction applied')\n",
    "xpos=p*np.sin(theta)\n",
    "ypos=p*np.cos(theta)"
   ]
  },
  {
   "cell_type": "code",
   "execution_count": 9,
   "metadata": {},
   "outputs": [
    {
     "name": "stdout",
     "output_type": "stream",
     "text": [
      "Number of WDS data points = 48\n"
     ]
    },
    {
     "data": {
      "image/png": "[encoded data removed]",
      "text/plain": [
       "<Figure size 432x288 with 1 Axes>"
      ]
     },
     "metadata": {
      "needs_background": "light"
     },
     "output_type": "display_data"
    }
   ],
   "source": [
    "###########################################\n",
    "## Read in WDS data - and plot to check\n",
    "###########################################\n",
    "file=open(os.path.expanduser(\"%s/wds%s.txt\"%(path_wds,target_wds)))\n",
    "weight = 10\n",
    "dtype = 'S'\n",
    "\n",
    "t_wds,p_wds,theta_wds,error_maj_wds,error_min_wds,error_pa_wds,error_deg_wds = read_wds(file,weight,dtype)\n",
    "print('Number of WDS data points = %s'%len(p_wds))\n",
    "\n",
    "## correct WDS for PA\n",
    "theta_wds -= (0.00557*np.sin(ra)/np.cos(dec)*((t_wds-51544.5)/365.25))/180*np.pi\n",
    "\n",
    "xpos_wds=p_wds*np.sin(theta_wds)\n",
    "ypos_wds=p_wds*np.cos(theta_wds)\n",
    "idx = np.argmin(t)\n",
    "\n",
    "plt.plot(xpos_wds,ypos_wds,'o',label='WDS')\n",
    "plt.plot(xpos_wds[0],ypos_wds[0],'*')\n",
    "plt.plot(xpos[idx],ypos[idx],'*')\n",
    "plt.plot(xpos,ypos,'+',label='ARMADA')\n",
    "plt.plot(0,0,'*')\n",
    "plt.gca().invert_xaxis()\n",
    "plt.title('All Data')\n",
    "plt.xlabel('dra (mas)')\n",
    "plt.ylabel('ddec (mas)')\n",
    "plt.legend()\n",
    "plt.show()"
   ]
  },
  {
   "cell_type": "code",
   "execution_count": 10,
   "metadata": {},
   "outputs": [
    {
     "name": "stdout",
     "output_type": "stream",
     "text": [
      "found target!\n",
      "--------------------------\n",
      "a(mas),P(yr),e,i(deg),omega(deg),bigomega(deg),T(mjd)\n",
      "210.32999999999998 21.958904109589042 0.0941 83.608 80.5 69.684 54180.0\n",
      "--------------------------\n"
     ]
    }
   ],
   "source": [
    "###########################################\n",
    "## Get an estimate of the orbital parameters\n",
    "###########################################\n",
    "try:\n",
    "    a,P,e,inc,omega,bigomega,T = read_orb6(target,path_orb6)\n",
    "except:\n",
    "    print('No elements found in ORB6')"
   ]
  },
  {
   "cell_type": "code",
   "execution_count": 11,
   "metadata": {},
   "outputs": [],
   "source": [
    "###########################################\n",
    "## Combined WDS+ARMADA for fitting\n",
    "###########################################\n",
    "xpos_all = np.concatenate([xpos,xpos_wds])\n",
    "ypos_all = np.concatenate([ypos,ypos_wds])\n",
    "t_all = np.concatenate([t,t_wds])\n",
    "error_maj_all = np.concatenate([error_maj,error_maj_wds])\n",
    "error_min_all = np.concatenate([error_min,error_min_wds])\n",
    "error_pa_all = np.concatenate([error_pa,error_pa_wds])\n",
    "error_deg_all = np.concatenate([error_deg,error_deg_wds])"
   ]
  },
  {
   "cell_type": "code",
   "execution_count": 12,
   "metadata": {},
   "outputs": [],
   "source": [
    "##########################################\n",
    "## Function for fitting/plotting data\n",
    "#########################################\n",
    "def ls_fit(params,xp,yp,tp,emaj,emin,epa):\n",
    "    #do fit, minimizer uses LM for least square fitting of model to data\n",
    "    minner = Minimizer(astrometry_model, params, fcn_args=(xp,yp,tp,\n",
    "                                                       emaj,emin,epa),\n",
    "                            nan_policy='omit')\n",
    "    result = minner.minimize()\n",
    "    # write error report\n",
    "    print(report_fit(result))\n",
    "\n",
    "    ## plot fit\n",
    "    a_start = result.params['a']\n",
    "    P_start = result.params['P']\n",
    "    e_start = result.params['e']\n",
    "    inc_start = result.params['inc']\n",
    "    w_start = result.params['w']\n",
    "    bigw_start = result.params['bigw']\n",
    "    T_start = result.params['T']\n",
    "\n",
    "    ra,dec,rapoints,decpoints = orbit_model(a_start,e_start,inc_start,\n",
    "                                            w_start,bigw_start,P_start,\n",
    "                                            T_start,t_all)\n",
    "    fig,ax=plt.subplots()\n",
    "    ax.plot(xpos_all[len(xpos):], ypos_all[len(xpos):], 'o', label='WDS')\n",
    "    ax.plot(xpos,ypos,'o', label='ARMADA')\n",
    "    ax.plot(0,0,'*')\n",
    "    ax.plot(ra, dec, '--',color='g')\n",
    "    #plot lines from data to best fit orbit\n",
    "    i=0\n",
    "    while i<len(decpoints):\n",
    "        x=[xpos_all[i],rapoints[i]]\n",
    "        y=[ypos_all[i],decpoints[i]]\n",
    "        ax.plot(x,y,color=\"black\")\n",
    "        i+=1\n",
    "    ax.set_xlabel('milli-arcsec')\n",
    "    ax.set_ylabel('milli-arcsec')\n",
    "    ax.invert_xaxis()\n",
    "    ax.axis('equal')\n",
    "    ax.set_title('HD%s Outer Orbit'%target_hd)\n",
    "    plt.legend()\n",
    "    plt.show()\n",
    "\n",
    "    return result"
   ]
  },
  {
   "cell_type": "markdown",
   "metadata": {},
   "source": [
    "## First Inject a Single Planet as Test"
   ]
  },
  {
   "cell_type": "code",
   "execution_count": null,
   "metadata": {},
   "outputs": [],
   "source": [
    "############################################\n",
    "## ADD A FAKE PLANET\n",
    "############################################\n",
    "print('ADDING FAKE PLANET')\n",
    "pper = 100\n",
    "psem = 0.5\n",
    "\n",
    "bigw_injected1 = np.random.uniform(0,360)\n",
    "inc_injected1 = np.random.uniform(0,180)\n",
    "t0_injected1 = np.random.uniform(min(t),max(t))\n",
    "\n",
    "planet_xy = add_planet(pper,psem,bigw_injected1,inc_injected1,t0_injected1,t)\n",
    "planet_xy_wds = add_planet(pper,psem,bigw_injected1,inc_injected1,t0_injected1,t_wds)\n",
    "planet_xy_all = add_planet(pper,psem,bigw_injected1,inc_injected1,t0_injected1,t_all)\n",
    "\n",
    "xpos += planet_xy[0]\n",
    "ypos += planet_xy[1]\n",
    "xpos_wds += planet_xy_wds[0]\n",
    "ypos_wds += planet_xy_wds[1]\n",
    "xpos_all += planet_xy_all[0]\n",
    "ypos_all += planet_xy_all[1]"
   ]
  },
  {
   "cell_type": "code",
   "execution_count": null,
   "metadata": {},
   "outputs": [],
   "source": [
    "###########################################\n",
    "## Do a least-squares fit\n",
    "###########################################\n",
    "params = Parameters()\n",
    "params.add('w',   value= omega, min=0, max=360)\n",
    "params.add('bigw', value= bigomega, min=0, max=360)\n",
    "params.add('inc', value= inc, min=0, max=180)\n",
    "params.add('e', value= e, min=0, max=0.99)\n",
    "params.add('a', value= a, min=0)\n",
    "params.add('P', value= P, min=0)\n",
    "params.add('T', value= T, min=0)\n",
    "params.add('mirc_scale', value= 1.0, vary=False)\n",
    "\n",
    "result = ls_fit(params,xpos_all,ypos_all,t_all,error_maj_all,error_min_all,error_pa_all)"
   ]
  },
  {
   "cell_type": "code",
   "execution_count": null,
   "metadata": {},
   "outputs": [],
   "source": [
    "result.params['inc']"
   ]
  },
  {
   "cell_type": "code",
   "execution_count": null,
   "metadata": {},
   "outputs": [],
   "source": []
  },
  {
   "cell_type": "code",
   "execution_count": null,
   "metadata": {},
   "outputs": [],
   "source": [
    "resids_armada = astrometry_model(result.params,xpos,ypos,t,error_maj,\n",
    "                            error_min,error_pa)\n",
    "ndata_armada = 2*sum(~np.isnan(xpos))\n",
    "chi2_armada = np.nansum(resids_armada**2)/(ndata_armada-len(result.params))\n",
    "print('-'*10)\n",
    "print('chi2 armada = %s'%chi2_armada)"
   ]
  },
  {
   "cell_type": "code",
   "execution_count": null,
   "metadata": {},
   "outputs": [],
   "source": [
    "scale=1\n",
    "if chi2_armada<1.0:\n",
    "    scale=1/np.sqrt(chi2_armada)\n",
    "a_start = result.params['a']\n",
    "P_start = result.params['P']\n",
    "e_start = result.params['e']\n",
    "inc_start = result.params['inc']\n",
    "w_start = result.params['w']\n",
    "bigw_start = result.params['bigw']\n",
    "T_start = result.params['T']\n",
    "ra,dec,rapoints,decpoints = orbit_model(a_start,e_start,inc_start,\n",
    "                                        w_start,bigw_start,P_start,\n",
    "                                        T_start,t_all)"
   ]
  },
  {
   "cell_type": "code",
   "execution_count": null,
   "metadata": {},
   "outputs": [],
   "source": [
    "## plot resids for ARMADA\n",
    "fig,ax=plt.subplots()\n",
    "xresid = xpos - rapoints[:len(xpos)]\n",
    "yresid = ypos - decpoints[:len(ypos)]\n",
    "\n",
    "#need to measure error ellipse angle east of north\n",
    "for ras, decs, w, h, angle in zip(xresid,yresid,error_maj/scale,error_min/scale,error_deg):\n",
    "    ellipse = Ellipse(xy=(ras, decs), width=2*w, height=2*h, \n",
    "                      angle=90-angle, facecolor='none', edgecolor='black')\n",
    "    ax.add_patch(ellipse)\n",
    "\n",
    "ax.plot(xresid, yresid, 'o')\n",
    "ax.plot(0,0,'*')\n",
    "ax.set_xlabel('milli-arcsec')\n",
    "ax.set_ylabel('milli-arcsec')\n",
    "ax.invert_xaxis()\n",
    "ax.axis('equal')\n",
    "ax.set_title('HD%s Resids'%target_hd)\n",
    "plt.show()\n",
    "\n",
    "plt.errorbar(t,xresid,yerr=error_maj/scale*np.sin(error_deg*np.pi/180),fmt='o')\n",
    "plt.xlabel('Time')\n",
    "plt.ylabel('dRA (mas)')\n",
    "plt.show()\n",
    "\n",
    "plt.errorbar(t,yresid,yerr=error_maj/scale*np.cos(error_deg*np.pi/180),fmt='o')\n",
    "plt.xlabel('Time')\n",
    "plt.ylabel('dRA (mas)')\n",
    "plt.show()\n",
    "\n",
    "## residuals\n",
    "resids = np.sqrt(xresid**2 + yresid**2)\n",
    "resids_median = np.around(np.median(resids)*1000,2)\n",
    "print('-'*10)\n",
    "print('Mean residual = %s micro-as'%resids_median)\n",
    "print('-'*10)"
   ]
  },
  {
   "cell_type": "code",
   "execution_count": null,
   "metadata": {},
   "outputs": [],
   "source": [
    "##########################################\n",
    "## Grid Search for Additional Companions\n",
    "##########################################\n",
    "\n",
    "## New test -- try period spacing from PHASES III paper\n",
    "time_span = max(t) - min(t)\n",
    "print('Time span of data = %s days'%time_span)\n",
    "f = 5\n",
    "min_per = 2\n",
    "max_k = int(2*f*time_span / min_per)\n",
    "k_range = np.arange(max_k)[:-1] + 1\n",
    "P2 = 2*f*time_span / k_range\n",
    "print('Min/Max period (days) = %s / %s ; %s steps'%(min(P2),max(P2),len(k_range)))\n",
    "\n",
    "ss = 0.01\n",
    "se = 1\n",
    "#P2 = np.linspace(ps,pe,steps)\n",
    "#P2 = np.logspace(np.log10(ps),np.log10(pe),1000)\n",
    "\n",
    "a2 = resids_median/1000\n",
    "if np.isnan(a2):\n",
    "    a2=1\n",
    "#T2 = 55075\n",
    "\n",
    "P2 = np.logspace(0,2.5,200)"
   ]
  },
  {
   "cell_type": "code",
   "execution_count": null,
   "metadata": {},
   "outputs": [],
   "source": [
    "print('Grid Searching over period')\n",
    "params_inner=[]\n",
    "params_outer=[]\n",
    "chi2 = []\n",
    "\n",
    "for period in tqdm(P2):\n",
    "    params_inner_n=[]\n",
    "    params_outer_n=[]\n",
    "    chi2_n = []\n",
    "\n",
    "    for i in np.arange(20):\n",
    "        ## randomize orbital elements\n",
    "        bigw2 = np.random.uniform(0,360)\n",
    "        inc2 = np.random.uniform(0,180)\n",
    "        T2 = np.random.uniform(58000,60000)\n",
    "\n",
    "        params = Parameters()\n",
    "        params.add('w',   value= w_start, min=0, max=360)\n",
    "        params.add('bigw', value= bigw_start, min=0, max=360)\n",
    "        params.add('inc', value= inc_start, min=0, max=180)\n",
    "        params.add('e', value= e_start, min=0, max=0.99)\n",
    "        params.add('a', value= a_start, min=0)\n",
    "        params.add('P', value= P_start, min=0)\n",
    "        params.add('T', value= T_start, min=0)\n",
    "        params.add('w2',   value= 0, vary=False)\n",
    "        params.add('bigw2', value= bigw2, min=0, max=360)\n",
    "        params.add('inc2', value= inc2, min=0, max=180)\n",
    "        params.add('e2', value= 0, vary=False)\n",
    "        params.add('a2', value= a2, min=0)\n",
    "        params.add('P2', value= period, vary=False)\n",
    "        params.add('T2', value= T2, min=0)\n",
    "        \n",
    "        if mirc_scale == 'y':\n",
    "            params.add('mirc_scale', value= 1.0)\n",
    "        else:\n",
    "            params.add('mirc_scale', value= 1.0, vary=False)\n",
    "\n",
    "        #params.add('pscale', value=1)\n",
    "\n",
    "        #do fit, minimizer uses LM for least square fitting of model to data\n",
    "        minner = Minimizer(triple_model, params, fcn_args=(xpos_all,ypos_all,t_all,\n",
    "                                                           error_maj_all,error_min_all,\n",
    "                                                           error_pa_all),\n",
    "                          nan_policy='omit')\n",
    "        result = minner.leastsq(xtol=1e-5,ftol=1e-5)\n",
    "        params_inner_n.append([result.params['P2'],result.params['a2'],result.params['e2'],result.params['w2']\n",
    "                            ,result.params['bigw2'],result.params['inc2'],result.params['T2']])\n",
    "        params_outer_n.append([result.params['P'],result.params['a'],result.params['e'],result.params['w']\n",
    "                            ,result.params['bigw'],result.params['inc'],result.params['T']])\n",
    "        chi2_n.append(result.chisqr)\n",
    "\n",
    "    params_inner_n=np.array(params_inner_n)\n",
    "    params_outer_n=np.array(params_outer_n)\n",
    "    chi2_n = np.array(chi2_n)\n",
    "    #chi2_noise_n = np.array(chi2_noise_n)\n",
    "\n",
    "    idx = np.argmin(chi2_n)\n",
    "    #idx_n = np.argmin(chi2_noise_n)\n",
    "    chi2.append(chi2_n[idx])\n",
    "    #chi2_noise.append(chi2_noise_n[idx_n])\n",
    "    params_inner.append(params_inner_n[idx])\n",
    "    params_outer.append(params_outer_n[idx])"
   ]
  },
  {
   "cell_type": "code",
   "execution_count": null,
   "metadata": {},
   "outputs": [],
   "source": [
    "chi2 = np.array(chi2)\n",
    "params_inner = np.array(params_inner)\n",
    "params_outer = np.array(params_outer)\n",
    "\n",
    "idx = np.argmin(chi2)\n",
    "best_period = params_inner[:,0][idx]\n",
    "print('Best Period = ', best_period)"
   ]
  },
  {
   "cell_type": "code",
   "execution_count": null,
   "metadata": {},
   "outputs": [],
   "source": [
    "plt.plot(params_inner[:,0],1/chi2)\n",
    "plt.plot([pper,pper],[min(1/chi2),max(1/chi2)],'--',label='%s uas'%(psem*1000))\n",
    "plt.xlabel('Period (days)')\n",
    "plt.ylabel('1/chi2')\n",
    "plt.legend()\n",
    "plt.show()"
   ]
  },
  {
   "cell_type": "code",
   "execution_count": null,
   "metadata": {},
   "outputs": [],
   "source": []
  },
  {
   "cell_type": "markdown",
   "metadata": {},
   "source": [
    "## Now Add 2 Planets"
   ]
  },
  {
   "cell_type": "code",
   "execution_count": 13,
   "metadata": {},
   "outputs": [
    {
     "name": "stdout",
     "output_type": "stream",
     "text": [
      "reading chi2 errors\n"
     ]
    }
   ],
   "source": [
    "###########################################\n",
    "## Read in ARMADA data\n",
    "###########################################\n",
    "if emethod == 'y':\n",
    "    print('reading bootstrap errors')\n",
    "    file=open('%s/HD_%s_bootstrap.txt'%(path,target_hd))\n",
    "else:\n",
    "    print('reading chi2 errors')\n",
    "    file=open('%s/HD_%s_chi2err.txt'%(path,target_hd))\n",
    "weight=1\n",
    "\n",
    "t,p,theta,error_maj,error_min,error_pa,error_deg = read_data(file,weight)\n",
    "file.close()"
   ]
  },
  {
   "cell_type": "code",
   "execution_count": 14,
   "metadata": {},
   "outputs": [],
   "source": [
    "### correct PAs based on precession\n",
    "coord = SkyCoord.from_name(\"HD %s\"%target_hd,parse=True)\n",
    "ra = coord.ra.value*np.pi/180\n",
    "dec = coord.dec.value*np.pi/180\n",
    "#theta -= (0.00557*np.sin(ra)/np.cos(dec)*((t-51544.5)/365.25))/180*np.pi"
   ]
  },
  {
   "cell_type": "code",
   "execution_count": 15,
   "metadata": {},
   "outputs": [
    {
     "name": "stdout",
     "output_type": "stream",
     "text": [
      "Closest factor for 58222.3507 is 0.8345060481951805 days away\n",
      "   date      etalon factor\n",
      "58223.4082 1.0025109719562986\n",
      "58158.571 1.0026292119995914\n",
      "59042.1973 0.9994391329775113\n",
      "58636.3086 0.9992840806836619\n",
      "58635.2767 0.9992805209312889\n",
      "59044.2481 0.9994792330971126\n",
      "59004.2807 0.9995092694376418\n",
      "58703.1746 0.99933618747475\n",
      "58222.3507 1.0025109719562986\n",
      "59196.598 0.9995521629823048\n",
      "58693.1558 0.9993432836567131\n",
      "59304.4024 0.9994506844380842\n",
      "Applying etalon correction\n"
     ]
    }
   ],
   "source": [
    "###########################################\n",
    "## Apply etalon correction\n",
    "###########################################\n",
    "file=open(path_etalon)\n",
    "mjd_etalon=[]\n",
    "f_etalon=[]\n",
    "for line in file.readlines():\n",
    "    if line.startswith('#'):\n",
    "        continue\n",
    "    mjd_etalon.append(float(line.split()[0]))\n",
    "    f_etalon.append(float(line.split()[1]))\n",
    "file.close()\n",
    "mjd_etalon=np.array(mjd_etalon)\n",
    "f_etalon=np.array(f_etalon)\n",
    "\n",
    "etalon_factor=[]\n",
    "for i in t:\n",
    "    idx = np.where(abs(i-mjd_etalon)==min(abs(i-mjd_etalon)))\n",
    "    if min(abs(i-mjd_etalon))>0.5:\n",
    "        print('Closest factor for %s is %s days away'%(i,min(abs(i-mjd_etalon))))\n",
    "    f = f_etalon[idx][0]\n",
    "    etalon_factor.append(f)\n",
    "etalon_factor=np.array(etalon_factor)\n",
    "\n",
    "print('   date      etalon factor')\n",
    "for i,j in zip(t,etalon_factor):\n",
    "    print(i,j)\n",
    "\n",
    "## apply etalon correction\n",
    "etalon = 'y'\n",
    "\n",
    "vlti = 'n'\n",
    "if vlti=='y':\n",
    "    vlti_idx = input('enter indices (e.g. 1 2 3): ').split(' ')\n",
    "    vlti_idx = np.array([int(i) for i in vlti_idx])\n",
    "else:\n",
    "    vlti_idx = np.array([])\n",
    "\n",
    "if etalon=='y':\n",
    "    print('Applying etalon correction')\n",
    "    if len(vlti_idx)>0:\n",
    "        etalon_factor[vlti_idx] = 1.0\n",
    "    p = p/etalon_factor\n",
    "else:\n",
    "    print('No etalon correction applied')\n",
    "xpos=p*np.sin(theta)\n",
    "ypos=p*np.cos(theta)"
   ]
  },
  {
   "cell_type": "code",
   "execution_count": 16,
   "metadata": {},
   "outputs": [
    {
     "name": "stdout",
     "output_type": "stream",
     "text": [
      "Number of WDS data points = 48\n"
     ]
    },
    {
     "data": {
      "image/png": "[encoded data removed]",
      "text/plain": [
       "<Figure size 432x288 with 1 Axes>"
      ]
     },
     "metadata": {
      "needs_background": "light"
     },
     "output_type": "display_data"
    }
   ],
   "source": [
    "###########################################\n",
    "## Read in WDS data - and plot to check\n",
    "###########################################\n",
    "file=open(os.path.expanduser(\"%s/wds%s.txt\"%(path_wds,target_wds)))\n",
    "weight = 10\n",
    "dtype = 'S'\n",
    "\n",
    "t_wds,p_wds,theta_wds,error_maj_wds,error_min_wds,error_pa_wds,error_deg_wds = read_wds(file,weight,dtype)\n",
    "print('Number of WDS data points = %s'%len(p_wds))\n",
    "\n",
    "## correct WDS for PA\n",
    "theta_wds -= (0.00557*np.sin(ra)/np.cos(dec)*((t_wds-51544.5)/365.25))/180*np.pi\n",
    "\n",
    "xpos_wds=p_wds*np.sin(theta_wds)\n",
    "ypos_wds=p_wds*np.cos(theta_wds)\n",
    "idx = np.argmin(t)\n",
    "\n",
    "plt.plot(xpos_wds,ypos_wds,'o',label='WDS')\n",
    "plt.plot(xpos_wds[0],ypos_wds[0],'*')\n",
    "plt.plot(xpos[idx],ypos[idx],'*')\n",
    "plt.plot(xpos,ypos,'+',label='ARMADA')\n",
    "plt.plot(0,0,'*')\n",
    "plt.gca().invert_xaxis()\n",
    "plt.title('All Data')\n",
    "plt.xlabel('dra (mas)')\n",
    "plt.ylabel('ddec (mas)')\n",
    "plt.legend()\n",
    "plt.show()"
   ]
  },
  {
   "cell_type": "code",
   "execution_count": 17,
   "metadata": {},
   "outputs": [
    {
     "name": "stdout",
     "output_type": "stream",
     "text": [
      "found target!\n",
      "--------------------------\n",
      "a(mas),P(yr),e,i(deg),omega(deg),bigomega(deg),T(mjd)\n",
      "210.32999999999998 21.958904109589042 0.0941 83.608 80.5 69.684 54180.0\n",
      "--------------------------\n"
     ]
    }
   ],
   "source": [
    "###########################################\n",
    "## Get an estimate of the orbital parameters\n",
    "###########################################\n",
    "try:\n",
    "    a,P,e,inc,omega,bigomega,T = read_orb6(target,path_orb6)\n",
    "except:\n",
    "    print('No elements found in ORB6')"
   ]
  },
  {
   "cell_type": "code",
   "execution_count": 18,
   "metadata": {},
   "outputs": [],
   "source": [
    "###########################################\n",
    "## Combined WDS+ARMADA for fitting\n",
    "###########################################\n",
    "xpos_all = np.concatenate([xpos,xpos_wds])\n",
    "ypos_all = np.concatenate([ypos,ypos_wds])\n",
    "t_all = np.concatenate([t,t_wds])\n",
    "error_maj_all = np.concatenate([error_maj,error_maj_wds])\n",
    "error_min_all = np.concatenate([error_min,error_min_wds])\n",
    "error_pa_all = np.concatenate([error_pa,error_pa_wds])\n",
    "error_deg_all = np.concatenate([error_deg,error_deg_wds])"
   ]
  },
  {
   "cell_type": "code",
   "execution_count": 19,
   "metadata": {},
   "outputs": [
    {
     "name": "stdout",
     "output_type": "stream",
     "text": [
      "ADDING 2 FAKE PLANETS\n"
     ]
    }
   ],
   "source": [
    "############################################\n",
    "## ADD A FAKE PLANET\n",
    "############################################\n",
    "print('ADDING 2 FAKE PLANETS')\n",
    "pper1 = 100\n",
    "psem1 = 0.5\n",
    "\n",
    "pper2 = 5\n",
    "psem2 = 0.5\n",
    "\n",
    "bigw_injected1 = np.random.uniform(0,360)\n",
    "inc_injected1 = np.random.uniform(0,180)\n",
    "t0_injected1 = np.random.uniform(min(t),max(t))\n",
    "bigw_injected2 = np.random.uniform(0,360)\n",
    "inc_injected2 = np.random.uniform(0,180)\n",
    "t0_injected2 = np.random.uniform(min(t),max(t))\n",
    "\n",
    "planet_xy = add_planet(pper1,psem1,bigw_injected1,inc_injected1,t0_injected1,t)\n",
    "planet_xy_wds = add_planet(pper1,psem1,bigw_injected1,inc_injected1,t0_injected1,t_wds)\n",
    "planet_xy_all = add_planet(pper1,psem1,bigw_injected1,inc_injected1,t0_injected1,t_all)\n",
    "planet_xy2 = add_planet(pper2,psem2,bigw_injected2,inc_injected2,t0_injected2,t)\n",
    "planet_xy2_wds = add_planet(pper2,psem2,bigw_injected2,inc_injected2,t0_injected2,t_wds)\n",
    "planet_xy2_all = add_planet(pper2,psem2,bigw_injected2,inc_injected2,t0_injected2,t_all)\n",
    "\n",
    "xpos += planet_xy[0] + planet_xy2[0]\n",
    "ypos += planet_xy[1] + planet_xy2[1]\n",
    "xpos_wds += planet_xy_wds[0] + planet_xy2_wds[0]\n",
    "ypos_wds += planet_xy_wds[1] + planet_xy2_wds[1]\n",
    "xpos_all += planet_xy_all[0] + planet_xy2_all[0]\n",
    "ypos_all += planet_xy_all[1] + planet_xy2_all[1]\n",
    "\n"
   ]
  },
  {
   "cell_type": "code",
   "execution_count": 20,
   "metadata": {},
   "outputs": [
    {
     "name": "stdout",
     "output_type": "stream",
     "text": [
      "[[Fit Statistics]]\n",
      "    # fitting method   = leastsq\n",
      "    # function evals   = 33\n",
      "    # data points      = 120\n",
      "    # variables        = 7\n",
      "    chi-square         = 1516.83784\n",
      "    reduced chi-square = 13.4233437\n",
      "    Akaike info crit   = 318.426960\n",
      "    Bayesian info crit = 337.939402\n",
      "[[Variables]]\n",
      "    w:           79.5049052 +/- 7.81535843 (9.83%) (init = 80.5)\n",
      "    bigw:        69.7710911 +/- 0.13463392 (0.19%) (init = 69.684)\n",
      "    inc:         83.7767014 +/- 0.15069508 (0.18%) (init = 83.608)\n",
      "    e:           0.12157363 +/- 0.01643808 (13.52%) (init = 0.0941)\n",
      "    a:           215.779372 +/- 2.51794874 (1.17%) (init = 210.33)\n",
      "    P:           8019.36084 +/- 32.1097196 (0.40%) (init = 8015)\n",
      "    T:           54139.2445 +/- 219.597989 (0.41%) (init = 54180)\n",
      "    mirc_scale:  1 (fixed)\n",
      "[[Correlations]] (unreported correlations are < 0.100)\n",
      "    C(w, T)      =  0.998\n",
      "    C(inc, a)    =  0.983\n",
      "    C(inc, e)    =  0.967\n",
      "    C(e, a)      =  0.945\n",
      "    C(w, bigw)   =  0.917\n",
      "    C(bigw, T)   =  0.910\n",
      "    C(e, T)      = -0.746\n",
      "    C(w, e)      = -0.741\n",
      "    C(bigw, e)   = -0.609\n",
      "    C(a, T)      = -0.608\n",
      "    C(inc, T)    = -0.604\n",
      "    C(w, inc)    = -0.589\n",
      "    C(w, a)      = -0.584\n",
      "    C(e, P)      = -0.495\n",
      "    C(bigw, inc) = -0.473\n",
      "    C(w, P)      =  0.448\n",
      "    C(bigw, P)   =  0.436\n",
      "    C(bigw, a)   = -0.430\n",
      "    C(P, T)      =  0.391\n",
      "    C(inc, P)    = -0.338\n",
      "    C(a, P)      = -0.216\n",
      "None\n"
     ]
    },
    {
     "data": {
      "image/png": "[encoded data removed]",
      "text/plain": [
       "<Figure size 432x288 with 1 Axes>"
      ]
     },
     "metadata": {
      "needs_background": "light"
     },
     "output_type": "display_data"
    }
   ],
   "source": [
    "###########################################\n",
    "## Do a least-squares fit\n",
    "###########################################\n",
    "params = Parameters()\n",
    "params.add('w',   value= omega, min=0, max=360)\n",
    "params.add('bigw', value= bigomega, min=0, max=360)\n",
    "params.add('inc', value= inc, min=0, max=180)\n",
    "params.add('e', value= e, min=0, max=0.99)\n",
    "params.add('a', value= a, min=0)\n",
    "params.add('P', value= P, min=0)\n",
    "params.add('T', value= T, min=0)\n",
    "params.add('mirc_scale', value= 1.0, vary=False)\n",
    "\n",
    "result = ls_fit(params,xpos_all,ypos_all,t_all,error_maj_all,error_min_all,error_pa_all)"
   ]
  },
  {
   "cell_type": "code",
   "execution_count": 21,
   "metadata": {},
   "outputs": [
    {
     "name": "stdout",
     "output_type": "stream",
     "text": [
      "----------\n",
      "chi2 armada = 90.67620976796391\n",
      "----------\n"
     ]
    }
   ],
   "source": [
    "resids_armada = astrometry_model(result.params,xpos,ypos,t,error_maj,\n",
    "                            error_min,error_pa)\n",
    "ndata_armada = 2*sum(~np.isnan(xpos))\n",
    "chi2_armada = np.nansum(resids_armada**2)/(ndata_armada-len(result.params))\n",
    "print('-'*10)\n",
    "print('chi2 armada = %s'%chi2_armada)\n",
    "print('-'*10)"
   ]
  },
  {
   "cell_type": "code",
   "execution_count": 22,
   "metadata": {},
   "outputs": [],
   "source": [
    "scale=1\n",
    "if chi2_armada<1.0:\n",
    "    scale=1/np.sqrt(chi2_armada)\n",
    "a_start = result.params['a']\n",
    "P_start = result.params['P']\n",
    "e_start = result.params['e']\n",
    "inc_start = result.params['inc']\n",
    "w_start = result.params['w']\n",
    "bigw_start = result.params['bigw']\n",
    "T_start = result.params['T']\n",
    "ra,dec,rapoints,decpoints = orbit_model(a_start,e_start,inc_start,\n",
    "                                        w_start,bigw_start,P_start,\n",
    "                                        T_start,t_all)\n"
   ]
  },
  {
   "cell_type": "code",
   "execution_count": 23,
   "metadata": {},
   "outputs": [
    {
     "data": {
      "image/png": "[encoded data removed]",
      "text/plain": [
       "<Figure size 432x288 with 1 Axes>"
      ]
     },
     "metadata": {
      "needs_background": "light"
     },
     "output_type": "display_data"
    },
    {
     "data": {
      "image/png": "[encoded data removed]",
      "text/plain": [
       "<Figure size 432x288 with 1 Axes>"
      ]
     },
     "metadata": {
      "needs_background": "light"
     },
     "output_type": "display_data"
    },
    {
     "data": {
      "image/png": "[encoded data removed]",
      "text/plain": [
       "<Figure size 432x288 with 1 Axes>"
      ]
     },
     "metadata": {
      "needs_background": "light"
     },
     "output_type": "display_data"
    },
    {
     "name": "stdout",
     "output_type": "stream",
     "text": [
      "----------\n",
      "Mean residual = 483.86 micro-as\n",
      "----------\n"
     ]
    }
   ],
   "source": [
    "## plot resids for ARMADA\n",
    "fig,ax=plt.subplots()\n",
    "xresid = xpos - rapoints[:len(xpos)]\n",
    "yresid = ypos - decpoints[:len(ypos)]\n",
    "\n",
    "#need to measure error ellipse angle east of north\n",
    "for ras, decs, w, h, angle in zip(xresid,yresid,error_maj/scale,error_min/scale,error_deg):\n",
    "    ellipse = Ellipse(xy=(ras, decs), width=2*w, height=2*h, \n",
    "                      angle=90-angle, facecolor='none', edgecolor='black')\n",
    "    ax.add_patch(ellipse)\n",
    "\n",
    "ax.plot(xresid, yresid, 'o')\n",
    "ax.plot(0,0,'*')\n",
    "ax.set_xlabel('milli-arcsec')\n",
    "ax.set_ylabel('milli-arcsec')\n",
    "ax.invert_xaxis()\n",
    "ax.axis('equal')\n",
    "ax.set_title('HD%s Resids'%target_hd)\n",
    "plt.show()\n",
    "\n",
    "plt.errorbar(t,xresid,yerr=error_maj/scale*np.sin(error_deg*np.pi/180),fmt='o')\n",
    "plt.xlabel('Time')\n",
    "plt.ylabel('dRA (mas)')\n",
    "plt.show()\n",
    "\n",
    "plt.errorbar(t,yresid,yerr=error_maj/scale*np.cos(error_deg*np.pi/180),fmt='o')\n",
    "plt.xlabel('Time')\n",
    "plt.ylabel('dRA (mas)')\n",
    "plt.show()\n",
    "\n",
    "## residuals\n",
    "resids = np.sqrt(xresid**2 + yresid**2)\n",
    "resids_median = np.around(np.median(resids)*1000,2)\n",
    "print('-'*10)\n",
    "print('Mean residual = %s micro-as'%resids_median)\n",
    "print('-'*10)\n",
    "\n",
    "a2 = resids_median/1000\n"
   ]
  },
  {
   "cell_type": "markdown",
   "metadata": {},
   "source": [
    "## Test fitting routine"
   ]
  },
  {
   "cell_type": "code",
   "execution_count": 24,
   "metadata": {},
   "outputs": [
    {
     "name": "stdout",
     "output_type": "stream",
     "text": [
      "113.77492377600001\n"
     ]
    }
   ],
   "source": [
    "import psutil\n",
    "process = psutil.Process(os.getpid())\n",
    "print(process.memory_info().vms*1e-9)"
   ]
  },
  {
   "cell_type": "code",
   "execution_count": 30,
   "metadata": {},
   "outputs": [
    {
     "name": "stderr",
     "output_type": "stream",
     "text": [
      "100%|██████████| 20/20 [00:08<00:00,  2.43it/s]\n"
     ]
    }
   ],
   "source": [
    "niter = 20\n",
    "\n",
    "params_inner1_test=np.zeros(shape=(niter,7))\n",
    "params_inner2_test=np.zeros(shape=(niter,7))\n",
    "params_outer_test=np.zeros(shape=(niter,7))\n",
    "chi2_test = np.zeros(shape=niter)\n",
    "\n",
    "for i in tqdm(np.arange(niter)):\n",
    "    ## randomize orbital elements\n",
    "    bigw2 = np.random.uniform(0,360)\n",
    "    inc2 = np.random.uniform(0,180)\n",
    "    T2 = np.random.uniform(58000,60000)\n",
    "    bigw3 = np.random.uniform(0,360)\n",
    "    inc3 = np.random.uniform(0,180)\n",
    "    T3 = np.random.uniform(58000,60000)\n",
    "\n",
    "    params = Parameters()\n",
    "    params.add('w',   value= w_start, min=0, max=360)\n",
    "    params.add('bigw', value= bigw_start, min=0, max=360)\n",
    "    params.add('inc', value= inc_start, min=0, max=180)\n",
    "    params.add('e', value= e_start, min=0, max=0.99)\n",
    "    params.add('a', value= a_start, min=0)\n",
    "    params.add('P', value= P_start, min=0)\n",
    "    params.add('T', value= T_start, min=0)\n",
    "    params.add('w2',   value= 0, vary=False)\n",
    "    params.add('bigw2', value= bigw2, min=0, max=360)\n",
    "    params.add('inc2', value= inc2, min=0, max=180)\n",
    "    params.add('e2', value= 0, vary=False)\n",
    "    params.add('a2', value= a2, min=0)\n",
    "    params.add('P2', value= 5, vary=False)\n",
    "    params.add('T2', value= T2, min=0)\n",
    "        \n",
    "    params.add('w3',   value= 0, vary=False)\n",
    "    params.add('bigw3', value= bigw3, min=0, max=360)\n",
    "    params.add('inc3', value= inc3, min=0, max=180)\n",
    "    params.add('e3', value= 0, vary=False)\n",
    "    params.add('a3', value= a2, min=0)\n",
    "    params.add('P3', value= 100, vary=False)\n",
    "    params.add('T3', value= T3, min=0)\n",
    "        \n",
    "    if mirc_scale == 'y':\n",
    "        params.add('mirc_scale', value= 1.0)\n",
    "    else:\n",
    "        params.add('mirc_scale', value= 1.0, vary=False)\n",
    "\n",
    "    #params.add('pscale', value=1)\n",
    "\n",
    "    #do fit, minimizer uses LM for least square fitting of model to data\n",
    "    minner = Minimizer(quad_model_circular, params, fcn_args=(xpos_all,ypos_all,t_all,\n",
    "                                                       error_maj_all,error_min_all,\n",
    "                                                       error_pa_all),\n",
    "                      nan_policy='omit')\n",
    "    result = minner.leastsq(xtol=1e-5,ftol=1e-5)\n",
    "    params_inner1_test[i] = [result.params['P3'],result.params['a3'],result.params['e3'],result.params['w3']\n",
    "                        ,result.params['bigw3'],result.params['inc3'],result.params['T3']]\n",
    "    params_inner2_test[i] = [result.params['P2'],result.params['a2'],result.params['e2'],result.params['w2']\n",
    "                        ,result.params['bigw2'],result.params['inc2'],result.params['T2']]\n",
    "    params_outer_test[i] = [result.params['P'],result.params['a'],result.params['e'],result.params['w']\n",
    "                        ,result.params['bigw'],result.params['inc'],result.params['T']]\n",
    "    chi2_test[i] = result.chisqr\n",
    "    \n",
    "    #print(process.memory_info().vms*1e-9)\n",
    "\n",
    "idx = np.argmin(chi2_test)\n",
    "#idx_n = np.argmin(chi2_noise_n)\n",
    "chi2_quad_test = chi2_test[idx]\n",
    "#chi2_noise.append(chi2_noise_n[idx_n])\n",
    "params_inner1_test = params_inner1_test[idx]\n",
    "params_inner2_test = params_inner2_test[idx]\n",
    "params_outer_quad_test = params_outer_test[idx]"
   ]
  },
  {
   "cell_type": "code",
   "execution_count": 31,
   "metadata": {},
   "outputs": [
    {
     "name": "stdout",
     "output_type": "stream",
     "text": [
      "First inner companion\n",
      "P , 100.0 , 100\n",
      "a , 0.5021769166291226 , 0.5\n",
      "e , 0.0 , 0\n",
      "w , 0.0 , 0\n",
      "bigw , 226.79102335901095 , 226.07764359191893\n",
      "i , 127.1383276579683 , 128.93511540955942\n",
      "T , 59269.74148642453 , 58770.3885004118\n",
      "--------------------\n",
      "Second inner companion\n",
      "P , 5.0 , 5\n",
      "a , 0.505837804519675 , 0.5\n",
      "e , 0.0 , 0\n",
      "w , 0.0 , 0\n",
      "bigw , 107.28628167057572 , 280.99059014579683\n",
      "i , 123.52018807504463 , 123.60599846629331\n",
      "T , 59477.890926472945 , 58335.47330020779\n",
      "--------------------\n",
      "0.5984057723579463\n"
     ]
    }
   ],
   "source": [
    "param_names = ['P','a','e','w','bigw','i','T']\n",
    "injected1 = [pper1,psem1,0,0,bigw_injected1,inc_injected1,t0_injected1]\n",
    "injected2 = [pper2,psem2,0,0,bigw_injected2,inc_injected2,t0_injected2]\n",
    "\n",
    "print('First inner companion')\n",
    "for name,fit,inject in zip(param_names,params_inner1_test,injected1):\n",
    "    print(name,',',fit,',',inject)\n",
    "\n",
    "print('--'*10)\n",
    "    \n",
    "print('Second inner companion')\n",
    "for name,fit,inject in zip(param_names,params_inner2_test,injected2):\n",
    "    print(name,',',fit,',',inject)\n",
    "    \n",
    "print('--'*10)\n",
    "print(chi2_quad_test / (2*len(xpos_all)-15))"
   ]
  },
  {
   "cell_type": "markdown",
   "metadata": {},
   "source": [
    "## How many guesses per iteration do i need?"
   ]
  },
  {
   "cell_type": "code",
   "execution_count": 32,
   "metadata": {},
   "outputs": [
    {
     "name": "stderr",
     "output_type": "stream",
     "text": [
      "100%|██████████| 100/100 [11:59<00:00,  7.20s/it]\n"
     ]
    }
   ],
   "source": [
    "chi2_iteration = []\n",
    "niter = 20\n",
    "for num in tqdm(np.arange(100)):\n",
    "    \n",
    "    params_inner1_test=np.zeros(shape=(niter,7))\n",
    "    params_inner2_test=np.zeros(shape=(niter,7))\n",
    "    params_outer_test=np.zeros(shape=(niter,7))\n",
    "    chi2_test = np.zeros(shape=niter)\n",
    "\n",
    "    for i in np.arange(niter):\n",
    "        ## randomize orbital elements\n",
    "        bigw2 = np.random.uniform(0,360)\n",
    "        inc2 = np.random.uniform(0,180)\n",
    "        T2 = np.random.uniform(58000,60000)\n",
    "        bigw3 = np.random.uniform(0,360)\n",
    "        inc3 = np.random.uniform(0,180)\n",
    "        T3 = np.random.uniform(58000,60000)\n",
    "\n",
    "        params = Parameters()\n",
    "        params.add('w',   value= w_start, min=0, max=360)\n",
    "        params.add('bigw', value= bigw_start, min=0, max=360)\n",
    "        params.add('inc', value= inc_start, min=0, max=180)\n",
    "        params.add('e', value= e_start, min=0, max=0.99)\n",
    "        params.add('a', value= a_start, min=0)\n",
    "        params.add('P', value= P_start, min=0)\n",
    "        params.add('T', value= T_start, min=0)\n",
    "        params.add('w2',   value= 0, vary=False)\n",
    "        params.add('bigw2', value= bigw2, min=0, max=360)\n",
    "        params.add('inc2', value= inc2, min=0, max=180)\n",
    "        params.add('e2', value= 0, vary=False)\n",
    "        params.add('a2', value= a2, min=0)\n",
    "        params.add('P2', value= 5, vary=False)\n",
    "        params.add('T2', value= T2, min=0)\n",
    "        \n",
    "        params.add('w3',   value= 0, vary=False)\n",
    "        params.add('bigw3', value= bigw3, min=0, max=360)\n",
    "        params.add('inc3', value= inc3, min=0, max=180)\n",
    "        params.add('e3', value= 0, vary=False)\n",
    "        params.add('a3', value= a2, min=0)\n",
    "        params.add('P3', value= 100, vary=False)\n",
    "        params.add('T3', value= T3, min=0)\n",
    "        \n",
    "        if mirc_scale == 'y':\n",
    "            params.add('mirc_scale', value= 1.0)\n",
    "        else:\n",
    "            params.add('mirc_scale', value= 1.0, vary=False)\n",
    "\n",
    "        #params.add('pscale', value=1)\n",
    "\n",
    "        #do fit, minimizer uses LM for least square fitting of model to data\n",
    "        minner = Minimizer(quad_model_circular, params, fcn_args=(xpos_all,ypos_all,t_all,\n",
    "                                                           error_maj_all,error_min_all,\n",
    "                                                           error_pa_all),\n",
    "                          nan_policy='omit')\n",
    "        result = minner.leastsq(xtol=1e-5,ftol=1e-5)\n",
    "        params_inner1_test[i] = [result.params['P3'],result.params['a3'],result.params['e3'],result.params['w3'],\n",
    "                                                           result.params['bigw3'],result.params['inc3'],result.params['T3']]\n",
    "        params_inner2_test[i] = [result.params['P2'],result.params['a2'],result.params['e2'],result.params['w2'],\n",
    "                                                           result.params['bigw2'],result.params['inc2'],result.params['T2']]\n",
    "        params_outer_test[i] = [result.params['P'],result.params['a'],result.params['e'],result.params['w'],\n",
    "                                                         result.params['bigw'],result.params['inc'],result.params['T']]\n",
    "        chi2_test[i] = result.chisqr\n",
    "    \n",
    "        #print(process.memory_info().vms*1e-9)\n",
    "\n",
    "    idx = np.argmin(chi2_test)\n",
    "    #idx_n = np.argmin(chi2_noise_n)\n",
    "    chi2_quad_test = chi2_test[idx]\n",
    "    #chi2_noise.append(chi2_noise_n[idx_n])\n",
    "    params_inner1_test = params_inner1_test[idx]\n",
    "    params_inner2_test = params_inner2_test[idx]\n",
    "    params_outer_quad_test = params_outer_test[idx]\n",
    "    \n",
    "    chi2_iteration.append(chi2_quad_test)"
   ]
  },
  {
   "cell_type": "code",
   "execution_count": 33,
   "metadata": {},
   "outputs": [
    {
     "data": {
      "image/png": "[encoded data removed]",
      "text/plain": [
       "<Figure size 432x288 with 1 Axes>"
      ]
     },
     "metadata": {
      "needs_background": "light"
     },
     "output_type": "display_data"
    }
   ],
   "source": [
    "chi2_iteration = np.array(chi2_iteration)/(2*len(xpos_all)-15)\n",
    "plt.hist(chi2_iteration,bins=50)\n",
    "plt.show()"
   ]
  },
  {
   "cell_type": "code",
   "execution_count": 34,
   "metadata": {},
   "outputs": [
    {
     "name": "stdout",
     "output_type": "stream",
     "text": [
      "0.825909700324899 0.2965170415841043\n",
      "[1.08883801 0.92656749 1.08126642 1.05082737 0.86469599 1.07973624\n",
      " 1.15561408 0.97817029 1.01725368 1.22776732 1.06056725 0.80346145\n",
      " 0.71256003 1.44127075 1.35422828 0.95410253 1.03827538 0.92633396\n",
      " 1.06699543 1.69573168 0.806028   1.42289456 0.90452428 0.89382487\n",
      " 2.26695003 0.87261242 0.66955402 1.03024909 1.03657904 1.02052417\n",
      " 0.85979784 0.9650173  0.88532541 1.29406785 0.90856963 1.09541527\n",
      " 0.97557729 1.23482703 0.89184537 1.20701349 1.05282125 1.10259442\n",
      " 1.00822683 1.47418752 0.88953706 0.90491924 1.06689012 0.95696245\n",
      " 0.88910695]\n",
      "Success rate = \n",
      "0.51\n"
     ]
    }
   ],
   "source": [
    "print(np.mean(chi2_iteration),np.std(chi2_iteration))\n",
    "idx = np.where(chi2_iteration>0.65)\n",
    "print(chi2_iteration[idx])\n",
    "\n",
    "print(\"Success rate = \")\n",
    "print(1 - len(chi2_iteration[idx])/len(chi2_iteration))"
   ]
  },
  {
   "cell_type": "markdown",
   "metadata": {},
   "source": [
    "## How close to period do we need to be?"
   ]
  },
  {
   "cell_type": "code",
   "execution_count": null,
   "metadata": {},
   "outputs": [],
   "source": [
    "chi2_period = []\n",
    "for pinner1 in tqdm(np.linspace(4.99,5.01,20)):\n",
    "    \n",
    "    params_inner1_test=np.empty(shape=(0,7))\n",
    "    params_inner2_test=np.empty(shape=(0,7))\n",
    "    params_outer_test=np.empty(shape=(0,7))\n",
    "    chi2_test = np.empty(shape=0)\n",
    "\n",
    "    for i in np.arange(50):\n",
    "        ## randomize orbital elements\n",
    "        bigw2 = np.random.uniform(0,360)\n",
    "        inc2 = np.random.uniform(0,180)\n",
    "        T2 = np.random.uniform(58000,60000)\n",
    "        bigw3 = np.random.uniform(0,360)\n",
    "        inc3 = np.random.uniform(0,180)\n",
    "        T3 = np.random.uniform(58000,60000)\n",
    "\n",
    "        params = Parameters()\n",
    "        params.add('w',   value= w_start, min=0, max=360)\n",
    "        params.add('bigw', value= bigw_start, min=0, max=360)\n",
    "        params.add('inc', value= inc_start, min=0, max=180)\n",
    "        params.add('e', value= e_start, min=0, max=0.99)\n",
    "        params.add('a', value= a_start, min=0)\n",
    "        params.add('P', value= P_start, min=0)\n",
    "        params.add('T', value= T_start, min=0)\n",
    "        params.add('w2',   value= 0, vary=False)\n",
    "        params.add('bigw2', value= bigw2, min=0, max=360)\n",
    "        params.add('inc2', value= inc2, min=0, max=180)\n",
    "        params.add('e2', value= 0, vary=False)\n",
    "        params.add('a2', value= a2, min=0)\n",
    "        params.add('P2', value= pinner1, vary=False)\n",
    "        params.add('T2', value= T2, min=0)\n",
    "        \n",
    "        params.add('w3',   value= 0, vary=False)\n",
    "        params.add('bigw3', value= bigw3, min=0, max=360)\n",
    "        params.add('inc3', value= inc3, min=0, max=180)\n",
    "        params.add('e3', value= 0, vary=False)\n",
    "        params.add('a3', value= a2, min=0)\n",
    "        params.add('P3', value= 100, vary=False)\n",
    "        params.add('T3', value= T3, min=0)\n",
    "        \n",
    "        if mirc_scale == 'y':\n",
    "            params.add('mirc_scale', value= 1.0)\n",
    "        else:\n",
    "            params.add('mirc_scale', value= 1.0, vary=False)\n",
    "\n",
    "        #params.add('pscale', value=1)\n",
    "\n",
    "        #do fit, minimizer uses LM for least square fitting of model to data\n",
    "        minner = Minimizer(quad_model, params, fcn_args=(xpos_all,ypos_all,t_all,\n",
    "                                                           error_maj_all,error_min_all,\n",
    "                                                           error_pa_all),\n",
    "                          nan_policy='omit')\n",
    "        result = minner.leastsq(xtol=1e-5,ftol=1e-5)\n",
    "        params_inner1_test = np.append(params_inner1_test,[result.params['P3'],result.params['a3'],result.params['e3'],result.params['w3'],\n",
    "                                                           result.params['bigw3'],result.params['inc3'],result.params['T3']])\n",
    "        params_inner2_test = np.append(params_inner2_test,[result.params['P2'],result.params['a2'],result.params['e2'],result.params['w2'],\n",
    "                                                           result.params['bigw2'],result.params['inc2'],result.params['T2']])\n",
    "        params_outer_test = np.append(params_outer_test,[result.params['P'],result.params['a'],result.params['e'],result.params['w'],\n",
    "                                                         result.params['bigw'],result.params['inc'],result.params['T']])\n",
    "        chi2_test = np.append(chi2_test,result.chisqr)\n",
    "    \n",
    "        #print(process.memory_info().vms*1e-9)\n",
    "\n",
    "    idx = np.argmin(chi2_test)\n",
    "    #idx_n = np.argmin(chi2_noise_n)\n",
    "    chi2_quad_test = chi2_test[idx]\n",
    "    #chi2_noise.append(chi2_noise_n[idx_n])\n",
    "    params_inner1_test = params_inner1_test[idx]\n",
    "    params_inner2_test = params_inner2_test[idx]\n",
    "    params_outer_quad_test = params_outer_test[idx]\n",
    "    \n",
    "    chi2_period.append(chi2_quad_test)"
   ]
  },
  {
   "cell_type": "code",
   "execution_count": null,
   "metadata": {},
   "outputs": [],
   "source": [
    "plt.plot(np.linspace(4.99,5.01,20),np.array(chi2_period)/(2*len(xpos_all)-15),'o--')\n",
    "plt.show()"
   ]
  },
  {
   "cell_type": "code",
   "execution_count": null,
   "metadata": {},
   "outputs": [],
   "source": [
    "##########################################\n",
    "## Grid Search for Additional Companions\n",
    "##########################################\n",
    "\n",
    "## New test -- try period spacing from PHASES III paper\n",
    "time_span = max(t) - min(t)\n",
    "print('Time span of data = %s days'%time_span)\n",
    "f = 5\n",
    "min_per = 2\n",
    "max_k = int(2*f*time_span / min_per)\n",
    "k_range = np.arange(max_k)[:-1] + 1\n",
    "P2 = 2*f*time_span / k_range\n",
    "print('Min/Max period (days) = %s / %s ; %s steps'%(min(P2),max(P2),len(k_range)))\n",
    "\n",
    "ss = 0.01\n",
    "se = 1\n",
    "\n",
    "a2 = resids_median/1000\n",
    "if np.isnan(a2):\n",
    "    a2=1\n",
    "#T2 = 55075\n",
    "\n",
    "## Or just input it yourself\n",
    "P2 = np.linspace(2,8,50)\n",
    "P3 = np.linspace(50,150,200)\n"
   ]
  },
  {
   "cell_type": "code",
   "execution_count": null,
   "metadata": {},
   "outputs": [],
   "source": []
  },
  {
   "cell_type": "markdown",
   "metadata": {},
   "source": [
    "## Double grid"
   ]
  },
  {
   "cell_type": "code",
   "execution_count": null,
   "metadata": {},
   "outputs": [],
   "source": [
    "print('Grid Searching over period')\n",
    "params_inner1=[]\n",
    "params_inner2=[]\n",
    "params_outer_quad=[]\n",
    "chi2_quad = []\n",
    "\n",
    "for period1 in tqdm(P2):\n",
    "    for period2 in P3:\n",
    "\n",
    "        params_inner1_n=np.zeros(shape=(20,7))\n",
    "        params_inner2_n=np.zeros(shape=(20,7))\n",
    "        params_outer_n=np.zeros(shape=(20,7))\n",
    "        chi2_n = np.zeros(shape=20)\n",
    "\n",
    "        for i in np.arange(20):\n",
    "            ## randomize orbital elements\n",
    "            bigw2 = np.random.uniform(0,360)\n",
    "            inc2 = np.random.uniform(0,180)\n",
    "            T2 = np.random.uniform(58000,60000)\n",
    "            bigw3 = np.random.uniform(0,360)\n",
    "            inc3 = np.random.uniform(0,180)\n",
    "            T3 = np.random.uniform(58000,60000)\n",
    "\n",
    "            params = Parameters()\n",
    "            params.add('w',   value= w_start, min=0, max=360)\n",
    "            params.add('bigw', value= bigw_start, min=0, max=360)\n",
    "            params.add('inc', value= inc_start, min=0, max=180)\n",
    "            params.add('e', value= e_start, min=0, max=0.99)\n",
    "            params.add('a', value= a_start, min=0)\n",
    "            params.add('P', value= P_start, min=0)\n",
    "            params.add('T', value= T_start, min=0)\n",
    "            params.add('w2',   value= 0, vary=False)\n",
    "            params.add('bigw2', value= bigw2, min=0, max=360)\n",
    "            params.add('inc2', value= inc2, min=0, max=180)\n",
    "            params.add('e2', value= 0, vary=False)\n",
    "            params.add('a2', value= a2, min=0)\n",
    "            params.add('P2', value= period1, vary=False)\n",
    "            params.add('T2', value= T2, min=0)\n",
    "        \n",
    "            params.add('w3',   value= 0, vary=False)\n",
    "            params.add('bigw3', value= bigw3, min=0, max=360)\n",
    "            params.add('inc3', value= inc3, min=0, max=180)\n",
    "            params.add('e3', value= 0, vary=False)\n",
    "            params.add('a3', value= a2, min=0)\n",
    "            params.add('P3', value= period2, vary=False)\n",
    "            params.add('T3', value= T3, min=0)\n",
    "        \n",
    "            if mirc_scale == 'y':\n",
    "                params.add('mirc_scale', value= 1.0)\n",
    "            else:\n",
    "                params.add('mirc_scale', value= 1.0, vary=False)\n",
    "\n",
    "            #params.add('pscale', value=1)\n",
    "\n",
    "            #do fit, minimizer uses LM for least square fitting of model to data\n",
    "            minner = Minimizer(quad_model, params, fcn_args=(xpos_all,ypos_all,t_all,\n",
    "                                                               error_maj_all,error_min_all,\n",
    "                                                               error_pa_all),\n",
    "                              nan_policy='omit')\n",
    "            result = minner.leastsq(xtol=1e-5,ftol=1e-5)\n",
    "            params_inner1_n[i] = [result.params['P3'],result.params['a3'],result.params['e3'],result.params['w3']\n",
    "                                ,result.params['bigw3'],result.params['inc3'],result.params['T3']]\n",
    "            params_inner2_n[i] = [result.params['P2'],result.params['a2'],result.params['e2'],result.params['w2']\n",
    "                                ,result.params['bigw2'],result.params['inc2'],result.params['T2']]\n",
    "            params_outer_n[i] = [result.params['P'],result.params['a'],result.params['e'],result.params['w']\n",
    "                                ,result.params['bigw'],result.params['inc'],result.params['T']]\n",
    "            chi2_n[i] = result.chisqr\n",
    "\n",
    "        idx = np.argmin(chi2_n)\n",
    "        #idx_n = np.argmin(chi2_noise_n)\n",
    "        chi2_quad.append(chi2_n[idx])\n",
    "        #chi2_noise.append(chi2_noise_n[idx_n])\n",
    "        params_inner1.append(params_inner1_n[idx])\n",
    "        params_inner2.append(params_inner2_n[idx])\n",
    "        params_outer_quad.append(params_outer_n[idx])"
   ]
  },
  {
   "cell_type": "code",
   "execution_count": null,
   "metadata": {},
   "outputs": [],
   "source": [
    "chi2_quad = np.array(chi2_quad)\n",
    "params_inner1 = np.array(params_inner1)\n",
    "params_inner2 = np.array(params_inner2)\n",
    "params_outer_quad = np.array(params_outer_quad)\n"
   ]
  },
  {
   "cell_type": "code",
   "execution_count": null,
   "metadata": {},
   "outputs": [],
   "source": [
    "print(chi2_quad.shape)"
   ]
  },
  {
   "cell_type": "code",
   "execution_count": null,
   "metadata": {},
   "outputs": [],
   "source": [
    "plt.plot(params_inner1[:,0],1/chi2_quad)\n",
    "plt.plot(params_inner2[:,0],1/chi2_quad)\n",
    "plt.plot([pper1,pper1],[min(1/chi2_quad),max(1/chi2_quad)],'--',label='%s uas'%(psem1*1000))\n",
    "plt.plot([pper2,pper2],[min(1/chi2_quad),max(1/chi2_quad)],'--',label='%s uas'%(psem2*1000))\n",
    "plt.xlabel('Period (days)')\n",
    "plt.ylabel('1/chi2')\n",
    "plt.legend()\n",
    "plt.show()"
   ]
  },
  {
   "cell_type": "code",
   "execution_count": null,
   "metadata": {},
   "outputs": [],
   "source": [
    "plt.scatter(params_inner2[:,0],params_inner1[:,0],c=1/chi2_quad,cmap=cm.inferno)\n",
    "plt.plot(pper2,pper1,'+')\n",
    "plt.show()\n",
    "\n",
    "idx = np.argmin(chi2_quad)\n",
    "print(\"Best periods = \", params_inner2[:,0][idx],params_inner1[:,0][idx])"
   ]
  },
  {
   "cell_type": "code",
   "execution_count": null,
   "metadata": {},
   "outputs": [],
   "source": []
  }
 ],
 "metadata": {
  "kernelspec": {
   "display_name": "Python 3",
   "language": "python",
   "name": "python3"
  },
  "language_info": {
   "codemirror_mode": {
    "name": "ipython",
    "version": 3
   },
   "file_extension": ".py",
   "mimetype": "text/x-python",
   "name": "python",
   "nbconvert_exporter": "python",
   "pygments_lexer": "ipython3",
   "version": "3.7.6"
  }
 },
 "nbformat": 4,
 "nbformat_minor": 4
}
