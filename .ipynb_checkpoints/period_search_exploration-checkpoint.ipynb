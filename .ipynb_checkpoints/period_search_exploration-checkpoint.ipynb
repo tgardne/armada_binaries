{
 "cells": [
  {
   "cell_type": "code",
   "execution_count": 1,
   "metadata": {},
   "outputs": [],
   "source": [
    "from lmfit import minimize, Minimizer, Parameters, Parameter, report_fit\n",
    "import numpy as np\n",
    "import os\n",
    "import matplotlib.pyplot as plt\n",
    "from matplotlib.patches import Ellipse\n",
    "from tqdm import tqdm\n",
    "import matplotlib.cm as cm\n",
    "from read_data import read_data,read_wds,read_orb6\n",
    "from astrometry_model import astrometry_model,triple_model,quad_model,lnlike,lnprior,lnpost,create_init\n",
    "from orbit_plotting import orbit_model,triple_orbit_model\n",
    "from astroquery.simbad import Simbad\n",
    "from astropy.coordinates import SkyCoord\n",
    "import random\n",
    "from PyAstronomy import pyasl\n",
    "%matplotlib inline"
   ]
  },
  {
   "cell_type": "code",
   "execution_count": 2,
   "metadata": {},
   "outputs": [],
   "source": [
    "def cart2pol(x,y):\n",
    "    x=-x\n",
    "    r = np.sqrt(x**2 + y**2)\n",
    "    theta = np.arctan2(y,x) * 180 / np.pi\n",
    "    if theta>0 and theta<90:\n",
    "        theta_new = theta+270\n",
    "    if theta>90 and theta<360:\n",
    "        theta_new = theta-90\n",
    "    if theta<0:\n",
    "        theta_new = 270+theta\n",
    "    if np.isnan(theta):\n",
    "        theta_new=theta\n",
    "    return(r,theta_new)"
   ]
  },
  {
   "cell_type": "code",
   "execution_count": 3,
   "metadata": {},
   "outputs": [],
   "source": [
    "def add_planet(period,wobble,bigomega,inc,t0,epochs):\n",
    "    omega = 0\n",
    "    ecc = 0\n",
    "    bigomega = bigomega\n",
    "    inc = inc\n",
    "\n",
    "    ## other method:\n",
    "    ke = pyasl.KeplerEllipse(wobble,period,e=ecc,Omega=bigomega,i=inc,w=omega,tau=t0)\n",
    "    pos = ke.xyzPos(epochs)\n",
    "    xx = pos[::,1]\n",
    "    yy = pos[::,0]\n",
    "    return(xx,yy)"
   ]
  },
  {
   "cell_type": "code",
   "execution_count": null,
   "metadata": {},
   "outputs": [],
   "source": []
  },
  {
   "cell_type": "code",
   "execution_count": 4,
   "metadata": {},
   "outputs": [],
   "source": [
    "## setup paths for user\n",
    "path = '/Users/tgardne/ARMADA_orbits'\n",
    "path_etalon = '/Users/tgardne/etalon_epochs/etalon_fits/etalon_factors_fit.txt'\n",
    "path_wds = '/Users/tgardne/wds_targets'\n",
    "path_orb6 = '/Users/tgardne/catalogs/orb6orbits.sql.txt'"
   ]
  },
  {
   "cell_type": "code",
   "execution_count": 5,
   "metadata": {},
   "outputs": [
    {
     "name": "stdout",
     "output_type": "stream",
     "text": [
      "HIP 76852\n",
      "WDS 15416+1940\n",
      "15416+1940\n"
     ]
    }
   ],
   "source": [
    "###########################################\n",
    "## Specify Target\n",
    "###########################################\n",
    "target_hd = '140159'\n",
    "\n",
    "emethod = 'n'\n",
    "mirc_scale = 'n'\n",
    "\n",
    "query = Simbad.query_objectids('HD %s'%target_hd)\n",
    "for item in query:\n",
    "    if 'HIP' in item[0]:\n",
    "        target = item[0].split()[1]\n",
    "        print('HIP %s'%target)\n",
    "    if 'WDS' in item[0]:\n",
    "        target_wds = item[0][5:15]\n",
    "        print('WDS %s'%target_wds)\n",
    "\n",
    "try:\n",
    "    print(target_wds)\n",
    "except:\n",
    "    print('No WDS number queried')\n",
    "    target_wds = input('Enter WDS: ')"
   ]
  },
  {
   "cell_type": "code",
   "execution_count": 6,
   "metadata": {},
   "outputs": [
    {
     "name": "stdout",
     "output_type": "stream",
     "text": [
      "reading chi2 errors\n"
     ]
    }
   ],
   "source": [
    "###########################################\n",
    "## Read in ARMADA data\n",
    "###########################################\n",
    "if emethod == 'y':\n",
    "    print('reading bootstrap errors')\n",
    "    file=open('%s/HD_%s_bootstrap.txt'%(path,target_hd))\n",
    "else:\n",
    "    print('reading chi2 errors')\n",
    "    file=open('%s/HD_%s_chi2err.txt'%(path,target_hd))\n",
    "weight=1\n",
    "\n",
    "t,p,theta,error_maj,error_min,error_pa,error_deg = read_data(file,weight)\n",
    "file.close()"
   ]
  },
  {
   "cell_type": "code",
   "execution_count": 7,
   "metadata": {},
   "outputs": [],
   "source": [
    "### correct PAs based on precession\n",
    "coord = SkyCoord.from_name(\"HD %s\"%target_hd,parse=True)\n",
    "ra = coord.ra.value*np.pi/180\n",
    "dec = coord.dec.value*np.pi/180\n",
    "#theta -= (0.00557*np.sin(ra)/np.cos(dec)*((t-51544.5)/365.25))/180*np.pi"
   ]
  },
  {
   "cell_type": "code",
   "execution_count": 8,
   "metadata": {},
   "outputs": [
    {
     "name": "stdout",
     "output_type": "stream",
     "text": [
      "Closest factor for 58222.3507 is 0.8345060481951805 days away\n",
      "   date      etalon factor\n",
      "58223.4082 1.0031541612041177\n",
      "58158.571 1.0032724870074572\n",
      "59042.1973 1.0000802864218061\n",
      "58636.3086 0.9999251439725149\n",
      "58635.2767 0.9999215780162495\n",
      "59044.2481 1.0001204100790912\n",
      "59004.2807 1.0001504589939723\n",
      "58703.1746 0.9999772819268882\n",
      "58222.3507 1.0031541612041177\n",
      "59196.598 1.0001933926299817\n",
      "58693.1558 0.9999843769059221\n",
      "Applying etalon correction\n"
     ]
    }
   ],
   "source": [
    "###########################################\n",
    "## Apply etalon correction\n",
    "###########################################\n",
    "file=open(path_etalon)\n",
    "mjd_etalon=[]\n",
    "f_etalon=[]\n",
    "for line in file.readlines():\n",
    "    if line.startswith('#'):\n",
    "        continue\n",
    "    mjd_etalon.append(float(line.split()[0]))\n",
    "    f_etalon.append(float(line.split()[1]))\n",
    "file.close()\n",
    "mjd_etalon=np.array(mjd_etalon)\n",
    "f_etalon=np.array(f_etalon)\n",
    "\n",
    "etalon_factor=[]\n",
    "for i in t:\n",
    "    idx = np.where(abs(i-mjd_etalon)==min(abs(i-mjd_etalon)))\n",
    "    if min(abs(i-mjd_etalon))>0.5:\n",
    "        print('Closest factor for %s is %s days away'%(i,min(abs(i-mjd_etalon))))\n",
    "    f = f_etalon[idx][0]\n",
    "    etalon_factor.append(f)\n",
    "etalon_factor=np.array(etalon_factor)\n",
    "\n",
    "print('   date      etalon factor')\n",
    "for i,j in zip(t,etalon_factor):\n",
    "    print(i,j)\n",
    "\n",
    "## apply etalon correction\n",
    "etalon = 'y'\n",
    "\n",
    "vlti = 'n'\n",
    "if vlti=='y':\n",
    "    vlti_idx = input('enter indices (e.g. 1 2 3): ').split(' ')\n",
    "    vlti_idx = np.array([int(i) for i in vlti_idx])\n",
    "else:\n",
    "    vlti_idx = np.array([])\n",
    "\n",
    "if etalon=='y':\n",
    "    print('Applying etalon correction')\n",
    "    if len(vlti_idx)>0:\n",
    "        etalon_factor[vlti_idx] = 1.0\n",
    "    p = p/etalon_factor\n",
    "else:\n",
    "    print('No etalon correction applied')\n",
    "xpos=p*np.sin(theta)\n",
    "ypos=p*np.cos(theta)"
   ]
  },
  {
   "cell_type": "code",
   "execution_count": 9,
   "metadata": {},
   "outputs": [
    {
     "name": "stdout",
     "output_type": "stream",
     "text": [
      "Number of WDS data points = 48\n"
     ]
    },
    {
     "data": {
      "image/png": "[encoded data removed]",
      "text/plain": [
       "<Figure size 432x288 with 1 Axes>"
      ]
     },
     "metadata": {
      "needs_background": "light"
     },
     "output_type": "display_data"
    }
   ],
   "source": [
    "###########################################\n",
    "## Read in WDS data - and plot to check\n",
    "###########################################\n",
    "file=open(os.path.expanduser(\"%s/wds%s.txt\"%(path_wds,target_wds)))\n",
    "weight = 10\n",
    "dtype = 'S'\n",
    "\n",
    "t_wds,p_wds,theta_wds,error_maj_wds,error_min_wds,error_pa_wds,error_deg_wds = read_wds(file,weight,dtype)\n",
    "print('Number of WDS data points = %s'%len(p_wds))\n",
    "\n",
    "## correct WDS for PA\n",
    "theta_wds -= (0.00557*np.sin(ra)/np.cos(dec)*((t_wds-51544.5)/365.25))/180*np.pi\n",
    "\n",
    "xpos_wds=p_wds*np.sin(theta_wds)\n",
    "ypos_wds=p_wds*np.cos(theta_wds)\n",
    "idx = np.argmin(t)\n",
    "\n",
    "plt.plot(xpos_wds,ypos_wds,'o',label='WDS')\n",
    "plt.plot(xpos_wds[0],ypos_wds[0],'*')\n",
    "plt.plot(xpos[idx],ypos[idx],'*')\n",
    "plt.plot(xpos,ypos,'+',label='ARMADA')\n",
    "plt.plot(0,0,'*')\n",
    "plt.gca().invert_xaxis()\n",
    "plt.title('All Data')\n",
    "plt.xlabel('dra (mas)')\n",
    "plt.ylabel('ddec (mas)')\n",
    "plt.legend()\n",
    "plt.show()"
   ]
  },
  {
   "cell_type": "code",
   "execution_count": 10,
   "metadata": {},
   "outputs": [
    {
     "name": "stdout",
     "output_type": "stream",
     "text": [
      "found target!\n",
      "--------------------------\n",
      "a(mas),P(yr),e,i(deg),omega(deg),bigomega(deg),T(mjd)\n",
      "210.32999999999998 21.958904109589042 0.0941 83.608 80.5 69.684 54180.0\n",
      "--------------------------\n"
     ]
    }
   ],
   "source": [
    "###########################################\n",
    "## Get an estimate of the orbital parameters\n",
    "###########################################\n",
    "try:\n",
    "    a,P,e,inc,omega,bigomega,T = read_orb6(target,path_orb6)\n",
    "except:\n",
    "    print('No elements found in ORB6')"
   ]
  },
  {
   "cell_type": "code",
   "execution_count": 11,
   "metadata": {},
   "outputs": [],
   "source": [
    "###########################################\n",
    "## Combined WDS+ARMADA for fitting\n",
    "###########################################\n",
    "xpos_all = np.concatenate([xpos,xpos_wds])\n",
    "ypos_all = np.concatenate([ypos,ypos_wds])\n",
    "t_all = np.concatenate([t,t_wds])\n",
    "error_maj_all = np.concatenate([error_maj,error_maj_wds])\n",
    "error_min_all = np.concatenate([error_min,error_min_wds])\n",
    "error_pa_all = np.concatenate([error_pa,error_pa_wds])\n",
    "error_deg_all = np.concatenate([error_deg,error_deg_wds])"
   ]
  },
  {
   "cell_type": "code",
   "execution_count": 12,
   "metadata": {},
   "outputs": [
    {
     "name": "stdout",
     "output_type": "stream",
     "text": [
      "ADDING FAKE PLANET\n"
     ]
    }
   ],
   "source": [
    "############################################\n",
    "## ADD A FAKE PLANET\n",
    "############################################\n",
    "print('ADDING FAKE PLANET')\n",
    "pper = 100\n",
    "psem = 0.5\n",
    "\n",
    "pper2 = 5\n",
    "psem2 = 0.5\n",
    "\n",
    "bigw_injected1 = np.random.uniform(0,360)\n",
    "inc_injected1 = np.random.uniform(0,180)\n",
    "t0_injected1 = np.random.uniform(min(t),max(t))\n",
    "bigw_injected2 = np.random.uniform(0,360)\n",
    "inc_injected2 = np.random.uniform(0,180)\n",
    "t0_injected2 = np.random.uniform(min(t),max(t))\n",
    "\n",
    "planet_xy = add_planet(pper,psem,bigw_injected1,inc_injected1,t0_injected1,t)\n",
    "planet_xy_wds = add_planet(pper,psem,bigw_injected1,inc_injected1,t0_injected1,t_wds)\n",
    "planet_xy_all = add_planet(pper,psem,bigw_injected1,inc_injected1,t0_injected1,t_all)\n",
    "planet_xy2 = add_planet(pper,psem,bigw_injected2,inc_injected2,t0_injected2,t)\n",
    "planet_xy2_wds = add_planet(pper,psem,bigw_injected2,inc_injected2,t0_injected2,t_wds)\n",
    "planet_xy2_all = add_planet(pper,psem,bigw_injected2,inc_injected2,t0_injected2,t_all)\n",
    "\n",
    "xpos += planet_xy[0] - planet_xy2[0]\n",
    "ypos += planet_xy[1] - planet_xy2[1]\n",
    "xpos_wds += planet_xy_wds[0] - planet_xy2_wds[0]\n",
    "ypos_wds += planet_xy_wds[1] - planet_xy2_wds[1]\n",
    "xpos_all += planet_xy_all[0] - planet_xy2_all[0]\n",
    "ypos_all += planet_xy_all[1] - planet_xy2_all[1]"
   ]
  },
  {
   "cell_type": "code",
   "execution_count": 13,
   "metadata": {},
   "outputs": [],
   "source": [
    "##########################################\n",
    "## Function for fitting/plotting data\n",
    "#########################################\n",
    "def ls_fit(params,xp,yp,tp,emaj,emin,epa):\n",
    "    #do fit, minimizer uses LM for least square fitting of model to data\n",
    "    minner = Minimizer(astrometry_model, params, fcn_args=(xp,yp,tp,\n",
    "                                                       emaj,emin,epa),\n",
    "                            nan_policy='omit')\n",
    "    result = minner.minimize()\n",
    "    # write error report\n",
    "    print(report_fit(result))\n",
    "\n",
    "    ## plot fit\n",
    "    a_start = result.params['a']\n",
    "    P_start = result.params['P']\n",
    "    e_start = result.params['e']\n",
    "    inc_start = result.params['inc']\n",
    "    w_start = result.params['w']\n",
    "    bigw_start = result.params['bigw']\n",
    "    T_start = result.params['T']\n",
    "\n",
    "    ra,dec,rapoints,decpoints = orbit_model(a_start,e_start,inc_start,\n",
    "                                            w_start,bigw_start,P_start,\n",
    "                                            T_start,t_all)\n",
    "    fig,ax=plt.subplots()\n",
    "    ax.plot(xpos_all[len(xpos):], ypos_all[len(xpos):], 'o', label='WDS')\n",
    "    ax.plot(xpos,ypos,'o', label='ARMADA')\n",
    "    ax.plot(0,0,'*')\n",
    "    ax.plot(ra, dec, '--',color='g')\n",
    "    #plot lines from data to best fit orbit\n",
    "    i=0\n",
    "    while i<len(decpoints):\n",
    "        x=[xpos_all[i],rapoints[i]]\n",
    "        y=[ypos_all[i],decpoints[i]]\n",
    "        ax.plot(x,y,color=\"black\")\n",
    "        i+=1\n",
    "    ax.set_xlabel('milli-arcsec')\n",
    "    ax.set_ylabel('milli-arcsec')\n",
    "    ax.invert_xaxis()\n",
    "    ax.axis('equal')\n",
    "    ax.set_title('HD%s Outer Orbit'%target_hd)\n",
    "    plt.legend()\n",
    "    plt.show()\n",
    "\n",
    "    return result"
   ]
  },
  {
   "cell_type": "code",
   "execution_count": 14,
   "metadata": {},
   "outputs": [
    {
     "name": "stdout",
     "output_type": "stream",
     "text": [
      "[[Fit Statistics]]\n",
      "    # fitting method   = leastsq\n",
      "    # function evals   = 33\n",
      "    # data points      = 118\n",
      "    # variables        = 7\n",
      "    chi-square         = 3989.87876\n",
      "    reduced chi-square = 35.9448537\n",
      "    Akaike info crit   = 429.458117\n",
      "    Bayesian info crit = 448.852909\n",
      "[[Variables]]\n",
      "    w:           79.2253504 +/- 15.5329410 (19.61%) (init = 80.5)\n",
      "    bigw:        69.8133953 +/- 0.23911606 (0.34%) (init = 69.684)\n",
      "    inc:         83.5789755 +/- 0.34211636 (0.41%) (init = 83.608)\n",
      "    e:           0.10310766 +/- 0.03209580 (31.13%) (init = 0.0941)\n",
      "    a:           211.523884 +/- 5.49512103 (2.60%) (init = 210.33)\n",
      "    P:           8017.57798 +/- 53.2437950 (0.66%) (init = 8015)\n",
      "    T:           54141.9442 +/- 419.843247 (0.78%) (init = 54180)\n",
      "    mirc_scale:  1 (fixed)\n",
      "[[Correlations]] (unreported correlations are < 0.100)\n",
      "    C(w, T)      =  0.998\n",
      "    C(inc, a)    =  0.990\n",
      "    C(inc, e)    =  0.967\n",
      "    C(e, a)      =  0.948\n",
      "    C(w, bigw)   =  0.901\n",
      "    C(bigw, T)   =  0.895\n",
      "    C(e, T)      = -0.556\n",
      "    C(w, e)      = -0.535\n",
      "    C(w, P)      =  0.447\n",
      "    C(bigw, P)   =  0.428\n",
      "    C(bigw, e)   = -0.402\n",
      "    C(P, T)      =  0.397\n",
      "    C(inc, T)    = -0.366\n",
      "    C(e, P)      = -0.362\n",
      "    C(a, T)      = -0.351\n",
      "    C(w, inc)    = -0.336\n",
      "    C(w, a)      = -0.315\n",
      "    C(bigw, inc) = -0.228\n",
      "    C(inc, P)    = -0.190\n",
      "    C(bigw, a)   = -0.177\n",
      "None\n"
     ]
    },
    {
     "data": {
      "image/png": "[encoded data removed]",
      "text/plain": [
       "<Figure size 432x288 with 1 Axes>"
      ]
     },
     "metadata": {
      "needs_background": "light"
     },
     "output_type": "display_data"
    }
   ],
   "source": [
    "###########################################\n",
    "## Do a least-squares fit\n",
    "###########################################\n",
    "params = Parameters()\n",
    "params.add('w',   value= omega, min=0, max=360)\n",
    "params.add('bigw', value= bigomega, min=0, max=360)\n",
    "params.add('inc', value= inc, min=0, max=180)\n",
    "params.add('e', value= e, min=0, max=0.99)\n",
    "params.add('a', value= a, min=0)\n",
    "params.add('P', value= P, min=0)\n",
    "params.add('T', value= T, min=0)\n",
    "params.add('mirc_scale', value= 1.0, vary=False)\n",
    "\n",
    "result = ls_fit(params,xpos_all,ypos_all,t_all,error_maj_all,error_min_all,error_pa_all)"
   ]
  },
  {
   "cell_type": "code",
   "execution_count": 15,
   "metadata": {},
   "outputs": [
    {
     "name": "stdout",
     "output_type": "stream",
     "text": [
      "----------\n",
      "chi2 armada = 280.55045147191987\n",
      "----------\n"
     ]
    }
   ],
   "source": [
    "resids_armada = astrometry_model(result.params,xpos,ypos,t,error_maj,\n",
    "                            error_min,error_pa)\n",
    "ndata_armada = 2*sum(~np.isnan(xpos))\n",
    "chi2_armada = np.nansum(resids_armada**2)/(ndata_armada-len(result.params))\n",
    "print('-'*10)\n",
    "print('chi2 armada = %s'%chi2_armada)\n",
    "print('-'*10)"
   ]
  },
  {
   "cell_type": "code",
   "execution_count": 16,
   "metadata": {},
   "outputs": [],
   "source": [
    "scale=1\n",
    "if chi2_armada<1.0:\n",
    "    scale=1/np.sqrt(chi2_armada)\n",
    "a_start = result.params['a']\n",
    "P_start = result.params['P']\n",
    "e_start = result.params['e']\n",
    "inc_start = result.params['inc']\n",
    "w_start = result.params['w']\n",
    "bigw_start = result.params['bigw']\n",
    "T_start = result.params['T']\n",
    "ra,dec,rapoints,decpoints = orbit_model(a_start,e_start,inc_start,\n",
    "                                        w_start,bigw_start,P_start,\n",
    "                                        T_start,t_all)"
   ]
  },
  {
   "cell_type": "code",
   "execution_count": 17,
   "metadata": {},
   "outputs": [
    {
     "data": {
      "image/png": "[encoded data removed]",
      "text/plain": [
       "<Figure size 432x288 with 1 Axes>"
      ]
     },
     "metadata": {
      "needs_background": "light"
     },
     "output_type": "display_data"
    },
    {
     "data": {
      "image/png": "[encoded data removed]",
      "text/plain": [
       "<Figure size 432x288 with 1 Axes>"
      ]
     },
     "metadata": {
      "needs_background": "light"
     },
     "output_type": "display_data"
    },
    {
     "data": {
      "image/png": "[encoded data removed]",
      "text/plain": [
       "<Figure size 432x288 with 1 Axes>"
      ]
     },
     "metadata": {
      "needs_background": "light"
     },
     "output_type": "display_data"
    },
    {
     "name": "stdout",
     "output_type": "stream",
     "text": [
      "----------\n",
      "Mean residual = 732.57 micro-as\n",
      "----------\n"
     ]
    }
   ],
   "source": [
    "## plot resids for ARMADA\n",
    "fig,ax=plt.subplots()\n",
    "xresid = xpos - rapoints[:len(xpos)]\n",
    "yresid = ypos - decpoints[:len(ypos)]\n",
    "\n",
    "#need to measure error ellipse angle east of north\n",
    "for ras, decs, w, h, angle in zip(xresid,yresid,error_maj/scale,error_min/scale,error_deg):\n",
    "    ellipse = Ellipse(xy=(ras, decs), width=2*w, height=2*h, \n",
    "                      angle=90-angle, facecolor='none', edgecolor='black')\n",
    "    ax.add_patch(ellipse)\n",
    "\n",
    "ax.plot(xresid, yresid, 'o')\n",
    "ax.plot(0,0,'*')\n",
    "ax.set_xlabel('milli-arcsec')\n",
    "ax.set_ylabel('milli-arcsec')\n",
    "ax.invert_xaxis()\n",
    "ax.axis('equal')\n",
    "ax.set_title('HD%s Resids'%target_hd)\n",
    "plt.show()\n",
    "\n",
    "plt.errorbar(t,xresid,yerr=error_maj/scale*np.sin(error_deg*np.pi/180),fmt='o')\n",
    "plt.xlabel('Time')\n",
    "plt.ylabel('dRA (mas)')\n",
    "plt.show()\n",
    "\n",
    "plt.errorbar(t,yresid,yerr=error_maj/scale*np.cos(error_deg*np.pi/180),fmt='o')\n",
    "plt.xlabel('Time')\n",
    "plt.ylabel('dRA (mas)')\n",
    "plt.show()\n",
    "\n",
    "## residuals\n",
    "resids = np.sqrt(xresid**2 + yresid**2)\n",
    "resids_median = np.around(np.median(resids)*1000,2)\n",
    "print('-'*10)\n",
    "print('Mean residual = %s micro-as'%resids_median)\n",
    "print('-'*10)"
   ]
  },
  {
   "cell_type": "code",
   "execution_count": 18,
   "metadata": {},
   "outputs": [
    {
     "name": "stderr",
     "output_type": "stream",
     "text": [
      "WARNING: AstropyDeprecationWarning: Importing LombScargle from astropy.stats has been deprecated and will no longer be supported in future. Please import this class from the astropy.timeseries module instead [astropy.stats.lombscargle]\n"
     ]
    }
   ],
   "source": [
    "## search residuals for period\n",
    "from astropy.stats import LombScargle\n",
    "\n",
    "min_period=2\n",
    "max_period=300\n",
    "\n",
    "## The periodogram\n",
    "frequency_x,power_true_x = LombScargle(t, xresid, error_maj/scale*np.sin(error_deg*np.pi/180)).autopower(minimum_frequency=1/max_period,\n",
    "                                                                            maximum_frequency=1/min_period,\n",
    "                                                                            samples_per_peak=1000)\n",
    "periods_x=1/frequency_x\n",
    "\n",
    "frequency_y,power_true_y = LombScargle(t, yresid, error_maj/scale*np.cos(error_deg*np.pi/180)).autopower(minimum_frequency=1/max_period,\n",
    "                                                                            maximum_frequency=1/min_period,\n",
    "                                                                            samples_per_peak=1000)\n",
    "periods_y=1/frequency_y"
   ]
  },
  {
   "cell_type": "code",
   "execution_count": 19,
   "metadata": {},
   "outputs": [
    {
     "name": "stdout",
     "output_type": "stream",
     "text": [
      "max power xresid =\n",
      "0.9892252616739\n",
      "best period xresid =\n",
      "100.04028492428229\n",
      "max power yresid =\n",
      "0.9903371869859738\n",
      "best period yresid =\n",
      "100.83717939128144\n"
     ]
    },
    {
     "data": {
      "image/png": "[encoded data removed]",
      "text/plain": [
       "<Figure size 432x288 with 1 Axes>"
      ]
     },
     "metadata": {
      "needs_background": "light"
     },
     "output_type": "display_data"
    },
    {
     "data": {
      "image/png": "[encoded data removed]",
      "text/plain": [
       "<Figure size 432x288 with 1 Axes>"
      ]
     },
     "metadata": {
      "needs_background": "light"
     },
     "output_type": "display_data"
    }
   ],
   "source": [
    "max_power_x=max(power_true_x)\n",
    "best_period_x = periods_x[np.argmax(power_true_x)]\n",
    "print(\"max power xresid =\")\n",
    "print(max_power_x)\n",
    "print(\"best period xresid =\")\n",
    "print(best_period_x)\n",
    "\n",
    "max_power_y=max(power_true_y)\n",
    "best_period_y = periods_y[np.argmax(power_true_y)]\n",
    "print(\"max power yresid =\")\n",
    "print(max_power_y)\n",
    "print(\"best period yresid =\")\n",
    "print(best_period_y)\n",
    "\n",
    "plt.plot(periods_x,power_true_x)\n",
    "plt.xlabel('Period (days)')\n",
    "plt.ylabel('Power')\n",
    "plt.title('Xresids')\n",
    "plt.show()\n",
    "\n",
    "plt.plot(periods_y,power_true_y)\n",
    "plt.xlabel('Period (days)')\n",
    "plt.ylabel('Power')\n",
    "plt.title('Yresids')\n",
    "plt.show()"
   ]
  },
  {
   "cell_type": "code",
   "execution_count": 20,
   "metadata": {},
   "outputs": [
    {
     "name": "stdout",
     "output_type": "stream",
     "text": [
      "Time span of data = 1038.0269999999946 days\n",
      "Min/Max period (days) = 2.0004374638658597 / 10380.269999999946 ; 5189 steps\n"
     ]
    }
   ],
   "source": [
    "##########################################\n",
    "## Grid Search for Additional Companions\n",
    "##########################################\n",
    "\n",
    "## New test -- try period spacing from PHASES III paper\n",
    "time_span = max(t) - min(t)\n",
    "print('Time span of data = %s days'%time_span)\n",
    "f = 5\n",
    "min_per = 2\n",
    "max_k = int(2*f*time_span / min_per)\n",
    "k_range = np.arange(max_k)[:-1] + 1\n",
    "P2 = 2*f*time_span / k_range\n",
    "print('Min/Max period (days) = %s / %s ; %s steps'%(min(P2),max(P2),len(k_range)))\n",
    "\n",
    "ss = 0.01\n",
    "se = 1\n",
    "#P2 = np.linspace(ps,pe,steps)\n",
    "#P2 = np.logspace(np.log10(ps),np.log10(pe),1000)\n",
    "\n",
    "a2 = resids_median/1000\n",
    "if np.isnan(a2):\n",
    "    a2=1\n",
    "#T2 = 55075"
   ]
  },
  {
   "cell_type": "code",
   "execution_count": null,
   "metadata": {},
   "outputs": [
    {
     "name": "stderr",
     "output_type": "stream",
     "text": [
      "  0%|          | 0/5189 [00:00<?, ?it/s]"
     ]
    },
    {
     "name": "stdout",
     "output_type": "stream",
     "text": [
      "Grid Searching over period\n"
     ]
    },
    {
     "name": "stderr",
     "output_type": "stream",
     "text": [
      "  2%|▏         | 78/5189 [11:50<11:36:21,  8.17s/it]"
     ]
    }
   ],
   "source": [
    "print('Grid Searching over period')\n",
    "params_inner=[]\n",
    "params_outer=[]\n",
    "chi2 = []\n",
    "\n",
    "for period in tqdm(P2):\n",
    "\n",
    "    params_inner_n=[]\n",
    "    params_outer_n=[]\n",
    "    chi2_n = []\n",
    "\n",
    "    for i in np.arange(10):\n",
    "        ## randomize orbital elements\n",
    "        bigw2 = np.random.uniform(0,360)\n",
    "        inc2 = np.random.uniform(0,180)\n",
    "        T2 = np.random.uniform(58000,60000)\n",
    "\n",
    "        params = Parameters()\n",
    "        params.add('w',   value= w_start, min=0, max=360)\n",
    "        params.add('bigw', value= bigw_start, min=0, max=360)\n",
    "        params.add('inc', value= inc_start, min=0, max=180)\n",
    "        params.add('e', value= e_start, min=0, max=0.99)\n",
    "        params.add('a', value= a_start, min=0)\n",
    "        params.add('P', value= P_start, min=0)\n",
    "        params.add('T', value= T_start, min=0)\n",
    "        params.add('w2',   value= 0, vary=False)\n",
    "        params.add('bigw2', value= bigw2, min=0, max=360)\n",
    "        params.add('inc2', value= inc2, min=0, max=180)\n",
    "        params.add('e2', value= 0, vary=False)\n",
    "        params.add('a2', value= a2, min=0)\n",
    "        params.add('P2', value= period, vary=False)\n",
    "        params.add('T2', value= T2, min=0)\n",
    "        if mirc_scale == 'y':\n",
    "            params.add('mirc_scale', value= 1.0)\n",
    "        else:\n",
    "            params.add('mirc_scale', value= 1.0, vary=False)\n",
    "\n",
    "        #params.add('pscale', value=1)\n",
    "\n",
    "        #do fit, minimizer uses LM for least square fitting of model to data\n",
    "        minner = Minimizer(triple_model, params, fcn_args=(xpos_all,ypos_all,t_all,\n",
    "                                                           error_maj_all,error_min_all,\n",
    "                                                           error_pa_all),\n",
    "                          nan_policy='omit')\n",
    "        result = minner.leastsq(xtol=1e-5,ftol=1e-5)\n",
    "        params_inner_n.append([period,result.params['a2'],result.params['e2'],result.params['w2']\n",
    "                            ,result.params['bigw2'],result.params['inc2'],result.params['T2']])\n",
    "        params_outer_n.append([result.params['P'],result.params['a'],result.params['e'],result.params['w']\n",
    "                            ,result.params['bigw'],result.params['inc'],result.params['T']])\n",
    "        chi2_n.append(result.chisqr)\n",
    "\n",
    "    params_inner_n=np.array(params_inner_n)\n",
    "    params_outer_n=np.array(params_outer_n)\n",
    "    chi2_n = np.array(chi2_n)\n",
    "    #chi2_noise_n = np.array(chi2_noise_n)\n",
    "\n",
    "    idx = np.argmin(chi2_n)\n",
    "    #idx_n = np.argmin(chi2_noise_n)\n",
    "    chi2.append(chi2_n[idx])\n",
    "    #chi2_noise.append(chi2_noise_n[idx_n])\n",
    "    params_inner.append(params_inner_n[idx])\n",
    "    params_outer.append(params_outer_n[idx])"
   ]
  },
  {
   "cell_type": "code",
   "execution_count": null,
   "metadata": {},
   "outputs": [],
   "source": [
    "params_inner=np.array(params_inner)\n",
    "params_outer=np.array(params_outer)\n",
    "chi2 = np.array(chi2)\n",
    "#chi2_noise = np.array(chi2_noise)\n",
    "\n",
    "#idx = np.argmin(chi2)\n",
    "idx = np.argmin(chi2)\n",
    "period_best = params_inner[:,0][idx]"
   ]
  },
  {
   "cell_type": "code",
   "execution_count": null,
   "metadata": {},
   "outputs": [],
   "source": [
    "plt.plot(params_inner[:,0],1/chi2,'o-')\n",
    "plt.plot([pper,pper],[min(1/chi2),max(1/chi2)],'--',label='%s uas'%psem*1000)\n",
    "plt.plot([pper2,pper2],[min(1/chi2),max(1/chi2)],'--',label='%s uas'%psem2*1000)\n",
    "plt.xscale('log')\n",
    "plt.xlabel('Period (d)')\n",
    "plt.ylabel('1/chi2')\n",
    "plt.title('Best Period = %s'%period_best)\n",
    "plt.show()"
   ]
  },
  {
   "cell_type": "code",
   "execution_count": null,
   "metadata": {},
   "outputs": [],
   "source": [
    "print('P,a2,e2,w2,bigw2,inc2,T2')\n",
    "print(params_inner[idx])\n",
    "print(params_outer[idx])"
   ]
  },
  {
   "cell_type": "code",
   "execution_count": null,
   "metadata": {},
   "outputs": [],
   "source": [
    "P_start = params_outer[:,0][idx]\n",
    "a_start = params_outer[:,1][idx]\n",
    "e_start = params_outer[:,2][idx]\n",
    "w_start = params_outer[:,3][idx]\n",
    "bigw_start = params_outer[:,4][idx]\n",
    "inc_start = params_outer[:,5][idx]\n",
    "T_start = params_outer[:,6][idx]\n",
    "\n",
    "P2_start = params_inner[:,0][idx]\n",
    "a2_start = params_inner[:,1][idx]\n",
    "e2_start = params_inner[:,2][idx]\n",
    "w2_start = params_inner[:,3][idx]\n",
    "bigw2_start = params_inner[:,4][idx]\n",
    "inc2_start = params_inner[:,5][idx]\n",
    "T2_start = params_inner[:,6][idx]\n",
    "\n",
    "print(P_start,a_start,e_start,w_start,bigw_start,inc_start,T_start)\n",
    "print(P2_start,a2_start,e2_start,w2_start,bigw2_start,inc2_start,T2_start)"
   ]
  },
  {
   "cell_type": "markdown",
   "metadata": {},
   "source": [
    "## Try a quadruple search"
   ]
  },
  {
   "cell_type": "code",
   "execution_count": null,
   "metadata": {},
   "outputs": [],
   "source": [
    "print('Grid Searching over period')\n",
    "params_inner1=[]\n",
    "params_inner2=[]\n",
    "params_outer_quad=[]\n",
    "chi2_quad = []\n",
    "\n",
    "for period in tqdm(P2):\n",
    "\n",
    "    params_inner1_n=[]\n",
    "    params_inner2_n=[]\n",
    "    params_outer_n=[]\n",
    "    chi2_n = []\n",
    "\n",
    "    for i in np.arange(20):\n",
    "        ## randomize orbital elements\n",
    "        bigw3 = np.random.uniform(0,360)\n",
    "        inc3 = np.random.uniform(0,180)\n",
    "        T3 = np.random.uniform(58000,60000)\n",
    "\n",
    "        params = Parameters()\n",
    "        params.add('w',   value= w_start, min=0, max=360)\n",
    "        params.add('bigw', value= bigw_start, min=0, max=360)\n",
    "        params.add('inc', value= inc_start, min=0, max=180)\n",
    "        params.add('e', value= e_start, min=0, max=0.99)\n",
    "        params.add('a', value= a_start, min=0)\n",
    "        params.add('P', value= P_start, min=0)\n",
    "        params.add('T', value= T_start, min=0)\n",
    "        params.add('w2',   value= 0, vary=False)\n",
    "        params.add('bigw2', value= bigw2_start, min=0, max=360)\n",
    "        params.add('inc2', value= inc2_start, min=0, max=180)\n",
    "        params.add('e2', value= 0, vary=False)\n",
    "        params.add('a2', value= a2_start, min=0)\n",
    "        params.add('P2', value= P2_start, min=0)\n",
    "        params.add('T2', value= T2_start, min=0)\n",
    "        \n",
    "        params.add('w3',   value= 0, vary=False)\n",
    "        params.add('bigw3', value= bigw3, min=0, max=360)\n",
    "        params.add('inc3', value= inc3, min=0, max=180)\n",
    "        params.add('e3', value= 0, vary=False)\n",
    "        params.add('a3', value= a2_start, min=0)\n",
    "        params.add('P3', value= period, vary=False)\n",
    "        params.add('T3', value= T3, min=0)\n",
    "        \n",
    "        if mirc_scale == 'y':\n",
    "            params.add('mirc_scale', value= 1.0)\n",
    "        else:\n",
    "            params.add('mirc_scale', value= 1.0, vary=False)\n",
    "\n",
    "        #params.add('pscale', value=1)\n",
    "\n",
    "        #do fit, minimizer uses LM for least square fitting of model to data\n",
    "        minner = Minimizer(quad_model, params, fcn_args=(xpos_all,ypos_all,t_all,\n",
    "                                                           error_maj_all,error_min_all,\n",
    "                                                           error_pa_all),\n",
    "                          nan_policy='omit')\n",
    "        result = minner.leastsq(xtol=1e-5,ftol=1e-5)\n",
    "        params_inner1_n.append([period,result.params['a3'],result.params['e3'],result.params['w3']\n",
    "                            ,result.params['bigw3'],result.params['inc3'],result.params['T3']])\n",
    "        params_inner2_n.append([result.params['P2'],result.params['a2'],result.params['e2'],result.params['w2']\n",
    "                            ,result.params['bigw2'],result.params['inc2'],result.params['T2']])\n",
    "        params_outer_n.append([result.params['P'],result.params['a'],result.params['e'],result.params['w']\n",
    "                            ,result.params['bigw'],result.params['inc'],result.params['T']])\n",
    "        chi2_n.append(result.chisqr)\n",
    "\n",
    "    params_inner1_n=np.array(params_inner1_n)\n",
    "    params_inner2_n=np.array(params_inner2_n)\n",
    "    params_outer_n=np.array(params_outer_n)\n",
    "    chi2_n = np.array(chi2_n)\n",
    "    #chi2_noise_n = np.array(chi2_noise_n)\n",
    "\n",
    "    idx = np.argmin(chi2_n)\n",
    "    #idx_n = np.argmin(chi2_noise_n)\n",
    "    chi2_quad.append(chi2_n[idx])\n",
    "    #chi2_noise.append(chi2_noise_n[idx_n])\n",
    "    params_inner1.append(params_inner1_n[idx])\n",
    "    params_inner2.append(params_inner2_n[idx])\n",
    "    params_outer_quad.append(params_outer_n[idx])"
   ]
  },
  {
   "cell_type": "code",
   "execution_count": null,
   "metadata": {},
   "outputs": [],
   "source": [
    "params_inner1=np.array(params_inner1)\n",
    "params_inner2=np.array(params_inner2)\n",
    "params_outer_quad=np.array(params_outer_quad)\n",
    "chi2_quad = np.array(chi2_quad)\n",
    "\n",
    "np.save('/Users/tgardne/binary_interferometry/params_inner1_saved.npy',params_inner1)\n",
    "np.save('/Users/tgardne/binary_interferometry/params_inner2_saved.npy',params_inner2)\n",
    "np.save('/Users/tgardne/binary_interferometry/params_outer_quad_saved.npy',params_outer_quad)\n",
    "np.save('/Users/tgardne/binary_interferometry/chi2_quad_saved.npy',chi2_quad)"
   ]
  },
  {
   "cell_type": "code",
   "execution_count": null,
   "metadata": {},
   "outputs": [],
   "source": [
    "params_inner1=np.array(params_inner1)\n",
    "params_inner2=np.array(params_inner2)\n",
    "params_outer_quad=np.array(params_outer_quad)\n",
    "chi2_quad = np.array(chi2_quad)\n",
    "#chi2_noise = np.array(chi2_noise)\n",
    "\n",
    "#idx = np.argmin(chi2)\n",
    "idx = np.argmin(chi2_quad)\n",
    "period_best1 = params_inner1[:,0][idx]\n",
    "period_best2 = params_inner2[:,0][idx]"
   ]
  },
  {
   "cell_type": "code",
   "execution_count": null,
   "metadata": {},
   "outputs": [],
   "source": [
    "plt.plot(params_inner1[:,0],1/chi2_quad,'o-')\n",
    "plt.plot([pper,pper],[min(1/chi2_quad),max(1/chi2_quad)],'--',label='%s uas'%psem*1000)\n",
    "plt.plot([pper2,pper2],[min(1/chi2_quad),max(1/chi2_quad)],'--',label='%s uas'%psem2*1000)\n",
    "plt.xscale('log')\n",
    "plt.xlabel('Period (d)')\n",
    "plt.ylabel('1/chi2')\n",
    "plt.title('Best Periods = %s, %s'%(period_best1,period_best2))\n",
    "plt.show()"
   ]
  },
  {
   "cell_type": "code",
   "execution_count": null,
   "metadata": {},
   "outputs": [],
   "source": [
    "np.median(params_inner2[:,0])"
   ]
  },
  {
   "cell_type": "markdown",
   "metadata": {},
   "source": [
    "## Double grid"
   ]
  },
  {
   "cell_type": "code",
   "execution_count": null,
   "metadata": {},
   "outputs": [],
   "source": [
    "print('Grid Searching over period')\n",
    "params_inner1_2=[]\n",
    "params_inner2_2=[]\n",
    "params_outer_quad_2=[]\n",
    "chi2_quad_2 = []\n",
    "\n",
    "for period1 in tqdm(P2):\n",
    "    for period2 in P2:\n",
    "\n",
    "        params_inner1_n=[]\n",
    "        params_inner2_n=[]\n",
    "        params_outer_n=[]\n",
    "        chi2_n = []\n",
    "\n",
    "        for i in np.arange(20):\n",
    "            ## randomize orbital elements\n",
    "            bigw2 = np.random.uniform(0,360)\n",
    "            inc2 = np.random.uniform(0,180)\n",
    "            T2 = np.random.uniform(58000,60000)\n",
    "            bigw3 = np.random.uniform(0,360)\n",
    "            inc3 = np.random.uniform(0,180)\n",
    "            T3 = np.random.uniform(58000,60000)\n",
    "\n",
    "            params = Parameters()\n",
    "            params.add('w',   value= w_start, min=0, max=360)\n",
    "            params.add('bigw', value= bigw_start, min=0, max=360)\n",
    "            params.add('inc', value= inc_start, min=0, max=180)\n",
    "            params.add('e', value= e_start, min=0, max=0.99)\n",
    "            params.add('a', value= a_start, min=0)\n",
    "            params.add('P', value= P_start, min=0)\n",
    "            params.add('T', value= T_start, min=0)\n",
    "            params.add('w2',   value= 0, vary=False)\n",
    "            params.add('bigw2', value= bigw2, min=0, max=360)\n",
    "            params.add('inc2', value= inc2, min=0, max=180)\n",
    "            params.add('e2', value= 0, vary=False)\n",
    "            params.add('a2', value= 0.3, min=0)\n",
    "            params.add('P2', value= period1, min=0)\n",
    "            params.add('T2', value= T2, min=0)\n",
    "        \n",
    "            params.add('w3',   value= 0, vary=False)\n",
    "            params.add('bigw3', value= bigw3, min=0, max=360)\n",
    "            params.add('inc3', value= inc3, min=0, max=180)\n",
    "            params.add('e3', value= 0, vary=False)\n",
    "            params.add('a3', value= 0.3, min=0)\n",
    "            params.add('P3', value= period2, vary=False)\n",
    "            params.add('T3', value= T3, min=0)\n",
    "        \n",
    "            if mirc_scale == 'y':\n",
    "                params.add('mirc_scale', value= 1.0)\n",
    "            else:\n",
    "                params.add('mirc_scale', value= 1.0, vary=False)\n",
    "\n",
    "            #params.add('pscale', value=1)\n",
    "\n",
    "            #do fit, minimizer uses LM for least square fitting of model to data\n",
    "            minner = Minimizer(quad_model, params, fcn_args=(xpos_all,ypos_all,t_all,\n",
    "                                                               error_maj_all,error_min_all,\n",
    "                                                               error_pa_all),\n",
    "                              nan_policy='omit')\n",
    "            result = minner.leastsq(xtol=1e-5,ftol=1e-5)\n",
    "            params_inner1_n.append([period,result.params['a3'],result.params['e3'],result.params['w3']\n",
    "                                ,result.params['bigw3'],result.params['inc3'],result.params['T3']])\n",
    "            params_inner2_n.append([result.params['P2'],result.params['a2'],result.params['e2'],result.params['w2']\n",
    "                                ,result.params['bigw2'],result.params['inc2'],result.params['T2']])\n",
    "            params_outer_n.append([result.params['P'],result.params['a'],result.params['e'],result.params['w']\n",
    "                                ,result.params['bigw'],result.params['inc'],result.params['T']])\n",
    "            chi2_n.append(result.chisqr)\n",
    "\n",
    "        params_inner1_n=np.array(params_inner1_n)\n",
    "        params_inner2_n=np.array(params_inner2_n)\n",
    "        params_outer_n=np.array(params_outer_n)\n",
    "        chi2_n = np.array(chi2_n)\n",
    "        #chi2_noise_n = np.array(chi2_noise_n)\n",
    "\n",
    "        idx = np.argmin(chi2_n)\n",
    "        #idx_n = np.argmin(chi2_noise_n)\n",
    "        chi2_quad_2.append(chi2_n[idx])\n",
    "        #chi2_noise.append(chi2_noise_n[idx_n])\n",
    "        params_inner1_2.append(params_inner1_n[idx])\n",
    "        params_inner2_2.append(params_inner2_n[idx])\n",
    "        params_outer_quad_2.append(params_outer_n[idx])"
   ]
  }
 ],
 "metadata": {
  "kernelspec": {
   "display_name": "Python 3",
   "language": "python",
   "name": "python3"
  },
  "language_info": {
   "codemirror_mode": {
    "name": "ipython",
    "version": 3
   },
   "file_extension": ".py",
   "mimetype": "text/x-python",
   "name": "python",
   "nbconvert_exporter": "python",
   "pygments_lexer": "ipython3",
   "version": "3.7.6"
  }
 },
 "nbformat": 4,
 "nbformat_minor": 4
}
