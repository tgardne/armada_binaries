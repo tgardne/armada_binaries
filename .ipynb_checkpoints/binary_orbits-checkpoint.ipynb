{
 "cells": [
  {
   "cell_type": "markdown",
   "metadata": {},
   "source": [
    "## A notebook for fitting to ARMADA binary orbits"
   ]
  },
  {
   "cell_type": "code",
   "execution_count": 65,
   "metadata": {},
   "outputs": [],
   "source": [
    "from lmfit import minimize, Minimizer, Parameters, Parameter, report_fit\n",
    "import numpy as np\n",
    "import os\n",
    "import matplotlib.pyplot as plt\n",
    "from matplotlib.patches import Ellipse\n",
    "from mpl_toolkits.axes_grid1.inset_locator import zoomed_inset_axes\n",
    "from mpl_toolkits.axes_grid1.inset_locator import mark_inset\n",
    "import random\n",
    "from tqdm import tqdm\n",
    "import matplotlib.cm as cm\n",
    "from matplotlib.backends.backend_pdf import PdfPages\n",
    "import emcee\n",
    "import corner\n",
    "from read_data import read_data,read_wds,read_orb6\n",
    "from astrometry_model import astrometry_model,triple_model,lnlike,lnprior,lnpost,create_init\n",
    "from orbit_plotting import orbit_model,triple_orbit_model\n",
    "%matplotlib inline"
   ]
  },
  {
   "cell_type": "code",
   "execution_count": 66,
   "metadata": {},
   "outputs": [],
   "source": [
    "if os.getcwd()[7:14] == 'tgardne':\n",
    "    ## setup paths for user\n",
    "    path = '/Users/tgardne/ARMADA_orbits'\n",
    "    path_etalon = '/Users/tgardne/etalon_epochs/etalon_fits/etalon_factors_fit_SKY.txt'\n",
    "    path_wds = '/Users/tgardne/wds_targets'\n",
    "    path_orb6 = '/Users/tgardne/catalogs/orb6orbits.sql.txt'\n",
    "    \n",
    "elif os.getcwd()[7:19] == 'adam.scovera':\n",
    "    ## Adam's path\n",
    "    path = '/Users/adam.scovera/Documents/UofM/BEPResearch_Data/ARMADA_orbits'\n",
    "    path_etalon = '/Users/adam.scovera/Documents/UofM/BEPResearch_Data/etalon_factors_fit.txt'\n",
    "    path_wds = '/Users/adam.scovera/Documents/UofM/BEPResearch_Data/wds_targets'\n",
    "    path_orb6 = '/Users/adam.scovera/Documents/UofM/BEPResearch_Data/orb6orbits.sql.txt'"
   ]
  },
  {
   "cell_type": "markdown",
   "metadata": {},
   "source": [
    "## Specify a target HD number and WDS number"
   ]
  },
  {
   "cell_type": "code",
   "execution_count": 67,
   "metadata": {},
   "outputs": [],
   "source": [
    "### give target information\n",
    "# target is hip number\n",
    "# target_hd is hd number\n",
    "# target_wds is wds number\n",
    "\n",
    "target = []\n",
    "target_hd = []\n",
    "target_wds = []\n",
    "\n",
    "# Target 0 really nice\n",
    "target.append('26536')\n",
    "target_hd.append ('37269')\n",
    "target_wds.append('05386+3030')\n",
    "\n",
    "# Target 1 pretty nice\n",
    "target.append('21644')\n",
    "target_hd.append ('29573')\n",
    "target_wds.append('04389-1207')\n",
    "\n",
    "# Target 2 Has some problems: Obvious outliers\n",
    "target.append('12828')\n",
    "target_hd.append ('17094')\n",
    "target_wds.append('02449+1007')\n",
    "\n",
    "# Target 3 really nice\n",
    "target.append('101398')\n",
    "target_hd.append ('196089')\n",
    "target_wds.append('20330+4950')\n",
    "\n",
    "# Target 4 pretty nice\n",
    "target.append('98055')\n",
    "target_hd.append ('189037')\n",
    "target_wds.append('19556+5226')\n",
    "\n",
    "# Target 5 Obvious outliers\n",
    "target.append('21730')\n",
    "target_hd.append ('29316')\n",
    "target_wds.append('04400+5328')\n",
    "\n",
    "# Target 6 Really nice, possible outliers\n",
    "target.append('26777')\n",
    "target_hd.append ('37711')\n",
    "target_wds.append('05413+1632')\n",
    "\n",
    "# Target 7 Something is wrong, does not seem right\n",
    "target.append('113788')\n",
    "target_hd.append ('217782')\n",
    "target_wds.append('23026+4245')\n",
    "\n",
    "# Target 8 Overall good, some strange data points\n",
    "target.append('5131')\n",
    "target_hd.append ('6456')\n",
    "target_wds.append('01057+2128')\n",
    "\n",
    "# Target 9 Really Nice\n",
    "target.append('12466')\n",
    "target_hd.append('16753')\n",
    "target_wds.append('02405-2408')\n",
    "\n",
    "# Target 10 Not bad, hige residuals\n",
    "target.append('4176')\n",
    "target_hd.append('5143')\n",
    "target_wds.append('00533+0405')\n",
    "\n",
    "# Target 11 Really Nice\n",
    "target.append('22573')\n",
    "target_hd.append('31093')\n",
    "target_wds.append('04515-3454')\n",
    "\n",
    "# Target 12 Looks strange Maybe the dates are off in WDS?\n",
    "target.append('30883') \n",
    "target_hd.append('45542')\n",
    "target_wds.append('06290+2013')\n",
    "\n",
    "# Target 13 Looks weird. Maybe the dates are off?\n",
    "target.append('76852')\n",
    "target_hd.append('140159')\n",
    "target_wds.append('15416+1940')\n",
    "\n",
    "# Target 14 WDS data not working\n",
    "target.append('87761')\n",
    "target_hd.append('163346')\n",
    "target_wds.append('17556+0204')\n",
    "\n",
    "# Target 15 Strange Results. Try Flipping\n",
    "target.append('96729')\n",
    "target_hd.append('185404')\n",
    "target_wds.append('19398-2326')\n",
    "\n",
    "# Target 16 Again, weird. Dates?\n",
    "target.append('96807')\n",
    "target_hd.append('185762')\n",
    "target_wds.append('19407-0037')\n",
    "\n",
    "# Target 17 Try Flipping\n",
    "target.append('118205')\n",
    "target_hd.append('224512')\n",
    "target_wds.append('23586-1408')\n",
    "\n",
    "# Target 18 WDS not working\n",
    "target.append('101211')\n",
    "target_hd.append('195206')\n",
    "target_wds.append('20310-2907')\n",
    "\n",
    "# Target 19 WDS not working\n",
    "target.append('102589')\n",
    "target_hd.append('198183')\n",
    "target_wds.append('20474+3629')\n",
    "\n",
    "# Target 20 Really nice. Possible outliers\n",
    "target.append('104272')\n",
    "target_hd.append('201038')\n",
    "target_wds.append('21074-0814')\n",
    "\n",
    "# Target 21 Nice, possible outliers\n",
    "target.append('103569')\n",
    "target_hd.append('199766')\n",
    "target_wds.append('20591+0418')\n",
    "\n",
    "# Iota Peg\n",
    "target.append('109176')\n",
    "target_hd.append('210027')\n",
    "target_wds.append('22070+2521')\n",
    "\n",
    "# Choose which index to focus on\n",
    "focus = 19"
   ]
  },
  {
   "cell_type": "markdown",
   "metadata": {},
   "source": [
    "## Read in ARMADA data"
   ]
  },
  {
   "cell_type": "code",
   "execution_count": 68,
   "metadata": {},
   "outputs": [],
   "source": [
    "#Get data from txt file:\n",
    "file=open('%s/HD_%s.txt'%(path,target_hd[focus]))\n",
    "weight=1\n",
    "\n",
    "t,p,theta,error_maj,error_min,error_pa,error_deg = read_data(file,weight)\n",
    "file.close()\n",
    "\n",
    "#idx = np.where(t>58362)\n",
    "idx = np.where(t>0)\n",
    "t = t[idx]\n",
    "p = p[idx]\n",
    "theta = theta[idx]\n",
    "error_maj = error_maj[idx]\n",
    "error_min = error_min[idx]\n",
    "error_pa = error_pa[idx]\n",
    "error_deg = error_deg[idx]"
   ]
  },
  {
   "cell_type": "markdown",
   "metadata": {},
   "source": [
    "## Apply Etalon Correction"
   ]
  },
  {
   "cell_type": "code",
   "execution_count": 69,
   "metadata": {},
   "outputs": [
    {
     "name": "stdout",
     "output_type": "stream",
     "text": [
      "   date      etalon factor\n",
      "58703.3555 1.0001552469216959\n",
      "58693.3074 1.0000872141272397\n",
      "58637.4003 0.9998649730440267\n",
      "58800.1229 1.0002313419776407\n"
     ]
    }
   ],
   "source": [
    "## get etalon factors from txt file fit\n",
    "file=open(path_etalon)\n",
    "mjd_etalon=[]\n",
    "f_etalon=[]\n",
    "for line in file.readlines():\n",
    "    if line.startswith('#'):\n",
    "        continue\n",
    "    mjd_etalon.append(float(line.split()[0]))\n",
    "    f_etalon.append(float(line.split()[1]))\n",
    "file.close()\n",
    "mjd_etalon=np.array(mjd_etalon)\n",
    "f_etalon=np.array(f_etalon)\n",
    "\n",
    "etalon_factor=[]\n",
    "for i in t:\n",
    "    idx = np.where(abs(i-mjd_etalon)==min(abs(i-mjd_etalon)))\n",
    "    f = f_etalon[idx][0]\n",
    "    etalon_factor.append(f)\n",
    "etalon_factor=np.array(etalon_factor)\n",
    "\n",
    "print('   date      etalon factor')\n",
    "for i,j in zip(t,etalon_factor):\n",
    "    print(i,j)"
   ]
  },
  {
   "cell_type": "code",
   "execution_count": 70,
   "metadata": {},
   "outputs": [
    {
     "data": {
      "image/png": "[encoded data removed]",
      "text/plain": [
       "<Figure size 432x288 with 1 Axes>"
      ]
     },
     "metadata": {
      "needs_background": "light"
     },
     "output_type": "display_data"
    }
   ],
   "source": [
    "## apply etalon correction\n",
    "#etalon_factor=1\n",
    "\n",
    "p = p/etalon_factor\n",
    "\n",
    "xpos=p*np.sin(theta)\n",
    "ypos=p*np.cos(theta)\n",
    "\n",
    "plt.plot(xpos,ypos,'+')\n",
    "#plt.plot(0,0,'*')\n",
    "plt.title('ARMADA Data')\n",
    "plt.xlabel('dra (mas)')\n",
    "plt.ylabel('ddec (mas)')\n",
    "plt.show()"
   ]
  },
  {
   "cell_type": "markdown",
   "metadata": {},
   "source": [
    "## Read in WDS data"
   ]
  },
  {
   "cell_type": "code",
   "execution_count": 71,
   "metadata": {},
   "outputs": [],
   "source": [
    "## get wds data\n",
    "#Get data from txt file:\n",
    "file=open(os.path.expanduser(\"%s/wds%s.txt\"%(path_wds,target_wds[focus])))\n",
    "weight = 10\n",
    "dtype = 'S'\n",
    "\n",
    "t_wds,p_wds,theta_wds,error_maj_wds,error_min_wds,error_pa_wds,error_deg_wds = read_wds(file,weight,dtype)"
   ]
  },
  {
   "cell_type": "code",
   "execution_count": 72,
   "metadata": {},
   "outputs": [
    {
     "name": "stdout",
     "output_type": "stream",
     "text": [
      "19\n"
     ]
    }
   ],
   "source": [
    "print(len(p_wds))"
   ]
  },
  {
   "cell_type": "code",
   "execution_count": 73,
   "metadata": {},
   "outputs": [
    {
     "data": {
      "image/png": "[encoded data removed]",
      "text/plain": [
       "<Figure size 432x288 with 1 Axes>"
      ]
     },
     "metadata": {
      "needs_background": "light"
     },
     "output_type": "display_data"
    },
    {
     "data": {
      "image/png": "[encoded data removed]",
      "text/plain": [
       "<Figure size 432x288 with 1 Axes>"
      ]
     },
     "metadata": {
      "needs_background": "light"
     },
     "output_type": "display_data"
    }
   ],
   "source": [
    "## plot all data\n",
    "    \n",
    "if target_hd[focus] == '17094':\n",
    "    idx = np.where(theta_wds*180/np.pi>180)\n",
    "    theta_wds[idx]-=np.pi\n",
    "    plt.plot(t_wds,theta_wds*180/np.pi)\n",
    "    plt.show()\n",
    "    \n",
    "else:\n",
    "    plt.plot(t_wds,theta_wds*180/np.pi)\n",
    "    plt.xlabel('PA (deg)')\n",
    "    plt.ylabel('date (mjd)')\n",
    "    plt.show()\n",
    "\n",
    "xpos_wds=p_wds*np.sin(theta_wds)\n",
    "ypos_wds=p_wds*np.cos(theta_wds)\n",
    "\n",
    "#idx = np.where(xpos_wds>-100)\n",
    "#xpos_wds = xpos_wds[idx]\n",
    "#ypos_wds = ypos_wds[idx]\n",
    "#t_wds = t_wds[idx]\n",
    "#error_maj_wds=error_maj_wds[idx]\n",
    "#error_min_wds=error_min_wds[idx]\n",
    "#error_pa_wds=error_pa_wds[idx]\n",
    "#error_deg_wds=error_deg_wds[idx]\n",
    "\n",
    "idx = np.argmin(t)\n",
    "\n",
    "plt.plot(xpos_wds,ypos_wds,'o',label='WDS')\n",
    "plt.plot(xpos_wds[0],ypos_wds[0],'*')\n",
    "plt.plot(xpos[idx],ypos[idx],'*')\n",
    "plt.plot(xpos,ypos,'+',label='ARMADA')\n",
    "plt.plot(0,0,'*')\n",
    "plt.gca().invert_xaxis()\n",
    "plt.title('All Data')\n",
    "plt.xlabel('dra (mas)')\n",
    "plt.ylabel('ddec (mas)')\n",
    "plt.legend()\n",
    "plt.show()"
   ]
  },
  {
   "cell_type": "code",
   "execution_count": 74,
   "metadata": {},
   "outputs": [],
   "source": [
    "## flip WDS by 180???\n",
    "if target_hd[focus] == '17094' or target_hd[focus] == '185762':\n",
    "    xpos_wds=-p_wds*np.sin(theta_wds)\n",
    "    ypos_wds=-p_wds*np.cos(theta_wds)\n",
    "\n",
    "    plt.plot(xpos_wds,ypos_wds,'o')\n",
    "    plt.plot(xpos_wds[0],ypos_wds[0],'*')\n",
    "    plt.plot(xpos[idx],ypos[idx],'*')\n",
    "    plt.plot(xpos,ypos,'+')\n",
    "    plt.plot(0,0,'*')\n",
    "    plt.gca().invert_xaxis()\n",
    "    plt.title('All Data')\n",
    "    plt.xlabel('dra (mas)')\n",
    "    plt.ylabel('ddec (mas)')\n",
    "    plt.show()"
   ]
  },
  {
   "cell_type": "markdown",
   "metadata": {},
   "source": [
    "## Get an estimate of the orbital parameters"
   ]
  },
  {
   "cell_type": "code",
   "execution_count": 75,
   "metadata": {},
   "outputs": [
    {
     "name": "stdout",
     "output_type": "stream",
     "text": [
      "found target!\n",
      "--------------------------\n",
      "a(mas),P(yr),e,i(deg),omega(deg),bigomega(deg),T(mjd)\n",
      "48.0 11.630000000000003 0.524 135.0 272.0 150.00000000000003 45039.06641800003\n",
      "--------------------------\n"
     ]
    }
   ],
   "source": [
    "if target_hd[focus] == '17094':\n",
    "    # Guess for hd17094\n",
    "    P = 12356\n",
    "    e = 0.9\n",
    "    inc = 264*np.pi/180\n",
    "    omega = 260*np.pi/180\n",
    "    bigomega = 240*np.pi/180\n",
    "    a = 543\n",
    "    T = 21541\n",
    "    \n",
    "else:\n",
    "    a,P,e,inc,omega,bigomega,T = read_orb6(target[focus],path_orb6)"
   ]
  },
  {
   "cell_type": "markdown",
   "metadata": {},
   "source": [
    "## Combine the ARMADA and WDS data for fitting"
   ]
  },
  {
   "cell_type": "code",
   "execution_count": 76,
   "metadata": {},
   "outputs": [],
   "source": [
    "## add all data together\n",
    "xpos_all = np.concatenate([xpos,xpos_wds])\n",
    "ypos_all = np.concatenate([ypos,ypos_wds])\n",
    "t_all = np.concatenate([t,t_wds])\n",
    "\n",
    "error_maj_all = np.concatenate([error_maj,error_maj_wds])\n",
    "error_min_all = np.concatenate([error_min,error_min_wds])\n",
    "error_pa_all = np.concatenate([error_pa,error_pa_wds])\n",
    "error_deg_all = np.concatenate([error_deg,error_deg_wds])"
   ]
  },
  {
   "cell_type": "markdown",
   "metadata": {},
   "source": [
    "## First, do a least-squares fit"
   ]
  },
  {
   "cell_type": "code",
   "execution_count": 77,
   "metadata": {},
   "outputs": [
    {
     "name": "stdout",
     "output_type": "stream",
     "text": [
      "[[Fit Statistics]]\n",
      "    # fitting method   = leastsq\n",
      "    # function evals   = 62\n",
      "    # data points      = 46\n",
      "    # variables        = 7\n",
      "    chi-square         = 1903430.34\n",
      "    reduced chi-square = 48805.9061\n",
      "    Akaike info crit   = 503.004236\n",
      "    Bayesian info crit = 515.804725\n",
      "[[Variables]]\n",
      "    w:     0.71850235 (init = 1.605703)\n",
      "    bigw:  2.34612049 (init = 2.617994)\n",
      "    inc:   0.91029433 (init = 2.356194)\n",
      "    e:     0.98656255 (init = 0.524)\n",
      "    a:     6.8921e-11 (init = 48)\n",
      "    P:     3803.54785 (init = 4244.95)\n",
      "    T:     43989.6297 (init = 45039.07)\n",
      "None\n"
     ]
    }
   ],
   "source": [
    "#create a set of Parameters, choose starting value and range for search\n",
    "params = Parameters()\n",
    "params.add('w',   value= omega, min=0, max=2*np.pi)\n",
    "params.add('bigw', value= bigomega, min=0, max=2*np.pi)\n",
    "params.add('inc', value= inc, min=0, max=2*np.pi)\n",
    "params.add('e', value= e, min=0, max=0.99)\n",
    "params.add('a', value= a, min=0)\n",
    "params.add('P', value= P, min=0)\n",
    "params.add('T', value= T, min=0)\n",
    "\n",
    "#params.add('pscale', value=1)\n",
    "\n",
    "#do fit, minimizer uses LM for least square fitting of model to data\n",
    "minner = Minimizer(astrometry_model, params, fcn_args=(xpos_all,ypos_all,t_all,\n",
    "                                                       error_maj_all,error_min_all,\n",
    "                                                       error_pa_all))\n",
    "kws  = {'options': {'maxiter':10}}\n",
    "result = minner.minimize()\n",
    "\n",
    "# write error report\n",
    "print(report_fit(result))"
   ]
  },
  {
   "cell_type": "code",
   "execution_count": 63,
   "metadata": {},
   "outputs": [
    {
     "name": "stdout",
     "output_type": "stream",
     "text": [
      "----------\n",
      "chi2 armada = 1902981.5061166454\n",
      "----------\n",
      "chi2 wds = 14.478387096760292\n",
      "----------\n"
     ]
    }
   ],
   "source": [
    "resids_armada = astrometry_model(result.params,xpos,ypos,t,error_maj,\n",
    "                                 error_min,error_pa)\n",
    "resids_wds = astrometry_model(result.params,xpos_wds,ypos_wds,t_wds,\n",
    "                              error_maj_wds,error_min_wds,error_pa_wds)\n",
    "\n",
    "ndata_armada = 2*sum(~np.isnan(xpos))\n",
    "ndata_wds = 2*sum(~np.isnan(xpos_wds))\n",
    "\n",
    "chi2_armada = np.nansum(resids_armada**2)/(ndata_armada-len(result.params))\n",
    "chi2_wds = np.nansum(resids_wds**2)/(ndata_wds-len(result.params))\n",
    "\n",
    "print('-'*10)\n",
    "print('chi2 armada = %s'%chi2_armada)\n",
    "print('-'*10)\n",
    "print('chi2 wds = %s'%chi2_wds)\n",
    "print('-'*10)"
   ]
  },
  {
   "cell_type": "markdown",
   "metadata": {},
   "source": [
    "## Take a look at the least squares fit"
   ]
  },
  {
   "cell_type": "code",
   "execution_count": 64,
   "metadata": {},
   "outputs": [
    {
     "data": {
      "image/png": "[encoded data removed]",
      "text/plain": [
       "<Figure size 432x288 with 1 Axes>"
      ]
     },
     "metadata": {
      "needs_background": "light"
     },
     "output_type": "display_data"
    },
    {
     "data": {
      "image/png": "[encoded data removed]",
      "text/plain": [
       "<Figure size 432x288 with 1 Axes>"
      ]
     },
     "metadata": {
      "needs_background": "light"
     },
     "output_type": "display_data"
    },
    {
     "name": "stdout",
     "output_type": "stream",
     "text": [
      "----------\n",
      "Mean residual = 38625.91 micro-as\n",
      "----------\n"
     ]
    }
   ],
   "source": [
    "scale=1\n",
    "if chi2_armada<1.0:\n",
    "    scale=1/np.sqrt(chi2_armada)\n",
    "\n",
    "a_start = result.params['a']\n",
    "P_start = result.params['P']\n",
    "e_start = result.params['e']\n",
    "inc_start = result.params['inc']\n",
    "w_start = result.params['w']\n",
    "bigw_start = result.params['bigw']\n",
    "T_start = result.params['T']\n",
    "#pscale_start = result.params['pscale']\n",
    "\n",
    "ra,dec,rapoints,decpoints = orbit_model(a_start,e_start,inc_start,\n",
    "                                        w_start,bigw_start,P_start,\n",
    "                                        T_start,t_all)\n",
    "\n",
    "fig,ax=plt.subplots()\n",
    "\n",
    "ax.plot(xpos_wds, ypos_wds, 'o', label='WDS')\n",
    "ax.plot(xpos,ypos,'o', label='ARMADA')\n",
    "ax.plot(0,0,'*')\n",
    "ax.plot(ra, dec, '--',color='g')\n",
    "\n",
    "#plot lines from data to best fit orbit\n",
    "i=0\n",
    "while i<len(decpoints):\n",
    "    x=[xpos_all[i],rapoints[i]]\n",
    "    y=[ypos_all[i],decpoints[i]]\n",
    "    ax.plot(x,y,color=\"black\")\n",
    "    i+=1\n",
    "\n",
    "directory='%s/HD%s/'%(path,target_hd[focus])\n",
    "if not os.path.exists(directory):\n",
    "    os.makedirs(directory)\n",
    "ax.set_xlabel('milli-arcsec')\n",
    "ax.set_ylabel('milli-arcsec')\n",
    "ax.invert_xaxis()\n",
    "ax.axis('equal')\n",
    "ax.set_title('HD%s Outer Orbit'%target_hd[focus])\n",
    "plt.legend()\n",
    "plt.savefig('%s/HD%s/HD%s_outer_leastsquares.pdf'%(path,target_hd[focus],target_hd[focus]))\n",
    "plt.show()\n",
    "\n",
    "## plot resids for ARMADA\n",
    "fig,ax=plt.subplots()\n",
    "xresid = xpos - rapoints[:len(xpos)]\n",
    "yresid = ypos - decpoints[:len(ypos)]\n",
    "\n",
    "#need to measure error ellipse angle east of north\n",
    "for ras, decs, w, h, angle in zip(xresid,yresid,error_maj/scale,error_min/scale,error_deg):\n",
    "    ellipse = Ellipse(xy=(ras, decs), width=2*w, height=2*h, \n",
    "                      angle=90-angle, facecolor='none', edgecolor='black')\n",
    "    ax.add_patch(ellipse)\n",
    "\n",
    "ax.plot(xresid, yresid, 'o')\n",
    "ax.plot(0,0,'*')\n",
    "ax.set_xlabel('milli-arcsec')\n",
    "ax.set_ylabel('milli-arcsec')\n",
    "ax.invert_xaxis()\n",
    "ax.axis('equal')\n",
    "ax.set_title('HD%s Resids'%target_hd[focus])\n",
    "plt.savefig('%s/HD%s/HD%s_resid_leastsquares.pdf'%(path,target_hd[focus],target_hd[focus]))\n",
    "plt.show()\n",
    "\n",
    "## residuals\n",
    "resids = np.sqrt(xresid**2 + yresid**2)\n",
    "resids_median = np.around(np.median(resids)*1000,2)\n",
    "print('-'*10)\n",
    "print('Mean residual = %s micro-as'%resids_median)\n",
    "print('-'*10)"
   ]
  },
  {
   "cell_type": "code",
   "execution_count": 37,
   "metadata": {},
   "outputs": [],
   "source": [
    "## write a txt file output with best orbit\n",
    "f = open(\"%s/HD%s/%s_orbit_ls.txt\"%(path,target_hd[focus],target_hd[focus]),\"w+\")\n",
    "f.write(\"# P(d) a(mas) e i(deg) w(deg) W(deg) T(mjd) mean_resid(mu-as)\\r\\n\")\n",
    "f.write(\"%s %s %s %s %s %s %s %s\"%(P_start.value,a_start.value,e_start.value,\n",
    "                                   inc_start.value*180/np.pi,w_start.value*180/np.pi,\n",
    "                                   bigw_start.value*180/np.pi,T_start.value,\n",
    "                                  resids_median))\n",
    "f.close()"
   ]
  },
  {
   "cell_type": "markdown",
   "metadata": {},
   "source": []
  },
  {
   "cell_type": "markdown",
   "metadata": {},
   "source": [
    "## Search for Third companion"
   ]
  },
  {
   "cell_type": "code",
   "execution_count": 45,
   "metadata": {},
   "outputs": [],
   "source": [
    "P2 = np.linspace(1,500,1000)\n",
    "\n",
    "w2 = w_start\n",
    "bigw2 = bigw_start\n",
    "inc2 = inc_start\n",
    "e2 = 0.01\n",
    "a2 = resids_median/1000\n",
    "T2 = t[-1]"
   ]
  },
  {
   "cell_type": "code",
   "execution_count": 46,
   "metadata": {},
   "outputs": [
    {
     "name": "stderr",
     "output_type": "stream",
     "text": [
      "100%|██████████| 1000/1000 [04:06<00:00,  9.23it/s]\n"
     ]
    }
   ],
   "source": [
    "params_inner=[]\n",
    "params_outer=[]\n",
    "chi2 = []\n",
    "\n",
    "for period in tqdm(P2):\n",
    "    params = Parameters()\n",
    "    params.add('w',   value= w_start, min=0, max=2*np.pi)\n",
    "    params.add('bigw', value= bigw_start, min=0, max=2*np.pi)\n",
    "    params.add('inc', value= inc_start, min=0, max=2*np.pi)\n",
    "    params.add('e', value= e_start, min=0, max=0.99)\n",
    "    params.add('a', value= a_start, min=0)\n",
    "    params.add('P', value= P_start, min=0)\n",
    "    params.add('T', value= T_start, min=0)\n",
    "    params.add('w2',   value= 0, vary=False)\n",
    "    params.add('bigw2', value= bigw2, min=0, max=2*np.pi)\n",
    "    params.add('inc2', value= inc2, min=0, max=2*np.pi)\n",
    "    params.add('e2', value= 0, vary=False)\n",
    "    params.add('a2', value= a2, min=0)\n",
    "    params.add('P2', value= period, vary=False)\n",
    "    params.add('T2', value= T2, min=0)\n",
    "\n",
    "    #params.add('pscale', value=1)\n",
    "\n",
    "    #do fit, minimizer uses LM for least square fitting of model to data\n",
    "    minner = Minimizer(triple_model, params, fcn_args=(xpos_all,ypos_all,t_all,\n",
    "                                                       error_maj_all,error_min_all,\n",
    "                                                       error_pa_all),\n",
    "                      nan_policy='omit')\n",
    "    kws  = {'options': {'maxiter':10}}\n",
    "    result = minner.leastsq(xtol=1e-5,ftol=1e-5)\n",
    "\n",
    "    params_inner.append([period,result.params['a2'],result.params['e2'],result.params['w2']\n",
    "                        ,result.params['bigw2'],result.params['inc2'],result.params['T2']])\n",
    "    params_outer.append([result.params['P'],result.params['a'],result.params['e'],result.params['w']\n",
    "                        ,result.params['bigw'],result.params['inc'],result.params['T']])\n",
    "    chi2.append(result.redchi)"
   ]
  },
  {
   "cell_type": "code",
   "execution_count": 47,
   "metadata": {},
   "outputs": [],
   "source": [
    "## plot results\n",
    "params_inner=np.array(params_inner)\n",
    "params_outer=np.array(params_outer)\n",
    "chi2 = np.array(chi2)"
   ]
  },
  {
   "cell_type": "code",
   "execution_count": 48,
   "metadata": {},
   "outputs": [
    {
     "data": {
      "image/png": "[encoded data removed]",
      "text/plain": [
       "<Figure size 432x288 with 1 Axes>"
      ]
     },
     "metadata": {
      "needs_background": "light"
     },
     "output_type": "display_data"
    }
   ],
   "source": [
    "plt.plot(params_inner[:,0],1/chi2,'o')\n",
    "plt.xlabel('Period (d)')\n",
    "plt.ylabel('1/chi2')\n",
    "plt.savefig('%s/HD%s/HD%s_chi2_period.pdf'%(path,target_hd[focus],target_hd[focus]))\n",
    "#plt.ylim(0,5)\n",
    "plt.show()"
   ]
  },
  {
   "cell_type": "code",
   "execution_count": 49,
   "metadata": {},
   "outputs": [
    {
     "name": "stdout",
     "output_type": "stream",
     "text": [
      "[457.04304304]\n"
     ]
    }
   ],
   "source": [
    "## best period\n",
    "idx = np.where(chi2==min(chi2))\n",
    "period_best = params_inner[:,0][idx]\n",
    "print(period_best)"
   ]
  },
  {
   "cell_type": "code",
   "execution_count": 50,
   "metadata": {},
   "outputs": [
    {
     "name": "stdout",
     "output_type": "stream",
     "text": [
      "[[Fit Statistics]]\n",
      "    # fitting method   = leastsq\n",
      "    # function evals   = 259\n",
      "    # data points      = 46\n",
      "    # variables        = 12\n",
      "    chi-square         = 26.1233491\n",
      "    reduced chi-square = 0.76833380\n",
      "    Akaike info crit   = -2.02734644\n",
      "    Bayesian info crit = 19.9163503\n",
      "[[Variables]]\n",
      "    w:      3.30377763 +/- 0.20629075 (6.24%) (init = 3.304151)\n",
      "    bigw:   3.28919435 +/- 0.03974054 (1.21%) (init = 3.288848)\n",
      "    inc:    2.47667631 +/- 0.03175876 (1.28%) (init = 2.477528)\n",
      "    e:      0.06436017 +/- 0.01296617 (20.15%) (init = 0.06470921)\n",
      "    a:      96.5306980 +/- 1.44803799 (1.50%) (init = 96.5209)\n",
      "    P:      7415.04027 +/- 43.6754889 (0.59%) (init = 7414.626)\n",
      "    T:      50919.5081 +/- 281.911248 (0.55%) (init = 50919.12)\n",
      "    w2:     0 (fixed)\n",
      "    bigw2:  3.67031630 +/- 18449.2422 (502660.82%) (init = 3.288848)\n",
      "    inc2:   3.13434711 +/- 95.7886648 (3056.10%) (init = 2.477528)\n",
      "    e2:     0 (fixed)\n",
      "    a2:     0.18765358 +/- 0.12561228 (66.94%) (init = 0.05756)\n",
      "    P2:     364.392881 +/- 37.6220906 (10.32%) (init = 457.043)\n",
      "    T2:     58753.4737 +/- 1071373.65 (1823.51%) (init = 58701.24)\n",
      "[[Correlations]] (unreported correlations are < 0.100)\n",
      "    C(bigw2, T2)   = -1.000\n",
      "    C(w, T)        =  0.985\n",
      "    C(e, a)        =  0.964\n",
      "    C(inc, a)      = -0.951\n",
      "    C(inc, e)      = -0.914\n",
      "    C(inc2, a2)    = -0.794\n",
      "    C(bigw, T)     = -0.789\n",
      "    C(w, bigw)     = -0.714\n",
      "    C(P, T)        = -0.695\n",
      "    C(w, P)        = -0.602\n",
      "    C(bigw, P)     =  0.458\n",
      "    C(bigw, e)     = -0.448\n",
      "    C(e, a2)       = -0.409\n",
      "    C(bigw, inc)   =  0.388\n",
      "    C(inc, a2)     =  0.357\n",
      "    C(w, a)        = -0.342\n",
      "    C(a, a2)       = -0.342\n",
      "    C(e, P2)       = -0.332\n",
      "    C(inc, T2)     =  0.303\n",
      "    C(inc, bigw2)  = -0.303\n",
      "    C(a, P2)       = -0.297\n",
      "    C(bigw, a)     = -0.283\n",
      "    C(a, P)        =  0.278\n",
      "    C(a, T)        = -0.263\n",
      "    C(a2, P2)      =  0.245\n",
      "    C(w, inc)      =  0.243\n",
      "    C(e, P)        =  0.228\n",
      "    C(a, T2)       = -0.227\n",
      "    C(a, bigw2)    =  0.227\n",
      "    C(w, e)        = -0.219\n",
      "    C(e, T2)       = -0.219\n",
      "    C(e, bigw2)    =  0.219\n",
      "    C(bigw, a2)    =  0.213\n",
      "    C(bigw, T2)    =  0.202\n",
      "    C(bigw, bigw2) = -0.202\n",
      "    C(w, P2)       =  0.178\n",
      "    C(inc, P2)     =  0.159\n",
      "    C(inc, T)      =  0.143\n",
      "    C(T, T2)       = -0.135\n",
      "    C(T, bigw2)    =  0.135\n",
      "    C(e, T)        = -0.131\n",
      "    C(T, P2)       =  0.130\n",
      "    C(inc2, P2)    = -0.117\n",
      "    C(w, bigw2)    =  0.114\n",
      "    C(w, T2)       = -0.114\n",
      "    C(bigw2, a2)   = -0.109\n",
      "    C(a2, T2)      =  0.109\n",
      "    C(bigw2, P2)   =  0.107\n",
      "    C(P2, T2)      = -0.107\n"
     ]
    }
   ],
   "source": [
    "## Do a fit at best period\n",
    "params = Parameters()\n",
    "params.add('w',   value= w_start, min=0, max=2*np.pi)\n",
    "params.add('bigw', value= bigw_start, min=0, max=2*np.pi)\n",
    "params.add('inc', value= inc_start, min=0, max=2*np.pi)\n",
    "params.add('e', value= e_start, min=0, max=0.99)\n",
    "params.add('a', value= a_start, min=0)\n",
    "params.add('P', value= P_start, min=0)\n",
    "params.add('T', value= T_start, min=0)\n",
    "params.add('w2',   value= 0, vary=False)#w2, min=0, max=2*np.pi)\n",
    "params.add('bigw2', value= bigw2, min=0, max=2*np.pi)\n",
    "params.add('inc2', value= inc2, min=0, max=2*np.pi)\n",
    "params.add('e2', value= 0, vary=False)#0.1, min=0,max=0.99)\n",
    "params.add('a2', value= a2, min=0)\n",
    "params.add('P2', value= period_best, min=0)\n",
    "params.add('T2', value= T2, min=0)\n",
    "\n",
    "#params.add('pscale', value=1)\n",
    "\n",
    "#do fit, minimizer uses LM for least square fitting of model to data\n",
    "minner = Minimizer(triple_model, params, fcn_args=(xpos_all,ypos_all,t_all,\n",
    "                                                   error_maj_all,error_min_all,\n",
    "                                                   error_pa_all),\n",
    "                  nan_policy='omit')\n",
    "kws  = {'options': {'maxiter':10}}\n",
    "result = minner.minimize()\n",
    "\n",
    "best_inner = [result.params['P2'],result.params['a2'],result.params['e2'],result.params['w2']\n",
    "                    ,result.params['bigw2'],result.params['inc2'],result.params['T2']]\n",
    "best_outer = [result.params['P'],result.params['a'],result.params['e'],result.params['w']\n",
    "                    ,result.params['bigw'],result.params['inc'],result.params['T']]\n",
    "report_fit(result)"
   ]
  },
  {
   "cell_type": "markdown",
   "metadata": {},
   "source": [
    "## Take a look at best fit"
   ]
  },
  {
   "cell_type": "code",
   "execution_count": 51,
   "metadata": {},
   "outputs": [
    {
     "data": {
      "image/png": "[encoded data removed]",
      "text/plain": [
       "<Figure size 432x288 with 1 Axes>"
      ]
     },
     "metadata": {
      "needs_background": "light"
     },
     "output_type": "display_data"
    },
    {
     "name": "stdout",
     "output_type": "stream",
     "text": [
      "(1000,)\n",
      "(1000,)\n"
     ]
    },
    {
     "data": {
      "image/png": "[encoded data removed]",
      "text/plain": [
       "<Figure size 432x288 with 1 Axes>"
      ]
     },
     "metadata": {
      "needs_background": "light"
     },
     "output_type": "display_data"
    },
    {
     "data": {
      "image/png": "[encoded data removed]",
      "text/plain": [
       "<Figure size 432x288 with 1 Axes>"
      ]
     },
     "metadata": {
      "needs_background": "light"
     },
     "output_type": "display_data"
    },
    {
     "name": "stdout",
     "output_type": "stream",
     "text": [
      "----------\n",
      "Mean residual = 78.33 micro-as\n",
      "----------\n"
     ]
    }
   ],
   "source": [
    "scale=1\n",
    "if chi2_armada<1.0:\n",
    "    scale=1/np.sqrt(chi2_armada)\n",
    "\n",
    "a_start = result.params['a']\n",
    "P_start = result.params['P']\n",
    "e_start = result.params['e']\n",
    "inc_start = result.params['inc']\n",
    "w_start = result.params['w']\n",
    "bigw_start = result.params['bigw']\n",
    "T_start = result.params['T']\n",
    "a2_start = result.params['a2']\n",
    "P2_start = result.params['P2']\n",
    "e2_start = result.params['e2']\n",
    "inc2_start = result.params['inc2']\n",
    "w2_start = result.params['w2']\n",
    "bigw2_start = result.params['bigw2']\n",
    "T2_start = result.params['T2']\n",
    "#pscale_start = result.params['pscale']\n",
    "\n",
    "ra,dec,rapoints,decpoints = triple_orbit_model(a_start,e_start,inc_start,\n",
    "                                        w_start,bigw_start,P_start,\n",
    "                                        T_start,a2_start,e2_start,inc2_start,\n",
    "                                        w2_start,bigw2_start,P2_start,\n",
    "                                        T2_start,t_all)\n",
    "ra_armada,dec_armada,rapoints_armada,decpoints_armada = triple_orbit_model(a_start,e_start,\n",
    "                                                                           inc_start,w_start,\n",
    "                                                                           bigw_start,P_start,\n",
    "                                                                           T_start,a2_start,\n",
    "                                                                           e2_start,inc2_start,\n",
    "                                                                           w2_start,bigw2_start,\n",
    "                                                                           P2_start,T2_start,t)\n",
    "\n",
    "fig,ax=plt.subplots()\n",
    "\n",
    "ax.plot(xpos_wds, ypos_wds, 'o', label='WDS')\n",
    "ax.plot(xpos,ypos,'o', label='ARMADA')\n",
    "ax.plot(0,0,'*')\n",
    "ax.plot(ra, dec, '--',color='g')\n",
    "\n",
    "#plot lines from data to best fit orbit\n",
    "i=0\n",
    "while i<len(decpoints):\n",
    "    x=[xpos_all[i],rapoints[i]]\n",
    "    y=[ypos_all[i],decpoints[i]]\n",
    "    ax.plot(x,y,color=\"black\")\n",
    "    i+=1\n",
    "\n",
    "ax.set_xlabel('milli-arcsec')\n",
    "ax.set_ylabel('milli-arcsec')\n",
    "ax.invert_xaxis()\n",
    "ax.axis('equal')\n",
    "ax.set_title('HD%s Outer Orbit'%target_hd[focus])\n",
    "plt.legend()\n",
    "plt.savefig('%s/HD%s/HD%s_outer_leastsquares_triple.pdf'%(path,target_hd[focus],target_hd[focus]))\n",
    "plt.show()\n",
    "\n",
    "####################################\n",
    "fig,ax=plt.subplots()\n",
    "\n",
    "print(ra_armada.shape)\n",
    "print(ra.shape)\n",
    "\n",
    "ax.plot(xpos,ypos,'o')\n",
    "ax.plot(ra_armada, dec_armada, '--',color='g')\n",
    "\n",
    "#plot lines from data to best fit orbit\n",
    "i=0\n",
    "while i<len(decpoints_armada):\n",
    "    x=[xpos[i],rapoints_armada[i]]\n",
    "    y=[ypos[i],decpoints_armada[i]]\n",
    "    ax.plot(x,y,color=\"black\")\n",
    "    i+=1\n",
    "\n",
    "ax.set_xlabel('milli-arcsec')\n",
    "ax.set_ylabel('milli-arcsec')\n",
    "ax.invert_xaxis()\n",
    "ax.axis('equal')\n",
    "ax.set_title('HD%s ARMADA Orbit'%target_hd[focus])\n",
    "plt.savefig('%s/HD%s/HD%s_armada_leastsquares_triple.pdf'%(path,target_hd[focus],target_hd[focus]))\n",
    "plt.show()\n",
    "\n",
    "## plot resids for ARMADA\n",
    "fig,ax=plt.subplots()\n",
    "xresid = xpos - rapoints_armada\n",
    "yresid = ypos - decpoints_armada\n",
    "\n",
    "#need to measure error ellipse angle east of north\n",
    "for ras, decs, w, h, angle in zip(xresid,yresid,error_maj/scale,error_min/scale,error_deg):\n",
    "    ellipse = Ellipse(xy=(ras, decs), width=2*w, height=2*h, \n",
    "                      angle=90-angle, facecolor='none', edgecolor='black')\n",
    "    ax.add_patch(ellipse)\n",
    "\n",
    "ax.plot(xresid, yresid, 'o')\n",
    "ax.plot(0,0,'*')\n",
    "ax.set_xlabel('milli-arcsec')\n",
    "ax.set_ylabel('milli-arcsec')\n",
    "ax.invert_xaxis()\n",
    "ax.axis('equal')\n",
    "ax.set_title('HD%s Resids'%target_hd[focus])\n",
    "plt.savefig('%s/HD%s/HD%s_resid_leastsquares_triple.pdf'%(path,target_hd[focus],target_hd[focus]))\n",
    "plt.show()\n",
    "\n",
    "## residuals\n",
    "resids = np.sqrt(xresid**2 + yresid**2)\n",
    "resids_median = np.around(np.median(resids)*1000,2)\n",
    "print('-'*10)\n",
    "print('Mean residual = %s micro-as'%resids_median)\n",
    "print('-'*10)"
   ]
  },
  {
   "cell_type": "code",
   "execution_count": null,
   "metadata": {},
   "outputs": [],
   "source": []
  },
  {
   "cell_type": "markdown",
   "metadata": {},
   "source": [
    "## Grid Search on a and i"
   ]
  },
  {
   "cell_type": "code",
   "execution_count": null,
   "metadata": {},
   "outputs": [],
   "source": [
    "## grid of a and inc\n",
    "a_grid = np.linspace(0.1,3,50)\n",
    "i_grid = np.linspace(0,180,50)\n",
    "\n",
    "params_inner=[]\n",
    "params_outer=[]\n",
    "chi2 = []\n",
    "\n",
    "for semi in tqdm(a_grid):\n",
    "    for angle in i_grid:\n",
    "        params = Parameters()\n",
    "        params.add('w',   value= best_outer[3], vary=False)#min=0, max=2*np.pi)\n",
    "        params.add('bigw', value= best_outer[4], vary=False)#min=0, max=2*np.pi)\n",
    "        params.add('inc', value= best_outer[5], vary=False)#min=0, max=2*np.pi)\n",
    "        params.add('e', value= best_outer[2], vary=False)#min=0, max=0.99)\n",
    "        params.add('a', value= best_outer[1], vary=False)#min=0)\n",
    "        params.add('P', value= best_outer[0], vary=False)#min=0)\n",
    "        params.add('T', value= best_outer[6], vary=False)#min=0)\n",
    "        params.add('w2',   value= best_inner[3], vary=False)\n",
    "        params.add('bigw2', value= best_inner[4], min=0, max=2*np.pi)\n",
    "        params.add('inc2', value= angle*np.pi/180, vary=False)#min=0, max=2*np.pi)\n",
    "        params.add('e2', value= 0, vary=False)\n",
    "        params.add('a2', value= semi, vary=False)#a2, min=0)\n",
    "        params.add('P2', value= best_inner[0], min=0)\n",
    "        params.add('T2', value= best_inner[3], min=0)\n",
    "\n",
    "        #params.add('pscale', value=1)\n",
    "\n",
    "        #do fit, minimizer uses LM for least square fitting of model to data\n",
    "        minner = Minimizer(triple_model, params, fcn_args=(xpos_all,ypos_all,t_all,\n",
    "                                                           error_maj_all,error_min_all,\n",
    "                                                           error_pa_all),\n",
    "                          nan_policy='omit')\n",
    "        kws  = {'options': {'maxiter':10}}\n",
    "        result = minner.leastsq(xtol=1e-5,ftol=1e-5)\n",
    "\n",
    "        params_inner.append([result.params['P2'],semi,result.params['e2'],result.params['w2']\n",
    "                            ,result.params['bigw2'],angle,result.params['T2']])\n",
    "        params_outer.append([result.params['P'],result.params['a'],result.params['e'],result.params['w']\n",
    "                            ,result.params['bigw'],result.params['inc'],result.params['T']])\n",
    "        chi2.append(result.redchi)"
   ]
  },
  {
   "cell_type": "code",
   "execution_count": null,
   "metadata": {},
   "outputs": [],
   "source": [
    "params_inner = np.array(params_inner)\n",
    "params_outer = np.array(params_outer)\n",
    "chi2 = np.array(chi2)\n",
    "\n",
    "print(params_inner.shape)\n",
    "print(chi2.shape)"
   ]
  },
  {
   "cell_type": "code",
   "execution_count": null,
   "metadata": {},
   "outputs": [],
   "source": [
    "a_inner = params_inner[:,1]\n",
    "i_inner = params_inner[:,5]\n",
    "\n",
    "plt.scatter(a_inner,i_inner,c=chi2,cmap=cm.inferno_r,vmax=min(chi2)*10)\n",
    "plt.colorbar(label='reduced $\\chi^2$')\n",
    "plt.xlabel('semi-major (mas)')\n",
    "plt.ylabel('inclination (deg)')\n",
    "plt.savefig('%s/HD%s/HD%s_semi_inc_grid.pdf'%(path,target_hd[focus],target_hd[focus]))\n",
    "plt.show()"
   ]
  }
 ],
 "metadata": {
  "kernelspec": {
   "display_name": "Python 3",
   "language": "python",
   "name": "python3"
  },
  "language_info": {
   "codemirror_mode": {
    "name": "ipython",
    "version": 3
   },
   "file_extension": ".py",
   "mimetype": "text/x-python",
   "name": "python",
   "nbconvert_exporter": "python",
   "pygments_lexer": "ipython3",
   "version": "3.6.6"
  }
 },
 "nbformat": 4,
 "nbformat_minor": 2
}
