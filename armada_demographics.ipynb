{
 "cells": [
  {
   "cell_type": "markdown",
   "id": "fac0c385-e5fa-4d8b-8384-b371beaffd5c",
   "metadata": {},
   "source": [
    "## Demographics Analysis for ARMADA\n",
    "#### Adapted from the routines by Mattthew DeFurio\n",
    "###### (shared in separate .py script)"
   ]
  },
  {
   "cell_type": "code",
   "execution_count": 1,
   "id": "e0486723-4253-48b1-8360-e9eb4fd83dd3",
   "metadata": {},
   "outputs": [],
   "source": [
    "import numpy as np\n",
    "import matplotlib.pyplot as plt\n",
    "from datetime import datetime\n",
    "import json\n",
    "import os\n",
    "\n",
    "%matplotlib inline"
   ]
  },
  {
   "cell_type": "markdown",
   "id": "ccb58e96-286e-4b59-8583-bee96991bf7d",
   "metadata": {},
   "source": [
    "#### Load detection limits for all targets"
   ]
  },
  {
   "cell_type": "code",
   "execution_count": 2,
   "id": "c520ded0-e908-4dd1-a980-78386d8d5854",
   "metadata": {},
   "outputs": [],
   "source": [
    "detection_period = np.load('/Users/tgardner/ARMADA_orbits/mass_limits/HD6456/HD6456__injection_per.npy')\n",
    "semi_period = np.load('/Users/tgardner/ARMADA_orbits/mass_limits/HD6456/HD6456__injection_semi.npy')\n",
    "percentage_recovered= np.load('/Users/tgardner/ARMADA_orbits/mass_limits/HD6456/HD6456__injection_percent.npy')\n",
    "\n",
    "mass_star = 2.05\n",
    "distance = 84.3\n",
    "\n",
    "abin = ((detection_period/365.25)**2*mass_star)**(1/3)\n",
    "\n",
    "X,Y = np.meshgrid(abin,semi_period)\n",
    "Z = np.swapaxes(percentage_recovered,0,1)\n",
    "\n",
    "mass_planet = mass_star/(abin-Y*distance/1000)*(Y*distance/1000)/0.0009546 ## jupiter mass\n",
    "idx_negative = np.argwhere(mass_planet<0)\n",
    "idx_large = np.argwhere(mass_planet*0.0009546>mass_star)\n",
    "#mass_planet[idx_negative] = np.nan\n",
    "#mass_planet[idx_large] = np.nan\n",
    "\n",
    "mass_ratio = mass_planet * 0.0009546 / mass_star"
   ]
  },
  {
   "cell_type": "markdown",
   "id": "fc3e6128-253d-4b86-a573-ac6e63f944f7",
   "metadata": {},
   "source": [
    "#### Load Detections"
   ]
  },
  {
   "cell_type": "code",
   "execution_count": 3,
   "id": "b481296d-9979-4f7c-98bb-5bef418a74d4",
   "metadata": {},
   "outputs": [],
   "source": [
    "mass_ratio_detections = np.array([0.52,0.82,0.89,0.17,0.6,0.44,0.36,0.63,0.95,0.36])\n",
    "separation_detections = np.array([0.086,0.28,0.48,0.04,0.35,0.25,1.11,0.44,0.05,2.76])"
   ]
  },
  {
   "cell_type": "markdown",
   "id": "22b378eb-ace6-4848-bed3-5150db3b0aee",
   "metadata": {},
   "source": [
    "#### Plot Detection Limits with Detections"
   ]
  },
  {
   "cell_type": "code",
   "execution_count": 4,
   "id": "c8031499-ecde-44ef-ab26-1e79d88c584c",
   "metadata": {},
   "outputs": [
    {
     "data": {
      "image/png": "[encoded data removed]",
      "text/plain": [
       "<Figure size 432x288 with 1 Axes>"
      ]
     },
     "metadata": {
      "needs_background": "light"
     },
     "output_type": "display_data"
    }
   ],
   "source": [
    "contour =  plt.contour(X,mass_ratio,Z,levels=[10,50,99],colors=['lightgrey','grey','black'],extend='max')\n",
    "plt.clabel(contour,inline=False,fmt='%1.0f',colors='black')\n",
    "\n",
    "plt.plot(separation_detections,mass_ratio_detections,'o',color='black')\n",
    "\n",
    "#plt.contourf(X,mass_ratio,Z, 800, colors = 'white')  \n",
    "#plt.gca().set_facecolor(\"black\")  \n",
    "#colormap = plt.contourf(X,mass_ratio,Z, 800, cmap='RdYlGn', alpha=0.5)\n",
    "\n",
    "plt.xscale('log')\n",
    "#plt.yscale('log')\n",
    "plt.xlabel('separation (au)')\n",
    "plt.ylabel('mass ratio ($M_2 / M_1$)')\n",
    "plt.ylim(0,1)\n",
    "plt.xlim(np.min(abin),np.max(abin))\n",
    "#plt.axis('equal')\n",
    "plt.title('ARMADA Contrast Limits')\n",
    "#plt.colorbar(ticks=[20,40,60,80,100],label=\"planets recovered\").set_ticklabels(['20%','40%','60%','80%','100%'])\n",
    "#plt.colorbar()\n",
    "plt.show()"
   ]
  },
  {
   "cell_type": "code",
   "execution_count": null,
   "id": "396cb2ea-f424-4a99-a90e-b07bbdbb2626",
   "metadata": {},
   "outputs": [],
   "source": []
  },
  {
   "cell_type": "code",
   "execution_count": null,
   "id": "908be4ea-ed95-4f3b-9a9e-f300be38f910",
   "metadata": {},
   "outputs": [],
   "source": []
  }
 ],
 "metadata": {
  "kernelspec": {
   "display_name": "Python 3 (ipykernel)",
   "language": "python",
   "name": "python3"
  },
  "language_info": {
   "codemirror_mode": {
    "name": "ipython",
    "version": 3
   },
   "file_extension": ".py",
   "mimetype": "text/x-python",
   "name": "python",
   "nbconvert_exporter": "python",
   "pygments_lexer": "ipython3",
   "version": "3.9.12"
  }
 },
 "nbformat": 4,
 "nbformat_minor": 5
}
