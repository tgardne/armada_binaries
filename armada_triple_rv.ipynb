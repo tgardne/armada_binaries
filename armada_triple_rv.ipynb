{
 "cells": [
  {
   "cell_type": "markdown",
   "metadata": {},
   "source": [
    "## Notebook to fit triple orbits with astrometry + rv"
   ]
  },
  {
   "cell_type": "code",
   "execution_count": 598,
   "metadata": {},
   "outputs": [],
   "source": [
    "from lmfit import minimize, Minimizer, Parameters, Parameter, report_fit\n",
    "import numpy as np\n",
    "import os\n",
    "import matplotlib.pyplot as plt\n",
    "from matplotlib.patches import Ellipse\n",
    "from tqdm import tqdm\n",
    "import matplotlib.cm as cm\n",
    "from read_data import read_data,read_rv,read_wds,read_orb6\n",
    "from astrometry_model import astrometry_model,astrometry_model_vlti,rv_model,rv_model_circular,triple_model,triple_model_circular,triple_model_combined,triple_model_vlti_combined,triple_model_vlti,triple_model_combined_circular,lnlike,lnprior,lnpost,create_init\n",
    "from orbit_plotting import orbit_model,triple_orbit_model\n",
    "from astroquery.simbad import Simbad\n",
    "from astropy.coordinates import SkyCoord\n",
    "import random\n",
    "from PyAstronomy.pyasl import foldAt\n",
    "from PyAstronomy import pyasl\n",
    "ks=pyasl.MarkleyKESolver()\n",
    "\n",
    "%matplotlib inline"
   ]
  },
  {
   "cell_type": "code",
   "execution_count": 599,
   "metadata": {},
   "outputs": [],
   "source": [
    "## setup paths for user\n",
    "path = '/Users/tgardne/ARMADA_orbits'\n",
    "path_etalon = '/Users/tgardne/etalon_epochs/etalon_fits/etalon_factors_fit.txt'\n",
    "path_wds = '/Users/tgardne/ARMADA_orbits'\n",
    "path_orb6 = '/Users/tgardne/catalogs/orb6orbits.sql.txt'"
   ]
  },
  {
   "cell_type": "code",
   "execution_count": 600,
   "metadata": {},
   "outputs": [],
   "source": [
    "## Specify target\n",
    "target_hd = '199766' ## HD number\n",
    "note = 'rv' ## note for saved file\n",
    "corrected = 'n' ## bootstrap errors?"
   ]
  },
  {
   "cell_type": "code",
   "execution_count": 601,
   "metadata": {},
   "outputs": [
    {
     "name": "stdout",
     "output_type": "stream",
     "text": [
      "HIP 103569\n",
      "WDS 20591+0418\n"
     ]
    }
   ],
   "source": [
    "query = Simbad.query_objectids('HD %s'%target_hd)\n",
    "for item in query:\n",
    "    if 'HIP' in item[0]:\n",
    "        target = item[0].split()[1]\n",
    "        print('HIP %s'%target)\n",
    "    if 'WDS' in item[0]:\n",
    "        target_wds = item[0][5:15]\n",
    "        print('WDS %s'%target_wds)"
   ]
  },
  {
   "cell_type": "code",
   "execution_count": 602,
   "metadata": {},
   "outputs": [
    {
     "name": "stdout",
     "output_type": "stream",
     "text": [
      "reading chi2 errors\n"
     ]
    }
   ],
   "source": [
    "###########################################\n",
    "## Read in ARMADA data\n",
    "###########################################\n",
    "if corrected == 'y':\n",
    "    print('reading boostrap errors')\n",
    "    file=open('%s/HD_%s_bootstrap.txt'%(path,target_hd))\n",
    "else:\n",
    "    print('reading chi2 errors')\n",
    "    file=open('%s/HD_%s_chi2err_edited.txt'%(path,target_hd))\n",
    "weight=1\n",
    "\n",
    "t,p,theta,error_maj,error_min,error_pa,error_deg = read_data(file,weight)\n",
    "file.close()\n",
    "\n",
    "file_rv=open('%s/HD_%s_rv.txt'%(path,target_hd))\n",
    "\n",
    "weight_rv = 2 ## km/s error\n",
    "\n",
    "t_rv,rv,err_rv = read_rv(file_rv,weight_rv)\n",
    "file_rv.close()"
   ]
  },
  {
   "cell_type": "code",
   "execution_count": 603,
   "metadata": {},
   "outputs": [],
   "source": [
    "### correct PAs based on precession\n",
    "coord = SkyCoord.from_name(\"HD %s\"%target_hd,parse=True)\n",
    "ra = coord.ra.value*np.pi/180\n",
    "dec = coord.dec.value*np.pi/180\n",
    "#theta -= (0.00557*np.sin(ra)/np.cos(dec)*((t-51544.5)/365.25))/180*np.pi"
   ]
  },
  {
   "cell_type": "code",
   "execution_count": 604,
   "metadata": {},
   "outputs": [
    {
     "name": "stdout",
     "output_type": "stream",
     "text": [
      "   date      etalon factor\n",
      "59375.4149 1.0000934683730796\n",
      "59343.5131 1.000134194670288\n",
      "59341.5142 1.0001541581756503\n",
      "59152.1885 0.9999506439916728\n",
      "59044.3511 0.9999818596048238\n",
      "59043.3454 1.0000108127617482\n",
      "59076.3039 0.9999013196052562\n",
      "58799.1387 0.9997126254032008\n",
      "58695.3083 0.9997802599398803\n",
      "58701.2595 0.9997296699476363\n",
      "58696.2998 0.9998430155145915\n",
      "59155.1875 0.9998978818767915\n"
     ]
    }
   ],
   "source": [
    "###########################################\n",
    "## Apply etalon correction\n",
    "###########################################\n",
    "file=open(path_etalon)\n",
    "mjd_etalon=[]\n",
    "f_etalon=[]\n",
    "for line in file.readlines():\n",
    "    if line.startswith('#'):\n",
    "        continue\n",
    "    mjd_etalon.append(float(line.split()[0]))\n",
    "    f_etalon.append(float(line.split()[1]))\n",
    "file.close()\n",
    "mjd_etalon=np.array(mjd_etalon)\n",
    "f_etalon=np.array(f_etalon)\n",
    "\n",
    "etalon_factor=[]\n",
    "for i in t:\n",
    "    idx = np.where(abs(i-mjd_etalon)==min(abs(i-mjd_etalon)))\n",
    "    if min(abs(i-mjd_etalon))>0.5:\n",
    "        print('Closest factor for %s is %s days away'%(i,min(abs(i-mjd_etalon))))\n",
    "    f = f_etalon[idx][0]\n",
    "    etalon_factor.append(f)\n",
    "etalon_factor=np.array(etalon_factor)\n",
    "\n",
    "print('   date      etalon factor')\n",
    "for i,j in zip(t,etalon_factor):\n",
    "    print(i,j)"
   ]
  },
  {
   "cell_type": "code",
   "execution_count": 605,
   "metadata": {},
   "outputs": [
    {
     "name": "stdout",
     "output_type": "stream",
     "text": [
      "Applying etalon correction\n"
     ]
    }
   ],
   "source": [
    "## set etalon factors to 1 for vlti data\n",
    "vlti = 'n'\n",
    "if vlti=='y':\n",
    "    vlti_idx = input('enter indices (e.g. 1 2 3): ').split(' ')\n",
    "    vlti_idx = np.array([int(i) for i in vlti_idx])\n",
    "else:\n",
    "    vlti_idx = []\n",
    "    \n",
    "## Apply etalon\n",
    "etalon = 'y'\n",
    "if etalon=='y':\n",
    "    print('Applying etalon correction')\n",
    "    if len(vlti_idx)>0:\n",
    "        print('Setting VLTI correction factors to 1.0')\n",
    "        etalon_factor[vlti_idx] = 1.0\n",
    "    p = p/etalon_factor\n",
    "else:\n",
    "    print('No etalon correction applied')"
   ]
  },
  {
   "cell_type": "code",
   "execution_count": 606,
   "metadata": {},
   "outputs": [],
   "source": [
    "xpos=p*np.sin(theta)\n",
    "ypos=p*np.cos(theta)\n",
    "\n",
    "vlti_mask = np.ones(len(t),dtype=bool)\n",
    "vlti_mask[vlti_idx] = False"
   ]
  },
  {
   "cell_type": "code",
   "execution_count": 607,
   "metadata": {},
   "outputs": [
    {
     "name": "stdout",
     "output_type": "stream",
     "text": [
      "Number of WDS data points = 64\n"
     ]
    },
    {
     "data": {
      "image/png": "[encoded data removed]",
      "text/plain": [
       "<Figure size 432x288 with 1 Axes>"
      ]
     },
     "metadata": {
      "needs_background": "light"
     },
     "output_type": "display_data"
    },
    {
     "name": "stdin",
     "output_type": "stream",
     "text": [
      "Flip WDS data? (y/n):  n\n"
     ]
    }
   ],
   "source": [
    "###########################################\n",
    "## Read in WDS data - and plot to check\n",
    "###########################################\n",
    "input_wds = 'y'\n",
    "if input_wds == 'y':\n",
    "    file=open(os.path.expanduser(\"%s/HD%s_chi2err/HD_%s_wds.txt\"%(path_wds,target_hd,target_hd)))\n",
    "    weight = 1\n",
    "    t_wds,p_wds,theta_wds,error_maj_wds,error_min_wds,error_pa_wds,error_deg_wds = read_data(file,weight)\n",
    "    print('Number of WDS data points = %s'%len(p_wds))\n",
    "\n",
    "    ## correct WDS for PA\n",
    "    #theta_wds -= (0.00557*np.sin(ra)/np.cos(dec)*((t_wds-51544.5)/365.25))/180*np.pi\n",
    "\n",
    "    xpos_wds=p_wds*np.sin(theta_wds)\n",
    "    ypos_wds=p_wds*np.cos(theta_wds)\n",
    "    idx = np.argmin(t)\n",
    "\n",
    "    plt.plot(xpos_wds,ypos_wds,'o',label='WDS')\n",
    "    plt.plot(xpos_wds[0],ypos_wds[0],'*')\n",
    "    plt.plot(xpos[idx],ypos[idx],'*')\n",
    "    if len(vlti_idx)>0:\n",
    "        plt.plot(xpos[vlti_mask],ypos[vlti_mask],'+',label='ARMADA-CHARA')\n",
    "        plt.plot(xpos[vlti_idx],ypos[vlti_idx],'+',label='ARMADA-VLTI')\n",
    "    else:\n",
    "        plt.plot(xpos,ypos,'+',label='ARMADA')\n",
    "    plt.plot(0,0,'*')\n",
    "    plt.gca().invert_xaxis()\n",
    "    plt.title('All Data')\n",
    "    plt.xlabel('dra (mas)')\n",
    "    plt.ylabel('ddec (mas)')\n",
    "    plt.legend()\n",
    "    plt.show()\n",
    "\n",
    "    flip = input('Flip WDS data? (y/n): ')\n",
    "    if flip=='y':\n",
    "        xpos_wds=-p_wds*np.sin(theta_wds)\n",
    "        ypos_wds=-p_wds*np.cos(theta_wds)\n",
    "        plt.plot(xpos_wds,ypos_wds,'o',label='WDS')\n",
    "        plt.plot(xpos_wds[0],ypos_wds[0],'*')\n",
    "        plt.plot(xpos[idx],ypos[idx],'*')\n",
    "        plt.plot(xpos,ypos,'+',label='ARMADA')\n",
    "        plt.plot(0,0,'*')\n",
    "        plt.gca().invert_xaxis()\n",
    "        plt.title('All Data')\n",
    "        plt.xlabel('dra (mas)')\n",
    "        plt.ylabel('ddec (mas)')\n",
    "        plt.legend()\n",
    "        plt.show()\n",
    "\n",
    "        better = input('Flip data back to original? (y/n): ')\n",
    "        if better=='y':\n",
    "            xpos_wds=p_wds*np.sin(theta_wds)\n",
    "            ypos_wds=p_wds*np.cos(theta_wds)\n",
    "else:\n",
    "    t_wds = np.array([np.nan])\n",
    "    p_wds = np.array([np.nan])\n",
    "    theta_wds = np.array([np.nan])\n",
    "    error_maj_wds = np.array([np.nan])\n",
    "    error_min_wds = np.array([np.nan])\n",
    "    error_pa_wds = np.array([np.nan])\n",
    "    error_deg_wds = np.array([np.nan])\n",
    "    xpos_wds=p_wds*np.sin(theta_wds)\n",
    "    ypos_wds=p_wds*np.cos(theta_wds)\n",
    "    print('NO WDS DATA')"
   ]
  },
  {
   "cell_type": "code",
   "execution_count": 608,
   "metadata": {},
   "outputs": [
    {
     "name": "stdout",
     "output_type": "stream",
     "text": [
      "found target!\n",
      "--------------------------\n",
      "a(mas),P(yr),e,i(deg),omega(deg),bigomega(deg),T(mjd)\n",
      "647.4 101.485 0.705 92.17 340.19 105.15 22459.793613999966\n",
      "--------------------------\n"
     ]
    },
    {
     "name": "stdin",
     "output_type": "stream",
     "text": [
      "a (mas):  595\n",
      "P (year):  99\n",
      "ecc :  0.7\n",
      "inc (deg):  92\n",
      "omega (deg):  349\n",
      "bigomega (deg):  106\n",
      "T (mjd):  24366\n"
     ]
    }
   ],
   "source": [
    "###########################################\n",
    "## Get an estimate of the orbital parameters\n",
    "###########################################\n",
    "try:\n",
    "    a,P,e,inc,omega,bigomega,T = read_orb6(target,path_orb6)\n",
    "except:\n",
    "    print('No elements found in ORB6')\n",
    "    \n",
    "self_params = 'y'\n",
    "if self_params=='y':\n",
    "    a = float(input('a (mas): '))\n",
    "    P = float(input('P (year): '))*365.25\n",
    "    e = float(input('ecc : '))\n",
    "    inc = float(input('inc (deg): '))\n",
    "    omega = float(input('omega (deg): '))\n",
    "    bigomega = float(input('bigomega (deg): '))\n",
    "    T = float(input('T (mjd): '))"
   ]
  },
  {
   "cell_type": "code",
   "execution_count": 609,
   "metadata": {},
   "outputs": [],
   "source": [
    "###########################################\n",
    "## Combined WDS+ARMADA for fitting\n",
    "###########################################\n",
    "xpos_all = np.concatenate([xpos,xpos_wds])\n",
    "ypos_all = np.concatenate([ypos,ypos_wds])\n",
    "t_all = np.concatenate([t,t_wds])\n",
    "error_maj_all = np.concatenate([error_maj,error_maj_wds])\n",
    "error_min_all = np.concatenate([error_min,error_min_wds])\n",
    "error_pa_all = np.concatenate([error_pa,error_pa_wds])\n",
    "error_deg_all = np.concatenate([error_deg,error_deg_wds])\n",
    "\n",
    "vlti_mask_all = np.ones(len(t_all),dtype=bool)\n",
    "vlti_mask_all[vlti_idx] = False"
   ]
  },
  {
   "cell_type": "code",
   "execution_count": 610,
   "metadata": {},
   "outputs": [],
   "source": [
    "##########################################\n",
    "## Function for fitting/plotting data\n",
    "#########################################\n",
    "def ls_fit(params,xp,yp,tp,emaj,emin,epa):\n",
    "    #do fit, minimizer uses LM for least square fitting of model to data\n",
    "    if len(vlti_idx)>0:\n",
    "        minner = Minimizer(astrometry_model_vlti, params, fcn_args=(xp[vlti_mask_all],yp[vlti_mask_all],tp[vlti_mask_all],\n",
    "                                                        emaj[vlti_mask_all],emin[vlti_mask_all],epa[vlti_mask_all],\n",
    "                                                        xp[vlti_idx],yp[vlti_idx],tp[vlti_idx],\n",
    "                                                        emaj[vlti_idx],emin[vlti_idx],epa[vlti_idx]),\n",
    "                                nan_policy='omit')\n",
    "        result = minner.minimize()\n",
    "    else:\n",
    "        minner = Minimizer(astrometry_model, params, fcn_args=(xp,yp,tp,\n",
    "                                                        emaj,emin,epa),\n",
    "                                nan_policy='omit')\n",
    "        result = minner.minimize()\n",
    "\n",
    "    # write error report\n",
    "    print(report_fit(result))\n",
    "\n",
    "    resids_armada = astrometry_model(result.params,xpos,ypos,t,error_maj,\n",
    "                                 error_min,error_pa)\n",
    "    ndata_armada = 2*sum(~np.isnan(xpos))\n",
    "    chi2_armada = np.nansum(resids_armada**2)/(ndata_armada-7)\n",
    "    print('-'*10)\n",
    "    print('chi2 armada = %s'%chi2_armada)\n",
    "    print('-'*10)\n",
    "\n",
    "    ## plot fit\n",
    "    scale=1\n",
    "    if chi2_armada<1.0 and chi2_armada>0:\n",
    "        scale=1/np.sqrt(chi2_armada)\n",
    "    a_start = result.params['a']\n",
    "    P_start = result.params['P']\n",
    "    e_start = result.params['e']\n",
    "    inc_start = result.params['inc']\n",
    "    w_start = result.params['w']\n",
    "    bigw_start = result.params['bigw']\n",
    "    T_start = result.params['T']\n",
    "    mirc_scale_start = result.params['mirc_scale']\n",
    "\n",
    "    ra,dec,rapoints,decpoints = orbit_model(a_start,e_start,inc_start,\n",
    "                                            w_start,bigw_start,P_start,\n",
    "                                            T_start,t_all)\n",
    "    fig,ax=plt.subplots()\n",
    "    ax.plot(xpos_all[len(xpos):], ypos_all[len(xpos):], 'o', label='WDS')\n",
    "    if len(vlti_idx)>0:\n",
    "        ax.plot(xpos[vlti_idx]*mirc_scale_start,ypos[vlti_idx]*mirc_scale_start,'o', label='ARMADA-VLTI')\n",
    "        ax.plot(xpos[vlti_mask],ypos[vlti_mask],'o', label='ARMADA-CHARA')\n",
    "    else:\n",
    "        ax.plot(xpos,ypos,'o', label='ARMADA')\n",
    "    ax.plot(0,0,'*')\n",
    "    ax.plot(ra, dec, '--',color='g')\n",
    "    #plot lines from data to best fit orbit\n",
    "    i=0\n",
    "    while i<len(decpoints):\n",
    "        x=[xpos_all[i],rapoints[i]]\n",
    "        y=[ypos_all[i],decpoints[i]]\n",
    "        ax.plot(x,y,color=\"black\")\n",
    "        i+=1\n",
    "    ax.set_xlabel('milli-arcsec')\n",
    "    ax.set_ylabel('milli-arcsec')\n",
    "    ax.invert_xaxis()\n",
    "    ax.axis('equal')\n",
    "    ax.set_title('HD%s Outer Orbit'%target_hd)\n",
    "    plt.legend()\n",
    "    plt.show()\n",
    "\n",
    "    return result"
   ]
  },
  {
   "cell_type": "code",
   "execution_count": 611,
   "metadata": {},
   "outputs": [
    {
     "name": "stdout",
     "output_type": "stream",
     "text": [
      "[[Fit Statistics]]\n",
      "    # fitting method   = leastsq\n",
      "    # function evals   = 50\n",
      "    # data points      = 144\n",
      "    # variables        = 7\n",
      "    chi-square         = 1679.33021\n",
      "    reduced chi-square = 12.2578847\n",
      "    Akaike info crit   = 367.712529\n",
      "    Bayesian info crit = 388.501222\n",
      "[[Variables]]\n",
      "    w:           353.326684 +/- 9.86120545 (2.79%) (init = 349)\n",
      "    bigw:        106.114655 +/- 0.16729064 (0.16%) (init = 106)\n",
      "    inc:         92.3015540 +/- 0.09219901 (0.10%) (init = 92)\n",
      "    e:           0.72033508 +/- 0.01393906 (1.94%) (init = 0.7)\n",
      "    a:           584.161804 +/- 19.3787980 (3.32%) (init = 595)\n",
      "    P:           34764.2456 +/- 4344.36816 (12.50%) (init = 36159.75)\n",
      "    T:           25822.1752 +/- 4364.81314 (16.90%) (init = 24366)\n",
      "    mirc_scale:  1 (fixed)\n",
      "[[Correlations]] (unreported correlations are < 0.100)\n",
      "    C(P, T)      = -1.000\n",
      "    C(w, P)      = -0.997\n",
      "    C(w, T)      =  0.996\n",
      "    C(w, bigw)   =  0.995\n",
      "    C(a, P)      =  0.993\n",
      "    C(a, T)      = -0.993\n",
      "    C(bigw, P)   = -0.986\n",
      "    C(bigw, T)   =  0.986\n",
      "    C(bigw, e)   =  0.985\n",
      "    C(w, a)      = -0.982\n",
      "    C(inc, T)    = -0.980\n",
      "    C(inc, P)    =  0.979\n",
      "    C(w, inc)    = -0.975\n",
      "    C(bigw, a)   = -0.973\n",
      "    C(w, e)      =  0.969\n",
      "    C(inc, a)    =  0.957\n",
      "    C(bigw, inc) = -0.950\n",
      "    C(e, P)      = -0.948\n",
      "    C(e, T)      =  0.947\n",
      "    C(e, a)      = -0.925\n",
      "    C(inc, e)    = -0.900\n",
      "None\n",
      "----------\n",
      "chi2 armada = 93.70400864468762\n",
      "----------\n"
     ]
    },
    {
     "data": {
      "image/png": "[encoded data removed]",
      "text/plain": [
       "<Figure size 432x288 with 1 Axes>"
      ]
     },
     "metadata": {
      "needs_background": "light"
     },
     "output_type": "display_data"
    }
   ],
   "source": [
    "###########################################\n",
    "## Do a least-squares fit\n",
    "###########################################\n",
    "params = Parameters()\n",
    "params.add('w',   value= omega, min=0, max=360)\n",
    "params.add('bigw', value= bigomega, min=0, max=360)\n",
    "params.add('inc', value= inc, min=0, max=180)\n",
    "params.add('e', value= e, min=0, max=0.99)\n",
    "params.add('a', value= a, min=0)\n",
    "params.add('P', value= P, min=0)\n",
    "params.add('T', value= T, min=0)\n",
    "if len(vlti_idx)>0:\n",
    "    params.add('mirc_scale', value=1)\n",
    "else:\n",
    "    params.add('mirc_scale',value=1,vary=False)\n",
    "\n",
    "result = ls_fit(params,xpos_all,ypos_all,t_all,error_maj_all,error_min_all,error_pa_all)"
   ]
  },
  {
   "cell_type": "code",
   "execution_count": 612,
   "metadata": {},
   "outputs": [
    {
     "name": "stdout",
     "output_type": "stream",
     "text": [
      "----------\n",
      "chi2 armada = 93.70400864468762\n",
      "----------\n"
     ]
    },
    {
     "data": {
      "image/png": "[encoded data removed]",
      "text/plain": [
       "<Figure size 432x288 with 1 Axes>"
      ]
     },
     "metadata": {
      "needs_background": "light"
     },
     "output_type": "display_data"
    },
    {
     "data": {
      "image/png": "[encoded data removed]",
      "text/plain": [
       "<Figure size 432x288 with 1 Axes>"
      ]
     },
     "metadata": {
      "needs_background": "light"
     },
     "output_type": "display_data"
    },
    {
     "name": "stdout",
     "output_type": "stream",
     "text": [
      "----------\n",
      "Mean residual = 57.36 micro-as\n",
      "----------\n"
     ]
    }
   ],
   "source": [
    "##########################################\n",
    "## Save Plots\n",
    "##########################################\n",
    "if len(vlti_idx)>0:\n",
    "    resids_armada = astrometry_model_vlti(result.params,xpos[vlti_mask],ypos[vlti_mask],t[vlti_mask],error_maj[vlti_mask],\n",
    "                                error_min[vlti_mask],error_pa[vlti_mask],\n",
    "                                xpos[vlti_idx],ypos[vlti_idx],t[vlti_idx],\n",
    "                                error_maj[vlti_idx],error_min[vlti_idx],error_pa[vlti_idx])\n",
    "else:\n",
    "    resids_armada = astrometry_model(result.params,xpos,ypos,t,error_maj,\n",
    "                                error_min,error_pa)\n",
    "ndata_armada = 2*sum(~np.isnan(xpos))\n",
    "chi2_armada = np.nansum(resids_armada**2)/(ndata_armada-7)\n",
    "print('-'*10)\n",
    "print('chi2 armada = %s'%chi2_armada)\n",
    "print('-'*10)\n",
    "\n",
    "if corrected == 'y':\n",
    "    directory='%s/HD%s_bootstrap_triple/'%(path,target_hd)\n",
    "else:\n",
    "    directory='%s/HD%s_chi2err_triple/'%(path,target_hd)\n",
    "if not os.path.exists(directory):\n",
    "    os.makedirs(directory)\n",
    "\n",
    "## plot fit\n",
    "scale=1\n",
    "if chi2_armada<1.0 and chi2_armada>0:\n",
    "    scale=1/np.sqrt(chi2_armada)\n",
    "a_start = result.params['a']\n",
    "P_start = result.params['P']\n",
    "e_start = result.params['e']\n",
    "inc_start = result.params['inc']\n",
    "w_start = result.params['w']\n",
    "bigw_start = result.params['bigw']\n",
    "T_start = result.params['T']\n",
    "mirc_scale_start = result.params['mirc_scale']\n",
    "ra,dec,rapoints,decpoints = orbit_model(a_start,e_start,inc_start,\n",
    "                                        w_start,bigw_start,P_start,\n",
    "                                        T_start,t_all)\n",
    "fig,ax=plt.subplots()\n",
    "ax.plot(xpos_all[len(xpos):], ypos_all[len(xpos):], 'o', label='WDS')\n",
    "if len(vlti_idx)>0:\n",
    "    ax.plot(xpos[vlti_idx]*mirc_scale_start,ypos[vlti_idx]*mirc_scale_start,'o', label='ARMADA-VLTI')\n",
    "    ax.plot(xpos[vlti_mask],ypos[vlti_mask],'o', label='ARMADA-CHARA')\n",
    "else:\n",
    "    ax.plot(xpos,ypos,'o', label='ARMADA')\n",
    "ax.plot(0,0,'*')\n",
    "ax.plot(ra, dec, '--',color='g')\n",
    "#plot lines from data to best fit orbit\n",
    "i=0\n",
    "while i<len(decpoints):\n",
    "    x=[xpos_all[i],rapoints[i]]\n",
    "    y=[ypos_all[i],decpoints[i]]\n",
    "    ax.plot(x,y,color=\"black\")\n",
    "    i+=1\n",
    "ax.set_xlabel('milli-arcsec')\n",
    "ax.set_ylabel('milli-arcsec')\n",
    "ax.invert_xaxis()\n",
    "ax.axis('equal')\n",
    "ax.set_title('HD%s Outer Orbit'%target_hd)\n",
    "plt.legend()\n",
    "plt.savefig('%s/HD%s_%s_outer_binary.pdf'%(directory,target_hd,note))\n",
    "plt.show()\n",
    "plt.close()\n",
    "\n",
    "## plot resids for ARMADA\n",
    "fig,ax=plt.subplots()\n",
    "if len(vlti_idx)>0:\n",
    "    xresid_vlti = xpos[vlti_idx]*mirc_scale_start - rapoints[:len(xpos)][vlti_idx]\n",
    "    yresid_vlti = ypos[vlti_idx]*mirc_scale_start - decpoints[:len(ypos)][vlti_idx]\n",
    "    xresid_chara = xpos[vlti_mask] - rapoints[:len(xpos)][vlti_mask]\n",
    "    yresid_chara = ypos[vlti_mask] - decpoints[:len(ypos)][vlti_mask]\n",
    "    xresid = np.concatenate([xresid_chara,xresid_vlti])\n",
    "    yresid = np.concatenate([yresid_chara,yresid_vlti])\n",
    "else:\n",
    "    xresid = xpos - rapoints[:len(xpos)]\n",
    "    yresid = ypos - decpoints[:len(ypos)]\n",
    "\n",
    "#need to measure error ellipse angle east of north\n",
    "for ras, decs, w, h, angle in zip(xresid,yresid,error_maj/scale,error_min/scale,error_deg):\n",
    "    ellipse = Ellipse(xy=(ras, decs), width=2*w, height=2*h, \n",
    "                      angle=90-angle, facecolor='none', edgecolor='black')\n",
    "    ax.add_patch(ellipse)\n",
    "\n",
    "if len(vlti_idx)>0:\n",
    "    ax.plot(xresid[vlti_idx],yresid[vlti_idx],'o', label='ARMADA-VLTI')\n",
    "    ax.plot(xresid[vlti_mask],yresid[vlti_mask],'o', label='ARMADA-CHARA')\n",
    "else:\n",
    "    ax.plot(xresid,yresid,'o', label='ARMADA')\n",
    "ax.plot(0,0,'*')\n",
    "ax.set_xlabel('milli-arcsec')\n",
    "ax.set_ylabel('milli-arcsec')\n",
    "ax.invert_xaxis()\n",
    "ax.axis('equal')\n",
    "ax.set_title('HD%s Resids'%target_hd)\n",
    "plt.legend()\n",
    "plt.savefig('%s/HD%s_%s_resid_binary.pdf'%(directory,target_hd,note))\n",
    "plt.show()\n",
    "plt.close()\n",
    "\n",
    "## residuals\n",
    "resids = np.sqrt(xresid**2 + yresid**2)\n",
    "resids_median = np.around(np.median(resids)*1000,2)\n",
    "print('-'*10)\n",
    "print('Mean residual = %s micro-as'%resids_median)\n",
    "print('-'*10)\n",
    "\n",
    "## Save txt file with best orbit\n",
    "f = open(\"%s/%s_%s_orbit_binary.txt\"%(directory,target_hd,note),\"w+\")\n",
    "f.write(\"# P(d) a(mas) e i(deg) w(deg) W(deg) T(mjd) mirc_scale mean_resid(mu-as)\\r\\n\")\n",
    "f.write(\"%s %s %s %s %s %s %s %s %s\"%(P_start.value,a_start.value,e_start.value,\n",
    "                                   inc_start.value*180/np.pi,w_start.value*180/np.pi,\n",
    "                                   bigw_start.value*180/np.pi,T_start.value,\n",
    "                                  mirc_scale_start.value,resids_median))\n",
    "f.close()"
   ]
  },
  {
   "cell_type": "code",
   "execution_count": 613,
   "metadata": {},
   "outputs": [],
   "source": [
    "##########################################\n",
    "## User input for additional companions\n",
    "##########################################\n",
    "P2 = 2.04\n",
    "a2 = 0.08\n",
    "inc2 = 90\n",
    "circular = 'n'"
   ]
  },
  {
   "cell_type": "code",
   "execution_count": 614,
   "metadata": {},
   "outputs": [
    {
     "name": "stderr",
     "output_type": "stream",
     "text": [
      "100%|██████████| 100/100 [26:23<00:00, 15.84s/it] \n"
     ]
    }
   ],
   "source": [
    "P2_best = []\n",
    "a2_best = []\n",
    "e2_best = []\n",
    "w2_best = []\n",
    "bigw2_best = []\n",
    "inc2_best = []\n",
    "T2_best = []\n",
    "P_best = []\n",
    "a_best = []\n",
    "e_best = []\n",
    "w_best = []\n",
    "bigw_best = []\n",
    "inc_best = []\n",
    "T_best = []\n",
    "mirc_scale_best = []\n",
    "chi2_results = []\n",
    "\n",
    "K_best = []\n",
    "gamma_best = []\n",
    "\n",
    "for i in tqdm(np.arange(100)):\n",
    "    bigw2 = random.uniform(0,360)\n",
    "    T2 = random.uniform(57000,59000)\n",
    "    K = random.uniform(-50,50)\n",
    "    gamma = random.uniform(-30,30)\n",
    "    if circular!='y':\n",
    "        e2 = random.uniform(0,0.99)\n",
    "        w2 = random.uniform(0,360)\n",
    "\n",
    "    params = Parameters()\n",
    "    if circular=='y':\n",
    "        params.add('e2',value=0,vary=False)\n",
    "        params.add('w2',value=0,vary=False)\n",
    "    else:\n",
    "        params.add('e2',value=e2,min=0,max=0.99)\n",
    "        params.add('w2',value=w2,min=0,max=360)\n",
    "    params.add('w',   value= w_start, min=0, max=360)\n",
    "    params.add('bigw', value= bigw_start, min=0, max=360)\n",
    "    params.add('inc', value= inc_start, min=0, max=180)\n",
    "    params.add('e', value= e_start, min=0, max=0.99)\n",
    "    params.add('a', value= a_start, min=0)\n",
    "    params.add('P', value= P_start, min=0)\n",
    "    params.add('T', value= T_start, min=0)\n",
    "    params.add('bigw2', value= bigw2, min=0, max=360)\n",
    "    params.add('inc2', value= inc2, min=0, max=180)\n",
    "    params.add('a2', value= a2, min=0)\n",
    "    params.add('P2', value= P2, min=0)\n",
    "    params.add('T2', value= T2, min=0)\n",
    "    params.add('K',value=K)\n",
    "    params.add('gamma',value=gamma)\n",
    "    if len(vlti_idx)>0:\n",
    "        params.add('mirc_scale', value=1)\n",
    "    else:\n",
    "        params.add('mirc_scale',value=1,vary=False)\n",
    "\n",
    "    #do fit, minimizer uses LM for least square fitting of model to data\n",
    "    if len(vlti_idx)>0:\n",
    "        minner = Minimizer(triple_model_vlti_combined, params, fcn_args=(xpos_all[vlti_mask_all],ypos_all[vlti_mask_all],t_all[vlti_mask_all],\n",
    "                                                            error_maj_all[vlti_mask_all],error_min_all[vlti_mask_all],\n",
    "                                                            error_pa_all[vlti_mask_all],\n",
    "                                                            xpos_all[vlti_idx],ypos_all[vlti_idx],t_all[vlti_idx],\n",
    "                                                            error_maj_all[vlti_idx],error_min_all[vlti_idx],\n",
    "                                                            error_pa_all[vlti_idx],rv,t_rv,err_rv),\n",
    "                            nan_policy='omit')\n",
    "        result = minner.minimize()\n",
    "    else:\n",
    "        minner = Minimizer(triple_model_combined, params, fcn_args=(xpos_all,ypos_all,t_all,\n",
    "                                                            error_maj_all,error_min_all,\n",
    "                                                            error_pa_all,rv,t_rv,err_rv),\n",
    "                            nan_policy='omit')\n",
    "        result = minner.minimize()\n",
    "    #try:\n",
    "    #    print(report_fit(result))\n",
    "    #except:\n",
    "    #    print('No fit report')\n",
    "\n",
    "    P2_best.append(result.params['P2'])\n",
    "    a2_best.append(result.params['a2'])\n",
    "    e2_best.append(result.params['e2'])\n",
    "    w2_best.append(result.params['w2'])\n",
    "    bigw2_best.append(result.params['bigw2'])\n",
    "    inc2_best.append(result.params['inc2'])\n",
    "    T2_best.append(result.params['T2'])\n",
    "    P_best.append(result.params['P'])\n",
    "    a_best.append(result.params['a'])\n",
    "    e_best.append(result.params['e'])\n",
    "    w_best.append(result.params['w'])\n",
    "    bigw_best.append(result.params['bigw'])\n",
    "    inc_best.append(result.params['inc'])\n",
    "    T_best.append(result.params['T'])\n",
    "    K_best.append(result.params['K'])\n",
    "    gamma_best.append(result.params['gamma'])\n",
    "    mirc_scale_best.append(result.params['mirc_scale'])\n",
    "    chi2_results.append(result.redchi)\n",
    "P2_best = np.array(P2_best)\n",
    "a2_best = np.array(a2_best)\n",
    "e2_best = np.array(e2_best)\n",
    "w2_best = np.array(w2_best)\n",
    "bigw2_best = np.array(bigw2_best)\n",
    "inc2_best = np.array(inc2_best)\n",
    "T2_best = np.array(T2_best)\n",
    "P_best = np.array(P_best)\n",
    "a_best = np.array(a_best)\n",
    "e_best = np.array(e_best)\n",
    "w_best = np.array(w_best)\n",
    "bigw_best = np.array(bigw_best)\n",
    "inc_best = np.array(inc_best)\n",
    "T_best = np.array(T_best)\n",
    "K_best = np.array(K_best)\n",
    "gamma_best = np.array(gamma_best)\n",
    "mirc_scale_best = np.array(mirc_scale_best)\n",
    "chi2_results = np.array(chi2_results)\n",
    "\n",
    "idx = np.argmin(chi2_results)\n",
    "P2_best = P2_best[idx]\n",
    "a2_best = a2_best[idx]\n",
    "e2_best = e2_best[idx]\n",
    "w2_best = w2_best[idx]\n",
    "bigw2_best = bigw2_best[idx]\n",
    "inc2_best = inc2_best[idx]\n",
    "T2_best = T2_best[idx]\n",
    "P_best = P_best[idx]\n",
    "a_best = a_best[idx]\n",
    "e_best = e_best[idx]\n",
    "w_best = w_best[idx]\n",
    "bigw_best = bigw_best[idx]\n",
    "inc_best = inc_best[idx]\n",
    "T_best = T_best[idx]\n",
    "K_best = K_best[idx]\n",
    "gamma_best = gamma_best[idx]\n",
    "mirc_scale_best = mirc_scale_best[idx]"
   ]
  },
  {
   "cell_type": "code",
   "execution_count": 615,
   "metadata": {},
   "outputs": [
    {
     "name": "stdout",
     "output_type": "stream",
     "text": [
      "----------\n",
      "chi2 armada = 25.14723493257889\n",
      "----------\n"
     ]
    }
   ],
   "source": [
    "##########################################\n",
    "## Save Plots for Triple\n",
    "##########################################\n",
    "if len(vlti_idx)>0:\n",
    "    resids_armada = triple_model_vlti(result.params,xpos[vlti_mask],ypos[vlti_mask],t[vlti_mask],error_maj[vlti_mask],\n",
    "                                error_min[vlti_mask],error_pa[vlti_mask],\n",
    "                                xpos[vlti_idx],ypos[vlti_idx],t[vlti_idx],\n",
    "                                error_maj[vlti_idx],error_min[vlti_idx],error_pa[vlti_idx])\n",
    "else:\n",
    "    resids_armada = triple_model(result.params,xpos,ypos,t,error_maj,\n",
    "                                error_min,error_pa)\n",
    "ndata_armada = 2*sum(~np.isnan(xpos))\n",
    "if circular=='y':\n",
    "    print(ndata_armada)\n",
    "    print(len(result.params))\n",
    "    chi2_armada = np.nansum(resids_armada**2)/(ndata_armada-12)\n",
    "else:\n",
    "    chi2_armada = np.nansum(resids_armada**2)/(ndata_armada-14)\n",
    "print('-'*10)\n",
    "print('chi2 armada = %s'%chi2_armada)\n",
    "print('-'*10)"
   ]
  },
  {
   "cell_type": "code",
   "execution_count": 616,
   "metadata": {},
   "outputs": [
    {
     "name": "stdin",
     "output_type": "stream",
     "text": [
      "scale errors by:  1\n"
     ]
    }
   ],
   "source": [
    "if len(vlti_idx)>0:\n",
    "    xpos[vlti_idx]*=mirc_scale_best\n",
    "    ypos[vlti_idx]*=mirc_scale_best\n",
    "    xpos_all[vlti_idx]*=mirc_scale_best\n",
    "    ypos_all[vlti_idx]*=mirc_scale_best\n",
    "else:\n",
    "    idx = np.where(t<58757)\n",
    "    xpos[idx]/=mirc_scale_best\n",
    "    ypos[idx]/=mirc_scale_best\n",
    "    idx = np.where(t_all<58757)\n",
    "    xpos_all[idx]/=mirc_scale_best\n",
    "    ypos_all[idx]/=mirc_scale_best\n",
    "\n",
    "## plot fit\n",
    "scale=1\n",
    "if chi2_armada<1.0 and chi2_armada>0:\n",
    "    scale=1/np.sqrt(chi2_armada)\n",
    "else:\n",
    "    scale=float(input('scale errors by: '))\n",
    "\n",
    "ra,dec,rapoints,decpoints = triple_orbit_model(a_best,e_best,inc_best,\n",
    "                                        w_best,bigw_best,P_best,\n",
    "                                        T_best,a2_best,e2_best,\n",
    "                                        inc2_best,w2_best,bigw2_best,\n",
    "                                        P2_best,T2_best,t_all)\n",
    "ra2,dec2,rapoints2,decpoints2 = orbit_model(a_best,e_best,inc_best,\n",
    "                                        w_best,bigw_best,P_best,\n",
    "                                        T_best,t_all)"
   ]
  },
  {
   "cell_type": "code",
   "execution_count": 617,
   "metadata": {},
   "outputs": [
    {
     "data": {
      "image/png": "[encoded data removed]",
      "text/plain": [
       "<Figure size 432x288 with 1 Axes>"
      ]
     },
     "metadata": {
      "needs_background": "light"
     },
     "output_type": "display_data"
    },
    {
     "data": {
      "image/png": "[encoded data removed]",
      "text/plain": [
       "<Figure size 432x288 with 1 Axes>"
      ]
     },
     "metadata": {
      "needs_background": "light"
     },
     "output_type": "display_data"
    },
    {
     "data": {
      "image/png": "[encoded data removed]",
      "text/plain": [
       "<Figure size 432x288 with 1 Axes>"
      ]
     },
     "metadata": {
      "needs_background": "light"
     },
     "output_type": "display_data"
    },
    {
     "name": "stdout",
     "output_type": "stream",
     "text": [
      "----------\n",
      "Mean residual = 24.12 micro-as\n",
      "----------\n"
     ]
    }
   ],
   "source": [
    "fig,ax=plt.subplots()\n",
    "ax.plot(xpos_all[len(xpos):], ypos_all[len(xpos):], 'o', label='WDS')\n",
    "if len(vlti_idx)>0:\n",
    "    ax.plot(xpos[vlti_idx],ypos[vlti_idx],'o', label='ARMADA-VLTI')\n",
    "    ax.plot(xpos[vlti_mask],ypos[vlti_mask],'o', label='ARMADA-CHARA')\n",
    "else:\n",
    "    ax.plot(xpos,ypos,'o', label='ARMADA')\n",
    "ax.plot(0,0,'*')\n",
    "ax.plot(ra, dec, '--',color='g')\n",
    "#plot lines from data to best fit orbit\n",
    "i=0\n",
    "while i<len(decpoints):\n",
    "    x=[xpos_all[i],rapoints[i]]\n",
    "    y=[ypos_all[i],decpoints[i]]\n",
    "    ax.plot(x,y,color=\"black\")\n",
    "    i+=1\n",
    "ax.set_xlabel('milli-arcsec')\n",
    "ax.set_ylabel('milli-arcsec')\n",
    "ax.invert_xaxis()\n",
    "ax.axis('equal')\n",
    "ax.set_title('HD%s Outer Orbit'%target_hd)\n",
    "plt.legend()\n",
    "plt.savefig('%s/HD%s_%s_outer_triple.pdf'%(directory,target_hd,note))\n",
    "plt.show()\n",
    "plt.close()\n",
    "\n",
    "## plot inner wobble\n",
    "#idx = np.where(error_maj/scale<1)\n",
    "ra_inner = ra - ra2\n",
    "dec_inner = dec - dec2\n",
    "rapoints_inner = rapoints - rapoints2\n",
    "decpoints_inner = decpoints - decpoints2\n",
    "\n",
    "xpos_inner = xpos_all - rapoints2\n",
    "ypos_inner = ypos_all - decpoints2\n",
    "\n",
    "fig,ax=plt.subplots()\n",
    "if len(vlti_idx)>0:\n",
    "    ax.plot(xpos_inner[:len(xpos)][vlti_idx],ypos_inner[:len(xpos)][vlti_idx],'+', label='ARMADA-VLTI')\n",
    "    ax.plot(xpos_inner[:len(xpos)][vlti_mask],ypos_inner[:len(xpos)][vlti_mask],'+', label='ARMADA-CHARA')\n",
    "else:\n",
    "    ax.plot(xpos_inner[:len(xpos)],ypos_inner[:len(xpos)],'+', label='ARMADA')\n",
    "ax.plot(0,0,'*')\n",
    "ax.plot(ra_inner, dec_inner, '--',color='g')\n",
    "\n",
    "#need to measure error ellipse angle east of north\n",
    "for ras, decs, w, h, angle in zip(xpos_inner[:len(xpos)],ypos_inner[:len(xpos)],error_maj/scale,error_min/scale,error_deg):\n",
    "    #if w<0.05:\n",
    "    ellipse = Ellipse(xy=(ras, decs), width=2*w, height=2*h, \n",
    "                        angle=90-angle, facecolor='none', edgecolor='black')\n",
    "    ax.add_patch(ellipse)\n",
    "\n",
    "#plot lines from data to best fit orbit\n",
    "i=0\n",
    "while i<len(decpoints_inner[:len(xpos)]):\n",
    "    x=[xpos_inner[:len(xpos)][i],rapoints_inner[:len(xpos)][i]]\n",
    "    y=[ypos_inner[:len(xpos)][i],decpoints_inner[:len(xpos)][i]]\n",
    "    ax.plot(x,y,color=\"black\")\n",
    "    i+=1\n",
    "ax.set_xlabel('milli-arcsec')\n",
    "ax.set_ylabel('milli-arcsec')\n",
    "ax.invert_xaxis()\n",
    "ax.axis('equal')\n",
    "ax.set_title('HD%s Inner Orbit'%target_hd)\n",
    "plt.legend()\n",
    "plt.savefig('%s/HD%s_%s_inner_triple.pdf'%(directory,target_hd,note))\n",
    "plt.show()\n",
    "plt.close()\n",
    "\n",
    "## plot resids for ARMADA\n",
    "fig,ax=plt.subplots()\n",
    "xresid = xpos - rapoints[:len(xpos)]\n",
    "yresid = ypos - decpoints[:len(ypos)]\n",
    "\n",
    "#need to measure error ellipse angle east of north\n",
    "for ras, decs, w, h, angle in zip(xresid,yresid,error_maj/scale,error_min/scale,error_deg):\n",
    "    ellipse = Ellipse(xy=(ras, decs), width=2*w, height=2*h, \n",
    "                      angle=90-angle, facecolor='none', edgecolor='black')\n",
    "    ax.add_patch(ellipse)\n",
    "\n",
    "if len(vlti_idx)>0:\n",
    "    ax.plot(xresid[vlti_idx],yresid[vlti_idx],'o', label='ARMADA-VLTI')\n",
    "    ax.plot(xresid[vlti_mask],yresid[vlti_mask],'o', label='ARMADA-CHARA')\n",
    "else:\n",
    "    ax.plot(xresid,yresid,'o', label='ARMADA')\n",
    "ax.plot(0,0,'*')\n",
    "ax.set_xlabel('milli-arcsec')\n",
    "ax.set_ylabel('milli-arcsec')\n",
    "ax.invert_xaxis()\n",
    "ax.axis('equal')\n",
    "ax.set_title('HD%s Resids'%target_hd)\n",
    "plt.legend()\n",
    "plt.savefig('%s/HD%s_%s_resid_triple.pdf'%(directory,target_hd,note))\n",
    "plt.show()\n",
    "plt.close()\n",
    "\n",
    "## residuals\n",
    "resids = np.sqrt(xresid**2 + yresid**2)\n",
    "resids_median = np.around(np.median(resids)*1000,2)\n",
    "print('-'*10)\n",
    "print('Mean residual = %s micro-as'%resids_median)\n",
    "print('-'*10)\n",
    "\n",
    "## Save txt file with best orbit\n",
    "f = open(\"%s/%s_%s_orbit_triple.txt\"%(directory,target_hd,note),\"w+\")\n",
    "f.write(\"# P(d) a(mas) e i(deg) w(deg) W(deg) T(mjd) P2 a2 e2 i2 w2 W2 T2 mirc_scale K gamma mean_resid(mu-as)\\r\\n\")\n",
    "f.write(\"%s %s %s %s %s %s %s %s %s %s %s %s %s %s %s %s %s %s\"%(P_best,\n",
    "                                    a_best,e_best,\n",
    "                                   inc_best,w_best,\n",
    "                                   bigw_best,T_best,\n",
    "                                   P2_best,a2_best,e2_best,\n",
    "                                   inc2_best,w2_best,\n",
    "                                   bigw2_best,T2_best,\n",
    "                                  mirc_scale_best,K_best,\n",
    "                                  gamma_best,resids_median))\n",
    "f.close()"
   ]
  },
  {
   "cell_type": "code",
   "execution_count": 529,
   "metadata": {},
   "outputs": [
    {
     "data": {
      "image/png": "[encoded data removed]",
      "text/plain": [
       "<Figure size 432x288 with 1 Axes>"
      ]
     },
     "metadata": {
      "needs_background": "light"
     },
     "output_type": "display_data"
    },
    {
     "data": {
      "image/png": "[encoded data removed]",
      "text/plain": [
       "<Figure size 432x288 with 1 Axes>"
      ]
     },
     "metadata": {
      "needs_background": "light"
     },
     "output_type": "display_data"
    }
   ],
   "source": [
    "#Plot RV results:\n",
    "w2_rv = w2_best*np.pi/180+np.pi\n",
    "foldtime= foldAt(t_rv,P2_best,T0=T2_best)\n",
    "tt=np.linspace(T2_best,T2_best+P2_best,100)\n",
    "MM=[]\n",
    "for i in tt:\n",
    "    mm_anom=2*np.pi/P2_best*(i-T2_best)\n",
    "    MM.append(mm_anom)\n",
    "MM=np.asarray(MM)\n",
    "EE=[]\n",
    "for j in MM:\n",
    "    #ee_anom=keplerE(j,a1[1])\n",
    "    ee_anom=ks.getE(j,e2_best)\n",
    "    EE.append(ee_anom)\n",
    "EE=np.asarray(EE)\n",
    "MM2=[]\n",
    "for i in t_rv:\n",
    "    mm_anom=2*np.pi/P2_best*(i-T2_best)\n",
    "    MM2.append(mm_anom)\n",
    "MM2=np.asarray(MM2)\n",
    "EE2=[]\n",
    "\n",
    "for j in MM2:\n",
    "    #ee_anom=keplerE(j,a1[1])\n",
    "    ee_anom=ks.getE(j,e2_best)\n",
    "    EE2.append(ee_anom)\n",
    "EE2=np.asarray(EE2)\n",
    "\n",
    "f=2*np.arctan(np.sqrt((1+e2_best)/(1-e2_best))*np.tan(EE/2))\n",
    "y1=K_best*(np.cos(w2_rv+f)+e2_best*np.cos(w2_rv))+gamma_best\n",
    "tt_fold=foldAt(tt,P2_best,T0=T2_best)\n",
    "\n",
    "fpoints=2*np.arctan(np.sqrt((1+e2_best)/(1-e2_best))*np.tan(EE2/2))\n",
    "y1points=K_best*(np.cos(w2_rv+fpoints)+e2_best*np.cos(w2_rv))+gamma_best\n",
    "\n",
    "plt.errorbar(foldtime,rv,yerr=err_rv,fmt='o')\n",
    "plt.plot(tt_fold,y1,'.')\n",
    "plt.ylabel('RV(km/s)')\n",
    "plt.xlabel('Phase')\n",
    "plt.title('RV Curve')\n",
    "plt.savefig('%s/HD%s_%s_orbit_rv.pdf'%(directory,target_hd,note))\n",
    "plt.show()\n",
    "plt.close()\n",
    "\n",
    "plt.errorbar(foldtime,rv-y1points,yerr=err_rv,fmt='o')\n",
    "plt.plot([0,1],[0,0],'--')\n",
    "plt.ylabel('RV(km/s)')\n",
    "plt.xlabel('Phase')\n",
    "plt.title('RV Curve')\n",
    "plt.savefig('%s/HD%s_%s_orbit_resids_rv.pdf'%(directory,target_hd,note))\n",
    "plt.show()\n",
    "plt.close()"
   ]
  },
  {
   "cell_type": "code",
   "execution_count": null,
   "metadata": {},
   "outputs": [],
   "source": []
  },
  {
   "cell_type": "code",
   "execution_count": null,
   "metadata": {},
   "outputs": [],
   "source": []
  }
 ],
 "metadata": {
  "kernelspec": {
   "display_name": "Python 3",
   "language": "python",
   "name": "python3"
  },
  "language_info": {
   "codemirror_mode": {
    "name": "ipython",
    "version": 3
   },
   "file_extension": ".py",
   "mimetype": "text/x-python",
   "name": "python",
   "nbconvert_exporter": "python",
   "pygments_lexer": "ipython3",
   "version": "3.8.5"
  }
 },
 "nbformat": 4,
 "nbformat_minor": 4
}
