{
 "cells": [
  {
   "cell_type": "markdown",
   "metadata": {},
   "source": [
    "## Notebook to fit triple orbits with astrometry + rv"
   ]
  },
  {
   "cell_type": "code",
   "execution_count": 1,
   "metadata": {},
   "outputs": [],
   "source": [
    "from lmfit import minimize, Minimizer, Parameters, Parameter, report_fit\n",
    "import numpy as np\n",
    "import os\n",
    "import matplotlib.pyplot as plt\n",
    "from matplotlib.patches import Ellipse\n",
    "from tqdm import tqdm\n",
    "import matplotlib.cm as cm\n",
    "from read_data import read_data,read_rv,read_wds,read_orb6\n",
    "from astrometry_model import astrometry_model,binary_model_combined,astrometry_model_vlti,rv_model,rv_model_circular,triple_model,triple_model_circular,triple_model_combined,triple_model_vlti_combined,triple_model_vlti,triple_model_combined_circular,lnlike,lnprior,lnpost,create_init\n",
    "from orbit_plotting import orbit_model,triple_orbit_model\n",
    "from astroquery.simbad import Simbad\n",
    "from astropy.coordinates import SkyCoord\n",
    "import random\n",
    "from PyAstronomy.pyasl import foldAt\n",
    "from PyAstronomy import pyasl\n",
    "from uncertainties import ufloat,umath\n",
    "from uncertainties.umath import *\n",
    "import emcee\n",
    "import corner\n",
    "from mpl_toolkits.axes_grid1.inset_locator import zoomed_inset_axes\n",
    "from mpl_toolkits.axes_grid1.inset_locator import mark_inset\n",
    "ks=pyasl.MarkleyKESolver()\n",
    "\n",
    "%matplotlib inline"
   ]
  },
  {
   "cell_type": "code",
   "execution_count": 2,
   "metadata": {},
   "outputs": [],
   "source": [
    "## setup paths for user\n",
    "path = '/Users/tgardner/ARMADA_orbits/'\n",
    "path_etalon = '/Users/tgardner/etalon_epochs/etalon_fits/etalon_factors_fit.txt'\n",
    "path_wds = '/Users/tgardner/ARMADA_orbits/'\n",
    "path_orb6 = '/Users/tgardner/catalogs/orb6orbits.sql.txt'"
   ]
  },
  {
   "cell_type": "code",
   "execution_count": 3,
   "metadata": {},
   "outputs": [],
   "source": [
    "## Specify target\n",
    "target_hd = '283868' ## HD number\n",
    "note = 'pmoired' ## note for saved file\n",
    "corrected = 'n' ## bootstrap errors?"
   ]
  },
  {
   "cell_type": "code",
   "execution_count": 4,
   "metadata": {},
   "outputs": [],
   "source": [
    "query = Simbad.query_objectids('HD %s'%target_hd)\n",
    "for item in query:\n",
    "    if 'HIP' in item[0]:\n",
    "        target = item[0].split()[1]\n",
    "        print('HIP %s'%target)\n",
    "    if 'WDS' in item[0]:\n",
    "        target_wds = item[0][5:15]\n",
    "        print('WDS %s'%target_wds)"
   ]
  },
  {
   "cell_type": "code",
   "execution_count": 5,
   "metadata": {},
   "outputs": [],
   "source": [
    "#target_wds = '09320-0111'"
   ]
  },
  {
   "cell_type": "code",
   "execution_count": 6,
   "metadata": {},
   "outputs": [
    {
     "name": "stdout",
     "output_type": "stream",
     "text": [
      "reading chi2 errors\n"
     ]
    },
    {
     "name": "stdin",
     "output_type": "stream",
     "text": [
      "MJD? (y,[n]):  n\n"
     ]
    }
   ],
   "source": [
    "###########################################\n",
    "## Read in ARMADA data\n",
    "###########################################\n",
    "if corrected == 'y':\n",
    "    print('reading boostrap errors')\n",
    "    file=open('%s/HD_%s_bootstrap.txt'%(path,target_hd))\n",
    "else:\n",
    "    print('reading chi2 errors')\n",
    "    file=open('%s/HD_%s_chi2err.txt'%(path,target_hd))\n",
    "weight=1\n",
    "\n",
    "t,p,theta,error_maj,error_min,error_pa,error_deg = read_data(file,weight)\n",
    "file.close()\n",
    "\n",
    "file_rv=open('%s/HD_%s_rv.txt'%(path,target_hd))\n",
    "\n",
    "weight_rv = 7.79 ## km/s error\n",
    "\n",
    "t_rv,rv,err_rv = read_rv(file_rv,weight_rv)\n",
    "t_rv-=2400000\n",
    "file_rv.close()\n",
    "\n",
    "err_rv[:]=weight_rv"
   ]
  },
  {
   "cell_type": "code",
   "execution_count": 7,
   "metadata": {},
   "outputs": [
    {
     "name": "stdout",
     "output_type": "stream",
     "text": [
      "HJD RV err\n",
      "55091.16000000015 & 31.04 & 7.79 \\\\\n",
      "55091.189999999944 & 31.1 & 7.79 \\\\\n",
      "55094.12000000011 & 28.84 & 7.79 \\\\\n",
      "55094.12999999989 & 27.59 & 7.79 \\\\\n",
      "55101.22999999998 & 17.39 & 7.79 \\\\\n",
      "55124.16000000015 & 40.85 & 7.79 \\\\\n",
      "55131.16000000015 & 47.87 & 7.79 \\\\\n",
      "55206.950000000186 & 53.34 & 7.79 \\\\\n",
      "55214.939999999944 & 58.36 & 7.79 \\\\\n",
      "55221.89000000013 & 36.64 & 7.79 \\\\\n",
      "55474.220000000205 & 43.05 & 7.79 \\\\\n",
      "55474.25 & 43.12 & 7.79 \\\\\n",
      "55498.18000000017 & 20.62 & 7.79 \\\\\n",
      "55507.0 & 35.7 & 7.79 \\\\\n",
      "55544.14999999991 & 32.51 & 7.79 \\\\\n",
      "55575.060000000056 & 19.42 & 7.79 \\\\\n",
      "55580.87000000011 & 23.27 & 7.79 \\\\\n",
      "55619.87000000011 & 26.12 & 7.79 \\\\\n",
      "55640.89000000013 & 46.6 & 7.79 \\\\\n",
      "55650.85999999987 & 15.04 & 7.79 \\\\\n",
      "55777.220000000205 & 23.16 & 7.79 \\\\\n",
      "55779.22999999998 & 23.35 & 7.79 \\\\\n",
      "55786.20999999996 & 28.4 & 7.79 \\\\\n",
      "55795.22999999998 & 35.34 & 7.79 \\\\\n",
      "55800.200000000186 & 39.38 & 7.79 \\\\\n",
      "55807.169999999925 & 23.26 & 7.79 \\\\\n",
      "55828.24000000022 & 34.95 & 7.79 \\\\\n",
      "55835.200000000186 & 45.4 & 7.79 \\\\\n",
      "55842.169999999925 & 53.11 & 7.79 \\\\\n",
      "55859.200000000186 & 19.2 & 7.79 \\\\\n",
      "55860.14000000013 & 20.92 & 7.79 \\\\\n",
      "55861.10999999987 & 22.73 & 7.79 \\\\\n",
      "55866.12000000011 & 33.0 & 7.79 \\\\\n",
      "55867.16000000015 & 35.14 & 7.79 \\\\\n",
      "55870.16000000015 & 40.5 & 7.79 \\\\\n",
      "55871.080000000075 & 41.42 & 7.79 \\\\\n",
      "55872.200000000186 & 41.79 & 7.79 \\\\\n",
      "55873.12999999989 & 41.42 & 7.79 \\\\\n",
      "55879.99000000022 & 31.11 & 7.79 \\\\\n",
      "55881.08999999985 & 27.82 & 7.79 \\\\\n",
      "55882.049999999814 & 24.25 & 7.79 \\\\\n",
      "55883.10999999987 & 20.7 & 7.79 \\\\\n",
      "55884.189999999944 & 7.25 & 7.79 \\\\\n",
      "55886.14000000013 & 5.58 & 7.79 \\\\\n",
      "55887.14999999991 & 5.66 & 7.79 \\\\\n",
      "55890.10000000009 & 8.18 & 7.79 \\\\\n",
      "55890.10999999987 & 8.12 & 7.79 \\\\\n",
      "55909.04000000004 & 34.26 & 7.79 \\\\\n",
      "55934.970000000205 & 7.21 & 7.79 \\\\\n",
      "55938.060000000056 & 11.28 & 7.79 \\\\\n",
      "55941.93000000017 & 17.83 & 7.79 \\\\\n",
      "55944.81999999983 & 24.26 & 7.79 \\\\\n",
      "55952.95999999996 & 41.41 & 7.79 \\\\\n",
      "55955.939999999944 & 43.81 & 7.79 \\\\\n",
      "55958.939999999944 & 44.01 & 7.79 \\\\\n",
      "55965.970000000205 & 6.77 & 7.79 \\\\\n",
      "55975.95999999996 & 16.01 & 7.79 \\\\\n",
      "55979.85999999987 & 22.57 & 7.79 \\\\\n",
      "55987.970000000205 & 31.02 & 7.79 \\\\\n",
      "55994.93000000017 & 26.48 & 7.79 \\\\\n",
      "56003.919999999925 & -1.94 & 7.79 \\\\\n",
      "56015.91000000015 & 7.73 & 7.79 \\\\\n",
      "56145.22999999998 & 33.01 & 7.79 \\\\\n",
      "56152.24000000022 & 33.06 & 7.79 \\\\\n",
      "56153.22999999998 & 33.25 & 7.79 \\\\\n",
      "56156.20999999996 & 26.02 & 7.79 \\\\\n",
      "56166.18000000017 & 2.96 & 7.79 \\\\\n",
      "56173.24000000022 & 16.34 & 7.79 \\\\\n",
      "56177.14000000013 & 24.17 & 7.79 \\\\\n",
      "56177.16000000015 & 24.21 & 7.79 \\\\\n",
      "56184.14999999991 & 32.28 & 7.79 \\\\\n",
      "56191.18000000017 & 27.7 & 7.79 \\\\\n",
      "56199.14000000013 & 0.92 & 7.79 \\\\\n",
      "56212.12000000011 & 11.06 & 7.79 \\\\\n",
      "56250.12000000011 & 21.47 & 7.79 \\\\\n",
      "56253.950000000186 & 26.96 & 7.79 \\\\\n",
      "56254.99000000022 & 28.26 & 7.79 \\\\\n",
      "56266.93000000017 & 33.91 & 7.79 \\\\\n",
      "56300.89000000013 & 41.02 & 7.79 \\\\\n",
      "56304.93000000017 & 48.55 & 7.79 \\\\\n",
      "56312.87999999989 & 51.12 & 7.79 \\\\\n",
      "56319.85999999987 & 40.12 & 7.79 \\\\\n",
      "56319.93000000017 & 40.01 & 7.79 \\\\\n",
      "56320.970000000205 & 38.58 & 7.79 \\\\\n",
      "56326.91000000015 & 32.42 & 7.79 \\\\\n",
      "56331.89000000013 & 29.09 & 7.79 \\\\\n",
      "56338.85000000009 & 31.65 & 7.79 \\\\\n",
      "56387.87999999989 & 63.75 & 7.79 \\\\\n",
      "56391.85999999987 & 68.55 & 7.79 \\\\\n",
      "56518.220000000205 & 30.79 & 7.79 \\\\\n",
      "56555.200000000186 & 32.18 & 7.79 \\\\\n",
      "56560.14000000013 & 35.69 & 7.79 \\\\\n",
      "56565.24000000022 & 42.24 & 7.79 \\\\\n",
      "56601.14000000013 & 29.79 & 7.79 \\\\\n",
      "56617.00999999978 & 46.22 & 7.79 \\\\\n",
      "56623.189999999944 & 52.06 & 7.79 \\\\\n",
      "56660.919999999925 & 41.4 & 7.79 \\\\\n",
      "56668.95999999996 & 27.99 & 7.79 \\\\\n",
      "56709.99000000022 & 28.3 & 7.79 \\\\\n",
      "56721.89999999991 & 38.3 & 7.79 \\\\\n",
      "56878.22999999998 & 34.66 & 7.79 \\\\\n",
      "56890.22999999998 & 34.38 & 7.79 \\\\\n",
      "56901.20999999996 & 29.43 & 7.79 \\\\\n",
      "56930.22999999998 & 39.93 & 7.79 \\\\\n",
      "56938.12000000011 & 49.31 & 7.79 \\\\\n",
      "56955.16000000015 & 27.65 & 7.79 \\\\\n",
      "56967.20999999996 & 36.16 & 7.79 \\\\\n",
      "56994.04000000004 & 15.44 & 7.79 \\\\\n",
      "57002.89000000013 & 29.6 & 7.79 \\\\\n",
      "57054.02000000002 & 39.34 & 7.79 \\\\\n",
      "57234.200000000186 & 7.19 & 7.79 \\\\\n",
      "57238.220000000205 & 15.95 & 7.79 \\\\\n",
      "57251.24000000022 & 38.79 & 7.79 \\\\\n",
      "57267.22999999998 & 21.69 & 7.79 \\\\\n",
      "57268.220000000205 & 22.36 & 7.79 \\\\\n",
      "57278.18000000017 & 28.75 & 7.79 \\\\\n",
      "57300.16000000015 & 1.5 & 7.79 \\\\\n",
      "57309.16000000015 & 6.61 & 7.79 \\\\\n",
      "57336.16000000015 & 39.03 & 7.79 \\\\\n",
      "57343.08999999985 & 16.37 & 7.79 \\\\\n",
      "57354.0 & 17.7 & 7.79 \\\\\n",
      "57391.93000000017 & 8.27 & 7.79 \\\\\n",
      "57426.87999999989 & 25.3 & 7.79 \\\\\n",
      "57457.85000000009 & 9.25 & 7.79 \\\\\n",
      "57457.85999999987 & 9.2 & 7.79 \\\\\n",
      "57670.22999999998 & 44.95 & 7.79 \\\\\n",
      "57701.12999999989 & 32.28 & 7.79 \\\\\n",
      "57713.06999999983 & 45.5 & 7.79 \\\\\n",
      "57723.02000000002 & 59.86 & 7.79 \\\\\n",
      "57784.939999999944 & 36.53 & 7.79 \\\\\n",
      "57808.85000000009 & 47.95 & 7.79 \\\\\n",
      "57986.22999999998 & 36.83 & 7.79 \\\\\n",
      "58006.189999999944 & 22.61 & 7.79 \\\\\n",
      "58011.12000000011 & 15.42 & 7.79 \\\\\n",
      "58020.12999999989 & 21.42 & 7.79 \\\\\n",
      "58127.97999999998 & 43.31 & 7.79 \\\\\n",
      "58173.89000000013 & 14.47 & 7.79 \\\\\n",
      "58181.87999999989 & 24.11 & 7.79 \\\\\n",
      "58189.95999999996 & 37.8 & 7.79 \\\\\n"
     ]
    }
   ],
   "source": [
    "## print rv for paper\n",
    "print('HJD RV err')\n",
    "for i,j,k in zip(t_rv,rv,err_rv):\n",
    "    print('%s & %s & %s \\\\\\\\'%(i,j,k))"
   ]
  },
  {
   "cell_type": "code",
   "execution_count": 8,
   "metadata": {},
   "outputs": [],
   "source": [
    "#t_rv = t_rv-2400000"
   ]
  },
  {
   "cell_type": "code",
   "execution_count": null,
   "metadata": {},
   "outputs": [],
   "source": []
  },
  {
   "cell_type": "code",
   "execution_count": 9,
   "metadata": {},
   "outputs": [
    {
     "name": "stdout",
     "output_type": "stream",
     "text": [
      "Closest factor for 58708.49005816945 is 5.447116478346288 days away\n",
      "Closest factor for 58709.50278853055 is 6.459846839446982 days away\n",
      "Closest factor for 58775.39909589659 is 5.381356984362355 days away\n",
      "Closest factor for 58777.37910860624 is 7.361369694015593 days away\n",
      "Closest factor for 59826.48685138748 is 120.38272700500966 days away\n",
      "Closest factor for 59826.50685138748 is 120.40272700500645 days away\n",
      "Closest factor for 59909.28962199197 is 203.18549760949827 days away\n",
      "   date      etalon factor\n",
      "58708.49005816945 1.0007788200839338\n",
      "58709.50278853055 1.0007788200839338\n",
      "58775.39909589659 1.0008500320628442\n",
      "58777.37910860624 1.0008500320628442\n",
      "59826.48685138748 0.9999296307415948\n",
      "59826.50685138748 0.9999296307415948\n",
      "59909.28962199197 0.9999296307415948\n"
     ]
    }
   ],
   "source": [
    "###########################################\n",
    "## Apply etalon correction\n",
    "###########################################\n",
    "file=open(path_etalon)\n",
    "mjd_etalon=[]\n",
    "f_etalon=[]\n",
    "for line in file.readlines():\n",
    "    if line.startswith('#'):\n",
    "        continue\n",
    "    mjd_etalon.append(float(line.split()[0]))\n",
    "    f_etalon.append(float(line.split()[1]))\n",
    "file.close()\n",
    "mjd_etalon=np.array(mjd_etalon)\n",
    "f_etalon=np.array(f_etalon)\n",
    "\n",
    "etalon_factor=[]\n",
    "for i in t:\n",
    "    idx = np.where(abs(i-mjd_etalon)==min(abs(i-mjd_etalon)))\n",
    "    if min(abs(i-mjd_etalon))>0.5:\n",
    "        print('Closest factor for %s is %s days away'%(i,min(abs(i-mjd_etalon))))\n",
    "    f = f_etalon[idx][0]\n",
    "    etalon_factor.append(f)\n",
    "etalon_factor=np.array(etalon_factor)\n",
    "\n",
    "print('   date      etalon factor')\n",
    "for i,j in zip(t,etalon_factor):\n",
    "    print(i,j)"
   ]
  },
  {
   "cell_type": "code",
   "execution_count": 10,
   "metadata": {},
   "outputs": [
    {
     "name": "stdout",
     "output_type": "stream",
     "text": [
      "No etalon correction applied\n"
     ]
    }
   ],
   "source": [
    "## set etalon factors to 1 for vlti data\n",
    "vlti = 'n'\n",
    "if vlti=='y':\n",
    "    vlti_idx = input('enter indices (e.g. 1 2 3): ').split(' ')\n",
    "    vlti_idx = np.array([int(i) for i in vlti_idx])\n",
    "else:\n",
    "    vlti_idx = []\n",
    "    \n",
    "## Apply etalon\n",
    "etalon = 'n'\n",
    "if etalon=='y':\n",
    "    print('Applying etalon correction')\n",
    "    if len(vlti_idx)>0:\n",
    "        print('Setting VLTI correction factors to 1.0')\n",
    "        etalon_factor[vlti_idx] = 1.0\n",
    "    p = p/etalon_factor\n",
    "else:\n",
    "    print('No etalon correction applied')"
   ]
  },
  {
   "cell_type": "code",
   "execution_count": 11,
   "metadata": {},
   "outputs": [],
   "source": [
    "xpos=p*np.sin(theta)\n",
    "ypos=p*np.cos(theta)\n",
    "\n",
    "vlti_mask = np.ones(len(t),dtype=bool)\n",
    "vlti_mask[vlti_idx] = False"
   ]
  },
  {
   "cell_type": "code",
   "execution_count": 12,
   "metadata": {},
   "outputs": [
    {
     "name": "stdout",
     "output_type": "stream",
     "text": [
      "MJD xpos ypos xerr yerr\n",
      "58708.49005816945 & -0.8017203229100144 & -0.6240997707362681 & 0.005 & 0.005 \\\\\n",
      "58709.50278853055 & -0.7753934414054086 & -0.6393668829596016 & 0.006 & 0.006 \\\\\n",
      "58775.39909589659 & -0.09616220503690023 & -1.0847459750201616 & 0.008 & 0.008 \\\\\n",
      "58777.37910860624 & -0.09940664982893026 & -1.1025276948765452 & 0.007 & 0.007 \\\\\n",
      "59826.48685138748 & -1.3543166325044131 & 0.3625333900786331 & 0.004 & 0.004 \\\\\n",
      "59826.50685138748 & -1.485272997139276 & 0.3277272096865195 & 0.008 & 0.008 \\\\\n",
      "59909.28962199197 & -0.9863231258817258 & -0.9203084761920327 & 0.18 & 0.18 \\\\\n"
     ]
    }
   ],
   "source": [
    "## print rv for paper\n",
    "print('MJD xpos ypos xerr yerr')\n",
    "for i,j,k,l,m in zip(t,xpos,ypos,error_maj,error_min):\n",
    "    print('%s & %s & %s & %s & %s \\\\\\\\'%(i,j,k,l,m))"
   ]
  },
  {
   "cell_type": "code",
   "execution_count": 13,
   "metadata": {},
   "outputs": [
    {
     "name": "stdout",
     "output_type": "stream",
     "text": [
      "NO WDS DATA\n"
     ]
    }
   ],
   "source": [
    "###########################################\n",
    "## Read in WDS data - and plot to check\n",
    "###########################################\n",
    "input_wds = 'n'\n",
    "if input_wds == 'y':\n",
    "    file=open(os.path.expanduser(\"%s/HD%s_chi2err/HD_%s_wds.txt\"%(path_wds,target_hd,target_hd)))\n",
    "    weight = 1\n",
    "    t_wds,p_wds,theta_wds,error_maj_wds,error_min_wds,error_pa_wds,error_deg_wds = read_data(file,weight)\n",
    "    print('Number of WDS data points = %s'%len(p_wds))\n",
    "\n",
    "    ## correct WDS for PA\n",
    "    #theta_wds -= (0.00557*np.sin(ra)/np.cos(dec)*((t_wds-51544.5)/365.25))/180*np.pi\n",
    "\n",
    "    xpos_wds=p_wds*np.sin(theta_wds)\n",
    "    ypos_wds=p_wds*np.cos(theta_wds)\n",
    "    idx = np.argmin(t)\n",
    "\n",
    "    plt.plot(xpos_wds,ypos_wds,'o',label='WDS')\n",
    "    plt.plot(xpos_wds[0],ypos_wds[0],'*')\n",
    "    plt.plot(xpos[idx],ypos[idx],'*')\n",
    "    if len(vlti_idx)>0:\n",
    "        plt.plot(xpos[vlti_mask],ypos[vlti_mask],'+',label='ARMADA-CHARA')\n",
    "        plt.plot(xpos[vlti_idx],ypos[vlti_idx],'+',label='ARMADA-VLTI')\n",
    "    else:\n",
    "        plt.plot(xpos,ypos,'+',label='ARMADA')\n",
    "    plt.plot(0,0,'*')\n",
    "    plt.gca().invert_xaxis()\n",
    "    plt.title('All Data')\n",
    "    plt.xlabel('dra (mas)')\n",
    "    plt.ylabel('ddec (mas)')\n",
    "    plt.legend()\n",
    "    plt.show()\n",
    "\n",
    "    flip = input('Flip WDS data? (y/n): ')\n",
    "    if flip=='y':\n",
    "        xpos_wds=-p_wds*np.sin(theta_wds)\n",
    "        ypos_wds=-p_wds*np.cos(theta_wds)\n",
    "        plt.plot(xpos_wds,ypos_wds,'o',label='WDS')\n",
    "        plt.plot(xpos_wds[0],ypos_wds[0],'*')\n",
    "        plt.plot(xpos[idx],ypos[idx],'*')\n",
    "        plt.plot(xpos,ypos,'+',label='ARMADA')\n",
    "        plt.plot(0,0,'*')\n",
    "        plt.gca().invert_xaxis()\n",
    "        plt.title('All Data')\n",
    "        plt.xlabel('dra (mas)')\n",
    "        plt.ylabel('ddec (mas)')\n",
    "        plt.legend()\n",
    "        plt.show()\n",
    "\n",
    "        better = input('Flip data back to original? (y/n): ')\n",
    "        if better=='y':\n",
    "            xpos_wds=p_wds*np.sin(theta_wds)\n",
    "            ypos_wds=p_wds*np.cos(theta_wds)\n",
    "else:\n",
    "    t_wds = np.array([np.nan])\n",
    "    p_wds = np.array([np.nan])\n",
    "    theta_wds = np.array([np.nan])\n",
    "    error_maj_wds = np.array([np.nan])\n",
    "    error_min_wds = np.array([np.nan])\n",
    "    error_pa_wds = np.array([np.nan])\n",
    "    error_deg_wds = np.array([np.nan])\n",
    "    xpos_wds=p_wds*np.sin(theta_wds)\n",
    "    ypos_wds=p_wds*np.cos(theta_wds)\n",
    "    print('NO WDS DATA')"
   ]
  },
  {
   "cell_type": "code",
   "execution_count": null,
   "metadata": {},
   "outputs": [],
   "source": []
  },
  {
   "cell_type": "code",
   "execution_count": 14,
   "metadata": {},
   "outputs": [
    {
     "name": "stdout",
     "output_type": "stream",
     "text": [
      "No elements found in ORB6\n"
     ]
    },
    {
     "name": "stdin",
     "output_type": "stream",
     "text": [
      "a (mas):  2\n",
      "P (year):  3.4\n",
      "ecc :  0.3\n",
      "inc (deg):  120\n",
      "omega (deg):  280\n",
      "bigomega (deg):  313\n",
      "T (mjd):  58741\n"
     ]
    }
   ],
   "source": [
    "###########################################\n",
    "## Get an estimate of the orbital parameters\n",
    "###########################################\n",
    "try:\n",
    "    a,P,e,inc,omega,bigomega,T = read_orb6(target,path_orb6)\n",
    "except:\n",
    "    print('No elements found in ORB6')\n",
    "    \n",
    "self_params = 'y'\n",
    "if self_params=='y':\n",
    "    a = float(input('a (mas): '))\n",
    "    P = float(input('P (year): '))*365.25\n",
    "    e = float(input('ecc : '))\n",
    "    inc = float(input('inc (deg): '))\n",
    "    omega = float(input('omega (deg): '))\n",
    "    bigomega = float(input('bigomega (deg): '))\n",
    "    T = float(input('T (mjd): '))\n",
    "    "
   ]
  },
  {
   "cell_type": "code",
   "execution_count": null,
   "metadata": {},
   "outputs": [],
   "source": []
  },
  {
   "cell_type": "code",
   "execution_count": 15,
   "metadata": {},
   "outputs": [],
   "source": [
    "###########################################\n",
    "## Combined WDS+ARMADA for fitting\n",
    "###########################################\n",
    "xpos_all = np.concatenate([xpos,xpos_wds])\n",
    "ypos_all = np.concatenate([ypos,ypos_wds])\n",
    "t_all = np.concatenate([t,t_wds])\n",
    "error_maj_all = np.concatenate([error_maj,error_maj_wds])\n",
    "error_min_all = np.concatenate([error_min,error_min_wds])\n",
    "error_pa_all = np.concatenate([error_pa,error_pa_wds])\n",
    "error_deg_all = np.concatenate([error_deg,error_deg_wds])\n",
    "\n",
    "vlti_mask_all = np.ones(len(t_all),dtype=bool)\n",
    "vlti_mask_all[vlti_idx] = False"
   ]
  },
  {
   "cell_type": "code",
   "execution_count": 16,
   "metadata": {},
   "outputs": [],
   "source": [
    "##########################################\n",
    "## Function for fitting/plotting data\n",
    "#########################################\n",
    "def ls_fit(params,xp,yp,tp,emaj,emin,epa):\n",
    "    #do fit, minimizer uses LM for least square fitting of model to data\n",
    "    if len(vlti_idx)>0:\n",
    "        minner = Minimizer(astrometry_model_vlti, params, fcn_args=(xp[vlti_mask_all],yp[vlti_mask_all],tp[vlti_mask_all],\n",
    "                                                        emaj[vlti_mask_all],emin[vlti_mask_all],epa[vlti_mask_all],\n",
    "                                                        xp[vlti_idx],yp[vlti_idx],tp[vlti_idx],\n",
    "                                                        emaj[vlti_idx],emin[vlti_idx],epa[vlti_idx]),\n",
    "                                nan_policy='omit')\n",
    "        result = minner.minimize()\n",
    "    else:\n",
    "        minner = Minimizer(astrometry_model, params, fcn_args=(xp,yp,tp,\n",
    "                                                        emaj,emin,epa),\n",
    "                                nan_policy='omit')\n",
    "        result = minner.minimize()\n",
    "\n",
    "    # write error report\n",
    "    print(report_fit(result))\n",
    "\n",
    "    resids_armada = astrometry_model(result.params,xpos,ypos,t,error_maj,\n",
    "                                 error_min,error_pa)\n",
    "    resids_wds = astrometry_model(result.params,xpos_wds,ypos_wds,t_wds,error_maj_wds,\n",
    "                                 error_min_wds,error_pa_wds)\n",
    "    ndata_armada = 2*sum(~np.isnan(xpos))\n",
    "    ndata_wds = 2*sum(~np.isnan(xpos_wds))\n",
    "    chi2_armada = np.nansum(resids_armada**2)/(ndata_armada-7)\n",
    "    chi2_wds = np.nansum(resids_wds**2)/(ndata_wds-7)\n",
    "    print('-'*10)\n",
    "    print('chi2 armada = %s'%chi2_armada)\n",
    "    print('-'*10)\n",
    "    print('chi2 wds = %s'%chi2_wds)\n",
    "    print('-'*10)\n",
    "\n",
    "    ## plot fit\n",
    "    scale=1\n",
    "    if chi2_armada<1.0 and chi2_armada>0:\n",
    "        scale=1/np.sqrt(chi2_armada)\n",
    "    a_start = result.params['a']\n",
    "    P_start = result.params['P']\n",
    "    e_start = result.params['e']\n",
    "    inc_start = result.params['inc']\n",
    "    w_start = result.params['w']\n",
    "    bigw_start = result.params['bigw']\n",
    "    T_start = result.params['T']\n",
    "    mirc_scale_start = result.params['mirc_scale']\n",
    "\n",
    "    ra,dec,rapoints,decpoints = orbit_model(a_start,e_start,inc_start,\n",
    "                                            w_start,bigw_start,P_start,\n",
    "                                            T_start,t_all)\n",
    "    fig,ax=plt.subplots()\n",
    "    ax.plot(xpos_all[len(xpos):], ypos_all[len(xpos):], 'o', label='WDS')\n",
    "    if len(vlti_idx)>0:\n",
    "        ax.plot(xpos[vlti_idx]*mirc_scale_start,ypos[vlti_idx]*mirc_scale_start,'o', label='ARMADA-VLTI')\n",
    "        ax.plot(xpos[vlti_mask],ypos[vlti_mask],'o', label='ARMADA-CHARA')\n",
    "    else:\n",
    "        ax.plot(xpos,ypos,'o', label='ARMADA')\n",
    "    ax.plot(0,0,'*')\n",
    "    ax.plot(ra, dec, '--',color='g')\n",
    "    #plot lines from data to best fit orbit\n",
    "    i=0\n",
    "    while i<len(decpoints):\n",
    "        x=[xpos_all[i],rapoints[i]]\n",
    "        y=[ypos_all[i],decpoints[i]]\n",
    "        ax.plot(x,y,color=\"black\")\n",
    "        i+=1\n",
    "    ax.set_xlabel('milli-arcsec')\n",
    "    ax.set_ylabel('milli-arcsec')\n",
    "    ax.invert_xaxis()\n",
    "    ax.axis('equal')\n",
    "    ax.set_title('HD%s Outer Orbit'%target_hd)\n",
    "    plt.legend()\n",
    "    plt.show()\n",
    "\n",
    "    return result"
   ]
  },
  {
   "cell_type": "code",
   "execution_count": null,
   "metadata": {},
   "outputs": [],
   "source": []
  },
  {
   "cell_type": "code",
   "execution_count": 17,
   "metadata": {},
   "outputs": [
    {
     "name": "stdout",
     "output_type": "stream",
     "text": [
      "[[Fit Statistics]]\n",
      "    # fitting method   = leastsq\n",
      "    # function evals   = 346\n",
      "    # data points      = 14\n",
      "    # variables        = 7\n",
      "    chi-square         = 247.774117\n",
      "    reduced chi-square = 35.3963024\n",
      "    Akaike info crit   = 54.2284425\n",
      "    Bayesian info crit = 58.7018438\n",
      "[[Variables]]\n",
      "    w:           136.747300 +/- 1186.79147 (867.87%) (init = 280)\n",
      "    bigw:        325.013303 +/- 474.076414 (145.86%) (init = 313)\n",
      "    inc:         137.696707 +/- 63.2264873 (45.92%) (init = 120)\n",
      "    e:           0.31866149 +/- 2.22258538 (697.48%) (init = 0.3)\n",
      "    a:           1.86868422 +/- 1.90278159 (101.82%) (init = 2)\n",
      "    P:           1216.94344 +/- 71.7828096 (5.90%) (init = 1241.85)\n",
      "    T:           58785.5468 +/- 1174.09919 (2.00%) (init = 58741)\n",
      "    mirc_scale:  1 (fixed)\n",
      "[[Correlations]] (unreported correlations are < 0.100)\n",
      "    C(w, bigw)   = 1.000\n",
      "    C(w, T)      = 1.000\n",
      "    C(bigw, e)   = 1.000\n",
      "    C(bigw, T)   = 1.000\n",
      "    C(w, e)      = 1.000\n",
      "    C(e, T)      = 1.000\n",
      "    C(a, T)      = 0.999\n",
      "    C(w, a)      = 0.999\n",
      "    C(bigw, a)   = 0.999\n",
      "    C(e, a)      = 0.999\n",
      "    C(inc, a)    = -0.998\n",
      "    C(a, P)      = -0.997\n",
      "    C(inc, T)    = -0.996\n",
      "    C(e, P)      = -0.996\n",
      "    C(w, inc)    = -0.996\n",
      "    C(bigw, P)   = -0.996\n",
      "    C(bigw, inc) = -0.995\n",
      "    C(w, P)      = -0.995\n",
      "    C(P, T)      = -0.995\n",
      "    C(inc, e)    = -0.994\n",
      "    C(inc, P)    = 0.993\n",
      "None\n",
      "----------\n",
      "chi2 armada = 35.39630237589459\n",
      "----------\n",
      "chi2 wds = -0.0\n",
      "----------\n"
     ]
    },
    {
     "data": {
      "image/png": "[encoded data removed]",
      "text/plain": [
       "<Figure size 432x288 with 1 Axes>"
      ]
     },
     "metadata": {
      "needs_background": "light"
     },
     "output_type": "display_data"
    }
   ],
   "source": [
    "###########################################\n",
    "## Do a least-squares fit -- VISUAL ONLY\n",
    "###########################################\n",
    "params = Parameters()\n",
    "params.add('w',   value= omega, min=0, max=360)\n",
    "params.add('bigw', value= bigomega, min=0, max=360)\n",
    "params.add('inc', value= inc, min=0, max=180)\n",
    "params.add('e', value= e, min=0, max=0.99)\n",
    "params.add('a', value= a, min=0)\n",
    "params.add('P', value= P, min=0)\n",
    "params.add('T', value= T, min=0)\n",
    "if len(vlti_idx)>0:\n",
    "    params.add('mirc_scale', value=1)\n",
    "else:\n",
    "    params.add('mirc_scale',value=1,vary=False)\n",
    "\n",
    "result = ls_fit(params,xpos_all,ypos_all,t_all,error_maj_all,error_min_all,error_pa_all)"
   ]
  },
  {
   "cell_type": "code",
   "execution_count": 18,
   "metadata": {},
   "outputs": [],
   "source": [
    "## scale errors to fit again\n",
    "chara_scale = 1/np.sqrt(3.73)\n",
    "vlti_scale = 1\n",
    "wds_scale = 1/np.sqrt(1)\n",
    "\n",
    "if len(vlti_idx)>0:\n",
    "    error_maj[vlti_idx]/=vlti_scale\n",
    "    error_min[vlti_idx]/=vlti_scale\n",
    "    error_maj_all[vlti_idx]/=vlti_scale\n",
    "    error_min_all[vlti_idx]/=vlti_scale\n",
    "    \n",
    "    error_maj[vlti_mask]/=chara_scale\n",
    "    error_min[vlti_mask]/=chara_scale\n",
    "    error_maj_all[vlti_mask_all]/=chara_scale\n",
    "    error_min_all[vlti_mask_all]/=chara_scale\n",
    "    \n",
    "    error_maj_wds/=wds_scale\n",
    "    error_min_wds/=wds_scale\n",
    "    error_maj_all[len(xpos):]/=wds_scale\n",
    "    error_min_all[len(xpos):]/=wds_scale\n",
    "    \n",
    "else:\n",
    "    error_maj/=chara_scale\n",
    "    error_min/=chara_scale\n",
    "    error_maj_all[:len(error_maj)]/=chara_scale\n",
    "    error_min_all[:len(error_maj)]/=chara_scale\n",
    "    \n",
    "    error_maj_wds/=wds_scale\n",
    "    error_min_wds/=wds_scale\n",
    "    error_maj_all[len(xpos):]/=wds_scale\n",
    "    error_min_all[len(xpos):]/=wds_scale"
   ]
  },
  {
   "cell_type": "code",
   "execution_count": 19,
   "metadata": {},
   "outputs": [
    {
     "data": {
      "text/plain": [
       "1.9070298896451519"
      ]
     },
     "execution_count": 19,
     "metadata": {},
     "output_type": "execute_result"
    }
   ],
   "source": [
    "1/(0.1*1/np.sqrt(0.03636763))"
   ]
  },
  {
   "cell_type": "code",
   "execution_count": 20,
   "metadata": {},
   "outputs": [
    {
     "name": "stdout",
     "output_type": "stream",
     "text": [
      "----------\n",
      "chi2 armada = 9.489625301848418\n",
      "----------\n"
     ]
    },
    {
     "data": {
      "image/png": "[encoded data removed]",
      "text/plain": [
       "<Figure size 432x288 with 1 Axes>"
      ]
     },
     "metadata": {
      "needs_background": "light"
     },
     "output_type": "display_data"
    },
    {
     "data": {
      "image/png": "[encoded data removed]",
      "text/plain": [
       "<Figure size 432x288 with 1 Axes>"
      ]
     },
     "metadata": {
      "needs_background": "light"
     },
     "output_type": "display_data"
    },
    {
     "name": "stdout",
     "output_type": "stream",
     "text": [
      "----------\n",
      "Mean residual = 15.34 micro-as\n",
      "----------\n"
     ]
    }
   ],
   "source": [
    "##########################################\n",
    "## Save Plots\n",
    "##########################################\n",
    "if len(vlti_idx)>0:\n",
    "    resids_armada = astrometry_model_vlti(result.params,xpos[vlti_mask],ypos[vlti_mask],t[vlti_mask],error_maj[vlti_mask],\n",
    "                                error_min[vlti_mask],error_pa[vlti_mask],\n",
    "                                xpos[vlti_idx],ypos[vlti_idx],t[vlti_idx],\n",
    "                                error_maj[vlti_idx],error_min[vlti_idx],error_pa[vlti_idx])\n",
    "else:\n",
    "    resids_armada = astrometry_model(result.params,xpos,ypos,t,error_maj,\n",
    "                                error_min,error_pa)\n",
    "ndata_armada = 2*sum(~np.isnan(xpos))\n",
    "chi2_armada = np.nansum(resids_armada**2)/(ndata_armada-7)\n",
    "print('-'*10)\n",
    "print('chi2 armada = %s'%chi2_armada)\n",
    "print('-'*10)\n",
    "\n",
    "if corrected == 'y':\n",
    "    directory='%s/HD%s_bootstrap_triple/'%(path,target_hd)\n",
    "else:\n",
    "    directory='%s/HD%s_chi2err_triple/'%(path,target_hd)\n",
    "if not os.path.exists(directory):\n",
    "    os.makedirs(directory)\n",
    "\n",
    "## plot fit\n",
    "scale=1\n",
    "if chi2_armada<1.0 and chi2_armada>0:\n",
    "    scale=1/np.sqrt(chi2_armada)\n",
    "a_start = result.params['a']\n",
    "P_start = result.params['P']\n",
    "e_start = result.params['e']\n",
    "inc_start = result.params['inc']\n",
    "w_start = result.params['w']\n",
    "bigw_start = result.params['bigw']\n",
    "T_start = result.params['T']\n",
    "mirc_scale_start = result.params['mirc_scale']\n",
    "ra,dec,rapoints,decpoints = orbit_model(a_start,e_start,inc_start,\n",
    "                                        w_start,bigw_start,P_start,\n",
    "                                        T_start,t_all)\n",
    "fig,ax=plt.subplots()\n",
    "ax.plot(xpos_all[len(xpos):], ypos_all[len(xpos):], 'o', label='WDS')\n",
    "if len(vlti_idx)>0:\n",
    "    ax.plot(xpos[vlti_idx]*mirc_scale_start,ypos[vlti_idx]*mirc_scale_start,'o', label='ARMADA-VLTI')\n",
    "    ax.plot(xpos[vlti_mask],ypos[vlti_mask],'o', label='ARMADA-CHARA')\n",
    "else:\n",
    "    ax.plot(xpos,ypos,'+', label='ARMADA',color='black',markersize=6)\n",
    "ax.plot(0,0,'*')\n",
    "ax.plot(ra, dec, '--',color='g')\n",
    "\n",
    "#need to measure error ellipse angle east of north\n",
    "for ras, decs, w, h, angle,d in zip(xpos,ypos,error_maj/scale,error_min/scale,error_deg,t):\n",
    "    ellipse = Ellipse(xy=(ras, decs), width=2*w, height=2*h, \n",
    "                      angle=90-angle, facecolor='none', edgecolor='black')\n",
    "    #ax.annotate(d,xy=(ras,decs))\n",
    "    ax.add_patch(ellipse)\n",
    "\n",
    "#plot lines from data to best fit orbit\n",
    "i=0\n",
    "while i<len(decpoints):\n",
    "    x=[xpos_all[i],rapoints[i]]\n",
    "    y=[ypos_all[i],decpoints[i]]\n",
    "    ax.plot(x,y,color=\"black\")\n",
    "    i+=1\n",
    "ax.set_xlabel('milli-arcsec')\n",
    "ax.set_ylabel('milli-arcsec')\n",
    "ax.invert_xaxis()\n",
    "ax.axis('equal')\n",
    "ax.set_title('HD%s Outer Orbit'%target_hd)\n",
    "#plt.legend()\n",
    "plt.savefig('%s/HD%s_%s_outer_binary.pdf'%(directory,target_hd,note))\n",
    "plt.show()\n",
    "plt.close()\n",
    "\n",
    "## plot resids for ARMADA\n",
    "fig,ax=plt.subplots()\n",
    "if len(vlti_idx)>0:\n",
    "    xresid_vlti = xpos[vlti_idx]*mirc_scale_start - rapoints[:len(xpos)][vlti_idx]\n",
    "    yresid_vlti = ypos[vlti_idx]*mirc_scale_start - decpoints[:len(ypos)][vlti_idx]\n",
    "    xresid_chara = xpos[vlti_mask] - rapoints[:len(xpos)][vlti_mask]\n",
    "    yresid_chara = ypos[vlti_mask] - decpoints[:len(ypos)][vlti_mask]\n",
    "    xresid = np.concatenate([xresid_chara,xresid_vlti])\n",
    "    yresid = np.concatenate([yresid_chara,yresid_vlti])\n",
    "else:\n",
    "    xresid = xpos - rapoints[:len(xpos)]\n",
    "    yresid = ypos - decpoints[:len(ypos)]\n",
    "\n",
    "#need to measure error ellipse angle east of north\n",
    "for ras, decs, w, h, angle,d in zip(xresid,yresid,error_maj/scale,error_min/scale,error_deg,t):\n",
    "    ellipse = Ellipse(xy=(ras, decs), width=2*w, height=2*h, \n",
    "                      angle=90-angle, facecolor='none', edgecolor='black')\n",
    "    ax.annotate(d,xy=(ras,decs))\n",
    "    ax.add_patch(ellipse)\n",
    "\n",
    "if len(vlti_idx)>0:\n",
    "    ax.plot(xresid[vlti_idx],yresid[vlti_idx],'o', label='ARMADA-VLTI')\n",
    "    ax.plot(xresid[vlti_mask],yresid[vlti_mask],'o', label='ARMADA-CHARA')\n",
    "else:\n",
    "    ax.plot(xresid,yresid,'o', label='ARMADA')\n",
    "ax.plot(0,0,'*')\n",
    "ax.set_xlabel('milli-arcsec')\n",
    "ax.set_ylabel('milli-arcsec')\n",
    "ax.invert_xaxis()\n",
    "ax.axis('equal')\n",
    "ax.set_title('HD%s Resids'%target_hd)\n",
    "plt.legend()\n",
    "plt.savefig('%s/HD%s_%s_resid_binary.pdf'%(directory,target_hd,note))\n",
    "plt.show()\n",
    "plt.close()\n",
    "\n",
    "## residuals\n",
    "resids = np.sqrt(xresid**2 + yresid**2)\n",
    "resids_median = np.around(np.median(resids)*1000,2)\n",
    "print('-'*10)\n",
    "print('Mean residual = %s micro-as'%resids_median)\n",
    "print('-'*10)\n",
    "\n",
    "## Save txt file with best orbit\n",
    "f = open(\"%s/%s_%s_orbit_binary.txt\"%(directory,target_hd,note),\"w+\")\n",
    "f.write(\"# P(d) a(mas) e i(deg) w(deg) W(deg) T(mjd) mirc_scale mean_resid(mu-as)\\r\\n\")\n",
    "f.write(\"%s %s %s %s %s %s %s %s %s\"%(P_start.value,a_start.value,e_start.value,\n",
    "                                   inc_start.value*180/np.pi,w_start.value*180/np.pi,\n",
    "                                   bigw_start.value*180/np.pi,T_start.value,\n",
    "                                  mirc_scale_start.value,resids_median))\n",
    "f.close()"
   ]
  },
  {
   "cell_type": "markdown",
   "metadata": {},
   "source": [
    "## Include RV"
   ]
  },
  {
   "cell_type": "code",
   "execution_count": null,
   "metadata": {},
   "outputs": [],
   "source": []
  },
  {
   "cell_type": "code",
   "execution_count": 33,
   "metadata": {},
   "outputs": [
    {
     "name": "stderr",
     "output_type": "stream",
     "text": [
      "100%|█████████████████████████████████████████████████████████████| 200/200 [07:40<00:00,  2.30s/it]"
     ]
    },
    {
     "name": "stdout",
     "output_type": "stream",
     "text": [
      "P, a, e, inc, w, bigw, T, K, gamma, mirc_scale: \n",
      "3.4023287671232874 2.2267890864213573 0.3464646091046305 120 176.65687501024343 112.91271247024115 59795.34680306501 -8.973736267608157 30.40877492285174 1\n"
     ]
    },
    {
     "name": "stderr",
     "output_type": "stream",
     "text": [
      "\n"
     ]
    }
   ],
   "source": [
    "## randomize orbital elements:\n",
    "guess_params = 'y'\n",
    "if guess_params=='y':\n",
    "\n",
    "    astart = 2\n",
    "    aend = 5\n",
    "    Pstart = 3*365\n",
    "    Pend = 4*365\n",
    "\n",
    "    w_results = []\n",
    "    bigw_results = []\n",
    "    inc_results = []\n",
    "    e_results = []\n",
    "    a_results = []\n",
    "    P_results = []\n",
    "    T_results = []\n",
    "    mirc_scale_results = []\n",
    "    chi2_results = []\n",
    "    K_results = []\n",
    "    gamma_results = []\n",
    "\n",
    "    for s in tqdm(np.arange(200)):\n",
    "        x1 = random.uniform(0,360)\n",
    "        x2 = random.uniform(0,360)\n",
    "        #x3 = random.uniform(0,180)\n",
    "        x3 = 120\n",
    "        x4 = random.uniform(0,0.9)\n",
    "        x5 = random.uniform(astart,aend)\n",
    "        x6 = random.uniform(Pstart,Pend)\n",
    "        #x7 = random.uniform(30000,80000)\n",
    "        x7 = random.uniform(58500,60000)\n",
    "        \n",
    "        x8 = random.uniform(-30,30)\n",
    "        x9 = random.uniform(-30,30)\n",
    "\n",
    "        params = Parameters()\n",
    "        params.add('w',   value= x1, min=0, max=360)\n",
    "        params.add('bigw', value= x2, min=0, max=360)\n",
    "        params.add('inc', value= x3, vary=False)#min=0, max=180)\n",
    "        params.add('e', value= x4, min=0, max=0.99)\n",
    "        params.add('a', value= x5, min=0)\n",
    "        params.add('P', value= x6, min=0)\n",
    "        params.add('T', value= x7, min=0)\n",
    "        params.add('K', value= x8)\n",
    "        params.add('gamma', value= x9)\n",
    "        if len(vlti_idx)>0:\n",
    "            params.add('mirc_scale', value=1)\n",
    "        else:\n",
    "            params.add('mirc_scale',value=1,vary=False)\n",
    "\n",
    "        #do fit, minimizer uses LM for least square fitting of model to data\n",
    "        minner = Minimizer(binary_model_combined, params, fcn_args=(xpos_all,ypos_all,t_all,\n",
    "                                                    error_maj_all,error_min_all,\n",
    "                                                    error_pa_all,rv,t_rv,err_rv),\n",
    "                    nan_policy='omit')\n",
    "        result = minner.minimize()\n",
    "\n",
    "        w_results.append(result.params['w'].value)\n",
    "        bigw_results.append(result.params['bigw'].value)\n",
    "        inc_results.append(result.params['inc'].value)\n",
    "        e_results.append(result.params['e'].value)\n",
    "        a_results.append(result.params['a'].value)\n",
    "        P_results.append(result.params['P'].value)\n",
    "        T_results.append(result.params['T'].value)\n",
    "        mirc_scale_results.append(result.params['mirc_scale'].value)\n",
    "        chi2_results.append(result.redchi)\n",
    "        gamma_results.append(result.params['gamma'].value)\n",
    "        K_results.append(result.params['K'].value)\n",
    "\n",
    "    w_results = np.array(w_results)\n",
    "    bigw_results = np.array(bigw_results)\n",
    "    inc_results = np.array(inc_results)\n",
    "    e_results = np.array(e_results)\n",
    "    a_results = np.array(a_results)\n",
    "    P_results = np.array(P_results)\n",
    "    T_results = np.array(T_results)\n",
    "    mirc_scale_results = np.array(mirc_scale_results)\n",
    "    chi2_results = np.array(chi2_results)\n",
    "    gamma_results = np.array(gamma_results)\n",
    "    K_results = np.array(K_results)\n",
    "\n",
    "    idx = np.argmin(chi2_results)\n",
    "    w_start = w_results[idx]\n",
    "    bigw_start = bigw_results[idx]\n",
    "    inc_start = inc_results[idx]\n",
    "    e_start = e_results[idx]\n",
    "    a_start = a_results[idx]\n",
    "    P_start = P_results[idx]\n",
    "    T_start = T_results[idx]\n",
    "    gamma_start = gamma_results[idx]\n",
    "    K_start = K_results[idx]\n",
    "    mirc_scale_start = mirc_scale_results[idx]\n",
    "\n",
    "    print('P, a, e, inc, w, bigw, T, K, gamma, mirc_scale: ')\n",
    "    print(P/365, a_start, e_start, inc_start, w_start, bigw_start, T_start, K_start, gamma_start, mirc_scale_start)"
   ]
  },
  {
   "cell_type": "code",
   "execution_count": 29,
   "metadata": {},
   "outputs": [],
   "source": [
    "###########################################\n",
    "## Do a least-squares fit -- VISUAL ONLY\n",
    "###########################################\n",
    "params = Parameters()\n",
    "\n",
    "params.add('w',   value= w_start, min=0, max=360)\n",
    "params.add('bigw', value= bigw_start, min=0, max=360)\n",
    "params.add('inc', value= inc_start, vary=False)#min=0, max=180)\n",
    "params.add('e', value= e_start, min=0, max=0.99)\n",
    "params.add('a', value= a_start, min=0)\n",
    "params.add('P', value= P_start, min=0)\n",
    "params.add('T', value= T_start, min=0)\n",
    "\n",
    "#params.add('w',   value= 97, min=0, max=360)\n",
    "#params.add('bigw', value= 311, min=0, max=360)\n",
    "#params.add('inc', value= 139, min=0, max=180)\n",
    "#params.add('e', value= 0.3, min=0, max=0.99)\n",
    "#params.add('a', value= 1.8, min=0)\n",
    "#params.add('P', value= 3.4*365, min=0)\n",
    "#params.add('T', value= 58736.04, min=0)\n",
    "\n",
    "if len(vlti_idx)>0:\n",
    "    params.add('mirc_scale', value=1)\n",
    "else:\n",
    "    params.add('mirc_scale',value=1,vary=False)\n",
    "\n",
    "params.add('K',value=K_start)\n",
    "params.add('gamma',value=gamma_start)\n"
   ]
  },
  {
   "cell_type": "code",
   "execution_count": null,
   "metadata": {},
   "outputs": [],
   "source": []
  },
  {
   "cell_type": "code",
   "execution_count": 30,
   "metadata": {},
   "outputs": [
    {
     "name": "stdout",
     "output_type": "stream",
     "text": [
      "[[Fit Statistics]]\n",
      "    # fitting method   = leastsq\n",
      "    # function evals   = 10\n",
      "    # data points      = 153\n",
      "    # variables        = 8\n",
      "    chi-square         = 438.570527\n",
      "    reduced chi-square = 3.02462432\n",
      "    Akaike info crit   = 177.121655\n",
      "    Bayesian info crit = 201.365159\n",
      "[[Variables]]\n",
      "    w:           176.656139 +/- 2.51837112 (1.43%) (init = 176.6562)\n",
      "    bigw:        112.911395 +/- 2.63467038 (2.33%) (init = 112.9114)\n",
      "    inc:         120 (fixed)\n",
      "    e:           0.34647457 +/- 0.01760457 (5.08%) (init = 0.346477)\n",
      "    a:           2.22680374 +/- 0.03409997 (1.53%) (init = 2.22681)\n",
      "    P:           1230.62874 +/- 4.70068081 (0.38%) (init = 1230.628)\n",
      "    T:           58564.7217 +/- 7.56515531 (0.01%) (init = 58564.72)\n",
      "    mirc_scale:  1 (fixed)\n",
      "    K:          -8.97304773 +/- 1.86616593 (20.80%) (init = -8.972927)\n",
      "    gamma:       30.4086623 +/- 1.16638133 (3.84%) (init = 30.40864)\n",
      "[[Correlations]] (unreported correlations are < 0.100)\n",
      "    C(bigw, e)  = -0.758\n",
      "    C(e, a)     = 0.757\n",
      "    C(a, T)     = 0.741\n",
      "    C(e, T)     = 0.662\n",
      "    C(w, P)     = -0.609\n",
      "    C(w, bigw)  = 0.605\n",
      "    C(w, e)     = -0.596\n",
      "    C(bigw, P)  = -0.541\n",
      "    C(bigw, T)  = -0.537\n",
      "    C(a, P)     = -0.424\n",
      "    C(bigw, a)  = -0.346\n",
      "    C(P, T)     = -0.333\n",
      "    C(w, T)     = 0.157\n",
      "    C(K, gamma) = -0.156\n",
      "    C(w, a)     = -0.101\n"
     ]
    }
   ],
   "source": [
    "minner = Minimizer(binary_model_combined, params, fcn_args=(xpos_all,ypos_all,t_all,\n",
    "                                                    error_maj_all,error_min_all,\n",
    "                                                    error_pa_all,rv,t_rv,err_rv),\n",
    "                    nan_policy='omit')\n",
    "result = minner.minimize()\n",
    "report_fit(result)\n",
    "    \n",
    "P_best = result.params['P'].value\n",
    "a_best = result.params['a'].value\n",
    "e_best = result.params['e'].value\n",
    "w_best = result.params['w'].value\n",
    "bigw_best = result.params['bigw'].value\n",
    "inc_best = result.params['inc'].value\n",
    "T_best = result.params['T'].value\n",
    "K_best = result.params['K'].value\n",
    "gamma_best = result.params['gamma'].value\n",
    "mirc_scale_best = result.params['mirc_scale'].value"
   ]
  },
  {
   "cell_type": "code",
   "execution_count": null,
   "metadata": {},
   "outputs": [],
   "source": []
  },
  {
   "cell_type": "code",
   "execution_count": 31,
   "metadata": {},
   "outputs": [
    {
     "name": "stdout",
     "output_type": "stream",
     "text": [
      "----------\n",
      "chi2 armada = 10.262264481471613\n",
      "----------\n"
     ]
    },
    {
     "data": {
      "image/png": "[encoded data removed]",
      "text/plain": [
       "<Figure size 432x288 with 1 Axes>"
      ]
     },
     "metadata": {
      "needs_background": "light"
     },
     "output_type": "display_data"
    },
    {
     "data": {
      "image/png": "[encoded data removed]",
      "text/plain": [
       "<Figure size 432x288 with 1 Axes>"
      ]
     },
     "metadata": {
      "needs_background": "light"
     },
     "output_type": "display_data"
    },
    {
     "name": "stdout",
     "output_type": "stream",
     "text": [
      "----------\n",
      "Mean residual = 23.02 micro-as\n",
      "----------\n"
     ]
    }
   ],
   "source": [
    "##########################################\n",
    "## Save Plots\n",
    "##########################################\n",
    "if len(vlti_idx)>0:\n",
    "    resids_armada = astrometry_model_vlti(result.params,xpos[vlti_mask],ypos[vlti_mask],t[vlti_mask],error_maj[vlti_mask],\n",
    "                                error_min[vlti_mask],error_pa[vlti_mask],\n",
    "                                xpos[vlti_idx],ypos[vlti_idx],t[vlti_idx],\n",
    "                                error_maj[vlti_idx],error_min[vlti_idx],error_pa[vlti_idx])\n",
    "else:\n",
    "    resids_armada = astrometry_model(result.params,xpos,ypos,t,error_maj,\n",
    "                                error_min,error_pa)\n",
    "ndata_armada = 2*sum(~np.isnan(xpos))\n",
    "chi2_armada = np.nansum(resids_armada**2)/(ndata_armada-7)\n",
    "print('-'*10)\n",
    "print('chi2 armada = %s'%chi2_armada)\n",
    "print('-'*10)\n",
    "\n",
    "## plot fit\n",
    "scale=1\n",
    "if chi2_armada<1.0 and chi2_armada>0:\n",
    "    scale=1/np.sqrt(chi2_armada)\n",
    "ra,dec,rapoints,decpoints = orbit_model(a_best,e_best,inc_best,\n",
    "                                        w_best,bigw_best,P_best,\n",
    "                                        T_best,t_all)\n",
    "fig,ax=plt.subplots()\n",
    "#ax.plot(xpos_all[len(xpos):], ypos_all[len(xpos):], 'o', label='WDS')\n",
    "if len(vlti_idx)>0:\n",
    "    ax.plot(xpos[vlti_idx]*mirc_scale_best,ypos[vlti_idx]*mirc_scale_best,'o', label='ARMADA-VLTI')\n",
    "    ax.plot(xpos[vlti_mask],ypos[vlti_mask],'o', label='ARMADA-CHARA')\n",
    "else:\n",
    "    ax.plot(xpos,ypos,'+', label='MIRCX',color='black')\n",
    "    #ax.plot(xpos[5],ypos[5],'.', label='MYSTIC',color='red')\n",
    "    #ax.plot(xpos[-1],ypos[-1],'o', label='GRAVITY',color='blue')\n",
    "ax.plot(0,0,'*')\n",
    "ax.plot(ra, dec, '--',color='g')\n",
    "\n",
    "#need to measure error ellipse angle east of north\n",
    "for ras, decs, w, h, angle,d in zip(xpos,ypos,error_maj/scale,error_min/scale,error_deg,t):\n",
    "    ellipse = Ellipse(xy=(ras, decs), width=2*w, height=2*h, \n",
    "                      angle=90-angle, facecolor='none', edgecolor='black')\n",
    "    #ax.annotate(d,xy=(ras,decs))\n",
    "    ax.add_patch(ellipse)\n",
    "\n",
    "#plot lines from data to best fit orbit\n",
    "i=0\n",
    "while i<len(decpoints):\n",
    "    x=[xpos_all[i],rapoints[i]]\n",
    "    y=[ypos_all[i],decpoints[i]]\n",
    "    ax.plot(x,y,color=\"black\")\n",
    "    i+=1\n",
    "ax.set_xlabel('$\\Delta$ RA (mas)')\n",
    "ax.set_ylabel('$\\Delta$ DEC (mas)')\n",
    "ax.invert_xaxis()\n",
    "ax.axis('equal')\n",
    "ax.set_title('HD%s Binary Orbit'%target_hd)\n",
    "plt.legend()\n",
    "plt.savefig('%s/HD%s_%s_outer_binary.pdf'%(directory,target_hd,note))\n",
    "plt.show()\n",
    "plt.close()\n",
    "\n",
    "## plot resids for ARMADA\n",
    "fig,ax=plt.subplots()\n",
    "if len(vlti_idx)>0:\n",
    "    xresid_vlti = xpos[vlti_idx]*mirc_scale_best - rapoints[:len(xpos)][vlti_idx]\n",
    "    yresid_vlti = ypos[vlti_idx]*mirc_scale_best - decpoints[:len(ypos)][vlti_idx]\n",
    "    xresid_chara = xpos[vlti_mask] - rapoints[:len(xpos)][vlti_mask]\n",
    "    yresid_chara = ypos[vlti_mask] - decpoints[:len(ypos)][vlti_mask]\n",
    "    xresid = np.concatenate([xresid_chara,xresid_vlti])\n",
    "    yresid = np.concatenate([yresid_chara,yresid_vlti])\n",
    "else:\n",
    "    xresid = xpos - rapoints[:len(xpos)]\n",
    "    yresid = ypos - decpoints[:len(ypos)]\n",
    "\n",
    "#need to measure error ellipse angle east of north\n",
    "for ras, decs, w, h, angle,d in zip(xresid,yresid,error_maj/scale,error_min/scale,error_deg,t):\n",
    "    ellipse = Ellipse(xy=(ras, decs), width=2*w, height=2*h, \n",
    "                      angle=90-angle, facecolor='none', edgecolor='black')\n",
    "    ax.annotate(d,xy=(ras,decs))\n",
    "    ax.add_patch(ellipse)\n",
    "\n",
    "if len(vlti_idx)>0:\n",
    "    ax.plot(xresid[vlti_idx],yresid[vlti_idx],'o', label='ARMADA-VLTI')\n",
    "    ax.plot(xresid[vlti_mask],yresid[vlti_mask],'o', label='ARMADA-CHARA')\n",
    "else:\n",
    "    ax.plot(xresid,yresid,'o', label='ARMADA')\n",
    "ax.plot(0,0,'*')\n",
    "ax.set_xlabel('milli-arcsec')\n",
    "ax.set_ylabel('milli-arcsec')\n",
    "ax.invert_xaxis()\n",
    "ax.axis('equal')\n",
    "ax.set_title('HD%s Resids'%target_hd)\n",
    "plt.legend()\n",
    "plt.savefig('%s/HD%s_%s_resid_binary.pdf'%(directory,target_hd,note))\n",
    "plt.show()\n",
    "plt.close()\n",
    "\n",
    "## residuals\n",
    "resids = np.sqrt(xresid**2 + yresid**2)\n",
    "resids_median = np.around(np.median(resids)*1000,2)\n",
    "print('-'*10)\n",
    "print('Mean residual = %s micro-as'%resids_median)\n",
    "print('-'*10)\n",
    "\n",
    "## Save txt file with best orbit\n",
    "f = open(\"%s/%s_%s_orbit_binary.txt\"%(directory,target_hd,note),\"w+\")\n",
    "f.write(\"# P(d) a(mas) e i(deg) w(deg) W(deg) T(mjd) mirc_scale mean_resid(mu-as)\\r\\n\")\n",
    "f.write(\"%s %s %s %s %s %s %s %s %s\"%(P_best,a_best,e_best,\n",
    "                                   inc_best*180/np.pi,w_best*180/np.pi,\n",
    "                                   bigw_best*180/np.pi,T_best,\n",
    "                                  mirc_scale_best,resids_median))\n",
    "f.close()"
   ]
  },
  {
   "cell_type": "code",
   "execution_count": 32,
   "metadata": {},
   "outputs": [
    {
     "data": {
      "image/png": "[encoded data removed]",
      "text/plain": [
       "<Figure size 432x288 with 1 Axes>"
      ]
     },
     "metadata": {
      "needs_background": "light"
     },
     "output_type": "display_data"
    },
    {
     "data": {
      "image/png": "[encoded data removed]",
      "text/plain": [
       "<Figure size 432x288 with 1 Axes>"
      ]
     },
     "metadata": {
      "needs_background": "light"
     },
     "output_type": "display_data"
    },
    {
     "name": "stdout",
     "output_type": "stream",
     "text": [
      "12.653365268702704\n"
     ]
    }
   ],
   "source": [
    "#Plot RV results:\n",
    "w_rv = w_best*np.pi/180#+np.pi\n",
    "foldtime= foldAt(t_rv,P_best,T0=T_best)\n",
    "tt=np.linspace(T_best,T_best+P_best,100)\n",
    "MM=[]\n",
    "for i in tt:\n",
    "    mm_anom=2*np.pi/P_best*(i-T_best)\n",
    "    MM.append(mm_anom)\n",
    "MM=np.asarray(MM)\n",
    "EE=[]\n",
    "for j in MM:\n",
    "    #ee_anom=keplerE(j,a1[1])\n",
    "    ee_anom=ks.getE(j,e_best)\n",
    "    EE.append(ee_anom)\n",
    "EE=np.asarray(EE)\n",
    "MM2=[]\n",
    "for i in t_rv:\n",
    "    mm_anom=2*np.pi/P_best*(i-T_best)\n",
    "    MM2.append(mm_anom)\n",
    "MM2=np.asarray(MM2)\n",
    "EE2=[]\n",
    "\n",
    "for j in MM2:\n",
    "    #ee_anom=keplerE(j,a1[1])\n",
    "    ee_anom=ks.getE(j,e_best)\n",
    "    EE2.append(ee_anom)\n",
    "EE2=np.asarray(EE2)\n",
    "\n",
    "f=2*np.arctan(np.sqrt((1+e_best)/(1-e_best))*np.tan(EE/2))\n",
    "y1=-K_best*(np.cos(w_rv+f)+e_best*np.cos(w_rv))+gamma_best\n",
    "tt_fold=foldAt(tt,P_best,T0=T_best)\n",
    "\n",
    "fpoints=2*np.arctan(np.sqrt((1+e_best)/(1-e_best))*np.tan(EE2/2))\n",
    "y1points=-K_best*(np.cos(w_rv+fpoints)+e_best*np.cos(w_rv))+gamma_best\n",
    "\n",
    "plt.errorbar(foldtime,rv,yerr=err_rv,fmt='o')\n",
    "plt.plot(tt_fold,y1,'.')\n",
    "plt.ylabel('RV(km/s)')\n",
    "plt.xlabel('Phase')\n",
    "plt.title('RV Curve')\n",
    "plt.savefig('%s/HD%s_%s_orbit_rv.pdf'%(directory,target_hd,note))\n",
    "plt.show()\n",
    "plt.close()\n",
    "\n",
    "plt.errorbar(foldtime,rv-y1points,yerr=err_rv,fmt='o')\n",
    "plt.plot([0,1],[0,0],'--')\n",
    "plt.ylabel('RV(km/s)')\n",
    "plt.xlabel('Phase')\n",
    "plt.title('RV Curve')\n",
    "plt.savefig('%s/HD%s_%s_orbit_resids_rv.pdf'%(directory,target_hd,note))\n",
    "plt.show()\n",
    "plt.close()\n",
    "\n",
    "print(np.nanstd(rv-y1points))"
   ]
  },
  {
   "cell_type": "code",
   "execution_count": null,
   "metadata": {},
   "outputs": [],
   "source": [
    "resids = rv-y1points\n"
   ]
  },
  {
   "cell_type": "code",
   "execution_count": null,
   "metadata": {},
   "outputs": [],
   "source": [
    "#Plot RV results:\n",
    "w_rv = 0*np.pi/180+np.pi\n",
    "foldtime= foldAt(t_rv,4.6,T0=58576.99)\n",
    "tt=np.linspace(58576.99,58576.99+4.6,100)\n",
    "MM=[]\n",
    "for i in tt:\n",
    "    mm_anom=2*np.pi/4.6*(i-58576.99)\n",
    "    MM.append(mm_anom)\n",
    "MM=np.asarray(MM)\n",
    "EE=[]\n",
    "for j in MM:\n",
    "    #ee_anom=keplerE(j,a1[1])\n",
    "    ee_anom=ks.getE(j,0)\n",
    "    EE.append(ee_anom)\n",
    "EE=np.asarray(EE)\n",
    "MM2=[]\n",
    "for i in t_rv:\n",
    "    mm_anom=2*np.pi/4.6*(i-58576.99)\n",
    "    MM2.append(mm_anom)\n",
    "MM2=np.asarray(MM2)\n",
    "EE2=[]\n",
    "\n",
    "for j in MM2:\n",
    "    #ee_anom=keplerE(j,a1[1])\n",
    "    ee_anom=ks.getE(j,0)\n",
    "    EE2.append(ee_anom)\n",
    "EE2=np.asarray(EE2)\n",
    "\n",
    "f=2*np.arctan(np.sqrt((1+0)/(1-0))*np.tan(EE/2))\n",
    "y1=30*(np.cos(w_rv+f)+0*np.cos(w_rv))+0\n",
    "tt_fold=foldAt(tt,4.6,T0=58576.99)\n",
    "\n",
    "fpoints=2*np.arctan(np.sqrt((1+0)/(1-0))*np.tan(EE2/2))\n",
    "y1points=30*(np.cos(w_rv+fpoints)+0*np.cos(w_rv))+0\n",
    "\n",
    "plt.errorbar(foldtime,resids,yerr=err_rv,fmt='o')\n",
    "plt.plot(tt_fold,y1,'.')\n",
    "plt.ylabel('RV(km/s)')\n",
    "plt.xlabel('Phase')\n",
    "plt.title('RV Curve')\n",
    "#plt.savefig('%s/HD%s_%s_orbit_rv.pdf'%(directory,target_hd,note))\n",
    "plt.show()\n",
    "plt.close()"
   ]
  },
  {
   "cell_type": "code",
   "execution_count": null,
   "metadata": {},
   "outputs": [],
   "source": []
  },
  {
   "cell_type": "code",
   "execution_count": 30,
   "metadata": {},
   "outputs": [
    {
     "name": "stdout",
     "output_type": "stream",
     "text": [
      "Distance from HIP = \n",
      "(2+/-5)e+03\n",
      "Distance from GAIA = \n",
      "(1.32+/-0.06)e+03\n"
     ]
    }
   ],
   "source": [
    "## Mass / Orbit Information\n",
    "\n",
    "a_err = ufloat(result.params['a'].value,result.params['a'].stderr)\n",
    "P_err = ufloat(result.params['P'].value,result.params['P'].stderr)\n",
    "T_err = ufloat(result.params['T'].value,result.params['T'].stderr)\n",
    "e_err = ufloat(result.params['e'].value,result.params['e'].stderr)\n",
    "w_err = ufloat(result.params['w'].value,result.params['w'].stderr)\n",
    "bigw_err = ufloat(result.params['bigw'].value,result.params['bigw'].stderr)\n",
    "inc_err = ufloat(result.params['inc'].value,result.params['inc'].stderr)\n",
    "\n",
    "K_err = ufloat(result.params['K'].value,result.params['K'].stderr)\n",
    "gamma_err = ufloat(result.params['gamma'].value,result.params['gamma'].stderr)\n",
    "\n",
    "## distance from HIP/GAIA\n",
    "## AC Her\n",
    "plx_hip = ufloat(0.00053,0.00140)\n",
    "plx_gaia = ufloat(0.0007603,0.0000363)\n",
    "\n",
    "\n",
    "print('Distance from HIP = ')\n",
    "print(1/plx_hip)\n",
    "print('Distance from GAIA = ')\n",
    "print(1/plx_gaia)\n",
    "\n",
    "d_err = 1/plx_gaia\n",
    "#d_err = d_rv\n"
   ]
  },
  {
   "cell_type": "code",
   "execution_count": 31,
   "metadata": {},
   "outputs": [
    {
     "name": "stdout",
     "output_type": "stream",
     "text": [
      "283868 & 1216.9575332174866 & 1.83268304119072 & 0.28749885097717737 & 139.88305961589958 & 97.95091269872975 & 311.62879650223505 & 59954.028701782954\n",
      "-- & $\\pm$2.411420075117356 & $\\pm$0.02339587625977624 & $\\pm$0.014580154804226827 & $\\pm$2.086827151911458 & $\\pm$8.698981846587008 & $\\pm$3.418389674024455 & $\\pm$10.240921475304443\n",
      "--------------------\n"
     ]
    },
    {
     "ename": "NameError",
     "evalue": "name 'include_rv' is not defined",
     "output_type": "error",
     "traceback": [
      "\u001b[0;31m---------------------------------------------------------------------------\u001b[0m",
      "\u001b[0;31mNameError\u001b[0m                                 Traceback (most recent call last)",
      "Input \u001b[0;32mIn [31]\u001b[0m, in \u001b[0;36m<cell line: 10>\u001b[0;34m()\u001b[0m\n\u001b[1;32m      5\u001b[0m \u001b[38;5;28mprint\u001b[39m(\u001b[38;5;124m'\u001b[39m\u001b[38;5;124m-- & $\u001b[39m\u001b[38;5;124m\\\u001b[39m\u001b[38;5;124mpm$\u001b[39m\u001b[38;5;132;01m%s\u001b[39;00m\u001b[38;5;124m & $\u001b[39m\u001b[38;5;124m\\\u001b[39m\u001b[38;5;124mpm$\u001b[39m\u001b[38;5;132;01m%s\u001b[39;00m\u001b[38;5;124m & $\u001b[39m\u001b[38;5;124m\\\u001b[39m\u001b[38;5;124mpm$\u001b[39m\u001b[38;5;132;01m%s\u001b[39;00m\u001b[38;5;124m & $\u001b[39m\u001b[38;5;124m\\\u001b[39m\u001b[38;5;124mpm$\u001b[39m\u001b[38;5;132;01m%s\u001b[39;00m\u001b[38;5;124m & $\u001b[39m\u001b[38;5;124m\\\u001b[39m\u001b[38;5;124mpm$\u001b[39m\u001b[38;5;132;01m%s\u001b[39;00m\u001b[38;5;124m & $\u001b[39m\u001b[38;5;124m\\\u001b[39m\u001b[38;5;124mpm$\u001b[39m\u001b[38;5;132;01m%s\u001b[39;00m\u001b[38;5;124m & $\u001b[39m\u001b[38;5;124m\\\u001b[39m\u001b[38;5;124mpm$\u001b[39m\u001b[38;5;132;01m%s\u001b[39;00m\u001b[38;5;124m'\u001b[39m\u001b[38;5;241m%\u001b[39m(P_err\u001b[38;5;241m.\u001b[39mstd_dev,a_err\u001b[38;5;241m.\u001b[39mstd_dev,\n\u001b[1;32m      6\u001b[0m                                                                                   e_err\u001b[38;5;241m.\u001b[39mstd_dev,inc_err\u001b[38;5;241m.\u001b[39mstd_dev,w_err\u001b[38;5;241m.\u001b[39mstd_dev,\n\u001b[1;32m      7\u001b[0m                                                                                   bigw_err\u001b[38;5;241m.\u001b[39mstd_dev,T_err\u001b[38;5;241m.\u001b[39mstd_dev,))\n\u001b[1;32m      8\u001b[0m \u001b[38;5;28mprint\u001b[39m(\u001b[38;5;124m'\u001b[39m\u001b[38;5;124m--\u001b[39m\u001b[38;5;124m'\u001b[39m\u001b[38;5;241m*\u001b[39m\u001b[38;5;241m10\u001b[39m)\n\u001b[0;32m---> 10\u001b[0m \u001b[38;5;28;01mif\u001b[39;00m \u001b[43minclude_rv\u001b[49m\u001b[38;5;241m==\u001b[39m\u001b[38;5;124m'\u001b[39m\u001b[38;5;124my\u001b[39m\u001b[38;5;124m'\u001b[39m:\n\u001b[1;32m     11\u001b[0m     \u001b[38;5;28mprint\u001b[39m(\u001b[38;5;124m'\u001b[39m\u001b[38;5;132;01m%s\u001b[39;00m\u001b[38;5;124m & \u001b[39m\u001b[38;5;132;01m%s\u001b[39;00m\u001b[38;5;124m & \u001b[39m\u001b[38;5;132;01m%s\u001b[39;00m\u001b[38;5;124m & \u001b[39m\u001b[38;5;132;01m%s\u001b[39;00m\u001b[38;5;124m & \u001b[39m\u001b[38;5;132;01m%s\u001b[39;00m\u001b[38;5;124m & \u001b[39m\u001b[38;5;132;01m%s\u001b[39;00m\u001b[38;5;124m & \u001b[39m\u001b[38;5;132;01m%s\u001b[39;00m\u001b[38;5;124m & \u001b[39m\u001b[38;5;132;01m%s\u001b[39;00m\u001b[38;5;124m & \u001b[39m\u001b[38;5;132;01m%s\u001b[39;00m\u001b[38;5;124m & \u001b[39m\u001b[38;5;132;01m%s\u001b[39;00m\u001b[38;5;124m'\u001b[39m\u001b[38;5;241m%\u001b[39m(target_hd,P2_err\u001b[38;5;241m.\u001b[39mnominal_value,a2_err\u001b[38;5;241m.\u001b[39mnominal_value,\n\u001b[1;32m     12\u001b[0m                                                              e2_err\u001b[38;5;241m.\u001b[39mnominal_value,inc2_err\u001b[38;5;241m.\u001b[39mnominal_value,\n\u001b[1;32m     13\u001b[0m                                                              w2_err\u001b[38;5;241m.\u001b[39mnominal_value,bigw2_err\u001b[38;5;241m.\u001b[39mnominal_value,\n\u001b[1;32m     14\u001b[0m                                                              T2_err\u001b[38;5;241m.\u001b[39mnominal_value,K_err\u001b[38;5;241m.\u001b[39mnominal_value,\n\u001b[1;32m     15\u001b[0m                                                              gamma_err\u001b[38;5;241m.\u001b[39mnominal_value))\n\u001b[1;32m     16\u001b[0m     \u001b[38;5;28mprint\u001b[39m(\u001b[38;5;124m'\u001b[39m\u001b[38;5;124m-- & $\u001b[39m\u001b[38;5;124m\\\u001b[39m\u001b[38;5;124mpm$\u001b[39m\u001b[38;5;132;01m%s\u001b[39;00m\u001b[38;5;124m & $\u001b[39m\u001b[38;5;124m\\\u001b[39m\u001b[38;5;124mpm$\u001b[39m\u001b[38;5;132;01m%s\u001b[39;00m\u001b[38;5;124m & $\u001b[39m\u001b[38;5;124m\\\u001b[39m\u001b[38;5;124mpm$\u001b[39m\u001b[38;5;132;01m%s\u001b[39;00m\u001b[38;5;124m & $\u001b[39m\u001b[38;5;124m\\\u001b[39m\u001b[38;5;124mpm$\u001b[39m\u001b[38;5;132;01m%s\u001b[39;00m\u001b[38;5;124m & $\u001b[39m\u001b[38;5;124m\\\u001b[39m\u001b[38;5;124mpm$\u001b[39m\u001b[38;5;132;01m%s\u001b[39;00m\u001b[38;5;124m & $\u001b[39m\u001b[38;5;124m\\\u001b[39m\u001b[38;5;124mpm$\u001b[39m\u001b[38;5;132;01m%s\u001b[39;00m\u001b[38;5;124m & $\u001b[39m\u001b[38;5;124m\\\u001b[39m\u001b[38;5;124mpm$\u001b[39m\u001b[38;5;132;01m%s\u001b[39;00m\u001b[38;5;124m & $\u001b[39m\u001b[38;5;124m\\\u001b[39m\u001b[38;5;124mpm$\u001b[39m\u001b[38;5;132;01m%s\u001b[39;00m\u001b[38;5;124m & $\u001b[39m\u001b[38;5;124m\\\u001b[39m\u001b[38;5;124mpm$\u001b[39m\u001b[38;5;132;01m%s\u001b[39;00m\u001b[38;5;124m'\u001b[39m\u001b[38;5;241m%\u001b[39m(P2_err\u001b[38;5;241m.\u001b[39mstd_dev,\n\u001b[1;32m     17\u001b[0m                                                                                                           a2_err\u001b[38;5;241m.\u001b[39mstd_dev,e2_err\u001b[38;5;241m.\u001b[39mstd_dev,\n\u001b[1;32m     18\u001b[0m                                                                                                           inc2_err\u001b[38;5;241m.\u001b[39mstd_dev,w2_err\u001b[38;5;241m.\u001b[39mstd_dev,\n\u001b[1;32m     19\u001b[0m                                                                                                           bigw2_err\u001b[38;5;241m.\u001b[39mstd_dev,T2_err\u001b[38;5;241m.\u001b[39mstd_dev,\n\u001b[1;32m     20\u001b[0m                                                                                                           K_err\u001b[38;5;241m.\u001b[39mstd_dev,gamma_err\u001b[38;5;241m.\u001b[39mstd_dev,))\n",
      "\u001b[0;31mNameError\u001b[0m: name 'include_rv' is not defined"
     ]
    }
   ],
   "source": [
    "print('%s & %s & %s & %s & %s & %s & %s & %s'%(target_hd,P_err.nominal_value,a_err.nominal_value,\n",
    "                                               e_err.nominal_value,inc_err.nominal_value,\n",
    "                                               w_err.nominal_value,bigw_err.nominal_value,\n",
    "                                               T_err.nominal_value))\n",
    "print('-- & $\\pm$%s & $\\pm$%s & $\\pm$%s & $\\pm$%s & $\\pm$%s & $\\pm$%s & $\\pm$%s'%(P_err.std_dev,a_err.std_dev,\n",
    "                                                                                  e_err.std_dev,inc_err.std_dev,w_err.std_dev,\n",
    "                                                                                  bigw_err.std_dev,T_err.std_dev,))\n",
    "print('--'*10)\n",
    "\n",
    "if include_rv=='y':\n",
    "    print('%s & %s & %s & %s & %s & %s & %s & %s & %s & %s'%(target_hd,P2_err.nominal_value,a2_err.nominal_value,\n",
    "                                                             e2_err.nominal_value,inc2_err.nominal_value,\n",
    "                                                             w2_err.nominal_value,bigw2_err.nominal_value,\n",
    "                                                             T2_err.nominal_value,K_err.nominal_value,\n",
    "                                                             gamma_err.nominal_value))\n",
    "    print('-- & $\\pm$%s & $\\pm$%s & $\\pm$%s & $\\pm$%s & $\\pm$%s & $\\pm$%s & $\\pm$%s & $\\pm$%s & $\\pm$%s'%(P2_err.std_dev,\n",
    "                                                                                                          a2_err.std_dev,e2_err.std_dev,\n",
    "                                                                                                          inc2_err.std_dev,w2_err.std_dev,\n",
    "                                                                                                          bigw2_err.std_dev,T2_err.std_dev,\n",
    "                                                                                                          K_err.std_dev,gamma_err.std_dev,))\n",
    "else:\n",
    "    print('%s & %s & %s & %s & %s & %s & %s & %s & -- & --'%(target_hd,P2_err.nominal_value,a2_err.nominal_value,\n",
    "                                                             e2_err.nominal_value,inc2_err.nominal_value,\n",
    "                                                             w2_err.nominal_value,bigw2_err.nominal_value,\n",
    "                                                             T2_err.nominal_value))\n",
    "    print('-- & $\\pm$%s & $\\pm$%s & $\\pm$%s & $\\pm$%s & $\\pm$%s & $\\pm$%s & $\\pm$%s & & '%(P2_err.std_dev,\n",
    "                                                                                                          a2_err.std_dev,e2_err.std_dev,\n",
    "                                                                                                          inc2_err.std_dev,w2_err.std_dev,\n",
    "                                                                                                          bigw2_err.std_dev,T2_err.std_dev))"
   ]
  },
  {
   "cell_type": "code",
   "execution_count": 32,
   "metadata": {},
   "outputs": [
    {
     "name": "stdout",
     "output_type": "stream",
     "text": [
      "----------\n",
      "Masses from distance\n",
      "----------\n",
      "M1+M2 = 1.26+/-0.19 Msun\n"
     ]
    }
   ],
   "source": [
    "d_err = 1/plx_gaia\n",
    "#d_err = d_rv\n",
    "\n",
    "print('-'*10)\n",
    "print('Masses from distance')\n",
    "print('-'*10)\n",
    "\n",
    "sum1 = (a_err*d_err/1000)**3 / (P_err/365.25)**2\n",
    "print('M1+M2 = %s Msun'%sum1)"
   ]
  },
  {
   "cell_type": "code",
   "execution_count": null,
   "metadata": {},
   "outputs": [],
   "source": []
  },
  {
   "cell_type": "raw",
   "metadata": {},
   "source": []
  },
  {
   "cell_type": "code",
   "execution_count": null,
   "metadata": {},
   "outputs": [],
   "source": []
  },
  {
   "cell_type": "code",
   "execution_count": null,
   "metadata": {},
   "outputs": [],
   "source": [
    "semi = a_err/1000*d_err\n",
    "print('semi = %s au'%semi)"
   ]
  },
  {
   "cell_type": "code",
   "execution_count": null,
   "metadata": {},
   "outputs": [],
   "source": []
  },
  {
   "cell_type": "code",
   "execution_count": null,
   "metadata": {},
   "outputs": [],
   "source": []
  }
 ],
 "metadata": {
  "kernelspec": {
   "display_name": "Python 3 (ipykernel)",
   "language": "python",
   "name": "python3"
  },
  "language_info": {
   "codemirror_mode": {
    "name": "ipython",
    "version": 3
   },
   "file_extension": ".py",
   "mimetype": "text/x-python",
   "name": "python",
   "nbconvert_exporter": "python",
   "pygments_lexer": "ipython3",
   "version": "3.9.12"
  }
 },
 "nbformat": 4,
 "nbformat_minor": 4
}
