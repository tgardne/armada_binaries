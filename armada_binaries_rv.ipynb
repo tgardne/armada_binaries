{
 "cells": [
  {
   "cell_type": "markdown",
   "metadata": {},
   "source": [
    "## Notebook to fit triple orbits with astrometry + rv"
   ]
  },
  {
   "cell_type": "code",
   "execution_count": 174,
   "metadata": {},
   "outputs": [],
   "source": [
    "from lmfit import minimize, Minimizer, Parameters, Parameter, report_fit\n",
    "import numpy as np\n",
    "import os\n",
    "import matplotlib.pyplot as plt\n",
    "from matplotlib.patches import Ellipse\n",
    "from tqdm import tqdm\n",
    "import matplotlib.cm as cm\n",
    "from read_data import read_data,read_rv,read_wds,read_orb6\n",
    "from astrometry_model import astrometry_model,binary_model_combined,astrometry_model_vlti,rv_model,rv_model_circular,triple_model,triple_model_circular,triple_model_combined,triple_model_vlti_combined,triple_model_vlti,triple_model_combined_circular,lnlike,lnprior,lnpost,create_init\n",
    "from orbit_plotting import orbit_model,triple_orbit_model\n",
    "from astroquery.simbad import Simbad\n",
    "from astropy.coordinates import SkyCoord\n",
    "import random\n",
    "from PyAstronomy.pyasl import foldAt\n",
    "from PyAstronomy import pyasl\n",
    "from uncertainties import ufloat,umath\n",
    "from uncertainties.umath import *\n",
    "import emcee\n",
    "import corner\n",
    "from mpl_toolkits.axes_grid1.inset_locator import zoomed_inset_axes\n",
    "from mpl_toolkits.axes_grid1.inset_locator import mark_inset\n",
    "ks=pyasl.MarkleyKESolver()\n",
    "\n",
    "%matplotlib inline"
   ]
  },
  {
   "cell_type": "code",
   "execution_count": 175,
   "metadata": {},
   "outputs": [],
   "source": [
    "## setup paths for user\n",
    "path = '/Users/tgardne/ARMADA_orbits'\n",
    "path_etalon = '/Users/tgardne/etalon_epochs/etalon_fits/etalon_factors_fit.txt'\n",
    "path_wds = '/Users/tgardne/ARMADA_orbits'\n",
    "path_orb6 = '/Users/tgardne/catalogs/orb6orbits.sql.txt'"
   ]
  },
  {
   "cell_type": "code",
   "execution_count": 176,
   "metadata": {},
   "outputs": [],
   "source": [
    "## Specify target\n",
    "target_hd = '170756' ## HD number\n",
    "note = 'combined' ## note for saved file\n",
    "corrected = 'n' ## bootstrap errors?"
   ]
  },
  {
   "cell_type": "code",
   "execution_count": 177,
   "metadata": {},
   "outputs": [
    {
     "name": "stdout",
     "output_type": "stream",
     "text": [
      "HIP 90697\n"
     ]
    }
   ],
   "source": [
    "query = Simbad.query_objectids('HD %s'%target_hd)\n",
    "for item in query:\n",
    "    if 'HIP' in item[0]:\n",
    "        target = item[0].split()[1]\n",
    "        print('HIP %s'%target)\n",
    "    if 'WDS' in item[0]:\n",
    "        target_wds = item[0][5:15]\n",
    "        print('WDS %s'%target_wds)"
   ]
  },
  {
   "cell_type": "code",
   "execution_count": 178,
   "metadata": {},
   "outputs": [],
   "source": [
    "#target_wds = '09320-0111'"
   ]
  },
  {
   "cell_type": "code",
   "execution_count": 179,
   "metadata": {},
   "outputs": [
    {
     "name": "stdout",
     "output_type": "stream",
     "text": [
      "reading chi2 errors\n"
     ]
    },
    {
     "name": "stdin",
     "output_type": "stream",
     "text": [
      "MJD? (y,[n]):  n\n"
     ]
    }
   ],
   "source": [
    "###########################################\n",
    "## Read in ARMADA data\n",
    "###########################################\n",
    "if corrected == 'y':\n",
    "    print('reading boostrap errors')\n",
    "    file=open('%s/HD_%s_bootstrap.txt'%(path,target_hd))\n",
    "else:\n",
    "    print('reading chi2 errors')\n",
    "    file=open('%s/HD_%s_chi2err.txt'%(path,target_hd))\n",
    "weight=1\n",
    "\n",
    "t,p,theta,error_maj,error_min,error_pa,error_deg = read_data(file,weight)\n",
    "file.close()\n",
    "\n",
    "file_rv=open('%s/HD_%s_rv.txt'%(path,target_hd))\n",
    "\n",
    "weight_rv = 10 ## km/s error\n",
    "\n",
    "t_rv,rv,err_rv = read_rv(file_rv,weight_rv)\n",
    "t_rv-=2400000\n",
    "file_rv.close()"
   ]
  },
  {
   "cell_type": "code",
   "execution_count": null,
   "metadata": {},
   "outputs": [],
   "source": [
    "## print rv for paper\n",
    "for i,j in zip(t_rv,rv):\n",
    "    print('& %s & %s & -- & -- & -- \\\\\\\\'%(i,j))"
   ]
  },
  {
   "cell_type": "code",
   "execution_count": 68,
   "metadata": {},
   "outputs": [],
   "source": [
    "#t_rv = t_rv-2400000"
   ]
  },
  {
   "cell_type": "code",
   "execution_count": null,
   "metadata": {},
   "outputs": [],
   "source": []
  },
  {
   "cell_type": "code",
   "execution_count": 180,
   "metadata": {},
   "outputs": [
    {
     "name": "stdout",
     "output_type": "stream",
     "text": [
      "Closest factor for 58567.4765 is 45.68537702833419 days away\n",
      "Closest factor for 58568.4888 is 44.673077028332045 days away\n",
      "Closest factor for 58641.3992 is 4.368803160665266 days away\n",
      "Closest factor for 58708.2094 is 5.166458308893198 days away\n",
      "Closest factor for 58709.2368 is 6.193858308892231 days away\n",
      "Closest factor for 59059.2516 is 15.188757008472749 days away\n",
      "Closest factor for 59060.2354 is 15.860067544977937 days away\n",
      "Closest factor for 59061.1899 is 14.905567544978112 days away\n",
      "Closest factor for 59412.2863 is 1.7603956367602223 days away\n",
      "Closest factor for 59738.3842 is 183.78175162280968 days away\n",
      "Closest factor for 59747.2839 is 192.68145162281144 days away\n",
      "Closest factor for 59737.3599 is 182.75745162281237 days away\n",
      "Closest factor for 59738.3826 is 183.78015162280644 days away\n",
      "Closest factor for 59739.3642 is 184.76175162281288 days away\n",
      "Closest factor for 59747.2857 is 192.68325162280962 days away\n",
      "   date      etalon factor\n",
      "58567.4765 1.0008064363133506\n",
      "58568.4888 1.0008064363133506\n",
      "58641.3992 1.0007434047979518\n",
      "58708.2094 1.0007788200839338\n",
      "58709.2368 1.0007788200839338\n",
      "59059.2516 1.0002019414441545\n",
      "59060.2354 1.0001027722543105\n",
      "59061.1899 1.0001027722543105\n",
      "59412.2863 1.0001304544024734\n",
      "59738.3842 1.0001730908284863\n",
      "59747.2839 1.0001730908284863\n",
      "59737.3599 1.0001730908284863\n",
      "59738.3826 1.0001730908284863\n",
      "59739.3642 1.0001730908284863\n",
      "59747.2857 1.0001730908284863\n"
     ]
    }
   ],
   "source": [
    "###########################################\n",
    "## Apply etalon correction\n",
    "###########################################\n",
    "file=open(path_etalon)\n",
    "mjd_etalon=[]\n",
    "f_etalon=[]\n",
    "for line in file.readlines():\n",
    "    if line.startswith('#'):\n",
    "        continue\n",
    "    mjd_etalon.append(float(line.split()[0]))\n",
    "    f_etalon.append(float(line.split()[1]))\n",
    "file.close()\n",
    "mjd_etalon=np.array(mjd_etalon)\n",
    "f_etalon=np.array(f_etalon)\n",
    "\n",
    "etalon_factor=[]\n",
    "for i in t:\n",
    "    idx = np.where(abs(i-mjd_etalon)==min(abs(i-mjd_etalon)))\n",
    "    if min(abs(i-mjd_etalon))>0.5:\n",
    "        print('Closest factor for %s is %s days away'%(i,min(abs(i-mjd_etalon))))\n",
    "    f = f_etalon[idx][0]\n",
    "    etalon_factor.append(f)\n",
    "etalon_factor=np.array(etalon_factor)\n",
    "\n",
    "print('   date      etalon factor')\n",
    "for i,j in zip(t,etalon_factor):\n",
    "    print(i,j)"
   ]
  },
  {
   "cell_type": "code",
   "execution_count": 181,
   "metadata": {},
   "outputs": [
    {
     "name": "stdout",
     "output_type": "stream",
     "text": [
      "No etalon correction applied\n"
     ]
    }
   ],
   "source": [
    "## set etalon factors to 1 for vlti data\n",
    "vlti = 'n'\n",
    "if vlti=='y':\n",
    "    vlti_idx = input('enter indices (e.g. 1 2 3): ').split(' ')\n",
    "    vlti_idx = np.array([int(i) for i in vlti_idx])\n",
    "else:\n",
    "    vlti_idx = []\n",
    "    \n",
    "## Apply etalon\n",
    "etalon = 'n'\n",
    "if etalon=='y':\n",
    "    print('Applying etalon correction')\n",
    "    if len(vlti_idx)>0:\n",
    "        print('Setting VLTI correction factors to 1.0')\n",
    "        etalon_factor[vlti_idx] = 1.0\n",
    "    p = p/etalon_factor\n",
    "else:\n",
    "    print('No etalon correction applied')"
   ]
  },
  {
   "cell_type": "code",
   "execution_count": 182,
   "metadata": {},
   "outputs": [],
   "source": [
    "xpos=p*np.sin(theta)\n",
    "ypos=p*np.cos(theta)\n",
    "\n",
    "vlti_mask = np.ones(len(t),dtype=bool)\n",
    "vlti_mask[vlti_idx] = False"
   ]
  },
  {
   "cell_type": "code",
   "execution_count": 183,
   "metadata": {},
   "outputs": [
    {
     "name": "stdout",
     "output_type": "stream",
     "text": [
      "NO WDS DATA\n"
     ]
    }
   ],
   "source": [
    "###########################################\n",
    "## Read in WDS data - and plot to check\n",
    "###########################################\n",
    "input_wds = 'n'\n",
    "if input_wds == 'y':\n",
    "    file=open(os.path.expanduser(\"%s/HD%s_chi2err/HD_%s_wds.txt\"%(path_wds,target_hd,target_hd)))\n",
    "    weight = 1\n",
    "    t_wds,p_wds,theta_wds,error_maj_wds,error_min_wds,error_pa_wds,error_deg_wds = read_data(file,weight)\n",
    "    print('Number of WDS data points = %s'%len(p_wds))\n",
    "\n",
    "    ## correct WDS for PA\n",
    "    #theta_wds -= (0.00557*np.sin(ra)/np.cos(dec)*((t_wds-51544.5)/365.25))/180*np.pi\n",
    "\n",
    "    xpos_wds=p_wds*np.sin(theta_wds)\n",
    "    ypos_wds=p_wds*np.cos(theta_wds)\n",
    "    idx = np.argmin(t)\n",
    "\n",
    "    plt.plot(xpos_wds,ypos_wds,'o',label='WDS')\n",
    "    plt.plot(xpos_wds[0],ypos_wds[0],'*')\n",
    "    plt.plot(xpos[idx],ypos[idx],'*')\n",
    "    if len(vlti_idx)>0:\n",
    "        plt.plot(xpos[vlti_mask],ypos[vlti_mask],'+',label='ARMADA-CHARA')\n",
    "        plt.plot(xpos[vlti_idx],ypos[vlti_idx],'+',label='ARMADA-VLTI')\n",
    "    else:\n",
    "        plt.plot(xpos,ypos,'+',label='ARMADA')\n",
    "    plt.plot(0,0,'*')\n",
    "    plt.gca().invert_xaxis()\n",
    "    plt.title('All Data')\n",
    "    plt.xlabel('dra (mas)')\n",
    "    plt.ylabel('ddec (mas)')\n",
    "    plt.legend()\n",
    "    plt.show()\n",
    "\n",
    "    flip = input('Flip WDS data? (y/n): ')\n",
    "    if flip=='y':\n",
    "        xpos_wds=-p_wds*np.sin(theta_wds)\n",
    "        ypos_wds=-p_wds*np.cos(theta_wds)\n",
    "        plt.plot(xpos_wds,ypos_wds,'o',label='WDS')\n",
    "        plt.plot(xpos_wds[0],ypos_wds[0],'*')\n",
    "        plt.plot(xpos[idx],ypos[idx],'*')\n",
    "        plt.plot(xpos,ypos,'+',label='ARMADA')\n",
    "        plt.plot(0,0,'*')\n",
    "        plt.gca().invert_xaxis()\n",
    "        plt.title('All Data')\n",
    "        plt.xlabel('dra (mas)')\n",
    "        plt.ylabel('ddec (mas)')\n",
    "        plt.legend()\n",
    "        plt.show()\n",
    "\n",
    "        better = input('Flip data back to original? (y/n): ')\n",
    "        if better=='y':\n",
    "            xpos_wds=p_wds*np.sin(theta_wds)\n",
    "            ypos_wds=p_wds*np.cos(theta_wds)\n",
    "else:\n",
    "    t_wds = np.array([np.nan])\n",
    "    p_wds = np.array([np.nan])\n",
    "    theta_wds = np.array([np.nan])\n",
    "    error_maj_wds = np.array([np.nan])\n",
    "    error_min_wds = np.array([np.nan])\n",
    "    error_pa_wds = np.array([np.nan])\n",
    "    error_deg_wds = np.array([np.nan])\n",
    "    xpos_wds=p_wds*np.sin(theta_wds)\n",
    "    ypos_wds=p_wds*np.cos(theta_wds)\n",
    "    print('NO WDS DATA')"
   ]
  },
  {
   "cell_type": "code",
   "execution_count": null,
   "metadata": {},
   "outputs": [],
   "source": []
  },
  {
   "cell_type": "code",
   "execution_count": 184,
   "metadata": {},
   "outputs": [
    {
     "name": "stdout",
     "output_type": "stream",
     "text": [
      "--------------------------\n",
      "a(mas),P(yr),e,i(deg),omega(deg),bigomega(deg),T(mjd)\n",
      "No elements found in ORB6\n"
     ]
    },
    {
     "name": "stdin",
     "output_type": "stream",
     "text": [
      "a (mas):  2\n",
      "P (year):  3.3\n",
      "ecc :  0.2\n",
      "inc (deg):  135\n",
      "omega (deg):  138\n",
      "bigomega (deg):  347\n",
      "T (mjd):  59044\n"
     ]
    }
   ],
   "source": [
    "###########################################\n",
    "## Get an estimate of the orbital parameters\n",
    "###########################################\n",
    "try:\n",
    "    a,P,e,inc,omega,bigomega,T = read_orb6(target,path_orb6)\n",
    "except:\n",
    "    print('No elements found in ORB6')\n",
    "    \n",
    "self_params = 'y'\n",
    "if self_params=='y':\n",
    "    a = float(input('a (mas): '))\n",
    "    P = float(input('P (year): '))*365.25\n",
    "    e = float(input('ecc : '))\n",
    "    inc = float(input('inc (deg): '))\n",
    "    omega = float(input('omega (deg): '))\n",
    "    bigomega = float(input('bigomega (deg): '))\n",
    "    T = float(input('T (mjd): '))\n",
    "    "
   ]
  },
  {
   "cell_type": "code",
   "execution_count": null,
   "metadata": {},
   "outputs": [],
   "source": []
  },
  {
   "cell_type": "code",
   "execution_count": 185,
   "metadata": {},
   "outputs": [],
   "source": [
    "###########################################\n",
    "## Combined WDS+ARMADA for fitting\n",
    "###########################################\n",
    "xpos_all = np.concatenate([xpos,xpos_wds])\n",
    "ypos_all = np.concatenate([ypos,ypos_wds])\n",
    "t_all = np.concatenate([t,t_wds])\n",
    "error_maj_all = np.concatenate([error_maj,error_maj_wds])\n",
    "error_min_all = np.concatenate([error_min,error_min_wds])\n",
    "error_pa_all = np.concatenate([error_pa,error_pa_wds])\n",
    "error_deg_all = np.concatenate([error_deg,error_deg_wds])\n",
    "\n",
    "vlti_mask_all = np.ones(len(t_all),dtype=bool)\n",
    "vlti_mask_all[vlti_idx] = False"
   ]
  },
  {
   "cell_type": "code",
   "execution_count": 186,
   "metadata": {},
   "outputs": [],
   "source": [
    "##########################################\n",
    "## Function for fitting/plotting data\n",
    "#########################################\n",
    "def ls_fit(params,xp,yp,tp,emaj,emin,epa):\n",
    "    #do fit, minimizer uses LM for least square fitting of model to data\n",
    "    if len(vlti_idx)>0:\n",
    "        minner = Minimizer(astrometry_model_vlti, params, fcn_args=(xp[vlti_mask_all],yp[vlti_mask_all],tp[vlti_mask_all],\n",
    "                                                        emaj[vlti_mask_all],emin[vlti_mask_all],epa[vlti_mask_all],\n",
    "                                                        xp[vlti_idx],yp[vlti_idx],tp[vlti_idx],\n",
    "                                                        emaj[vlti_idx],emin[vlti_idx],epa[vlti_idx]),\n",
    "                                nan_policy='omit')\n",
    "        result = minner.minimize()\n",
    "    else:\n",
    "        minner = Minimizer(astrometry_model, params, fcn_args=(xp,yp,tp,\n",
    "                                                        emaj,emin,epa),\n",
    "                                nan_policy='omit')\n",
    "        result = minner.minimize()\n",
    "\n",
    "    # write error report\n",
    "    print(report_fit(result))\n",
    "\n",
    "    resids_armada = astrometry_model(result.params,xpos,ypos,t,error_maj,\n",
    "                                 error_min,error_pa)\n",
    "    resids_wds = astrometry_model(result.params,xpos_wds,ypos_wds,t_wds,error_maj_wds,\n",
    "                                 error_min_wds,error_pa_wds)\n",
    "    ndata_armada = 2*sum(~np.isnan(xpos))\n",
    "    ndata_wds = 2*sum(~np.isnan(xpos_wds))\n",
    "    chi2_armada = np.nansum(resids_armada**2)/(ndata_armada-7)\n",
    "    chi2_wds = np.nansum(resids_wds**2)/(ndata_wds-7)\n",
    "    print('-'*10)\n",
    "    print('chi2 armada = %s'%chi2_armada)\n",
    "    print('-'*10)\n",
    "    print('chi2 wds = %s'%chi2_wds)\n",
    "    print('-'*10)\n",
    "\n",
    "    ## plot fit\n",
    "    scale=1\n",
    "    if chi2_armada<1.0 and chi2_armada>0:\n",
    "        scale=1/np.sqrt(chi2_armada)\n",
    "    a_start = result.params['a']\n",
    "    P_start = result.params['P']\n",
    "    e_start = result.params['e']\n",
    "    inc_start = result.params['inc']\n",
    "    w_start = result.params['w']\n",
    "    bigw_start = result.params['bigw']\n",
    "    T_start = result.params['T']\n",
    "    mirc_scale_start = result.params['mirc_scale']\n",
    "\n",
    "    ra,dec,rapoints,decpoints = orbit_model(a_start,e_start,inc_start,\n",
    "                                            w_start,bigw_start,P_start,\n",
    "                                            T_start,t_all)\n",
    "    fig,ax=plt.subplots()\n",
    "    ax.plot(xpos_all[len(xpos):], ypos_all[len(xpos):], 'o', label='WDS')\n",
    "    if len(vlti_idx)>0:\n",
    "        ax.plot(xpos[vlti_idx]*mirc_scale_start,ypos[vlti_idx]*mirc_scale_start,'o', label='ARMADA-VLTI')\n",
    "        ax.plot(xpos[vlti_mask],ypos[vlti_mask],'o', label='ARMADA-CHARA')\n",
    "    else:\n",
    "        ax.plot(xpos,ypos,'o', label='ARMADA')\n",
    "    ax.plot(0,0,'*')\n",
    "    ax.plot(ra, dec, '--',color='g')\n",
    "    #plot lines from data to best fit orbit\n",
    "    i=0\n",
    "    while i<len(decpoints):\n",
    "        x=[xpos_all[i],rapoints[i]]\n",
    "        y=[ypos_all[i],decpoints[i]]\n",
    "        ax.plot(x,y,color=\"black\")\n",
    "        i+=1\n",
    "    ax.set_xlabel('milli-arcsec')\n",
    "    ax.set_ylabel('milli-arcsec')\n",
    "    ax.invert_xaxis()\n",
    "    ax.axis('equal')\n",
    "    ax.set_title('HD%s Outer Orbit'%target_hd)\n",
    "    plt.legend()\n",
    "    plt.show()\n",
    "\n",
    "    return result"
   ]
  },
  {
   "cell_type": "code",
   "execution_count": null,
   "metadata": {},
   "outputs": [],
   "source": []
  },
  {
   "cell_type": "code",
   "execution_count": 187,
   "metadata": {},
   "outputs": [
    {
     "name": "stdout",
     "output_type": "stream",
     "text": [
      "[[Fit Statistics]]\n",
      "    # fitting method   = leastsq\n",
      "    # function evals   = 33\n",
      "    # data points      = 30\n",
      "    # variables        = 7\n",
      "    chi-square         = 3.39045037\n",
      "    reduced chi-square = 0.14741089\n",
      "    Akaike info crit   = -51.4070385\n",
      "    Bayesian info crit = -41.5986568\n",
      "[[Variables]]\n",
      "    w:           131.427095 +/- 4.52213727 (3.44%) (init = 138)\n",
      "    bigw:        343.631693 +/- 2.98563260 (0.87%) (init = 347)\n",
      "    inc:         136.177498 +/- 3.23204836 (2.37%) (init = 135)\n",
      "    e:           0.20149674 +/- 0.00848925 (4.21%) (init = 0.2)\n",
      "    a:           2.02955910 +/- 0.02691505 (1.33%) (init = 2)\n",
      "    P:           1203.78861 +/- 9.34038467 (0.78%) (init = 1205.325)\n",
      "    T:           59037.3368 +/- 6.40613734 (0.01%) (init = 59044)\n",
      "    mirc_scale:  1 (fixed)\n",
      "[[Correlations]] (unreported correlations are < 0.100)\n",
      "    C(w, bigw)   =  0.933\n",
      "    C(w, T)      =  0.793\n",
      "    C(inc, P)    = -0.740\n",
      "    C(P, T)      =  0.637\n",
      "    C(w, P)      =  0.614\n",
      "    C(inc, e)    =  0.599\n",
      "    C(bigw, inc) = -0.595\n",
      "    C(bigw, T)   =  0.590\n",
      "    C(bigw, P)   =  0.550\n",
      "    C(w, inc)    = -0.491\n",
      "    C(inc, T)    = -0.483\n",
      "    C(e, a)      = -0.482\n",
      "    C(inc, a)    = -0.435\n",
      "    C(w, a)      = -0.429\n",
      "    C(bigw, a)   = -0.352\n",
      "    C(bigw, e)   = -0.260\n",
      "    C(e, P)      = -0.251\n",
      "    C(a, P)      =  0.245\n",
      "    C(e, T)      = -0.177\n",
      "    C(a, T)      = -0.141\n",
      "    C(w, e)      = -0.112\n",
      "None\n",
      "----------\n",
      "chi2 armada = 0.14741088575010527\n",
      "----------\n",
      "chi2 wds = -0.0\n",
      "----------\n"
     ]
    },
    {
     "data": {
      "image/png": "[encoded data removed]",
      "text/plain": [
       "<Figure size 432x288 with 1 Axes>"
      ]
     },
     "metadata": {
      "needs_background": "light"
     },
     "output_type": "display_data"
    }
   ],
   "source": [
    "###########################################\n",
    "## Do a least-squares fit -- VISUAL ONLY\n",
    "###########################################\n",
    "params = Parameters()\n",
    "params.add('w',   value= omega, min=0, max=360)\n",
    "params.add('bigw', value= bigomega, min=0, max=360)\n",
    "params.add('inc', value= inc, min=0, max=180)\n",
    "params.add('e', value= e, min=0, max=0.99)\n",
    "params.add('a', value= a, min=0)\n",
    "params.add('P', value= P, min=0)\n",
    "params.add('T', value= T, min=0)\n",
    "if len(vlti_idx)>0:\n",
    "    params.add('mirc_scale', value=1)\n",
    "else:\n",
    "    params.add('mirc_scale',value=1,vary=False)\n",
    "\n",
    "result = ls_fit(params,xpos_all,ypos_all,t_all,error_maj_all,error_min_all,error_pa_all)"
   ]
  },
  {
   "cell_type": "code",
   "execution_count": 188,
   "metadata": {},
   "outputs": [],
   "source": [
    "## scale errors to fit again\n",
    "chara_scale = 1/np.sqrt(0.15)\n",
    "vlti_scale = 1\n",
    "wds_scale = 1/np.sqrt(1)\n",
    "\n",
    "if len(vlti_idx)>0:\n",
    "    error_maj[vlti_idx]/=vlti_scale\n",
    "    error_min[vlti_idx]/=vlti_scale\n",
    "    error_maj_all[vlti_idx]/=vlti_scale\n",
    "    error_min_all[vlti_idx]/=vlti_scale\n",
    "    \n",
    "    error_maj[vlti_mask]/=chara_scale\n",
    "    error_min[vlti_mask]/=chara_scale\n",
    "    error_maj_all[vlti_mask_all]/=chara_scale\n",
    "    error_min_all[vlti_mask_all]/=chara_scale\n",
    "    \n",
    "    error_maj_wds/=wds_scale\n",
    "    error_min_wds/=wds_scale\n",
    "    error_maj_all[len(xpos):]/=wds_scale\n",
    "    error_min_all[len(xpos):]/=wds_scale\n",
    "    \n",
    "else:\n",
    "    error_maj/=chara_scale\n",
    "    error_min/=chara_scale\n",
    "    error_maj_all[:len(error_maj)]/=chara_scale\n",
    "    error_min_all[:len(error_maj)]/=chara_scale\n",
    "    \n",
    "    error_maj_wds/=wds_scale\n",
    "    error_min_wds/=wds_scale\n",
    "    error_maj_all[len(xpos):]/=wds_scale\n",
    "    error_min_all[len(xpos):]/=wds_scale"
   ]
  },
  {
   "cell_type": "code",
   "execution_count": 189,
   "metadata": {},
   "outputs": [
    {
     "name": "stdout",
     "output_type": "stream",
     "text": [
      "----------\n",
      "chi2 armada = 0.982739238334035\n",
      "----------\n"
     ]
    },
    {
     "data": {
      "image/png": "[encoded data removed]",
      "text/plain": [
       "<Figure size 432x288 with 1 Axes>"
      ]
     },
     "metadata": {
      "needs_background": "light"
     },
     "output_type": "display_data"
    },
    {
     "data": {
      "image/png": "[encoded data removed]",
      "text/plain": [
       "<Figure size 432x288 with 1 Axes>"
      ]
     },
     "metadata": {
      "needs_background": "light"
     },
     "output_type": "display_data"
    },
    {
     "name": "stdout",
     "output_type": "stream",
     "text": [
      "----------\n",
      "Mean residual = 65.4 micro-as\n",
      "----------\n"
     ]
    }
   ],
   "source": [
    "##########################################\n",
    "## Save Plots\n",
    "##########################################\n",
    "if len(vlti_idx)>0:\n",
    "    resids_armada = astrometry_model_vlti(result.params,xpos[vlti_mask],ypos[vlti_mask],t[vlti_mask],error_maj[vlti_mask],\n",
    "                                error_min[vlti_mask],error_pa[vlti_mask],\n",
    "                                xpos[vlti_idx],ypos[vlti_idx],t[vlti_idx],\n",
    "                                error_maj[vlti_idx],error_min[vlti_idx],error_pa[vlti_idx])\n",
    "else:\n",
    "    resids_armada = astrometry_model(result.params,xpos,ypos,t,error_maj,\n",
    "                                error_min,error_pa)\n",
    "ndata_armada = 2*sum(~np.isnan(xpos))\n",
    "chi2_armada = np.nansum(resids_armada**2)/(ndata_armada-7)\n",
    "print('-'*10)\n",
    "print('chi2 armada = %s'%chi2_armada)\n",
    "print('-'*10)\n",
    "\n",
    "if corrected == 'y':\n",
    "    directory='%s/HD%s_bootstrap_triple/'%(path,target_hd)\n",
    "else:\n",
    "    directory='%s/HD%s_chi2err_triple/'%(path,target_hd)\n",
    "if not os.path.exists(directory):\n",
    "    os.makedirs(directory)\n",
    "\n",
    "## plot fit\n",
    "scale=1\n",
    "if chi2_armada<1.0 and chi2_armada>0:\n",
    "    scale=1/np.sqrt(chi2_armada)\n",
    "a_start = result.params['a']\n",
    "P_start = result.params['P']\n",
    "e_start = result.params['e']\n",
    "inc_start = result.params['inc']\n",
    "w_start = result.params['w']\n",
    "bigw_start = result.params['bigw']\n",
    "T_start = result.params['T']\n",
    "mirc_scale_start = result.params['mirc_scale']\n",
    "ra,dec,rapoints,decpoints = orbit_model(a_start,e_start,inc_start,\n",
    "                                        w_start,bigw_start,P_start,\n",
    "                                        T_start,t_all)\n",
    "fig,ax=plt.subplots()\n",
    "ax.plot(xpos_all[len(xpos):], ypos_all[len(xpos):], 'o', label='WDS')\n",
    "if len(vlti_idx)>0:\n",
    "    ax.plot(xpos[vlti_idx]*mirc_scale_start,ypos[vlti_idx]*mirc_scale_start,'o', label='ARMADA-VLTI')\n",
    "    ax.plot(xpos[vlti_mask],ypos[vlti_mask],'o', label='ARMADA-CHARA')\n",
    "else:\n",
    "    ax.plot(xpos,ypos,'+', label='ARMADA',color='black',markersize=6)\n",
    "ax.plot(0,0,'*')\n",
    "ax.plot(ra, dec, '--',color='g')\n",
    "\n",
    "#need to measure error ellipse angle east of north\n",
    "for ras, decs, w, h, angle,d in zip(xpos,ypos,error_maj/scale,error_min/scale,error_deg,t):\n",
    "    ellipse = Ellipse(xy=(ras, decs), width=2*w, height=2*h, \n",
    "                      angle=90-angle, facecolor='none', edgecolor='black')\n",
    "    #ax.annotate(d,xy=(ras,decs))\n",
    "    ax.add_patch(ellipse)\n",
    "\n",
    "#plot lines from data to best fit orbit\n",
    "i=0\n",
    "while i<len(decpoints):\n",
    "    x=[xpos_all[i],rapoints[i]]\n",
    "    y=[ypos_all[i],decpoints[i]]\n",
    "    ax.plot(x,y,color=\"black\")\n",
    "    i+=1\n",
    "ax.set_xlabel('milli-arcsec')\n",
    "ax.set_ylabel('milli-arcsec')\n",
    "ax.invert_xaxis()\n",
    "ax.axis('equal')\n",
    "ax.set_title('HD%s Outer Orbit'%target_hd)\n",
    "#plt.legend()\n",
    "plt.savefig('%s/HD%s_%s_outer_binary.pdf'%(directory,target_hd,note))\n",
    "plt.show()\n",
    "plt.close()\n",
    "\n",
    "## plot resids for ARMADA\n",
    "fig,ax=plt.subplots()\n",
    "if len(vlti_idx)>0:\n",
    "    xresid_vlti = xpos[vlti_idx]*mirc_scale_start - rapoints[:len(xpos)][vlti_idx]\n",
    "    yresid_vlti = ypos[vlti_idx]*mirc_scale_start - decpoints[:len(ypos)][vlti_idx]\n",
    "    xresid_chara = xpos[vlti_mask] - rapoints[:len(xpos)][vlti_mask]\n",
    "    yresid_chara = ypos[vlti_mask] - decpoints[:len(ypos)][vlti_mask]\n",
    "    xresid = np.concatenate([xresid_chara,xresid_vlti])\n",
    "    yresid = np.concatenate([yresid_chara,yresid_vlti])\n",
    "else:\n",
    "    xresid = xpos - rapoints[:len(xpos)]\n",
    "    yresid = ypos - decpoints[:len(ypos)]\n",
    "\n",
    "#need to measure error ellipse angle east of north\n",
    "for ras, decs, w, h, angle,d in zip(xresid,yresid,error_maj/scale,error_min/scale,error_deg,t):\n",
    "    ellipse = Ellipse(xy=(ras, decs), width=2*w, height=2*h, \n",
    "                      angle=90-angle, facecolor='none', edgecolor='black')\n",
    "    ax.annotate(d,xy=(ras,decs))\n",
    "    ax.add_patch(ellipse)\n",
    "\n",
    "if len(vlti_idx)>0:\n",
    "    ax.plot(xresid[vlti_idx],yresid[vlti_idx],'o', label='ARMADA-VLTI')\n",
    "    ax.plot(xresid[vlti_mask],yresid[vlti_mask],'o', label='ARMADA-CHARA')\n",
    "else:\n",
    "    ax.plot(xresid,yresid,'o', label='ARMADA')\n",
    "ax.plot(0,0,'*')\n",
    "ax.set_xlabel('milli-arcsec')\n",
    "ax.set_ylabel('milli-arcsec')\n",
    "ax.invert_xaxis()\n",
    "ax.axis('equal')\n",
    "ax.set_title('HD%s Resids'%target_hd)\n",
    "plt.legend()\n",
    "plt.savefig('%s/HD%s_%s_resid_binary.pdf'%(directory,target_hd,note))\n",
    "plt.show()\n",
    "plt.close()\n",
    "\n",
    "## residuals\n",
    "resids = np.sqrt(xresid**2 + yresid**2)\n",
    "resids_median = np.around(np.median(resids)*1000,2)\n",
    "print('-'*10)\n",
    "print('Mean residual = %s micro-as'%resids_median)\n",
    "print('-'*10)\n",
    "\n",
    "## Save txt file with best orbit\n",
    "f = open(\"%s/%s_%s_orbit_binary.txt\"%(directory,target_hd,note),\"w+\")\n",
    "f.write(\"# P(d) a(mas) e i(deg) w(deg) W(deg) T(mjd) mirc_scale mean_resid(mu-as)\\r\\n\")\n",
    "f.write(\"%s %s %s %s %s %s %s %s %s\"%(P_start.value,a_start.value,e_start.value,\n",
    "                                   inc_start.value*180/np.pi,w_start.value*180/np.pi,\n",
    "                                   bigw_start.value*180/np.pi,T_start.value,\n",
    "                                  mirc_scale_start.value,resids_median))\n",
    "f.close()"
   ]
  },
  {
   "cell_type": "markdown",
   "metadata": {},
   "source": [
    "## Include RV"
   ]
  },
  {
   "cell_type": "code",
   "execution_count": null,
   "metadata": {},
   "outputs": [],
   "source": []
  },
  {
   "cell_type": "code",
   "execution_count": 56,
   "metadata": {},
   "outputs": [
    {
     "name": "stderr",
     "output_type": "stream",
     "text": [
      "100%|██████████| 50/50 [09:42<00:00, 11.64s/it]"
     ]
    },
    {
     "name": "stdout",
     "output_type": "stream",
     "text": [
      "P, a, e, inc, w, bigw, T, K, gamma, mirc_scale: \n",
      "3.302260273972603 2.130109199141757 0.17349136534875084 135.02910101596177 294.82449986466264 156.70870419434303 59014.56317788837 10.788430855380135 -29.86634904976528 1\n"
     ]
    },
    {
     "name": "stderr",
     "output_type": "stream",
     "text": [
      "\n"
     ]
    }
   ],
   "source": [
    "## randomize orbital elements:\n",
    "guess_params = 'y'\n",
    "if guess_params=='y':\n",
    "\n",
    "    astart = 2\n",
    "    aend = 3\n",
    "    Pstart = 3*365\n",
    "    Pend = 3.6*365\n",
    "\n",
    "    w_results = []\n",
    "    bigw_results = []\n",
    "    inc_results = []\n",
    "    e_results = []\n",
    "    a_results = []\n",
    "    P_results = []\n",
    "    T_results = []\n",
    "    mirc_scale_results = []\n",
    "    chi2_results = []\n",
    "    K_results = []\n",
    "    gamma_results = []\n",
    "\n",
    "    for s in tqdm(np.arange(50)):\n",
    "        x1 = random.uniform(0,360)\n",
    "        x2 = random.uniform(0,360)\n",
    "        x3 = random.uniform(0,180)\n",
    "        x4 = random.uniform(0,0.9)\n",
    "        x5 = random.uniform(astart,aend)\n",
    "        x6 = random.uniform(Pstart,Pend)\n",
    "        #x7 = random.uniform(30000,80000)\n",
    "        x7 = random.uniform(58500,59100)\n",
    "        \n",
    "        x8 = random.uniform(-30,30)\n",
    "        x9 = random.uniform(-30,30)\n",
    "\n",
    "        params = Parameters()\n",
    "        params.add('w',   value= x1, min=0, max=360)\n",
    "        params.add('bigw', value= x2, min=0, max=360)\n",
    "        params.add('inc', value= x3, min=0, max=180)\n",
    "        params.add('e', value= x4, min=0, max=0.99)\n",
    "        params.add('a', value= x5, min=0)\n",
    "        params.add('P', value= x6, min=0)\n",
    "        params.add('T', value= x7, min=0)\n",
    "        params.add('K', value= x8)\n",
    "        params.add('gamma', value= x9)\n",
    "        if len(vlti_idx)>0:\n",
    "            params.add('mirc_scale', value=1)\n",
    "        else:\n",
    "            params.add('mirc_scale',value=1,vary=False)\n",
    "\n",
    "        #do fit, minimizer uses LM for least square fitting of model to data\n",
    "        minner = Minimizer(binary_model_combined, params, fcn_args=(xpos_all,ypos_all,t_all,\n",
    "                                                    error_maj_all,error_min_all,\n",
    "                                                    error_pa_all,rv,t_rv,err_rv),\n",
    "                    nan_policy='omit')\n",
    "        result = minner.minimize()\n",
    "\n",
    "        w_results.append(result.params['w'].value)\n",
    "        bigw_results.append(result.params['bigw'].value)\n",
    "        inc_results.append(result.params['inc'].value)\n",
    "        e_results.append(result.params['e'].value)\n",
    "        a_results.append(result.params['a'].value)\n",
    "        P_results.append(result.params['P'].value)\n",
    "        T_results.append(result.params['T'].value)\n",
    "        mirc_scale_results.append(result.params['mirc_scale'].value)\n",
    "        chi2_results.append(result.redchi)\n",
    "        gamma_results.append(result.params['gamma'].value)\n",
    "        K_results.append(result.params['K'].value)\n",
    "\n",
    "    w_results = np.array(w_results)\n",
    "    bigw_results = np.array(bigw_results)\n",
    "    inc_results = np.array(inc_results)\n",
    "    e_results = np.array(e_results)\n",
    "    a_results = np.array(a_results)\n",
    "    P_results = np.array(P_results)\n",
    "    T_results = np.array(T_results)\n",
    "    mirc_scale_results = np.array(mirc_scale_results)\n",
    "    chi2_results = np.array(chi2_results)\n",
    "    gamma_results = np.array(gamma_results)\n",
    "    K_results = np.array(K_results)\n",
    "\n",
    "    idx = np.argmin(chi2_results)\n",
    "    w_start = w_results[idx]\n",
    "    bigw_start = bigw_results[idx]\n",
    "    inc_start = inc_results[idx]\n",
    "    e_start = e_results[idx]\n",
    "    a_start = a_results[idx]\n",
    "    P_start = P_results[idx]\n",
    "    T_start = T_results[idx]\n",
    "    gamma_start = gamma_results[idx]\n",
    "    K_start = K_results[idx]\n",
    "    mirc_scale_start = mirc_scale_results[idx]\n",
    "\n",
    "    print('P, a, e, inc, w, bigw, T, K, gamma, mirc_scale: ')\n",
    "    print(P/365, a_start, e_start, inc_start, w_start, bigw_start, T_start, K_start, gamma_start, mirc_scale_start)"
   ]
  },
  {
   "cell_type": "code",
   "execution_count": 190,
   "metadata": {},
   "outputs": [],
   "source": [
    "###########################################\n",
    "## Do a least-squares fit -- VISUAL ONLY\n",
    "###########################################\n",
    "params = Parameters()\n",
    "\n",
    "#params.add('w',   value= w_start, min=0, max=360)\n",
    "#params.add('bigw', value= bigw_start, min=0, max=360)\n",
    "#params.add('inc', value= inc_start, min=0, max=180)\n",
    "#params.add('e', value= e_start, min=0, max=0.99)\n",
    "#params.add('a', value= a_start, min=0)\n",
    "#params.add('P', value= P_start, min=0)\n",
    "#params.add('T', value= T_start, min=0)\n",
    "\n",
    "params.add('w',   value= 123, min=0, max=360)\n",
    "params.add('bigw', value= 340-180, min=0, max=360)\n",
    "params.add('inc', value= 137, min=0, max=180)\n",
    "params.add('e', value= 0.2, min=0, max=0.99)\n",
    "params.add('a', value= 2.04, min=0)\n",
    "params.add('P', value= 1192, min=0)\n",
    "params.add('T', value= 59029, min=0)\n",
    "\n",
    "if len(vlti_idx)>0:\n",
    "    params.add('mirc_scale', value=1)\n",
    "else:\n",
    "    params.add('mirc_scale',value=1,vary=False)\n",
    "\n",
    "params.add('K',value=11)\n",
    "params.add('gamma',value=-30)"
   ]
  },
  {
   "cell_type": "code",
   "execution_count": null,
   "metadata": {},
   "outputs": [],
   "source": []
  },
  {
   "cell_type": "code",
   "execution_count": 191,
   "metadata": {},
   "outputs": [
    {
     "name": "stdout",
     "output_type": "stream",
     "text": [
      "[[Fit Statistics]]\n",
      "    # fitting method   = leastsq\n",
      "    # function evals   = 61\n",
      "    # data points      = 309\n",
      "    # variables        = 9\n",
      "    chi-square         = 5331.18102\n",
      "    reduced chi-square = 17.7706034\n",
      "    Akaike info crit   = 898.027920\n",
      "    Bayesian info crit = 931.627991\n",
      "[[Variables]]\n",
      "    w:           112.670501 +/- 7.35678784 (6.53%) (init = 123)\n",
      "    bigw:        157.644164 +/- 4.55735129 (2.89%) (init = 160)\n",
      "    inc:         132.641712 +/- 7.38590183 (5.57%) (init = 137)\n",
      "    e:           0.15920055 +/- 0.03167954 (19.90%) (init = 0.2)\n",
      "    a:           2.15967674 +/- 0.09171143 (4.25%) (init = 2.04)\n",
      "    P:           1188.43420 +/- 4.17131298 (0.35%) (init = 1192)\n",
      "    T:           59008.0669 +/- 21.8591487 (0.04%) (init = 59029)\n",
      "    mirc_scale:  1 (fixed)\n",
      "    K:           10.8609124 +/- 0.76030970 (7.00%) (init = 11)\n",
      "    gamma:      -29.8750354 +/- 0.40718225 (1.36%) (init = -30)\n",
      "[[Correlations]] (unreported correlations are < 0.100)\n",
      "    C(w, T)      =  0.902\n",
      "    C(inc, a)    = -0.690\n",
      "    C(bigw, inc) = -0.672\n",
      "    C(bigw, e)   = -0.591\n",
      "    C(inc, e)    =  0.566\n",
      "    C(w, a)      = -0.507\n",
      "    C(e, a)      = -0.426\n",
      "    C(a, T)      = -0.393\n",
      "    C(a, P)      =  0.291\n",
      "    C(bigw, P)   = -0.284\n",
      "    C(w, bigw)   =  0.256\n",
      "    C(inc, T)    =  0.229\n",
      "    C(bigw, a)   =  0.197\n",
      "    C(T, gamma)  = -0.195\n",
      "    C(w, inc)    =  0.189\n",
      "    C(w, P)      = -0.178\n",
      "    C(e, gamma)  =  0.173\n",
      "    C(bigw, K)   = -0.156\n",
      "    C(w, gamma)  = -0.146\n",
      "    C(e, T)      =  0.140\n",
      "    C(a, K)      =  0.134\n",
      "    C(T, K)      =  0.122\n",
      "    C(e, K)      = -0.114\n",
      "    C(P, gamma)  = -0.104\n"
     ]
    }
   ],
   "source": [
    "minner = Minimizer(binary_model_combined, params, fcn_args=(xpos_all,ypos_all,t_all,\n",
    "                                                    error_maj_all,error_min_all,\n",
    "                                                    error_pa_all,rv,t_rv,err_rv),\n",
    "                    nan_policy='omit')\n",
    "result = minner.minimize()\n",
    "report_fit(result)\n",
    "    \n",
    "P_best = result.params['P'].value\n",
    "a_best = result.params['a'].value\n",
    "e_best = result.params['e'].value\n",
    "w_best = result.params['w'].value\n",
    "bigw_best = result.params['bigw'].value\n",
    "inc_best = result.params['inc'].value\n",
    "T_best = result.params['T'].value\n",
    "K_best = result.params['K'].value\n",
    "gamma_best = result.params['gamma'].value\n",
    "mirc_scale_best = result.params['mirc_scale'].value"
   ]
  },
  {
   "cell_type": "code",
   "execution_count": 192,
   "metadata": {},
   "outputs": [
    {
     "name": "stdout",
     "output_type": "stream",
     "text": [
      "----------\n",
      "chi2 armada = 5546.303696947893\n",
      "----------\n"
     ]
    },
    {
     "data": {
      "image/png": "[encoded data removed]",
      "text/plain": [
       "<Figure size 432x288 with 1 Axes>"
      ]
     },
     "metadata": {
      "needs_background": "light"
     },
     "output_type": "display_data"
    },
    {
     "data": {
      "image/png": "[encoded data removed]",
      "text/plain": [
       "<Figure size 432x288 with 1 Axes>"
      ]
     },
     "metadata": {
      "needs_background": "light"
     },
     "output_type": "display_data"
    },
    {
     "name": "stdout",
     "output_type": "stream",
     "text": [
      "----------\n",
      "Mean residual = 65.4 micro-as\n",
      "----------\n"
     ]
    }
   ],
   "source": [
    "##########################################\n",
    "## Save Plots\n",
    "##########################################\n",
    "if len(vlti_idx)>0:\n",
    "    resids_armada = astrometry_model_vlti(result.params,xpos[vlti_mask],ypos[vlti_mask],t[vlti_mask],error_maj[vlti_mask],\n",
    "                                error_min[vlti_mask],error_pa[vlti_mask],\n",
    "                                xpos[vlti_idx],ypos[vlti_idx],t[vlti_idx],\n",
    "                                error_maj[vlti_idx],error_min[vlti_idx],error_pa[vlti_idx])\n",
    "else:\n",
    "    resids_armada = astrometry_model(result.params,xpos,ypos,t,error_maj,\n",
    "                                error_min,error_pa)\n",
    "ndata_armada = 2*sum(~np.isnan(xpos))\n",
    "chi2_armada = np.nansum(resids_armada**2)/(ndata_armada-7)\n",
    "print('-'*10)\n",
    "print('chi2 armada = %s'%chi2_armada)\n",
    "print('-'*10)\n",
    "\n",
    "## plot fit\n",
    "scale=1\n",
    "if chi2_armada<1.0 and chi2_armada>0:\n",
    "    scale=1/np.sqrt(chi2_armada)\n",
    "ra,dec,rapoints,decpoints = orbit_model(a_start,e_start,inc_start,\n",
    "                                        w_start,bigw_start,P_start,\n",
    "                                        T_start,t_all)\n",
    "fig,ax=plt.subplots()\n",
    "ax.plot(xpos_all[len(xpos):], ypos_all[len(xpos):], 'o', label='WDS')\n",
    "if len(vlti_idx)>0:\n",
    "    ax.plot(xpos[vlti_idx]*mirc_scale_start,ypos[vlti_idx]*mirc_scale_start,'o', label='ARMADA-VLTI')\n",
    "    ax.plot(xpos[vlti_mask],ypos[vlti_mask],'o', label='ARMADA-CHARA')\n",
    "else:\n",
    "    ax.plot(xpos[:10],ypos[:10],'+', label='MIRCX',color='black')\n",
    "    ax.plot(xpos[10:],ypos[10:],'.', label='MYSTIC',color='red')\n",
    "    #ax.plot(xpos[-1],ypos[-1],'o', label='GRAVITY',color='blue')\n",
    "ax.plot(0,0,'*')\n",
    "ax.plot(ra, dec, '--',color='g')\n",
    "\n",
    "#need to measure error ellipse angle east of north\n",
    "for ras, decs, w, h, angle,d in zip(xpos,ypos,error_maj/scale,error_min/scale,error_deg,t):\n",
    "    ellipse = Ellipse(xy=(ras, decs), width=2*w, height=2*h, \n",
    "                      angle=90-angle, facecolor='none', edgecolor='black')\n",
    "    #ax.annotate(d,xy=(ras,decs))\n",
    "    ax.add_patch(ellipse)\n",
    "\n",
    "#plot lines from data to best fit orbit\n",
    "i=0\n",
    "while i<len(decpoints):\n",
    "    x=[xpos_all[i],rapoints[i]]\n",
    "    y=[ypos_all[i],decpoints[i]]\n",
    "    ax.plot(x,y,color=\"black\")\n",
    "    i+=1\n",
    "ax.set_xlabel('milli-arcsec')\n",
    "ax.set_ylabel('milli-arcsec')\n",
    "ax.invert_xaxis()\n",
    "ax.axis('equal')\n",
    "ax.set_title('HD%s Outer Orbit'%target_hd)\n",
    "plt.legend()\n",
    "plt.savefig('%s/HD%s_%s_outer_binary.pdf'%(directory,target_hd,note))\n",
    "plt.show()\n",
    "plt.close()\n",
    "\n",
    "## plot resids for ARMADA\n",
    "fig,ax=plt.subplots()\n",
    "if len(vlti_idx)>0:\n",
    "    xresid_vlti = xpos[vlti_idx]*mirc_scale_start - rapoints[:len(xpos)][vlti_idx]\n",
    "    yresid_vlti = ypos[vlti_idx]*mirc_scale_start - decpoints[:len(ypos)][vlti_idx]\n",
    "    xresid_chara = xpos[vlti_mask] - rapoints[:len(xpos)][vlti_mask]\n",
    "    yresid_chara = ypos[vlti_mask] - decpoints[:len(ypos)][vlti_mask]\n",
    "    xresid = np.concatenate([xresid_chara,xresid_vlti])\n",
    "    yresid = np.concatenate([yresid_chara,yresid_vlti])\n",
    "else:\n",
    "    xresid = xpos - rapoints[:len(xpos)]\n",
    "    yresid = ypos - decpoints[:len(ypos)]\n",
    "\n",
    "#need to measure error ellipse angle east of north\n",
    "for ras, decs, w, h, angle,d in zip(xresid,yresid,error_maj/scale,error_min/scale,error_deg,t):\n",
    "    ellipse = Ellipse(xy=(ras, decs), width=2*w, height=2*h, \n",
    "                      angle=90-angle, facecolor='none', edgecolor='black')\n",
    "    ax.annotate(d,xy=(ras,decs))\n",
    "    ax.add_patch(ellipse)\n",
    "\n",
    "if len(vlti_idx)>0:\n",
    "    ax.plot(xresid[vlti_idx],yresid[vlti_idx],'o', label='ARMADA-VLTI')\n",
    "    ax.plot(xresid[vlti_mask],yresid[vlti_mask],'o', label='ARMADA-CHARA')\n",
    "else:\n",
    "    ax.plot(xresid,yresid,'o', label='ARMADA')\n",
    "ax.plot(0,0,'*')\n",
    "ax.set_xlabel('milli-arcsec')\n",
    "ax.set_ylabel('milli-arcsec')\n",
    "ax.invert_xaxis()\n",
    "ax.axis('equal')\n",
    "ax.set_title('HD%s Resids'%target_hd)\n",
    "plt.legend()\n",
    "plt.savefig('%s/HD%s_%s_resid_binary.pdf'%(directory,target_hd,note))\n",
    "plt.show()\n",
    "plt.close()\n",
    "\n",
    "## residuals\n",
    "resids = np.sqrt(xresid**2 + yresid**2)\n",
    "resids_median = np.around(np.median(resids)*1000,2)\n",
    "print('-'*10)\n",
    "print('Mean residual = %s micro-as'%resids_median)\n",
    "print('-'*10)\n",
    "\n",
    "## Save txt file with best orbit\n",
    "f = open(\"%s/%s_%s_orbit_binary.txt\"%(directory,target_hd,note),\"w+\")\n",
    "f.write(\"# P(d) a(mas) e i(deg) w(deg) W(deg) T(mjd) mirc_scale mean_resid(mu-as)\\r\\n\")\n",
    "f.write(\"%s %s %s %s %s %s %s %s %s\"%(P_best,a_best,e_best,\n",
    "                                   inc_best*180/np.pi,w_best*180/np.pi,\n",
    "                                   bigw_best*180/np.pi,T_best,\n",
    "                                  mirc_scale_best,resids_median))\n",
    "f.close()"
   ]
  },
  {
   "cell_type": "code",
   "execution_count": 193,
   "metadata": {},
   "outputs": [
    {
     "data": {
      "image/png": "[encoded data removed]",
      "text/plain": [
       "<Figure size 432x288 with 1 Axes>"
      ]
     },
     "metadata": {
      "needs_background": "light"
     },
     "output_type": "display_data"
    },
    {
     "data": {
      "image/png": "[encoded data removed]",
      "text/plain": [
       "<Figure size 432x288 with 1 Axes>"
      ]
     },
     "metadata": {
      "needs_background": "light"
     },
     "output_type": "display_data"
    }
   ],
   "source": [
    "#Plot RV results:\n",
    "w_rv = w_best*np.pi/180#+np.pi\n",
    "foldtime= foldAt(t_rv,P_best,T0=T_best)\n",
    "tt=np.linspace(T_best,T_best+P_best,100)\n",
    "MM=[]\n",
    "for i in tt:\n",
    "    mm_anom=2*np.pi/P_best*(i-T_best)\n",
    "    MM.append(mm_anom)\n",
    "MM=np.asarray(MM)\n",
    "EE=[]\n",
    "for j in MM:\n",
    "    #ee_anom=keplerE(j,a1[1])\n",
    "    ee_anom=ks.getE(j,e_best)\n",
    "    EE.append(ee_anom)\n",
    "EE=np.asarray(EE)\n",
    "MM2=[]\n",
    "for i in t_rv:\n",
    "    mm_anom=2*np.pi/P_best*(i-T_best)\n",
    "    MM2.append(mm_anom)\n",
    "MM2=np.asarray(MM2)\n",
    "EE2=[]\n",
    "\n",
    "for j in MM2:\n",
    "    #ee_anom=keplerE(j,a1[1])\n",
    "    ee_anom=ks.getE(j,e_best)\n",
    "    EE2.append(ee_anom)\n",
    "EE2=np.asarray(EE2)\n",
    "\n",
    "f=2*np.arctan(np.sqrt((1+e_best)/(1-e_best))*np.tan(EE/2))\n",
    "y1=K_best*(np.cos(w_rv+f)+e_best*np.cos(w_rv))+gamma_best\n",
    "tt_fold=foldAt(tt,P_best,T0=T_best)\n",
    "\n",
    "fpoints=2*np.arctan(np.sqrt((1+e_best)/(1-e_best))*np.tan(EE2/2))\n",
    "y1points=K_best*(np.cos(w_rv+fpoints)+e_best*np.cos(w_rv))+gamma_best\n",
    "\n",
    "plt.errorbar(foldtime,rv,yerr=err_rv,fmt='o')\n",
    "plt.plot(tt_fold,y1,'.')\n",
    "plt.ylabel('RV(km/s)')\n",
    "plt.xlabel('Phase')\n",
    "plt.title('RV Curve')\n",
    "plt.savefig('%s/HD%s_%s_orbit_rv.pdf'%(directory,target_hd,note))\n",
    "plt.show()\n",
    "plt.close()\n",
    "\n",
    "plt.errorbar(foldtime,rv-y1points,yerr=err_rv,fmt='o')\n",
    "plt.plot([0,1],[0,0],'--')\n",
    "plt.ylabel('RV(km/s)')\n",
    "plt.xlabel('Phase')\n",
    "plt.title('RV Curve')\n",
    "plt.savefig('%s/HD%s_%s_orbit_resids_rv.pdf'%(directory,target_hd,note))\n",
    "plt.show()\n",
    "plt.close()"
   ]
  },
  {
   "cell_type": "code",
   "execution_count": 28,
   "metadata": {},
   "outputs": [],
   "source": [
    "resids = rv-y1points"
   ]
  },
  {
   "cell_type": "code",
   "execution_count": 29,
   "metadata": {},
   "outputs": [
    {
     "data": {
      "image/png": "[encoded data removed]",
      "text/plain": [
       "<Figure size 432x288 with 1 Axes>"
      ]
     },
     "metadata": {
      "needs_background": "light"
     },
     "output_type": "display_data"
    }
   ],
   "source": [
    "#Plot RV results:\n",
    "w_rv = 0*np.pi/180+np.pi\n",
    "foldtime= foldAt(t_rv,4.6,T0=58576.99)\n",
    "tt=np.linspace(58576.99,58576.99+4.6,100)\n",
    "MM=[]\n",
    "for i in tt:\n",
    "    mm_anom=2*np.pi/4.6*(i-58576.99)\n",
    "    MM.append(mm_anom)\n",
    "MM=np.asarray(MM)\n",
    "EE=[]\n",
    "for j in MM:\n",
    "    #ee_anom=keplerE(j,a1[1])\n",
    "    ee_anom=ks.getE(j,0)\n",
    "    EE.append(ee_anom)\n",
    "EE=np.asarray(EE)\n",
    "MM2=[]\n",
    "for i in t_rv:\n",
    "    mm_anom=2*np.pi/4.6*(i-58576.99)\n",
    "    MM2.append(mm_anom)\n",
    "MM2=np.asarray(MM2)\n",
    "EE2=[]\n",
    "\n",
    "for j in MM2:\n",
    "    #ee_anom=keplerE(j,a1[1])\n",
    "    ee_anom=ks.getE(j,0)\n",
    "    EE2.append(ee_anom)\n",
    "EE2=np.asarray(EE2)\n",
    "\n",
    "f=2*np.arctan(np.sqrt((1+0)/(1-0))*np.tan(EE/2))\n",
    "y1=30*(np.cos(w_rv+f)+0*np.cos(w_rv))+0\n",
    "tt_fold=foldAt(tt,4.6,T0=58576.99)\n",
    "\n",
    "fpoints=2*np.arctan(np.sqrt((1+0)/(1-0))*np.tan(EE2/2))\n",
    "y1points=30*(np.cos(w_rv+fpoints)+0*np.cos(w_rv))+0\n",
    "\n",
    "plt.errorbar(foldtime,resids,yerr=err_rv,fmt='o')\n",
    "plt.plot(tt_fold,y1,'.')\n",
    "plt.ylabel('RV(km/s)')\n",
    "plt.xlabel('Phase')\n",
    "plt.title('RV Curve')\n",
    "#plt.savefig('%s/HD%s_%s_orbit_rv.pdf'%(directory,target_hd,note))\n",
    "plt.show()\n",
    "plt.close()"
   ]
  },
  {
   "cell_type": "code",
   "execution_count": null,
   "metadata": {},
   "outputs": [],
   "source": []
  },
  {
   "cell_type": "code",
   "execution_count": null,
   "metadata": {},
   "outputs": [],
   "source": [
    "## Mass / Orbit Information\n",
    "\n",
    "a_err = ufloat(result.params['a'].value,result.params['a'].stderr)\n",
    "P_err = ufloat(result.params['P'].value,result.params['P'].stderr)\n",
    "T_err = ufloat(result.params['T'].value,result.params['T'].stderr)\n",
    "e_err = ufloat(result.params['e'].value,result.params['e'].stderr)\n",
    "w_err = ufloat(result.params['w'].value,result.params['w'].stderr)\n",
    "bigw_err = ufloat(result.params['bigw'].value,result.params['bigw'].stderr)\n",
    "inc_err = ufloat(result.params['inc'].value,result.params['inc'].stderr)\n",
    "\n",
    "K_err = ufloat(result.params['K'].value,result.params['K'].stderr)\n",
    "gamma_err = ufloat(result.params['gamma'].value,result.params['gamma'].stderr)\n",
    "\n",
    "## distance from HIP/GAIA\n",
    "## AC Her\n",
    "plx_hip = ufloat(0.00053,0.00140)\n",
    "plx_gaia = ufloat(0.0005887,0.0000338)\n",
    "\n",
    "\n",
    "print('Distance from HIP = ')\n",
    "print(1/plx_hip)\n",
    "print('Distance from GAIA = ')\n",
    "print(1/plx_gaia)\n",
    "\n",
    "d_err = 1/plx_gaia\n",
    "#d_err = d_rv"
   ]
  },
  {
   "cell_type": "code",
   "execution_count": null,
   "metadata": {},
   "outputs": [],
   "source": [
    "print('%s & %s & %s & %s & %s & %s & %s & %s'%(target_hd,P_err.nominal_value,a_err.nominal_value,\n",
    "                                               e_err.nominal_value,inc_err.nominal_value,\n",
    "                                               w_err.nominal_value,bigw_err.nominal_value,\n",
    "                                               T_err.nominal_value))\n",
    "print('-- & $\\pm$%s & $\\pm$%s & $\\pm$%s & $\\pm$%s & $\\pm$%s & $\\pm$%s & $\\pm$%s'%(P_err.std_dev,a_err.std_dev,\n",
    "                                                                                  e_err.std_dev,inc_err.std_dev,w_err.std_dev,\n",
    "                                                                                  bigw_err.std_dev,T_err.std_dev,))\n",
    "print('--'*10)\n",
    "\n",
    "if include_rv=='y':\n",
    "    print('%s & %s & %s & %s & %s & %s & %s & %s & %s & %s'%(target_hd,P2_err.nominal_value,a2_err.nominal_value,\n",
    "                                                             e2_err.nominal_value,inc2_err.nominal_value,\n",
    "                                                             w2_err.nominal_value,bigw2_err.nominal_value,\n",
    "                                                             T2_err.nominal_value,K_err.nominal_value,\n",
    "                                                             gamma_err.nominal_value))\n",
    "    print('-- & $\\pm$%s & $\\pm$%s & $\\pm$%s & $\\pm$%s & $\\pm$%s & $\\pm$%s & $\\pm$%s & $\\pm$%s & $\\pm$%s'%(P2_err.std_dev,\n",
    "                                                                                                          a2_err.std_dev,e2_err.std_dev,\n",
    "                                                                                                          inc2_err.std_dev,w2_err.std_dev,\n",
    "                                                                                                          bigw2_err.std_dev,T2_err.std_dev,\n",
    "                                                                                                          K_err.std_dev,gamma_err.std_dev,))\n",
    "else:\n",
    "    print('%s & %s & %s & %s & %s & %s & %s & %s & -- & --'%(target_hd,P2_err.nominal_value,a2_err.nominal_value,\n",
    "                                                             e2_err.nominal_value,inc2_err.nominal_value,\n",
    "                                                             w2_err.nominal_value,bigw2_err.nominal_value,\n",
    "                                                             T2_err.nominal_value))\n",
    "    print('-- & $\\pm$%s & $\\pm$%s & $\\pm$%s & $\\pm$%s & $\\pm$%s & $\\pm$%s & $\\pm$%s & & '%(P2_err.std_dev,\n",
    "                                                                                                          a2_err.std_dev,e2_err.std_dev,\n",
    "                                                                                                          inc2_err.std_dev,w2_err.std_dev,\n",
    "                                                                                                          bigw2_err.std_dev,T2_err.std_dev))"
   ]
  },
  {
   "cell_type": "code",
   "execution_count": null,
   "metadata": {},
   "outputs": [],
   "source": [
    "d_err = 1/plx_gaia\n",
    "#d_err = d_rv\n",
    "\n",
    "print('-'*10)\n",
    "print('Masses from distance')\n",
    "print('-'*10)\n",
    "\n",
    "sum1 = (a_err*d_err/1000)**3 / (P_err/365.25)**2\n",
    "print('M1+M2 = %s Msun'%sum1)"
   ]
  },
  {
   "cell_type": "code",
   "execution_count": null,
   "metadata": {},
   "outputs": [],
   "source": []
  },
  {
   "cell_type": "code",
   "execution_count": null,
   "metadata": {},
   "outputs": [],
   "source": []
  },
  {
   "cell_type": "code",
   "execution_count": null,
   "metadata": {},
   "outputs": [],
   "source": [
    "semi = a_err/1000*d_err\n",
    "print('semi = %s au'%semi)"
   ]
  },
  {
   "cell_type": "code",
   "execution_count": null,
   "metadata": {},
   "outputs": [],
   "source": []
  },
  {
   "cell_type": "code",
   "execution_count": null,
   "metadata": {},
   "outputs": [],
   "source": []
  }
 ],
 "metadata": {
  "kernelspec": {
   "display_name": "Python 3",
   "language": "python",
   "name": "python3"
  },
  "language_info": {
   "codemirror_mode": {
    "name": "ipython",
    "version": 3
   },
   "file_extension": ".py",
   "mimetype": "text/x-python",
   "name": "python",
   "nbconvert_exporter": "python",
   "pygments_lexer": "ipython3",
   "version": "3.8.5"
  }
 },
 "nbformat": 4,
 "nbformat_minor": 4
}
