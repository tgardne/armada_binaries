{
 "cells": [
  {
   "cell_type": "code",
   "execution_count": 5,
   "id": "20ee6f4c-80a2-4694-8a29-76a6046e4317",
   "metadata": {},
   "outputs": [],
   "source": [
    "import pandas as pd\n",
    "import numpy as np\n",
    "import matplotlib.pyplot as plt\n",
    "from PyAstronomy import pyasl\n",
    "ks=pyasl.MarkleyKESolver()\n",
    "\n",
    "%matplotlib inline"
   ]
  },
  {
   "cell_type": "code",
   "execution_count": 41,
   "id": "5b5c2ccf-b738-45b6-b220-7ff2fcc3927a",
   "metadata": {},
   "outputs": [],
   "source": [
    "def sep(a,w,i,e,P,T,bigw,t):\n",
    "    \n",
    "    seplist = []\n",
    "    palist = []\n",
    "    \n",
    "    for a,w,i,e,P,T,bigw in zip(semi,omega,inc,ecc,period,tp,bigw):\n",
    "        A=a*(np.cos(bigw)*np.cos(w)-np.sin(bigw)*np.cos(i)*np.sin(w))\n",
    "        B=a*(np.sin(bigw)*np.cos(w)+np.cos(bigw)*np.cos(i)*np.sin(w))\n",
    "        F=a*(-np.cos(bigw)*np.sin(w)-np.sin(bigw)*np.cos(i)*np.cos(w))\n",
    "        G=a*(-np.sin(bigw)*np.sin(w)+np.cos(bigw)*np.cos(i)*np.cos(w))\n",
    "    \n",
    "        M=2*np.pi/P*(t-T)\n",
    "    \n",
    "        #eccentric anamoly calculated for each t (using kepler function):\n",
    "        E=ks.getE(M,e)\n",
    "    \n",
    "        X= np.cos(E)-e\n",
    "        Y=np.sqrt(1-e**2)*np.sin(E)\n",
    "    \n",
    "        dec=A*X+F*Y\n",
    "        ra=B*X+G*Y\n",
    "    \n",
    "        seplist.append(np.sqrt(dec**2+ra**2))\n",
    "        palist.append(np.arctan2(ra,dec)*180/np.pi)\n",
    "    \n",
    "    seplist = np.array(seplist)\n",
    "    palist= np.array(palist)\n",
    "    \n",
    "    return(seplist,palist)"
   ]
  },
  {
   "cell_type": "code",
   "execution_count": 42,
   "id": "80b5f32e-ece5-4e31-8b74-e06938caec1b",
   "metadata": {},
   "outputs": [],
   "source": [
    "armada_file = '/Users/tgardner/Google Drive/My Drive/ARMADA_final/full_target_list.csv' ## path to csv target file\n",
    "df = pd.read_csv(armada_file,dtype=object)"
   ]
  },
  {
   "cell_type": "code",
   "execution_count": null,
   "id": "c1c3d161-4e58-4753-8642-a39566730a36",
   "metadata": {},
   "outputs": [],
   "source": []
  },
  {
   "cell_type": "code",
   "execution_count": 43,
   "id": "cde50a11-c42c-454b-9725-ce4d973d815a",
   "metadata": {},
   "outputs": [],
   "source": [
    "period = df['P (yr)'].values.astype(float) * 365.25\n",
    "semi = df['a (mas)'].values.astype(float)\n",
    "ecc = df['e'].values.astype(float)\n",
    "inc = df['i (deg)'].values.astype(float) * np.pi/180\n",
    "omega = df['w (deg)'].values.astype(float) * np.pi/180\n",
    "bigw = df['bigw (deg)'].values.astype(float) * np.pi/180\n",
    "tp = df['T (mjd)'].values.astype(float)\n",
    "\n",
    "time = 59945"
   ]
  },
  {
   "cell_type": "code",
   "execution_count": 44,
   "id": "1da4f6a2-70ab-4d22-9fb5-984255bb5a0c",
   "metadata": {},
   "outputs": [],
   "source": [
    "separations = sep(semi,omega,inc,ecc,period,tp,bigw,time)"
   ]
  },
  {
   "cell_type": "code",
   "execution_count": 46,
   "id": "e58a4d30-ab78-4f2e-8b18-3bbe3d18f047",
   "metadata": {},
   "outputs": [
    {
     "name": "stdout",
     "output_type": "stream",
     "text": [
      "122.2392317580172\n",
      "196.0628481020859\n",
      "105.22677115117278\n",
      "69.63579775520338\n",
      "124.35542488141209\n",
      "152.6524328268645\n",
      "119.6823965781898\n",
      "311.61275813403626\n",
      "103.68672307969145\n",
      "265.9145190271167\n",
      "132.38836412521525\n",
      "175.76234935624882\n",
      "142.95209687567203\n",
      "59.14171128583882\n",
      "197.04296520706552\n",
      "100.98126092508932\n",
      "36.20984180473204\n",
      "109.90305519838687\n",
      "73.18191395994374\n",
      "134.77698398685013\n",
      "29.792613600496093\n",
      "111.49279396461915\n",
      "68.54710203838256\n",
      "36.27826562459632\n",
      "188.93740317033047\n",
      "355.899741512087\n",
      "101.61651359335468\n",
      "131.6444349556922\n",
      "203.34283466696127\n",
      "162.0009164116321\n",
      "50.6690477718268\n",
      "39.893549023328845\n",
      "42.187557821102736\n",
      "112.7053034106857\n",
      "62.98279506750484\n",
      "137.0848791740867\n",
      "102.85748328808516\n",
      "122.06614436551655\n",
      "144.36221470693766\n",
      "220.6272107961236\n",
      "43.894260318092016\n",
      "94.52945872759405\n",
      "174.86824616209032\n",
      "168.0571576390857\n",
      "101.02532362877565\n",
      "185.86650908495554\n",
      "75.7006455819249\n",
      "35.34299908942094\n",
      "41.69974635683517\n",
      "168.67635558074053\n",
      "187.2108351541595\n",
      "164.0163836570951\n",
      "91.08982280553296\n",
      "186.8762223889364\n",
      "67.47916675844093\n",
      "95.57842108154396\n",
      "209.25069538371218\n",
      "33.28996486428721\n",
      "57.82576811959588\n",
      "194.18379020498475\n",
      "189.32238397172358\n",
      "38.971466897754354\n",
      "76.79448981310101\n",
      "189.00493384753756\n",
      "21.546577557704214\n",
      "127.97357872602305\n",
      "193.4224054350626\n",
      "57.428735897108616\n",
      "100.99278789730313\n",
      "42.64712580103078\n",
      "176.99053485381475\n",
      "200.40278558590833\n",
      "41.51150817577469\n",
      "153.32739458534326\n",
      "177.5673523591933\n"
     ]
    }
   ],
   "source": [
    "for value in separations[0]:\n",
    "    print(value)"
   ]
  },
  {
   "cell_type": "code",
   "execution_count": null,
   "id": "37eb9eab-d941-43e3-9c6f-bba01924d6bb",
   "metadata": {},
   "outputs": [],
   "source": []
  }
 ],
 "metadata": {
  "kernelspec": {
   "display_name": "Python 3 (ipykernel)",
   "language": "python",
   "name": "python3"
  },
  "language_info": {
   "codemirror_mode": {
    "name": "ipython",
    "version": 3
   },
   "file_extension": ".py",
   "mimetype": "text/x-python",
   "name": "python",
   "nbconvert_exporter": "python",
   "pygments_lexer": "ipython3",
   "version": "3.9.12"
  }
 },
 "nbformat": 4,
 "nbformat_minor": 5
}
